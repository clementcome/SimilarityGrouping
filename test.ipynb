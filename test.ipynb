{
 "metadata": {
  "language_info": {
   "codemirror_mode": {
    "name": "ipython",
    "version": 3
   },
   "file_extension": ".py",
   "mimetype": "text/x-python",
   "name": "python",
   "nbconvert_exporter": "python",
   "pygments_lexer": "ipython3",
   "version": "3.7.6-final"
  },
  "orig_nbformat": 2,
  "kernelspec": {
   "name": "Python 3.7.6 64-bit ('data': conda)",
   "display_name": "Python 3.7.6 64-bit ('data': conda)",
   "metadata": {
    "interpreter": {
     "hash": "2bdec0d84ddbe38cdac198f8d53576ff6ec339cc8de48e4d04d251f27d4a5633"
    }
   }
  }
 },
 "nbformat": 4,
 "nbformat_minor": 2,
 "cells": [
  {
   "cell_type": "code",
   "execution_count": 1,
   "metadata": {},
   "outputs": [],
   "source": [
    "import scipy.stats as stats\n",
    "import numpy as np\n",
    "import matplotlib.pyplot as plt\n",
    "import plotly.express as px\n",
    "import plotly.graph_objects as go\n",
    "from scipy.spatial.distance import pdist, squareform"
   ]
  },
  {
   "cell_type": "code",
   "execution_count": 2,
   "metadata": {},
   "outputs": [],
   "source": [
    "np.random.seed(42)\n",
    "n_estimation = 100\n",
    "n_cluster = 100\n",
    "p_list = [0.3, 0.5, 0.8]\n",
    "p_arr = np.random.choice(p_list, size=n_cluster)\n",
    "cluster_centers = np.random.rand(n_cluster,2)\n",
    "binom_sample = np.array([stats.binom.rvs(n_estimation, p) for p in p_arr])"
   ]
  },
  {
   "cell_type": "code",
   "execution_count": 12,
   "metadata": {},
   "outputs": [
    {
     "output_type": "display_data",
     "data": {
      "application/vnd.plotly.v1+json": {
       "config": {
        "plotlyServerURL": "https://plot.ly"
       },
       "data": [
        {
         "hovertemplate": "x=%{x}<br>y=%{y}<br>size=%{marker.size}<br>color=%{marker.color}<extra></extra>",
         "legendgroup": "",
         "marker": {
          "color": [
           0.8,
           0.3,
           0.8,
           0.8,
           0.3,
           0.3,
           0.8,
           0.5,
           0.8,
           0.8,
           0.8,
           0.8,
           0.3,
           0.8,
           0.5,
           0.3,
           0.5,
           0.5,
           0.5,
           0.5,
           0.3,
           0.3,
           0.5,
           0.5,
           0.3,
           0.3,
           0.3,
           0.8,
           0.8,
           0.8,
           0.5,
           0.8,
           0.5,
           0.5,
           0.8,
           0.5,
           0.8,
           0.8,
           0.3,
           0.8,
           0.3,
           0.8,
           0.8,
           0.3,
           0.3,
           0.8,
           0.5,
           0.3,
           0.5,
           0.5,
           0.5,
           0.3,
           0.5,
           0.3,
           0.5,
           0.8,
           0.8,
           0.3,
           0.8,
           0.8,
           0.5,
           0.3,
           0.5,
           0.5,
           0.5,
           0.5,
           0.5,
           0.5,
           0.5,
           0.3,
           0.8,
           0.5,
           0.5,
           0.5,
           0.5,
           0.5,
           0.5,
           0.8,
           0.8,
           0.5,
           0.8,
           0.3,
           0.5,
           0.3,
           0.3,
           0.5,
           0.8,
           0.3,
           0.5,
           0.3,
           0.3,
           0.3,
           0.3,
           0.8,
           0.3,
           0.3,
           0.3,
           0.8,
           0.3,
           0.3
          ],
          "coloraxis": "coloraxis",
          "size": [
           77,
           35,
           74,
           80,
           30,
           34,
           79,
           56,
           79,
           87,
           80,
           80,
           27,
           79,
           50,
           34,
           56,
           49,
           51,
           49,
           27,
           29,
           51,
           59,
           32,
           29,
           26,
           84,
           83,
           80,
           47,
           78,
           56,
           50,
           88,
           52,
           87,
           76,
           32,
           80,
           24,
           80,
           80,
           26,
           29,
           81,
           48,
           31,
           46,
           46,
           60,
           29,
           49,
           36,
           53,
           85,
           88,
           24,
           78,
           86,
           49,
           21,
           57,
           46,
           54,
           50,
           49,
           39,
           44,
           30,
           76,
           48,
           57,
           48,
           60,
           53,
           48,
           86,
           80,
           51,
           82,
           25,
           46,
           31,
           24,
           46,
           86,
           34,
           52,
           24,
           40,
           28,
           28,
           76,
           38,
           40,
           33,
           81,
           24,
           33
          ],
          "sizemode": "area",
          "sizeref": 0.22,
          "symbol": "circle"
         },
         "mode": "markers",
         "name": "",
         "showlegend": false,
         "type": "scatter",
         "x": [
          0.1987156815341724,
          0.8154614284548342,
          0.7290071680409873,
          0.07404465173409036,
          0.11586905952512971,
          0.6232981268275579,
          0.06355835028602363,
          0.32518332202674705,
          0.6375574713552131,
          0.4722149251619493,
          0.713244787222995,
          0.5612771975694962,
          0.49379559636439074,
          0.42754101835854963,
          0.10789142699330445,
          0.6364104112637804,
          0.5085706911647028,
          0.24929222914887494,
          0.7555511385430487,
          0.07697990982879299,
          0.16122128725400442,
          0.808120379564417,
          0.8714605901877177,
          0.18657005888603584,
          0.5393422419156507,
          0.8960912999234932,
          0.11005192452767676,
          0.4271077886262563,
          0.8607305832563434,
          0.5107473025775657,
          0.22210781047073025,
          0.33761517140362796,
          0.32320293202075523,
          0.7030189588951778,
          0.9717820827209607,
          0.25178229582536416,
          0.30087830981676966,
          0.036886947354532795,
          0.5026790232288615,
          0.27864646423661144,
          0.23956189066697242,
          0.489452760277563,
          0.2420552715115004,
          0.7616196153287176,
          0.7282163486118596,
          0.6323058305935795,
          0.5357746840747585,
          0.835302495589238,
          0.18651851039985423,
          0.5908929431882418,
          0.016587828927856152,
          0.22649577519793795,
          0.17436642900499144,
          0.3867353463005374,
          0.13752094414599325,
          0.11347352124058907,
          0.877339353380981,
          0.659984046034179,
          0.5552008115994623,
          0.24185229090045168,
          0.8972157579533268,
          0.6331014572732679,
          0.3492095746126609,
          0.8971102599525771,
          0.7798755458576239,
          0.08413996499504883,
          0.8985541885270792,
          0.009197051616629648,
          0.6635017691080558,
          0.16080805141749865,
          0.6918951976926933,
          0.22426930946055978,
          0.23724908749680007,
          0.7464914051180241,
          0.8492234104941779,
          0.5683086033354716,
          0.3677158030594335,
          0.24398964337908358,
          0.3930977246667604,
          0.6311386259972629,
          0.5026370931051921,
          0.4925176938188639,
          0.7224521152615053,
          0.02431596643145384,
          0.17711067940704894,
          0.9539285770025874,
          0.3701587002554444,
          0.9283185625877254,
          0.9666548190436696,
          0.8530094554673601,
          0.38509772860192526,
          0.31692200515627766,
          0.5568012624583502,
          0.696029796674973,
          0.09717649377076854,
          0.9900538501042633,
          0.5183296523637367,
          0.7407686177542044,
          0.7024840839871093,
          0.29359184426449336
         ],
         "xaxis": "x",
         "y": [
          0.005522117123602399,
          0.7068573438476171,
          0.7712703466859457,
          0.3584657285442726,
          0.8631034258755935,
          0.3308980248526492,
          0.3109823217156622,
          0.7296061783380641,
          0.8872127425763265,
          0.1195942459383017,
          0.7607850486168974,
          0.770967179954561,
          0.5227328293819941,
          0.02541912674409519,
          0.03142918568673425,
          0.3143559810763267,
          0.907566473926093,
          0.41038292303562973,
          0.22879816549162246,
          0.289751452913768,
          0.9296976523425731,
          0.6334037565104235,
          0.8036720768991145,
          0.8925589984899778,
          0.8074401551640625,
          0.3180034749718639,
          0.22793516254194168,
          0.8180147659224931,
          0.006952130531190703,
          0.417411003148779,
          0.1198653673336828,
          0.9429097039125192,
          0.5187906217433661,
          0.363629602379294,
          0.9624472949421112,
          0.49724850589238545,
          0.2848404943774676,
          0.6095643339798968,
          0.05147875124998935,
          0.9082658859666537,
          0.1448948720912231,
          0.9856504541106007,
          0.6721355474058786,
          0.23763754399239967,
          0.3677831327192532,
          0.6335297107608947,
          0.0902897700544083,
          0.32078006497173583,
          0.040775141554763916,
          0.6775643618422824,
          0.512093058299281,
          0.6451727904094499,
          0.690937738102466,
          0.9367299887367345,
          0.3410663510502585,
          0.9246936182785628,
          0.2579416277151556,
          0.8172222002012158,
          0.5296505783560065,
          0.09310276780589921,
          0.9004180571633305,
          0.3390297910487007,
          0.7259556788702394,
          0.8870864242651173,
          0.6420316461542878,
          0.16162871409461377,
          0.6064290596595899,
          0.1014715428660321,
          0.005061583846218687,
          0.5487337893665861,
          0.6519612595026005,
          0.7121792213475359,
          0.3253996981592677,
          0.6496328990472147,
          0.6576128923003434,
          0.09367476782809248,
          0.26520236768172545,
          0.9730105547524456,
          0.8920465551771133,
          0.7948113035416484,
          0.5769038846263591,
          0.1952429877980445,
          0.2807723624408558,
          0.6454722959071678,
          0.9404585843529143,
          0.9148643902204485,
          0.015456616528867428,
          0.42818414831731433,
          0.9636199770892528,
          0.2944488920695857,
          0.8511366715168569,
          0.1694927466860925,
          0.936154774160781,
          0.570061170089365,
          0.6150072266991697,
          0.14008401523652403,
          0.8773730719279554,
          0.697015740995268,
          0.35949115121975517,
          0.8093611554785136
         ],
         "yaxis": "y"
        }
       ],
       "layout": {
        "coloraxis": {
         "colorbar": {
          "title": {
           "text": "color"
          }
         },
         "colorscale": [
          [
           0,
           "#0d0887"
          ],
          [
           0.1111111111111111,
           "#46039f"
          ],
          [
           0.2222222222222222,
           "#7201a8"
          ],
          [
           0.3333333333333333,
           "#9c179e"
          ],
          [
           0.4444444444444444,
           "#bd3786"
          ],
          [
           0.5555555555555556,
           "#d8576b"
          ],
          [
           0.6666666666666666,
           "#ed7953"
          ],
          [
           0.7777777777777778,
           "#fb9f3a"
          ],
          [
           0.8888888888888888,
           "#fdca26"
          ],
          [
           1,
           "#f0f921"
          ]
         ]
        },
        "legend": {
         "itemsizing": "constant",
         "tracegroupgap": 0
        },
        "margin": {
         "t": 60
        },
        "template": {
         "data": {
          "bar": [
           {
            "error_x": {
             "color": "#2a3f5f"
            },
            "error_y": {
             "color": "#2a3f5f"
            },
            "marker": {
             "line": {
              "color": "#E5ECF6",
              "width": 0.5
             }
            },
            "type": "bar"
           }
          ],
          "barpolar": [
           {
            "marker": {
             "line": {
              "color": "#E5ECF6",
              "width": 0.5
             }
            },
            "type": "barpolar"
           }
          ],
          "carpet": [
           {
            "aaxis": {
             "endlinecolor": "#2a3f5f",
             "gridcolor": "white",
             "linecolor": "white",
             "minorgridcolor": "white",
             "startlinecolor": "#2a3f5f"
            },
            "baxis": {
             "endlinecolor": "#2a3f5f",
             "gridcolor": "white",
             "linecolor": "white",
             "minorgridcolor": "white",
             "startlinecolor": "#2a3f5f"
            },
            "type": "carpet"
           }
          ],
          "choropleth": [
           {
            "colorbar": {
             "outlinewidth": 0,
             "ticks": ""
            },
            "type": "choropleth"
           }
          ],
          "contour": [
           {
            "colorbar": {
             "outlinewidth": 0,
             "ticks": ""
            },
            "colorscale": [
             [
              0,
              "#0d0887"
             ],
             [
              0.1111111111111111,
              "#46039f"
             ],
             [
              0.2222222222222222,
              "#7201a8"
             ],
             [
              0.3333333333333333,
              "#9c179e"
             ],
             [
              0.4444444444444444,
              "#bd3786"
             ],
             [
              0.5555555555555556,
              "#d8576b"
             ],
             [
              0.6666666666666666,
              "#ed7953"
             ],
             [
              0.7777777777777778,
              "#fb9f3a"
             ],
             [
              0.8888888888888888,
              "#fdca26"
             ],
             [
              1,
              "#f0f921"
             ]
            ],
            "type": "contour"
           }
          ],
          "contourcarpet": [
           {
            "colorbar": {
             "outlinewidth": 0,
             "ticks": ""
            },
            "type": "contourcarpet"
           }
          ],
          "heatmap": [
           {
            "colorbar": {
             "outlinewidth": 0,
             "ticks": ""
            },
            "colorscale": [
             [
              0,
              "#0d0887"
             ],
             [
              0.1111111111111111,
              "#46039f"
             ],
             [
              0.2222222222222222,
              "#7201a8"
             ],
             [
              0.3333333333333333,
              "#9c179e"
             ],
             [
              0.4444444444444444,
              "#bd3786"
             ],
             [
              0.5555555555555556,
              "#d8576b"
             ],
             [
              0.6666666666666666,
              "#ed7953"
             ],
             [
              0.7777777777777778,
              "#fb9f3a"
             ],
             [
              0.8888888888888888,
              "#fdca26"
             ],
             [
              1,
              "#f0f921"
             ]
            ],
            "type": "heatmap"
           }
          ],
          "heatmapgl": [
           {
            "colorbar": {
             "outlinewidth": 0,
             "ticks": ""
            },
            "colorscale": [
             [
              0,
              "#0d0887"
             ],
             [
              0.1111111111111111,
              "#46039f"
             ],
             [
              0.2222222222222222,
              "#7201a8"
             ],
             [
              0.3333333333333333,
              "#9c179e"
             ],
             [
              0.4444444444444444,
              "#bd3786"
             ],
             [
              0.5555555555555556,
              "#d8576b"
             ],
             [
              0.6666666666666666,
              "#ed7953"
             ],
             [
              0.7777777777777778,
              "#fb9f3a"
             ],
             [
              0.8888888888888888,
              "#fdca26"
             ],
             [
              1,
              "#f0f921"
             ]
            ],
            "type": "heatmapgl"
           }
          ],
          "histogram": [
           {
            "marker": {
             "colorbar": {
              "outlinewidth": 0,
              "ticks": ""
             }
            },
            "type": "histogram"
           }
          ],
          "histogram2d": [
           {
            "colorbar": {
             "outlinewidth": 0,
             "ticks": ""
            },
            "colorscale": [
             [
              0,
              "#0d0887"
             ],
             [
              0.1111111111111111,
              "#46039f"
             ],
             [
              0.2222222222222222,
              "#7201a8"
             ],
             [
              0.3333333333333333,
              "#9c179e"
             ],
             [
              0.4444444444444444,
              "#bd3786"
             ],
             [
              0.5555555555555556,
              "#d8576b"
             ],
             [
              0.6666666666666666,
              "#ed7953"
             ],
             [
              0.7777777777777778,
              "#fb9f3a"
             ],
             [
              0.8888888888888888,
              "#fdca26"
             ],
             [
              1,
              "#f0f921"
             ]
            ],
            "type": "histogram2d"
           }
          ],
          "histogram2dcontour": [
           {
            "colorbar": {
             "outlinewidth": 0,
             "ticks": ""
            },
            "colorscale": [
             [
              0,
              "#0d0887"
             ],
             [
              0.1111111111111111,
              "#46039f"
             ],
             [
              0.2222222222222222,
              "#7201a8"
             ],
             [
              0.3333333333333333,
              "#9c179e"
             ],
             [
              0.4444444444444444,
              "#bd3786"
             ],
             [
              0.5555555555555556,
              "#d8576b"
             ],
             [
              0.6666666666666666,
              "#ed7953"
             ],
             [
              0.7777777777777778,
              "#fb9f3a"
             ],
             [
              0.8888888888888888,
              "#fdca26"
             ],
             [
              1,
              "#f0f921"
             ]
            ],
            "type": "histogram2dcontour"
           }
          ],
          "mesh3d": [
           {
            "colorbar": {
             "outlinewidth": 0,
             "ticks": ""
            },
            "type": "mesh3d"
           }
          ],
          "parcoords": [
           {
            "line": {
             "colorbar": {
              "outlinewidth": 0,
              "ticks": ""
             }
            },
            "type": "parcoords"
           }
          ],
          "pie": [
           {
            "automargin": true,
            "type": "pie"
           }
          ],
          "scatter": [
           {
            "marker": {
             "colorbar": {
              "outlinewidth": 0,
              "ticks": ""
             }
            },
            "type": "scatter"
           }
          ],
          "scatter3d": [
           {
            "line": {
             "colorbar": {
              "outlinewidth": 0,
              "ticks": ""
             }
            },
            "marker": {
             "colorbar": {
              "outlinewidth": 0,
              "ticks": ""
             }
            },
            "type": "scatter3d"
           }
          ],
          "scattercarpet": [
           {
            "marker": {
             "colorbar": {
              "outlinewidth": 0,
              "ticks": ""
             }
            },
            "type": "scattercarpet"
           }
          ],
          "scattergeo": [
           {
            "marker": {
             "colorbar": {
              "outlinewidth": 0,
              "ticks": ""
             }
            },
            "type": "scattergeo"
           }
          ],
          "scattergl": [
           {
            "marker": {
             "colorbar": {
              "outlinewidth": 0,
              "ticks": ""
             }
            },
            "type": "scattergl"
           }
          ],
          "scattermapbox": [
           {
            "marker": {
             "colorbar": {
              "outlinewidth": 0,
              "ticks": ""
             }
            },
            "type": "scattermapbox"
           }
          ],
          "scatterpolar": [
           {
            "marker": {
             "colorbar": {
              "outlinewidth": 0,
              "ticks": ""
             }
            },
            "type": "scatterpolar"
           }
          ],
          "scatterpolargl": [
           {
            "marker": {
             "colorbar": {
              "outlinewidth": 0,
              "ticks": ""
             }
            },
            "type": "scatterpolargl"
           }
          ],
          "scatterternary": [
           {
            "marker": {
             "colorbar": {
              "outlinewidth": 0,
              "ticks": ""
             }
            },
            "type": "scatterternary"
           }
          ],
          "surface": [
           {
            "colorbar": {
             "outlinewidth": 0,
             "ticks": ""
            },
            "colorscale": [
             [
              0,
              "#0d0887"
             ],
             [
              0.1111111111111111,
              "#46039f"
             ],
             [
              0.2222222222222222,
              "#7201a8"
             ],
             [
              0.3333333333333333,
              "#9c179e"
             ],
             [
              0.4444444444444444,
              "#bd3786"
             ],
             [
              0.5555555555555556,
              "#d8576b"
             ],
             [
              0.6666666666666666,
              "#ed7953"
             ],
             [
              0.7777777777777778,
              "#fb9f3a"
             ],
             [
              0.8888888888888888,
              "#fdca26"
             ],
             [
              1,
              "#f0f921"
             ]
            ],
            "type": "surface"
           }
          ],
          "table": [
           {
            "cells": {
             "fill": {
              "color": "#EBF0F8"
             },
             "line": {
              "color": "white"
             }
            },
            "header": {
             "fill": {
              "color": "#C8D4E3"
             },
             "line": {
              "color": "white"
             }
            },
            "type": "table"
           }
          ]
         },
         "layout": {
          "annotationdefaults": {
           "arrowcolor": "#2a3f5f",
           "arrowhead": 0,
           "arrowwidth": 1
          },
          "coloraxis": {
           "colorbar": {
            "outlinewidth": 0,
            "ticks": ""
           }
          },
          "colorscale": {
           "diverging": [
            [
             0,
             "#8e0152"
            ],
            [
             0.1,
             "#c51b7d"
            ],
            [
             0.2,
             "#de77ae"
            ],
            [
             0.3,
             "#f1b6da"
            ],
            [
             0.4,
             "#fde0ef"
            ],
            [
             0.5,
             "#f7f7f7"
            ],
            [
             0.6,
             "#e6f5d0"
            ],
            [
             0.7,
             "#b8e186"
            ],
            [
             0.8,
             "#7fbc41"
            ],
            [
             0.9,
             "#4d9221"
            ],
            [
             1,
             "#276419"
            ]
           ],
           "sequential": [
            [
             0,
             "#0d0887"
            ],
            [
             0.1111111111111111,
             "#46039f"
            ],
            [
             0.2222222222222222,
             "#7201a8"
            ],
            [
             0.3333333333333333,
             "#9c179e"
            ],
            [
             0.4444444444444444,
             "#bd3786"
            ],
            [
             0.5555555555555556,
             "#d8576b"
            ],
            [
             0.6666666666666666,
             "#ed7953"
            ],
            [
             0.7777777777777778,
             "#fb9f3a"
            ],
            [
             0.8888888888888888,
             "#fdca26"
            ],
            [
             1,
             "#f0f921"
            ]
           ],
           "sequentialminus": [
            [
             0,
             "#0d0887"
            ],
            [
             0.1111111111111111,
             "#46039f"
            ],
            [
             0.2222222222222222,
             "#7201a8"
            ],
            [
             0.3333333333333333,
             "#9c179e"
            ],
            [
             0.4444444444444444,
             "#bd3786"
            ],
            [
             0.5555555555555556,
             "#d8576b"
            ],
            [
             0.6666666666666666,
             "#ed7953"
            ],
            [
             0.7777777777777778,
             "#fb9f3a"
            ],
            [
             0.8888888888888888,
             "#fdca26"
            ],
            [
             1,
             "#f0f921"
            ]
           ]
          },
          "colorway": [
           "#636efa",
           "#EF553B",
           "#00cc96",
           "#ab63fa",
           "#FFA15A",
           "#19d3f3",
           "#FF6692",
           "#B6E880",
           "#FF97FF",
           "#FECB52"
          ],
          "font": {
           "color": "#2a3f5f"
          },
          "geo": {
           "bgcolor": "white",
           "lakecolor": "white",
           "landcolor": "#E5ECF6",
           "showlakes": true,
           "showland": true,
           "subunitcolor": "white"
          },
          "hoverlabel": {
           "align": "left"
          },
          "hovermode": "closest",
          "mapbox": {
           "style": "light"
          },
          "paper_bgcolor": "white",
          "plot_bgcolor": "#E5ECF6",
          "polar": {
           "angularaxis": {
            "gridcolor": "white",
            "linecolor": "white",
            "ticks": ""
           },
           "bgcolor": "#E5ECF6",
           "radialaxis": {
            "gridcolor": "white",
            "linecolor": "white",
            "ticks": ""
           }
          },
          "scene": {
           "xaxis": {
            "backgroundcolor": "#E5ECF6",
            "gridcolor": "white",
            "gridwidth": 2,
            "linecolor": "white",
            "showbackground": true,
            "ticks": "",
            "zerolinecolor": "white"
           },
           "yaxis": {
            "backgroundcolor": "#E5ECF6",
            "gridcolor": "white",
            "gridwidth": 2,
            "linecolor": "white",
            "showbackground": true,
            "ticks": "",
            "zerolinecolor": "white"
           },
           "zaxis": {
            "backgroundcolor": "#E5ECF6",
            "gridcolor": "white",
            "gridwidth": 2,
            "linecolor": "white",
            "showbackground": true,
            "ticks": "",
            "zerolinecolor": "white"
           }
          },
          "shapedefaults": {
           "line": {
            "color": "#2a3f5f"
           }
          },
          "ternary": {
           "aaxis": {
            "gridcolor": "white",
            "linecolor": "white",
            "ticks": ""
           },
           "baxis": {
            "gridcolor": "white",
            "linecolor": "white",
            "ticks": ""
           },
           "bgcolor": "#E5ECF6",
           "caxis": {
            "gridcolor": "white",
            "linecolor": "white",
            "ticks": ""
           }
          },
          "title": {
           "x": 0.05
          },
          "xaxis": {
           "automargin": true,
           "gridcolor": "white",
           "linecolor": "white",
           "ticks": "",
           "title": {
            "standoff": 15
           },
           "zerolinecolor": "white",
           "zerolinewidth": 2
          },
          "yaxis": {
           "automargin": true,
           "gridcolor": "white",
           "linecolor": "white",
           "ticks": "",
           "title": {
            "standoff": 15
           },
           "zerolinecolor": "white",
           "zerolinewidth": 2
          }
         }
        },
        "xaxis": {
         "anchor": "y",
         "domain": [
          0,
          1
         ],
         "title": {
          "text": "x"
         }
        },
        "yaxis": {
         "anchor": "x",
         "domain": [
          0,
          1
         ],
         "title": {
          "text": "y"
         }
        }
       }
      }
     },
     "metadata": {}
    }
   ],
   "source": [
    "px.scatter(x=cluster_centers[:,0], y=cluster_centers[:,1], size=binom_sample, color=p_arr)"
   ]
  },
  {
   "cell_type": "code",
   "execution_count": 4,
   "metadata": {},
   "outputs": [
    {
     "output_type": "execute_result",
     "data": {
      "text/plain": [
       "<matplotlib.collections.PathCollection at 0x2648a521a48>"
      ]
     },
     "metadata": {},
     "execution_count": 4
    },
    {
     "output_type": "display_data",
     "data": {
      "text/plain": "<Figure size 432x288 with 1 Axes>",
      "image/svg+xml": "<?xml version=\"1.0\" encoding=\"utf-8\" standalone=\"no\"?>\r\n<!DOCTYPE svg PUBLIC \"-//W3C//DTD SVG 1.1//EN\"\r\n  \"http://www.w3.org/Graphics/SVG/1.1/DTD/svg11.dtd\">\r\n<!-- Created with matplotlib (https://matplotlib.org/) -->\r\n<svg height=\"248.518125pt\" version=\"1.1\" viewBox=\"0 0 372.103125 248.518125\" width=\"372.103125pt\" xmlns=\"http://www.w3.org/2000/svg\" xmlns:xlink=\"http://www.w3.org/1999/xlink\">\r\n <metadata>\r\n  <rdf:RDF xmlns:cc=\"http://creativecommons.org/ns#\" xmlns:dc=\"http://purl.org/dc/elements/1.1/\" xmlns:rdf=\"http://www.w3.org/1999/02/22-rdf-syntax-ns#\">\r\n   <cc:Work>\r\n    <dc:type rdf:resource=\"http://purl.org/dc/dcmitype/StillImage\"/>\r\n    <dc:date>2020-10-27T11:18:31.620721</dc:date>\r\n    <dc:format>image/svg+xml</dc:format>\r\n    <dc:creator>\r\n     <cc:Agent>\r\n      <dc:title>Matplotlib v3.3.2, https://matplotlib.org/</dc:title>\r\n     </cc:Agent>\r\n    </dc:creator>\r\n   </cc:Work>\r\n  </rdf:RDF>\r\n </metadata>\r\n <defs>\r\n  <style type=\"text/css\">*{stroke-linecap:butt;stroke-linejoin:round;}</style>\r\n </defs>\r\n <g id=\"figure_1\">\r\n  <g id=\"patch_1\">\r\n   <path d=\"M 0 248.518125 \r\nL 372.103125 248.518125 \r\nL 372.103125 0 \r\nL 0 0 \r\nz\r\n\" style=\"fill:none;\"/>\r\n  </g>\r\n  <g id=\"axes_1\">\r\n   <g id=\"patch_2\">\r\n    <path d=\"M 30.103125 224.64 \r\nL 364.903125 224.64 \r\nL 364.903125 7.2 \r\nL 30.103125 7.2 \r\nz\r\n\" style=\"fill:#ffffff;\"/>\r\n   </g>\r\n   <g id=\"PathCollection_1\">\r\n    <defs>\r\n     <path d=\"M 0 3 \r\nC 0.795609 3 1.55874 2.683901 2.12132 2.12132 \r\nC 2.683901 1.55874 3 0.795609 3 -0 \r\nC 3 -0.795609 2.683901 -1.55874 2.12132 -2.12132 \r\nC 1.55874 -2.683901 0.795609 -3 0 -3 \r\nC -0.795609 -3 -1.55874 -2.683901 -2.12132 -2.12132 \r\nC -2.683901 -1.55874 -3 -0.795609 -3 0 \r\nC -3 0.795609 -2.683901 1.55874 -2.12132 2.12132 \r\nC -1.55874 2.683901 -0.795609 3 0 3 \r\nz\r\n\" id=\"C0_0_6f06cd12e7\"/>\r\n    </defs>\r\n    <g clip-path=\"url(#pfa21d1d3ed)\">\r\n     <use style=\"fill:#90d743;stroke:#90d743;\" x=\"104.129666\" xlink:href=\"#C0_0_6f06cd12e7\" y=\"214.663527\"/>\r\n    </g>\r\n    <g clip-path=\"url(#pfa21d1d3ed)\">\r\n     <use style=\"fill:#404688;stroke:#404688;\" x=\"295.508243\" xlink:href=\"#C0_0_6f06cd12e7\" y=\"73.28435\"/>\r\n    </g>\r\n    <g clip-path=\"url(#pfa21d1d3ed)\">\r\n     <use style=\"fill:#75d054;stroke:#75d054;\" x=\"268.681154\" xlink:href=\"#C0_0_6f06cd12e7\" y=\"60.299608\"/>\r\n    </g>\r\n    <g clip-path=\"url(#pfa21d1d3ed)\">\r\n     <use style=\"fill:#b0dd2f;stroke:#b0dd2f;\" x=\"65.443767\" xlink:href=\"#C0_0_6f06cd12e7\" y=\"143.51513\"/>\r\n    </g>\r\n    <g clip-path=\"url(#pfa21d1d3ed)\">\r\n     <use style=\"fill:#472f7d;stroke:#472f7d;\" x=\"78.422041\" xlink:href=\"#C0_0_6f06cd12e7\" y=\"41.787369\"/>\r\n    </g>\r\n    <g clip-path=\"url(#pfa21d1d3ed)\">\r\n     <use style=\"fill:#424186;stroke:#424186;\" x=\"235.879232\" xlink:href=\"#C0_0_6f06cd12e7\" y=\"149.072385\"/>\r\n    </g>\r\n    <g clip-path=\"url(#pfa21d1d3ed)\">\r\n     <use style=\"fill:#a5db36;stroke:#a5db36;\" x=\"62.189827\" xlink:href=\"#C0_0_6f06cd12e7\" y=\"153.087107\"/>\r\n    </g>\r\n    <g clip-path=\"url(#pfa21d1d3ed)\">\r\n     <use style=\"fill:#1f958b;stroke:#1f958b;\" x=\"143.373062\" xlink:href=\"#C0_0_6f06cd12e7\" y=\"68.69851\"/>\r\n    </g>\r\n    <g clip-path=\"url(#pfa21d1d3ed)\">\r\n     <use style=\"fill:#a5db36;stroke:#a5db36;\" x=\"240.303961\" xlink:href=\"#C0_0_6f06cd12e7\" y=\"36.927275\"/>\r\n    </g>\r\n    <g clip-path=\"url(#pfa21d1d3ed)\">\r\n     <use style=\"fill:#f6e620;stroke:#f6e620;\" x=\"188.997533\" xlink:href=\"#C0_0_6f06cd12e7\" y=\"191.668213\"/>\r\n    </g>\r\n    <g clip-path=\"url(#pfa21d1d3ed)\">\r\n     <use style=\"fill:#b0dd2f;stroke:#b0dd2f;\" x=\"263.790027\" xlink:href=\"#C0_0_6f06cd12e7\" y=\"62.413294\"/>\r\n    </g>\r\n    <g clip-path=\"url(#pfa21d1d3ed)\">\r\n     <use style=\"fill:#b0dd2f;stroke:#b0dd2f;\" x=\"216.633899\" xlink:href=\"#C0_0_6f06cd12e7\" y=\"60.360722\"/>\r\n    </g>\r\n    <g clip-path=\"url(#pfa21d1d3ed)\">\r\n     <use style=\"fill:#482071;stroke:#482071;\" x=\"195.694099\" xlink:href=\"#C0_0_6f06cd12e7\" y=\"110.401226\"/>\r\n    </g>\r\n    <g clip-path=\"url(#pfa21d1d3ed)\">\r\n     <use style=\"fill:#a5db36;stroke:#a5db36;\" x=\"175.135048\" xlink:href=\"#C0_0_6f06cd12e7\" y=\"210.652573\"/>\r\n    </g>\r\n    <g clip-path=\"url(#pfa21d1d3ed)\">\r\n     <use style=\"fill:#27808e;stroke:#27808e;\" x=\"75.946551\" xlink:href=\"#C0_0_6f06cd12e7\" y=\"209.441031\"/>\r\n    </g>\r\n    <g clip-path=\"url(#pfa21d1d3ed)\">\r\n     <use style=\"fill:#424186;stroke:#424186;\" x=\"239.948024\" xlink:href=\"#C0_0_6f06cd12e7\" y=\"152.407026\"/>\r\n    </g>\r\n    <g clip-path=\"url(#pfa21d1d3ed)\">\r\n     <use style=\"fill:#1f958b;stroke:#1f958b;\" x=\"200.278867\" xlink:href=\"#C0_0_6f06cd12e7\" y=\"32.824253\"/>\r\n    </g>\r\n    <g clip-path=\"url(#pfa21d1d3ed)\">\r\n     <use style=\"fill:#287c8e;stroke:#287c8e;\" x=\"119.823764\" xlink:href=\"#C0_0_6f06cd12e7\" y=\"133.049364\"/>\r\n    </g>\r\n    <g clip-path=\"url(#pfa21d1d3ed)\">\r\n     <use style=\"fill:#25838e;stroke:#25838e;\" x=\"276.91785\" xlink:href=\"#C0_0_6f06cd12e7\" y=\"169.654261\"/>\r\n    </g>\r\n    <g clip-path=\"url(#pfa21d1d3ed)\">\r\n     <use style=\"fill:#287c8e;stroke:#287c8e;\" x=\"66.354588\" xlink:href=\"#C0_0_6f06cd12e7\" y=\"157.366947\"/>\r\n    </g>\r\n    <g clip-path=\"url(#pfa21d1d3ed)\">\r\n     <use style=\"fill:#482071;stroke:#482071;\" x=\"92.495012\" xlink:href=\"#C0_0_6f06cd12e7\" y=\"28.362923\"/>\r\n    </g>\r\n    <g clip-path=\"url(#pfa21d1d3ed)\">\r\n     <use style=\"fill:#472a7a;stroke:#472a7a;\" x=\"293.230288\" xlink:href=\"#C0_0_6f06cd12e7\" y=\"88.091545\"/>\r\n    </g>\r\n    <g clip-path=\"url(#pfa21d1d3ed)\">\r\n     <use style=\"fill:#25838e;stroke:#25838e;\" x=\"312.884999\" xlink:href=\"#C0_0_6f06cd12e7\" y=\"53.767881\"/>\r\n    </g>\r\n    <g clip-path=\"url(#pfa21d1d3ed)\">\r\n     <use style=\"fill:#1fa188;stroke:#1fa188;\" x=\"100.360833\" xlink:href=\"#C0_0_6f06cd12e7\" y=\"35.849546\"/>\r\n    </g>\r\n    <g clip-path=\"url(#pfa21d1d3ed)\">\r\n     <use style=\"fill:#443983;stroke:#443983;\" x=\"209.827398\" xlink:href=\"#C0_0_6f06cd12e7\" y=\"53.00829\"/>\r\n    </g>\r\n    <g clip-path=\"url(#pfa21d1d3ed)\">\r\n     <use style=\"fill:#472a7a;stroke:#472a7a;\" x=\"320.528003\" xlink:href=\"#C0_0_6f06cd12e7\" y=\"151.671743\"/>\r\n    </g>\r\n    <g clip-path=\"url(#pfa21d1d3ed)\">\r\n     <use style=\"fill:#481c6e;stroke:#481c6e;\" x=\"76.616962\" xlink:href=\"#C0_0_6f06cd12e7\" y=\"169.82823\"/>\r\n    </g>\r\n    <g clip-path=\"url(#pfa21d1d3ed)\">\r\n     <use style=\"fill:#d8e219;stroke:#d8e219;\" x=\"175.000616\" xlink:href=\"#C0_0_6f06cd12e7\" y=\"50.8766\"/>\r\n    </g>\r\n    <g clip-path=\"url(#pfa21d1d3ed)\">\r\n     <use style=\"fill:#cde11d;stroke:#cde11d;\" x=\"309.555436\" xlink:href=\"#C0_0_6f06cd12e7\" y=\"214.375256\"/>\r\n    </g>\r\n    <g clip-path=\"url(#pfa21d1d3ed)\">\r\n     <use style=\"fill:#b0dd2f;stroke:#b0dd2f;\" x=\"200.954278\" xlink:href=\"#C0_0_6f06cd12e7\" y=\"131.632603\"/>\r\n    </g>\r\n    <g clip-path=\"url(#pfa21d1d3ed)\">\r\n     <use style=\"fill:#2b758e;stroke:#2b758e;\" x=\"111.388334\" xlink:href=\"#C0_0_6f06cd12e7\" y=\"191.613559\"/>\r\n    </g>\r\n    <g clip-path=\"url(#pfa21d1d3ed)\">\r\n     <use style=\"fill:#9bd93c;stroke:#9bd93c;\" x=\"147.230712\" xlink:href=\"#C0_0_6f06cd12e7\" y=\"25.699562\"/>\r\n    </g>\r\n    <g clip-path=\"url(#pfa21d1d3ed)\">\r\n     <use style=\"fill:#1f958b;stroke:#1f958b;\" x=\"142.758539\" xlink:href=\"#C0_0_6f06cd12e7\" y=\"111.195918\"/>\r\n    </g>\r\n    <g clip-path=\"url(#pfa21d1d3ed)\">\r\n     <use style=\"fill:#27808e;stroke:#27808e;\" x=\"260.616913\" xlink:href=\"#C0_0_6f06cd12e7\" y=\"142.474166\"/>\r\n    </g>\r\n    <g clip-path=\"url(#pfa21d1d3ed)\">\r\n     <use style=\"fill:#fde725;stroke:#fde725;\" x=\"344.015144\" xlink:href=\"#C0_0_6f06cd12e7\" y=\"21.761062\"/>\r\n    </g>\r\n    <g clip-path=\"url(#pfa21d1d3ed)\">\r\n     <use style=\"fill:#24878e;stroke:#24878e;\" x=\"120.596441\" xlink:href=\"#C0_0_6f06cd12e7\" y=\"115.538502\"/>\r\n    </g>\r\n    <g clip-path=\"url(#pfa21d1d3ed)\">\r\n     <use style=\"fill:#f6e620;stroke:#f6e620;\" x=\"135.831123\" xlink:href=\"#C0_0_6f06cd12e7\" y=\"158.356927\"/>\r\n    </g>\r\n    <g clip-path=\"url(#pfa21d1d3ed)\">\r\n     <use style=\"fill:#89d548;stroke:#89d548;\" x=\"53.913588\" xlink:href=\"#C0_0_6f06cd12e7\" y=\"92.897233\"/>\r\n    </g>\r\n    <g clip-path=\"url(#pfa21d1d3ed)\">\r\n     <use style=\"fill:#443983;stroke:#443983;\" x=\"198.45066\" xlink:href=\"#C0_0_6f06cd12e7\" y=\"205.399325\"/>\r\n    </g>\r\n    <g clip-path=\"url(#pfa21d1d3ed)\">\r\n     <use style=\"fill:#b0dd2f;stroke:#b0dd2f;\" x=\"128.932496\" xlink:href=\"#C0_0_6f06cd12e7\" y=\"32.683261\"/>\r\n    </g>\r\n    <g clip-path=\"url(#pfa21d1d3ed)\">\r\n     <use style=\"fill:#471164;stroke:#471164;\" x=\"116.804402\" xlink:href=\"#C0_0_6f06cd12e7\" y=\"186.567968\"/>\r\n    </g>\r\n    <g clip-path=\"url(#pfa21d1d3ed)\">\r\n     <use style=\"fill:#b0dd2f;stroke:#b0dd2f;\" x=\"194.3465\" xlink:href=\"#C0_0_6f06cd12e7\" y=\"17.083636\"/>\r\n    </g>\r\n    <g clip-path=\"url(#pfa21d1d3ed)\">\r\n     <use style=\"fill:#b0dd2f;stroke:#b0dd2f;\" x=\"117.578108\" xlink:href=\"#C0_0_6f06cd12e7\" y=\"80.283769\"/>\r\n    </g>\r\n    <g clip-path=\"url(#pfa21d1d3ed)\">\r\n     <use style=\"fill:#481c6e;stroke:#481c6e;\" x=\"278.800922\" xlink:href=\"#C0_0_6f06cd12e7\" y=\"167.872368\"/>\r\n    </g>\r\n    <g clip-path=\"url(#pfa21d1d3ed)\">\r\n     <use style=\"fill:#472a7a;stroke:#472a7a;\" x=\"268.43576\" xlink:href=\"#C0_0_6f06cd12e7\" y=\"141.636874\"/>\r\n    </g>\r\n    <g clip-path=\"url(#pfa21d1d3ed)\">\r\n     <use style=\"fill:#bade28;stroke:#bade28;\" x=\"238.674357\" xlink:href=\"#C0_0_6f06cd12e7\" y=\"88.066155\"/>\r\n    </g>\r\n    <g clip-path=\"url(#pfa21d1d3ed)\">\r\n     <use style=\"fill:#29798e;stroke:#29798e;\" x=\"208.720371\" xlink:href=\"#C0_0_6f06cd12e7\" y=\"197.575577\"/>\r\n    </g>\r\n    <g clip-path=\"url(#pfa21d1d3ed)\">\r\n     <use style=\"fill:#463480;stroke:#463480;\" x=\"301.665003\" xlink:href=\"#C0_0_6f06cd12e7\" y=\"151.112022\"/>\r\n    </g>\r\n    <g clip-path=\"url(#pfa21d1d3ed)\">\r\n     <use style=\"fill:#2c718e;stroke:#2c718e;\" x=\"100.344837\" xlink:href=\"#C0_0_6f06cd12e7\" y=\"207.55702\"/>\r\n    </g>\r\n    <g clip-path=\"url(#pfa21d1d3ed)\">\r\n     <use style=\"fill:#2c718e;stroke:#2c718e;\" x=\"225.823779\" xlink:href=\"#C0_0_6f06cd12e7\" y=\"79.189397\"/>\r\n    </g>\r\n    <g clip-path=\"url(#pfa21d1d3ed)\">\r\n     <use style=\"fill:#20a486;stroke:#20a486;\" x=\"47.614693\" xlink:href=\"#C0_0_6f06cd12e7\" y=\"112.546052\"/>\r\n    </g>\r\n    <g clip-path=\"url(#pfa21d1d3ed)\">\r\n     <use style=\"fill:#472a7a;stroke:#472a7a;\" x=\"112.749936\" xlink:href=\"#C0_0_6f06cd12e7\" y=\"85.719076\"/>\r\n    </g>\r\n    <g clip-path=\"url(#pfa21d1d3ed)\">\r\n     <use style=\"fill:#287c8e;stroke:#287c8e;\" x=\"96.574\" xlink:href=\"#C0_0_6f06cd12e7\" y=\"76.493516\"/>\r\n    </g>\r\n    <g clip-path=\"url(#pfa21d1d3ed)\">\r\n     <use style=\"fill:#3e4a89;stroke:#3e4a89;\" x=\"162.472891\" xlink:href=\"#C0_0_6f06cd12e7\" y=\"26.945304\"/>\r\n    </g>\r\n    <g clip-path=\"url(#pfa21d1d3ed)\">\r\n     <use style=\"fill:#228b8d;stroke:#228b8d;\" x=\"85.140704\" xlink:href=\"#C0_0_6f06cd12e7\" y=\"147.022596\"/>\r\n    </g>\r\n    <g clip-path=\"url(#pfa21d1d3ed)\">\r\n     <use style=\"fill:#e2e418;stroke:#e2e418;\" x=\"77.678696\" xlink:href=\"#C0_0_6f06cd12e7\" y=\"29.371665\"/>\r\n    </g>\r\n    <g clip-path=\"url(#pfa21d1d3ed)\">\r\n     <use style=\"fill:#fde725;stroke:#fde725;\" x=\"314.709201\" xlink:href=\"#C0_0_6f06cd12e7\" y=\"163.779354\"/>\r\n    </g>\r\n    <g clip-path=\"url(#pfa21d1d3ed)\">\r\n     <use style=\"fill:#471164;stroke:#471164;\" x=\"247.263014\" xlink:href=\"#C0_0_6f06cd12e7\" y=\"51.03637\"/>\r\n    </g>\r\n    <g clip-path=\"url(#pfa21d1d3ed)\">\r\n     <use style=\"fill:#9bd93c;stroke:#9bd93c;\" x=\"214.748373\" xlink:href=\"#C0_0_6f06cd12e7\" y=\"109.006706\"/>\r\n    </g>\r\n    <g clip-path=\"url(#pfa21d1d3ed)\">\r\n     <use style=\"fill:#ece51b;stroke:#ece51b;\" x=\"117.515122\" xlink:href=\"#C0_0_6f06cd12e7\" y=\"197.008517\"/>\r\n    </g>\r\n    <g clip-path=\"url(#pfa21d1d3ed)\">\r\n     <use style=\"fill:#287c8e;stroke:#287c8e;\" x=\"320.876926\" xlink:href=\"#C0_0_6f06cd12e7\" y=\"34.265272\"/>\r\n    </g>\r\n    <g clip-path=\"url(#pfa21d1d3ed)\">\r\n     <use style=\"fill:#440154;stroke:#440154;\" x=\"238.921243\" xlink:href=\"#C0_0_6f06cd12e7\" y=\"147.433137\"/>\r\n    </g>\r\n    <g clip-path=\"url(#pfa21d1d3ed)\">\r\n     <use style=\"fill:#1f998a;stroke:#1f998a;\" x=\"150.8285\" xlink:href=\"#C0_0_6f06cd12e7\" y=\"69.434398\"/>\r\n    </g>\r\n    <g clip-path=\"url(#pfa21d1d3ed)\">\r\n     <use style=\"fill:#2c718e;stroke:#2c718e;\" x=\"320.84419\" xlink:href=\"#C0_0_6f06cd12e7\" y=\"36.952739\"/>\r\n    </g>\r\n    <g clip-path=\"url(#pfa21d1d3ed)\">\r\n     <use style=\"fill:#218f8d;stroke:#218f8d;\" x=\"284.465807\" xlink:href=\"#C0_0_6f06cd12e7\" y=\"86.352286\"/>\r\n    </g>\r\n    <g clip-path=\"url(#pfa21d1d3ed)\">\r\n     <use style=\"fill:#27808e;stroke:#27808e;\" x=\"68.576381\" xlink:href=\"#C0_0_6f06cd12e7\" y=\"183.194664\"/>\r\n    </g>\r\n    <g clip-path=\"url(#pfa21d1d3ed)\">\r\n     <use style=\"fill:#287c8e;stroke:#287c8e;\" x=\"321.292246\" xlink:href=\"#C0_0_6f06cd12e7\" y=\"93.52926\"/>\r\n    </g>\r\n    <g clip-path=\"url(#pfa21d1d3ed)\">\r\n     <use style=\"fill:#39568c;stroke:#39568c;\" x=\"45.321307\" xlink:href=\"#C0_0_6f06cd12e7\" y=\"195.321491\"/>\r\n    </g>\r\n    <g clip-path=\"url(#pfa21d1d3ed)\">\r\n     <use style=\"fill:#306a8e;stroke:#306a8e;\" x=\"248.354577\" xlink:href=\"#C0_0_6f06cd12e7\" y=\"214.756364\"/>\r\n    </g>\r\n    <g clip-path=\"url(#pfa21d1d3ed)\">\r\n     <use style=\"fill:#472f7d;stroke:#472f7d;\" x=\"92.366783\" xlink:href=\"#C0_0_6f06cd12e7\" y=\"105.159803\"/>\r\n    </g>\r\n    <g clip-path=\"url(#pfa21d1d3ed)\">\r\n     <use style=\"fill:#89d548;stroke:#89d548;\" x=\"257.165167\" xlink:href=\"#C0_0_6f06cd12e7\" y=\"84.350618\"/>\r\n    </g>\r\n    <g clip-path=\"url(#pfa21d1d3ed)\">\r\n     <use style=\"fill:#29798e;stroke:#29798e;\" x=\"112.059055\" xlink:href=\"#C0_0_6f06cd12e7\" y=\"72.211536\"/>\r\n    </g>\r\n    <g clip-path=\"url(#pfa21d1d3ed)\">\r\n     <use style=\"fill:#1f998a;stroke:#1f998a;\" x=\"116.086731\" xlink:href=\"#C0_0_6f06cd12e7\" y=\"150.18077\"/>\r\n    </g>\r\n    <g clip-path=\"url(#pfa21d1d3ed)\">\r\n     <use style=\"fill:#29798e;stroke:#29798e;\" x=\"274.10658\" xlink:href=\"#C0_0_6f06cd12e7\" y=\"84.819982\"/>\r\n    </g>\r\n    <g clip-path=\"url(#pfa21d1d3ed)\">\r\n     <use style=\"fill:#20a486;stroke:#20a486;\" x=\"305.984716\" xlink:href=\"#C0_0_6f06cd12e7\" y=\"83.211329\"/>\r\n    </g>\r\n    <g clip-path=\"url(#pfa21d1d3ed)\">\r\n     <use style=\"fill:#228b8d;stroke:#228b8d;\" x=\"218.815771\" xlink:href=\"#C0_0_6f06cd12e7\" y=\"196.89321\"/>\r\n    </g>\r\n    <g clip-path=\"url(#pfa21d1d3ed)\">\r\n     <use style=\"fill:#29798e;stroke:#29798e;\" x=\"156.571054\" xlink:href=\"#C0_0_6f06cd12e7\" y=\"162.315693\"/>\r\n    </g>\r\n    <g clip-path=\"url(#pfa21d1d3ed)\">\r\n     <use style=\"fill:#ece51b;stroke:#ece51b;\" x=\"118.178351\" xlink:href=\"#C0_0_6f06cd12e7\" y=\"19.63166\"/>\r\n    </g>\r\n    <g clip-path=\"url(#pfa21d1d3ed)\">\r\n     <use style=\"fill:#b0dd2f;stroke:#b0dd2f;\" x=\"164.447162\" xlink:href=\"#C0_0_6f06cd12e7\" y=\"35.952847\"/>\r\n    </g>\r\n    <g clip-path=\"url(#pfa21d1d3ed)\">\r\n     <use style=\"fill:#25838e;stroke:#25838e;\" x=\"238.312169\" xlink:href=\"#C0_0_6f06cd12e7\" y=\"55.554087\"/>\r\n    </g>\r\n    <g clip-path=\"url(#pfa21d1d3ed)\">\r\n     <use style=\"fill:#c5e021;stroke:#c5e021;\" x=\"198.437649\" xlink:href=\"#C0_0_6f06cd12e7\" y=\"99.481114\"/>\r\n    </g>\r\n    <g clip-path=\"url(#pfa21d1d3ed)\">\r\n     <use style=\"fill:#481769;stroke:#481769;\" x=\"195.297561\" xlink:href=\"#C0_0_6f06cd12e7\" y=\"176.418506\"/>\r\n    </g>\r\n    <g clip-path=\"url(#pfa21d1d3ed)\">\r\n     <use style=\"fill:#2c718e;stroke:#2c718e;\" x=\"266.647096\" xlink:href=\"#C0_0_6f06cd12e7\" y=\"159.177004\"/>\r\n    </g>\r\n    <g clip-path=\"url(#pfa21d1d3ed)\">\r\n     <use style=\"fill:#463480;stroke:#463480;\" x=\"50.012764\" xlink:href=\"#C0_0_6f06cd12e7\" y=\"85.6587\"/>\r\n    </g>\r\n    <g clip-path=\"url(#pfa21d1d3ed)\">\r\n     <use style=\"fill:#471164;stroke:#471164;\" x=\"97.425551\" xlink:href=\"#C0_0_6f06cd12e7\" y=\"26.193673\"/>\r\n    </g>\r\n    <g clip-path=\"url(#pfa21d1d3ed)\">\r\n     <use style=\"fill:#2c718e;stroke:#2c718e;\" x=\"338.475132\" xlink:href=\"#C0_0_6f06cd12e7\" y=\"31.353097\"/>\r\n    </g>\r\n    <g clip-path=\"url(#pfa21d1d3ed)\">\r\n     <use style=\"fill:#ece51b;stroke:#ece51b;\" x=\"157.329094\" xlink:href=\"#C0_0_6f06cd12e7\" y=\"212.660873\"/>\r\n    </g>\r\n    <g clip-path=\"url(#pfa21d1d3ed)\">\r\n     <use style=\"fill:#424186;stroke:#424186;\" x=\"330.528246\" xlink:href=\"#C0_0_6f06cd12e7\" y=\"129.460891\"/>\r\n    </g>\r\n    <g clip-path=\"url(#pfa21d1d3ed)\">\r\n     <use style=\"fill:#24878e;stroke:#24878e;\" x=\"342.424134\" xlink:href=\"#C0_0_6f06cd12e7\" y=\"21.524666\"/>\r\n    </g>\r\n    <g clip-path=\"url(#pfa21d1d3ed)\">\r\n     <use style=\"fill:#471164;stroke:#471164;\" x=\"307.159541\" xlink:href=\"#C0_0_6f06cd12e7\" y=\"156.420011\"/>\r\n    </g>\r\n    <g clip-path=\"url(#pfa21d1d3ed)\">\r\n     <use style=\"fill:#375b8d;stroke:#375b8d;\" x=\"161.964732\" xlink:href=\"#C0_0_6f06cd12e7\" y=\"44.199696\"/>\r\n    </g>\r\n    <g clip-path=\"url(#pfa21d1d3ed)\">\r\n     <use style=\"fill:#482576;stroke:#482576;\" x=\"140.809543\" xlink:href=\"#C0_0_6f06cd12e7\" y=\"181.609387\"/>\r\n    </g>\r\n    <g clip-path=\"url(#pfa21d1d3ed)\">\r\n     <use style=\"fill:#482576;stroke:#482576;\" x=\"215.244999\" xlink:href=\"#C0_0_6f06cd12e7\" y=\"27.061259\"/>\r\n    </g>\r\n    <g clip-path=\"url(#pfa21d1d3ed)\">\r\n     <use style=\"fill:#89d548;stroke:#89d548;\" x=\"258.448149\" xlink:href=\"#C0_0_6f06cd12e7\" y=\"100.860507\"/>\r\n    </g>\r\n    <g clip-path=\"url(#pfa21d1d3ed)\">\r\n     <use style=\"fill:#3b528b;stroke:#3b528b;\" x=\"72.621666\" xlink:href=\"#C0_0_6f06cd12e7\" y=\"91.800023\"/>\r\n    </g>\r\n    <g clip-path=\"url(#pfa21d1d3ed)\">\r\n     <use style=\"fill:#375b8d;stroke:#375b8d;\" x=\"349.684943\" xlink:href=\"#C0_0_6f06cd12e7\" y=\"187.537768\"/>\r\n    </g>\r\n    <g clip-path=\"url(#pfa21d1d3ed)\">\r\n     <use style=\"fill:#433d84;stroke:#433d84;\" x=\"203.307111\" xlink:href=\"#C0_0_6f06cd12e7\" y=\"38.910812\"/>\r\n    </g>\r\n    <g clip-path=\"url(#pfa21d1d3ed)\">\r\n     <use style=\"fill:#bade28;stroke:#bade28;\" x=\"272.330777\" xlink:href=\"#C0_0_6f06cd12e7\" y=\"75.268277\"/>\r\n    </g>\r\n    <g clip-path=\"url(#pfa21d1d3ed)\">\r\n     <use style=\"fill:#471164;stroke:#471164;\" x=\"260.450939\" xlink:href=\"#C0_0_6f06cd12e7\" y=\"143.308419\"/>\r\n    </g>\r\n    <g clip-path=\"url(#pfa21d1d3ed)\">\r\n     <use style=\"fill:#433d84;stroke:#433d84;\" x=\"133.570105\" xlink:href=\"#C0_0_6f06cd12e7\" y=\"52.621044\"/>\r\n    </g>\r\n   </g>\r\n   <g id=\"matplotlib.axis_1\">\r\n    <g id=\"xtick_1\">\r\n     <g id=\"line2d_1\">\r\n      <defs>\r\n       <path d=\"M 0 0 \r\nL 0 3.5 \r\n\" id=\"m29b172dc46\" style=\"stroke:#000000;stroke-width:0.8;\"/>\r\n      </defs>\r\n      <g>\r\n       <use style=\"stroke:#000000;stroke-width:0.8;\" x=\"42.467426\" xlink:href=\"#m29b172dc46\" y=\"224.64\"/>\r\n      </g>\r\n     </g>\r\n     <g id=\"text_1\">\r\n      <!-- 0.0 -->\r\n      <g transform=\"translate(34.515864 239.238438)scale(0.1 -0.1)\">\r\n       <defs>\r\n        <path d=\"M 31.78125 66.40625 \r\nQ 24.171875 66.40625 20.328125 58.90625 \r\nQ 16.5 51.421875 16.5 36.375 \r\nQ 16.5 21.390625 20.328125 13.890625 \r\nQ 24.171875 6.390625 31.78125 6.390625 \r\nQ 39.453125 6.390625 43.28125 13.890625 \r\nQ 47.125 21.390625 47.125 36.375 \r\nQ 47.125 51.421875 43.28125 58.90625 \r\nQ 39.453125 66.40625 31.78125 66.40625 \r\nz\r\nM 31.78125 74.21875 \r\nQ 44.046875 74.21875 50.515625 64.515625 \r\nQ 56.984375 54.828125 56.984375 36.375 \r\nQ 56.984375 17.96875 50.515625 8.265625 \r\nQ 44.046875 -1.421875 31.78125 -1.421875 \r\nQ 19.53125 -1.421875 13.0625 8.265625 \r\nQ 6.59375 17.96875 6.59375 36.375 \r\nQ 6.59375 54.828125 13.0625 64.515625 \r\nQ 19.53125 74.21875 31.78125 74.21875 \r\nz\r\n\" id=\"DejaVuSans-48\"/>\r\n        <path d=\"M 10.6875 12.40625 \r\nL 21 12.40625 \r\nL 21 0 \r\nL 10.6875 0 \r\nz\r\n\" id=\"DejaVuSans-46\"/>\r\n       </defs>\r\n       <use xlink:href=\"#DejaVuSans-48\"/>\r\n       <use x=\"63.623047\" xlink:href=\"#DejaVuSans-46\"/>\r\n       <use x=\"95.410156\" xlink:href=\"#DejaVuSans-48\"/>\r\n      </g>\r\n     </g>\r\n    </g>\r\n    <g id=\"xtick_2\">\r\n     <g id=\"line2d_2\">\r\n      <g>\r\n       <use style=\"stroke:#000000;stroke-width:0.8;\" x=\"104.528195\" xlink:href=\"#m29b172dc46\" y=\"224.64\"/>\r\n      </g>\r\n     </g>\r\n     <g id=\"text_2\">\r\n      <!-- 0.2 -->\r\n      <g transform=\"translate(96.576633 239.238438)scale(0.1 -0.1)\">\r\n       <defs>\r\n        <path d=\"M 19.1875 8.296875 \r\nL 53.609375 8.296875 \r\nL 53.609375 0 \r\nL 7.328125 0 \r\nL 7.328125 8.296875 \r\nQ 12.9375 14.109375 22.625 23.890625 \r\nQ 32.328125 33.6875 34.8125 36.53125 \r\nQ 39.546875 41.84375 41.421875 45.53125 \r\nQ 43.3125 49.21875 43.3125 52.78125 \r\nQ 43.3125 58.59375 39.234375 62.25 \r\nQ 35.15625 65.921875 28.609375 65.921875 \r\nQ 23.96875 65.921875 18.8125 64.3125 \r\nQ 13.671875 62.703125 7.8125 59.421875 \r\nL 7.8125 69.390625 \r\nQ 13.765625 71.78125 18.9375 73 \r\nQ 24.125 74.21875 28.421875 74.21875 \r\nQ 39.75 74.21875 46.484375 68.546875 \r\nQ 53.21875 62.890625 53.21875 53.421875 \r\nQ 53.21875 48.921875 51.53125 44.890625 \r\nQ 49.859375 40.875 45.40625 35.40625 \r\nQ 44.1875 33.984375 37.640625 27.21875 \r\nQ 31.109375 20.453125 19.1875 8.296875 \r\nz\r\n\" id=\"DejaVuSans-50\"/>\r\n       </defs>\r\n       <use xlink:href=\"#DejaVuSans-48\"/>\r\n       <use x=\"63.623047\" xlink:href=\"#DejaVuSans-46\"/>\r\n       <use x=\"95.410156\" xlink:href=\"#DejaVuSans-50\"/>\r\n      </g>\r\n     </g>\r\n    </g>\r\n    <g id=\"xtick_3\">\r\n     <g id=\"line2d_3\">\r\n      <g>\r\n       <use style=\"stroke:#000000;stroke-width:0.8;\" x=\"166.588964\" xlink:href=\"#m29b172dc46\" y=\"224.64\"/>\r\n      </g>\r\n     </g>\r\n     <g id=\"text_3\">\r\n      <!-- 0.4 -->\r\n      <g transform=\"translate(158.637402 239.238438)scale(0.1 -0.1)\">\r\n       <defs>\r\n        <path d=\"M 37.796875 64.3125 \r\nL 12.890625 25.390625 \r\nL 37.796875 25.390625 \r\nz\r\nM 35.203125 72.90625 \r\nL 47.609375 72.90625 \r\nL 47.609375 25.390625 \r\nL 58.015625 25.390625 \r\nL 58.015625 17.1875 \r\nL 47.609375 17.1875 \r\nL 47.609375 0 \r\nL 37.796875 0 \r\nL 37.796875 17.1875 \r\nL 4.890625 17.1875 \r\nL 4.890625 26.703125 \r\nz\r\n\" id=\"DejaVuSans-52\"/>\r\n       </defs>\r\n       <use xlink:href=\"#DejaVuSans-48\"/>\r\n       <use x=\"63.623047\" xlink:href=\"#DejaVuSans-46\"/>\r\n       <use x=\"95.410156\" xlink:href=\"#DejaVuSans-52\"/>\r\n      </g>\r\n     </g>\r\n    </g>\r\n    <g id=\"xtick_4\">\r\n     <g id=\"line2d_4\">\r\n      <g>\r\n       <use style=\"stroke:#000000;stroke-width:0.8;\" x=\"228.649734\" xlink:href=\"#m29b172dc46\" y=\"224.64\"/>\r\n      </g>\r\n     </g>\r\n     <g id=\"text_4\">\r\n      <!-- 0.6 -->\r\n      <g transform=\"translate(220.698171 239.238438)scale(0.1 -0.1)\">\r\n       <defs>\r\n        <path d=\"M 33.015625 40.375 \r\nQ 26.375 40.375 22.484375 35.828125 \r\nQ 18.609375 31.296875 18.609375 23.390625 \r\nQ 18.609375 15.53125 22.484375 10.953125 \r\nQ 26.375 6.390625 33.015625 6.390625 \r\nQ 39.65625 6.390625 43.53125 10.953125 \r\nQ 47.40625 15.53125 47.40625 23.390625 \r\nQ 47.40625 31.296875 43.53125 35.828125 \r\nQ 39.65625 40.375 33.015625 40.375 \r\nz\r\nM 52.59375 71.296875 \r\nL 52.59375 62.3125 \r\nQ 48.875 64.0625 45.09375 64.984375 \r\nQ 41.3125 65.921875 37.59375 65.921875 \r\nQ 27.828125 65.921875 22.671875 59.328125 \r\nQ 17.53125 52.734375 16.796875 39.40625 \r\nQ 19.671875 43.65625 24.015625 45.921875 \r\nQ 28.375 48.1875 33.59375 48.1875 \r\nQ 44.578125 48.1875 50.953125 41.515625 \r\nQ 57.328125 34.859375 57.328125 23.390625 \r\nQ 57.328125 12.15625 50.6875 5.359375 \r\nQ 44.046875 -1.421875 33.015625 -1.421875 \r\nQ 20.359375 -1.421875 13.671875 8.265625 \r\nQ 6.984375 17.96875 6.984375 36.375 \r\nQ 6.984375 53.65625 15.1875 63.9375 \r\nQ 23.390625 74.21875 37.203125 74.21875 \r\nQ 40.921875 74.21875 44.703125 73.484375 \r\nQ 48.484375 72.75 52.59375 71.296875 \r\nz\r\n\" id=\"DejaVuSans-54\"/>\r\n       </defs>\r\n       <use xlink:href=\"#DejaVuSans-48\"/>\r\n       <use x=\"63.623047\" xlink:href=\"#DejaVuSans-46\"/>\r\n       <use x=\"95.410156\" xlink:href=\"#DejaVuSans-54\"/>\r\n      </g>\r\n     </g>\r\n    </g>\r\n    <g id=\"xtick_5\">\r\n     <g id=\"line2d_5\">\r\n      <g>\r\n       <use style=\"stroke:#000000;stroke-width:0.8;\" x=\"290.710503\" xlink:href=\"#m29b172dc46\" y=\"224.64\"/>\r\n      </g>\r\n     </g>\r\n     <g id=\"text_5\">\r\n      <!-- 0.8 -->\r\n      <g transform=\"translate(282.75894 239.238438)scale(0.1 -0.1)\">\r\n       <defs>\r\n        <path d=\"M 31.78125 34.625 \r\nQ 24.75 34.625 20.71875 30.859375 \r\nQ 16.703125 27.09375 16.703125 20.515625 \r\nQ 16.703125 13.921875 20.71875 10.15625 \r\nQ 24.75 6.390625 31.78125 6.390625 \r\nQ 38.8125 6.390625 42.859375 10.171875 \r\nQ 46.921875 13.96875 46.921875 20.515625 \r\nQ 46.921875 27.09375 42.890625 30.859375 \r\nQ 38.875 34.625 31.78125 34.625 \r\nz\r\nM 21.921875 38.8125 \r\nQ 15.578125 40.375 12.03125 44.71875 \r\nQ 8.5 49.078125 8.5 55.328125 \r\nQ 8.5 64.0625 14.71875 69.140625 \r\nQ 20.953125 74.21875 31.78125 74.21875 \r\nQ 42.671875 74.21875 48.875 69.140625 \r\nQ 55.078125 64.0625 55.078125 55.328125 \r\nQ 55.078125 49.078125 51.53125 44.71875 \r\nQ 48 40.375 41.703125 38.8125 \r\nQ 48.828125 37.15625 52.796875 32.3125 \r\nQ 56.78125 27.484375 56.78125 20.515625 \r\nQ 56.78125 9.90625 50.3125 4.234375 \r\nQ 43.84375 -1.421875 31.78125 -1.421875 \r\nQ 19.734375 -1.421875 13.25 4.234375 \r\nQ 6.78125 9.90625 6.78125 20.515625 \r\nQ 6.78125 27.484375 10.78125 32.3125 \r\nQ 14.796875 37.15625 21.921875 38.8125 \r\nz\r\nM 18.3125 54.390625 \r\nQ 18.3125 48.734375 21.84375 45.5625 \r\nQ 25.390625 42.390625 31.78125 42.390625 \r\nQ 38.140625 42.390625 41.71875 45.5625 \r\nQ 45.3125 48.734375 45.3125 54.390625 \r\nQ 45.3125 60.0625 41.71875 63.234375 \r\nQ 38.140625 66.40625 31.78125 66.40625 \r\nQ 25.390625 66.40625 21.84375 63.234375 \r\nQ 18.3125 60.0625 18.3125 54.390625 \r\nz\r\n\" id=\"DejaVuSans-56\"/>\r\n       </defs>\r\n       <use xlink:href=\"#DejaVuSans-48\"/>\r\n       <use x=\"63.623047\" xlink:href=\"#DejaVuSans-46\"/>\r\n       <use x=\"95.410156\" xlink:href=\"#DejaVuSans-56\"/>\r\n      </g>\r\n     </g>\r\n    </g>\r\n    <g id=\"xtick_6\">\r\n     <g id=\"line2d_6\">\r\n      <g>\r\n       <use style=\"stroke:#000000;stroke-width:0.8;\" x=\"352.771272\" xlink:href=\"#m29b172dc46\" y=\"224.64\"/>\r\n      </g>\r\n     </g>\r\n     <g id=\"text_6\">\r\n      <!-- 1.0 -->\r\n      <g transform=\"translate(344.819709 239.238438)scale(0.1 -0.1)\">\r\n       <defs>\r\n        <path d=\"M 12.40625 8.296875 \r\nL 28.515625 8.296875 \r\nL 28.515625 63.921875 \r\nL 10.984375 60.40625 \r\nL 10.984375 69.390625 \r\nL 28.421875 72.90625 \r\nL 38.28125 72.90625 \r\nL 38.28125 8.296875 \r\nL 54.390625 8.296875 \r\nL 54.390625 0 \r\nL 12.40625 0 \r\nz\r\n\" id=\"DejaVuSans-49\"/>\r\n       </defs>\r\n       <use xlink:href=\"#DejaVuSans-49\"/>\r\n       <use x=\"63.623047\" xlink:href=\"#DejaVuSans-46\"/>\r\n       <use x=\"95.410156\" xlink:href=\"#DejaVuSans-48\"/>\r\n      </g>\r\n     </g>\r\n    </g>\r\n   </g>\r\n   <g id=\"matplotlib.axis_2\">\r\n    <g id=\"ytick_1\">\r\n     <g id=\"line2d_7\">\r\n      <defs>\r\n       <path d=\"M 0 0 \r\nL -3.5 0 \r\n\" id=\"me119700df5\" style=\"stroke:#000000;stroke-width:0.8;\"/>\r\n      </defs>\r\n      <g>\r\n       <use style=\"stroke:#000000;stroke-width:0.8;\" x=\"30.103125\" xlink:href=\"#me119700df5\" y=\"215.776707\"/>\r\n      </g>\r\n     </g>\r\n     <g id=\"text_7\">\r\n      <!-- 0.0 -->\r\n      <g transform=\"translate(7.2 219.575925)scale(0.1 -0.1)\">\r\n       <use xlink:href=\"#DejaVuSans-48\"/>\r\n       <use x=\"63.623047\" xlink:href=\"#DejaVuSans-46\"/>\r\n       <use x=\"95.410156\" xlink:href=\"#DejaVuSans-48\"/>\r\n      </g>\r\n     </g>\r\n    </g>\r\n    <g id=\"ytick_2\">\r\n     <g id=\"line2d_8\">\r\n      <g>\r\n       <use style=\"stroke:#000000;stroke-width:0.8;\" x=\"30.103125\" xlink:href=\"#me119700df5\" y=\"175.45956\"/>\r\n      </g>\r\n     </g>\r\n     <g id=\"text_8\">\r\n      <!-- 0.2 -->\r\n      <g transform=\"translate(7.2 179.258779)scale(0.1 -0.1)\">\r\n       <use xlink:href=\"#DejaVuSans-48\"/>\r\n       <use x=\"63.623047\" xlink:href=\"#DejaVuSans-46\"/>\r\n       <use x=\"95.410156\" xlink:href=\"#DejaVuSans-50\"/>\r\n      </g>\r\n     </g>\r\n    </g>\r\n    <g id=\"ytick_3\">\r\n     <g id=\"line2d_9\">\r\n      <g>\r\n       <use style=\"stroke:#000000;stroke-width:0.8;\" x=\"30.103125\" xlink:href=\"#me119700df5\" y=\"135.142413\"/>\r\n      </g>\r\n     </g>\r\n     <g id=\"text_9\">\r\n      <!-- 0.4 -->\r\n      <g transform=\"translate(7.2 138.941632)scale(0.1 -0.1)\">\r\n       <use xlink:href=\"#DejaVuSans-48\"/>\r\n       <use x=\"63.623047\" xlink:href=\"#DejaVuSans-46\"/>\r\n       <use x=\"95.410156\" xlink:href=\"#DejaVuSans-52\"/>\r\n      </g>\r\n     </g>\r\n    </g>\r\n    <g id=\"ytick_4\">\r\n     <g id=\"line2d_10\">\r\n      <g>\r\n       <use style=\"stroke:#000000;stroke-width:0.8;\" x=\"30.103125\" xlink:href=\"#me119700df5\" y=\"94.825266\"/>\r\n      </g>\r\n     </g>\r\n     <g id=\"text_10\">\r\n      <!-- 0.6 -->\r\n      <g transform=\"translate(7.2 98.624485)scale(0.1 -0.1)\">\r\n       <use xlink:href=\"#DejaVuSans-48\"/>\r\n       <use x=\"63.623047\" xlink:href=\"#DejaVuSans-46\"/>\r\n       <use x=\"95.410156\" xlink:href=\"#DejaVuSans-54\"/>\r\n      </g>\r\n     </g>\r\n    </g>\r\n    <g id=\"ytick_5\">\r\n     <g id=\"line2d_11\">\r\n      <g>\r\n       <use style=\"stroke:#000000;stroke-width:0.8;\" x=\"30.103125\" xlink:href=\"#me119700df5\" y=\"54.508119\"/>\r\n      </g>\r\n     </g>\r\n     <g id=\"text_11\">\r\n      <!-- 0.8 -->\r\n      <g transform=\"translate(7.2 58.307338)scale(0.1 -0.1)\">\r\n       <use xlink:href=\"#DejaVuSans-48\"/>\r\n       <use x=\"63.623047\" xlink:href=\"#DejaVuSans-46\"/>\r\n       <use x=\"95.410156\" xlink:href=\"#DejaVuSans-56\"/>\r\n      </g>\r\n     </g>\r\n    </g>\r\n    <g id=\"ytick_6\">\r\n     <g id=\"line2d_12\">\r\n      <g>\r\n       <use style=\"stroke:#000000;stroke-width:0.8;\" x=\"30.103125\" xlink:href=\"#me119700df5\" y=\"14.190973\"/>\r\n      </g>\r\n     </g>\r\n     <g id=\"text_12\">\r\n      <!-- 1.0 -->\r\n      <g transform=\"translate(7.2 17.990191)scale(0.1 -0.1)\">\r\n       <use xlink:href=\"#DejaVuSans-49\"/>\r\n       <use x=\"63.623047\" xlink:href=\"#DejaVuSans-46\"/>\r\n       <use x=\"95.410156\" xlink:href=\"#DejaVuSans-48\"/>\r\n      </g>\r\n     </g>\r\n    </g>\r\n   </g>\r\n   <g id=\"patch_3\">\r\n    <path d=\"M 30.103125 224.64 \r\nL 30.103125 7.2 \r\n\" style=\"fill:none;stroke:#000000;stroke-linecap:square;stroke-linejoin:miter;stroke-width:0.8;\"/>\r\n   </g>\r\n   <g id=\"patch_4\">\r\n    <path d=\"M 364.903125 224.64 \r\nL 364.903125 7.2 \r\n\" style=\"fill:none;stroke:#000000;stroke-linecap:square;stroke-linejoin:miter;stroke-width:0.8;\"/>\r\n   </g>\r\n   <g id=\"patch_5\">\r\n    <path d=\"M 30.103125 224.64 \r\nL 364.903125 224.64 \r\n\" style=\"fill:none;stroke:#000000;stroke-linecap:square;stroke-linejoin:miter;stroke-width:0.8;\"/>\r\n   </g>\r\n   <g id=\"patch_6\">\r\n    <path d=\"M 30.103125 7.2 \r\nL 364.903125 7.2 \r\n\" style=\"fill:none;stroke:#000000;stroke-linecap:square;stroke-linejoin:miter;stroke-width:0.8;\"/>\r\n   </g>\r\n  </g>\r\n </g>\r\n <defs>\r\n  <clipPath id=\"pfa21d1d3ed\">\r\n   <rect height=\"217.44\" width=\"334.8\" x=\"30.103125\" y=\"7.2\"/>\r\n  </clipPath>\r\n </defs>\r\n</svg>\r\n",
      "image/png": "[encoded data removed]"
     },
     "metadata": {
      "needs_background": "light"
     }
    }
   ],
   "source": [
    "plt.scatter(cluster_centers[:,0], cluster_centers[:,1], c=binom_sample)"
   ]
  },
  {
   "cell_type": "code",
   "execution_count": 5,
   "metadata": {},
   "outputs": [],
   "source": [
    "from BinomialSimilarityGrouping import BSG"
   ]
  },
  {
   "cell_type": "code",
   "execution_count": 6,
   "metadata": {},
   "outputs": [],
   "source": [
    "bsg = BSG(n_estimation)"
   ]
  },
  {
   "cell_type": "code",
   "execution_count": 19,
   "metadata": {},
   "outputs": [],
   "source": [
    "linkage_matrix = bsg.fit_hierarchy(cluster_centers, binom_sample, p_arr)\n",
    "labels = bsg.predict_hierarchy(30)"
   ]
  },
  {
   "cell_type": "code",
   "execution_count": 20,
   "metadata": {},
   "outputs": [
    {
     "output_type": "display_data",
     "data": {
      "application/vnd.plotly.v1+json": {
       "config": {
        "plotlyServerURL": "https://plot.ly"
       },
       "data": [
        {
         "hovertemplate": "x=%{x}<br>y=%{y}<br>size=%{marker.size}<br>color=%{marker.color}<extra></extra>",
         "legendgroup": "",
         "marker": {
          "color": [
           24,
           13,
           13,
           24,
           3,
           4,
           24,
           7,
           15,
           21,
           13,
           14,
           19,
           21,
           24,
           4,
           14,
           23,
           4,
           24,
           3,
           13,
           6,
           16,
           14,
           4,
           25,
           14,
           1,
           12,
           24,
           14,
           23,
           4,
           6,
           23,
           28,
           9,
           20,
           14,
           24,
           14,
           8,
           4,
           4,
           13,
           20,
           4,
           24,
           18,
           9,
           8,
           8,
           14,
           24,
           14,
           2,
           10,
           12,
           21,
           6,
           4,
           7,
           6,
           13,
           24,
           17,
           26,
           22,
           8,
           13,
           8,
           24,
           13,
           13,
           20,
           27,
           14,
           14,
           11,
           12,
           29,
           4,
           9,
           3,
           6,
           21,
           5,
           6,
           4,
           14,
           24,
           14,
           13,
           9,
           30,
           14,
           13,
           4,
           14
          ],
          "coloraxis": "coloraxis",
          "size": [
           77,
           35,
           74,
           80,
           30,
           34,
           79,
           56,
           79,
           87,
           80,
           80,
           27,
           79,
           50,
           34,
           56,
           49,
           51,
           49,
           27,
           29,
           51,
           59,
           32,
           29,
           26,
           84,
           83,
           80,
           47,
           78,
           56,
           50,
           88,
           52,
           87,
           76,
           32,
           80,
           24,
           80,
           80,
           26,
           29,
           81,
           48,
           31,
           46,
           46,
           60,
           29,
           49,
           36,
           53,
           85,
           88,
           24,
           78,
           86,
           49,
           21,
           57,
           46,
           54,
           50,
           49,
           39,
           44,
           30,
           76,
           48,
           57,
           48,
           60,
           53,
           48,
           86,
           80,
           51,
           82,
           25,
           46,
           31,
           24,
           46,
           86,
           34,
           52,
           24,
           40,
           28,
           28,
           76,
           38,
           40,
           33,
           81,
           24,
           33
          ],
          "sizemode": "area",
          "sizeref": 0.22,
          "symbol": "circle"
         },
         "mode": "markers",
         "name": "",
         "showlegend": false,
         "type": "scatter",
         "x": [
          0.1987156815341724,
          0.8154614284548342,
          0.7290071680409873,
          0.07404465173409036,
          0.11586905952512971,
          0.6232981268275579,
          0.06355835028602363,
          0.32518332202674705,
          0.6375574713552131,
          0.4722149251619493,
          0.713244787222995,
          0.5612771975694962,
          0.49379559636439074,
          0.42754101835854963,
          0.10789142699330445,
          0.6364104112637804,
          0.5085706911647028,
          0.24929222914887494,
          0.7555511385430487,
          0.07697990982879299,
          0.16122128725400442,
          0.808120379564417,
          0.8714605901877177,
          0.18657005888603584,
          0.5393422419156507,
          0.8960912999234932,
          0.11005192452767676,
          0.4271077886262563,
          0.8607305832563434,
          0.5107473025775657,
          0.22210781047073025,
          0.33761517140362796,
          0.32320293202075523,
          0.7030189588951778,
          0.9717820827209607,
          0.25178229582536416,
          0.30087830981676966,
          0.036886947354532795,
          0.5026790232288615,
          0.27864646423661144,
          0.23956189066697242,
          0.489452760277563,
          0.2420552715115004,
          0.7616196153287176,
          0.7282163486118596,
          0.6323058305935795,
          0.5357746840747585,
          0.835302495589238,
          0.18651851039985423,
          0.5908929431882418,
          0.016587828927856152,
          0.22649577519793795,
          0.17436642900499144,
          0.3867353463005374,
          0.13752094414599325,
          0.11347352124058907,
          0.877339353380981,
          0.659984046034179,
          0.5552008115994623,
          0.24185229090045168,
          0.8972157579533268,
          0.6331014572732679,
          0.3492095746126609,
          0.8971102599525771,
          0.7798755458576239,
          0.08413996499504883,
          0.8985541885270792,
          0.009197051616629648,
          0.6635017691080558,
          0.16080805141749865,
          0.6918951976926933,
          0.22426930946055978,
          0.23724908749680007,
          0.7464914051180241,
          0.8492234104941779,
          0.5683086033354716,
          0.3677158030594335,
          0.24398964337908358,
          0.3930977246667604,
          0.6311386259972629,
          0.5026370931051921,
          0.4925176938188639,
          0.7224521152615053,
          0.02431596643145384,
          0.17711067940704894,
          0.9539285770025874,
          0.3701587002554444,
          0.9283185625877254,
          0.9666548190436696,
          0.8530094554673601,
          0.38509772860192526,
          0.31692200515627766,
          0.5568012624583502,
          0.696029796674973,
          0.09717649377076854,
          0.9900538501042633,
          0.5183296523637367,
          0.7407686177542044,
          0.7024840839871093,
          0.29359184426449336
         ],
         "xaxis": "x",
         "y": [
          0.005522117123602399,
          0.7068573438476171,
          0.7712703466859457,
          0.3584657285442726,
          0.8631034258755935,
          0.3308980248526492,
          0.3109823217156622,
          0.7296061783380641,
          0.8872127425763265,
          0.1195942459383017,
          0.7607850486168974,
          0.770967179954561,
          0.5227328293819941,
          0.02541912674409519,
          0.03142918568673425,
          0.3143559810763267,
          0.907566473926093,
          0.41038292303562973,
          0.22879816549162246,
          0.289751452913768,
          0.9296976523425731,
          0.6334037565104235,
          0.8036720768991145,
          0.8925589984899778,
          0.8074401551640625,
          0.3180034749718639,
          0.22793516254194168,
          0.8180147659224931,
          0.006952130531190703,
          0.417411003148779,
          0.1198653673336828,
          0.9429097039125192,
          0.5187906217433661,
          0.363629602379294,
          0.9624472949421112,
          0.49724850589238545,
          0.2848404943774676,
          0.6095643339798968,
          0.05147875124998935,
          0.9082658859666537,
          0.1448948720912231,
          0.9856504541106007,
          0.6721355474058786,
          0.23763754399239967,
          0.3677831327192532,
          0.6335297107608947,
          0.0902897700544083,
          0.32078006497173583,
          0.040775141554763916,
          0.6775643618422824,
          0.512093058299281,
          0.6451727904094499,
          0.690937738102466,
          0.9367299887367345,
          0.3410663510502585,
          0.9246936182785628,
          0.2579416277151556,
          0.8172222002012158,
          0.5296505783560065,
          0.09310276780589921,
          0.9004180571633305,
          0.3390297910487007,
          0.7259556788702394,
          0.8870864242651173,
          0.6420316461542878,
          0.16162871409461377,
          0.6064290596595899,
          0.1014715428660321,
          0.005061583846218687,
          0.5487337893665861,
          0.6519612595026005,
          0.7121792213475359,
          0.3253996981592677,
          0.6496328990472147,
          0.6576128923003434,
          0.09367476782809248,
          0.26520236768172545,
          0.9730105547524456,
          0.8920465551771133,
          0.7948113035416484,
          0.5769038846263591,
          0.1952429877980445,
          0.2807723624408558,
          0.6454722959071678,
          0.9404585843529143,
          0.9148643902204485,
          0.015456616528867428,
          0.42818414831731433,
          0.9636199770892528,
          0.2944488920695857,
          0.8511366715168569,
          0.1694927466860925,
          0.936154774160781,
          0.570061170089365,
          0.6150072266991697,
          0.14008401523652403,
          0.8773730719279554,
          0.697015740995268,
          0.35949115121975517,
          0.8093611554785136
         ],
         "yaxis": "y"
        }
       ],
       "layout": {
        "coloraxis": {
         "colorbar": {
          "title": {
           "text": "color"
          }
         },
         "colorscale": [
          [
           0,
           "#0d0887"
          ],
          [
           0.1111111111111111,
           "#46039f"
          ],
          [
           0.2222222222222222,
           "#7201a8"
          ],
          [
           0.3333333333333333,
           "#9c179e"
          ],
          [
           0.4444444444444444,
           "#bd3786"
          ],
          [
           0.5555555555555556,
           "#d8576b"
          ],
          [
           0.6666666666666666,
           "#ed7953"
          ],
          [
           0.7777777777777778,
           "#fb9f3a"
          ],
          [
           0.8888888888888888,
           "#fdca26"
          ],
          [
           1,
           "#f0f921"
          ]
         ]
        },
        "legend": {
         "itemsizing": "constant",
         "tracegroupgap": 0
        },
        "margin": {
         "t": 60
        },
        "template": {
         "data": {
          "bar": [
           {
            "error_x": {
             "color": "#2a3f5f"
            },
            "error_y": {
             "color": "#2a3f5f"
            },
            "marker": {
             "line": {
              "color": "#E5ECF6",
              "width": 0.5
             }
            },
            "type": "bar"
           }
          ],
          "barpolar": [
           {
            "marker": {
             "line": {
              "color": "#E5ECF6",
              "width": 0.5
             }
            },
            "type": "barpolar"
           }
          ],
          "carpet": [
           {
            "aaxis": {
             "endlinecolor": "#2a3f5f",
             "gridcolor": "white",
             "linecolor": "white",
             "minorgridcolor": "white",
             "startlinecolor": "#2a3f5f"
            },
            "baxis": {
             "endlinecolor": "#2a3f5f",
             "gridcolor": "white",
             "linecolor": "white",
             "minorgridcolor": "white",
             "startlinecolor": "#2a3f5f"
            },
            "type": "carpet"
           }
          ],
          "choropleth": [
           {
            "colorbar": {
             "outlinewidth": 0,
             "ticks": ""
            },
            "type": "choropleth"
           }
          ],
          "contour": [
           {
            "colorbar": {
             "outlinewidth": 0,
             "ticks": ""
            },
            "colorscale": [
             [
              0,
              "#0d0887"
             ],
             [
              0.1111111111111111,
              "#46039f"
             ],
             [
              0.2222222222222222,
              "#7201a8"
             ],
             [
              0.3333333333333333,
              "#9c179e"
             ],
             [
              0.4444444444444444,
              "#bd3786"
             ],
             [
              0.5555555555555556,
              "#d8576b"
             ],
             [
              0.6666666666666666,
              "#ed7953"
             ],
             [
              0.7777777777777778,
              "#fb9f3a"
             ],
             [
              0.8888888888888888,
              "#fdca26"
             ],
             [
              1,
              "#f0f921"
             ]
            ],
            "type": "contour"
           }
          ],
          "contourcarpet": [
           {
            "colorbar": {
             "outlinewidth": 0,
             "ticks": ""
            },
            "type": "contourcarpet"
           }
          ],
          "heatmap": [
           {
            "colorbar": {
             "outlinewidth": 0,
             "ticks": ""
            },
            "colorscale": [
             [
              0,
              "#0d0887"
             ],
             [
              0.1111111111111111,
              "#46039f"
             ],
             [
              0.2222222222222222,
              "#7201a8"
             ],
             [
              0.3333333333333333,
              "#9c179e"
             ],
             [
              0.4444444444444444,
              "#bd3786"
             ],
             [
              0.5555555555555556,
              "#d8576b"
             ],
             [
              0.6666666666666666,
              "#ed7953"
             ],
             [
              0.7777777777777778,
              "#fb9f3a"
             ],
             [
              0.8888888888888888,
              "#fdca26"
             ],
             [
              1,
              "#f0f921"
             ]
            ],
            "type": "heatmap"
           }
          ],
          "heatmapgl": [
           {
            "colorbar": {
             "outlinewidth": 0,
             "ticks": ""
            },
            "colorscale": [
             [
              0,
              "#0d0887"
             ],
             [
              0.1111111111111111,
              "#46039f"
             ],
             [
              0.2222222222222222,
              "#7201a8"
             ],
             [
              0.3333333333333333,
              "#9c179e"
             ],
             [
              0.4444444444444444,
              "#bd3786"
             ],
             [
              0.5555555555555556,
              "#d8576b"
             ],
             [
              0.6666666666666666,
              "#ed7953"
             ],
             [
              0.7777777777777778,
              "#fb9f3a"
             ],
             [
              0.8888888888888888,
              "#fdca26"
             ],
             [
              1,
              "#f0f921"
             ]
            ],
            "type": "heatmapgl"
           }
          ],
          "histogram": [
           {
            "marker": {
             "colorbar": {
              "outlinewidth": 0,
              "ticks": ""
             }
            },
            "type": "histogram"
           }
          ],
          "histogram2d": [
           {
            "colorbar": {
             "outlinewidth": 0,
             "ticks": ""
            },
            "colorscale": [
             [
              0,
              "#0d0887"
             ],
             [
              0.1111111111111111,
              "#46039f"
             ],
             [
              0.2222222222222222,
              "#7201a8"
             ],
             [
              0.3333333333333333,
              "#9c179e"
             ],
             [
              0.4444444444444444,
              "#bd3786"
             ],
             [
              0.5555555555555556,
              "#d8576b"
             ],
             [
              0.6666666666666666,
              "#ed7953"
             ],
             [
              0.7777777777777778,
              "#fb9f3a"
             ],
             [
              0.8888888888888888,
              "#fdca26"
             ],
             [
              1,
              "#f0f921"
             ]
            ],
            "type": "histogram2d"
           }
          ],
          "histogram2dcontour": [
           {
            "colorbar": {
             "outlinewidth": 0,
             "ticks": ""
            },
            "colorscale": [
             [
              0,
              "#0d0887"
             ],
             [
              0.1111111111111111,
              "#46039f"
             ],
             [
              0.2222222222222222,
              "#7201a8"
             ],
             [
              0.3333333333333333,
              "#9c179e"
             ],
             [
              0.4444444444444444,
              "#bd3786"
             ],
             [
              0.5555555555555556,
              "#d8576b"
             ],
             [
              0.6666666666666666,
              "#ed7953"
             ],
             [
              0.7777777777777778,
              "#fb9f3a"
             ],
             [
              0.8888888888888888,
              "#fdca26"
             ],
             [
              1,
              "#f0f921"
             ]
            ],
            "type": "histogram2dcontour"
           }
          ],
          "mesh3d": [
           {
            "colorbar": {
             "outlinewidth": 0,
             "ticks": ""
            },
            "type": "mesh3d"
           }
          ],
          "parcoords": [
           {
            "line": {
             "colorbar": {
              "outlinewidth": 0,
              "ticks": ""
             }
            },
            "type": "parcoords"
           }
          ],
          "pie": [
           {
            "automargin": true,
            "type": "pie"
           }
          ],
          "scatter": [
           {
            "marker": {
             "colorbar": {
              "outlinewidth": 0,
              "ticks": ""
             }
            },
            "type": "scatter"
           }
          ],
          "scatter3d": [
           {
            "line": {
             "colorbar": {
              "outlinewidth": 0,
              "ticks": ""
             }
            },
            "marker": {
             "colorbar": {
              "outlinewidth": 0,
              "ticks": ""
             }
            },
            "type": "scatter3d"
           }
          ],
          "scattercarpet": [
           {
            "marker": {
             "colorbar": {
              "outlinewidth": 0,
              "ticks": ""
             }
            },
            "type": "scattercarpet"
           }
          ],
          "scattergeo": [
           {
            "marker": {
             "colorbar": {
              "outlinewidth": 0,
              "ticks": ""
             }
            },
            "type": "scattergeo"
           }
          ],
          "scattergl": [
           {
            "marker": {
             "colorbar": {
              "outlinewidth": 0,
              "ticks": ""
             }
            },
            "type": "scattergl"
           }
          ],
          "scattermapbox": [
           {
            "marker": {
             "colorbar": {
              "outlinewidth": 0,
              "ticks": ""
             }
            },
            "type": "scattermapbox"
           }
          ],
          "scatterpolar": [
           {
            "marker": {
             "colorbar": {
              "outlinewidth": 0,
              "ticks": ""
             }
            },
            "type": "scatterpolar"
           }
          ],
          "scatterpolargl": [
           {
            "marker": {
             "colorbar": {
              "outlinewidth": 0,
              "ticks": ""
             }
            },
            "type": "scatterpolargl"
           }
          ],
          "scatterternary": [
           {
            "marker": {
             "colorbar": {
              "outlinewidth": 0,
              "ticks": ""
             }
            },
            "type": "scatterternary"
           }
          ],
          "surface": [
           {
            "colorbar": {
             "outlinewidth": 0,
             "ticks": ""
            },
            "colorscale": [
             [
              0,
              "#0d0887"
             ],
             [
              0.1111111111111111,
              "#46039f"
             ],
             [
              0.2222222222222222,
              "#7201a8"
             ],
             [
              0.3333333333333333,
              "#9c179e"
             ],
             [
              0.4444444444444444,
              "#bd3786"
             ],
             [
              0.5555555555555556,
              "#d8576b"
             ],
             [
              0.6666666666666666,
              "#ed7953"
             ],
             [
              0.7777777777777778,
              "#fb9f3a"
             ],
             [
              0.8888888888888888,
              "#fdca26"
             ],
             [
              1,
              "#f0f921"
             ]
            ],
            "type": "surface"
           }
          ],
          "table": [
           {
            "cells": {
             "fill": {
              "color": "#EBF0F8"
             },
             "line": {
              "color": "white"
             }
            },
            "header": {
             "fill": {
              "color": "#C8D4E3"
             },
             "line": {
              "color": "white"
             }
            },
            "type": "table"
           }
          ]
         },
         "layout": {
          "annotationdefaults": {
           "arrowcolor": "#2a3f5f",
           "arrowhead": 0,
           "arrowwidth": 1
          },
          "coloraxis": {
           "colorbar": {
            "outlinewidth": 0,
            "ticks": ""
           }
          },
          "colorscale": {
           "diverging": [
            [
             0,
             "#8e0152"
            ],
            [
             0.1,
             "#c51b7d"
            ],
            [
             0.2,
             "#de77ae"
            ],
            [
             0.3,
             "#f1b6da"
            ],
            [
             0.4,
             "#fde0ef"
            ],
            [
             0.5,
             "#f7f7f7"
            ],
            [
             0.6,
             "#e6f5d0"
            ],
            [
             0.7,
             "#b8e186"
            ],
            [
             0.8,
             "#7fbc41"
            ],
            [
             0.9,
             "#4d9221"
            ],
            [
             1,
             "#276419"
            ]
           ],
           "sequential": [
            [
             0,
             "#0d0887"
            ],
            [
             0.1111111111111111,
             "#46039f"
            ],
            [
             0.2222222222222222,
             "#7201a8"
            ],
            [
             0.3333333333333333,
             "#9c179e"
            ],
            [
             0.4444444444444444,
             "#bd3786"
            ],
            [
             0.5555555555555556,
             "#d8576b"
            ],
            [
             0.6666666666666666,
             "#ed7953"
            ],
            [
             0.7777777777777778,
             "#fb9f3a"
            ],
            [
             0.8888888888888888,
             "#fdca26"
            ],
            [
             1,
             "#f0f921"
            ]
           ],
           "sequentialminus": [
            [
             0,
             "#0d0887"
            ],
            [
             0.1111111111111111,
             "#46039f"
            ],
            [
             0.2222222222222222,
             "#7201a8"
            ],
            [
             0.3333333333333333,
             "#9c179e"
            ],
            [
             0.4444444444444444,
             "#bd3786"
            ],
            [
             0.5555555555555556,
             "#d8576b"
            ],
            [
             0.6666666666666666,
             "#ed7953"
            ],
            [
             0.7777777777777778,
             "#fb9f3a"
            ],
            [
             0.8888888888888888,
             "#fdca26"
            ],
            [
             1,
             "#f0f921"
            ]
           ]
          },
          "colorway": [
           "#636efa",
           "#EF553B",
           "#00cc96",
           "#ab63fa",
           "#FFA15A",
           "#19d3f3",
           "#FF6692",
           "#B6E880",
           "#FF97FF",
           "#FECB52"
          ],
          "font": {
           "color": "#2a3f5f"
          },
          "geo": {
           "bgcolor": "white",
           "lakecolor": "white",
           "landcolor": "#E5ECF6",
           "showlakes": true,
           "showland": true,
           "subunitcolor": "white"
          },
          "hoverlabel": {
           "align": "left"
          },
          "hovermode": "closest",
          "mapbox": {
           "style": "light"
          },
          "paper_bgcolor": "white",
          "plot_bgcolor": "#E5ECF6",
          "polar": {
           "angularaxis": {
            "gridcolor": "white",
            "linecolor": "white",
            "ticks": ""
           },
           "bgcolor": "#E5ECF6",
           "radialaxis": {
            "gridcolor": "white",
            "linecolor": "white",
            "ticks": ""
           }
          },
          "scene": {
           "xaxis": {
            "backgroundcolor": "#E5ECF6",
            "gridcolor": "white",
            "gridwidth": 2,
            "linecolor": "white",
            "showbackground": true,
            "ticks": "",
            "zerolinecolor": "white"
           },
           "yaxis": {
            "backgroundcolor": "#E5ECF6",
            "gridcolor": "white",
            "gridwidth": 2,
            "linecolor": "white",
            "showbackground": true,
            "ticks": "",
            "zerolinecolor": "white"
           },
           "zaxis": {
            "backgroundcolor": "#E5ECF6",
            "gridcolor": "white",
            "gridwidth": 2,
            "linecolor": "white",
            "showbackground": true,
            "ticks": "",
            "zerolinecolor": "white"
           }
          },
          "shapedefaults": {
           "line": {
            "color": "#2a3f5f"
           }
          },
          "ternary": {
           "aaxis": {
            "gridcolor": "white",
            "linecolor": "white",
            "ticks": ""
           },
           "baxis": {
            "gridcolor": "white",
            "linecolor": "white",
            "ticks": ""
           },
           "bgcolor": "#E5ECF6",
           "caxis": {
            "gridcolor": "white",
            "linecolor": "white",
            "ticks": ""
           }
          },
          "title": {
           "x": 0.05
          },
          "xaxis": {
           "automargin": true,
           "gridcolor": "white",
           "linecolor": "white",
           "ticks": "",
           "title": {
            "standoff": 15
           },
           "zerolinecolor": "white",
           "zerolinewidth": 2
          },
          "yaxis": {
           "automargin": true,
           "gridcolor": "white",
           "linecolor": "white",
           "ticks": "",
           "title": {
            "standoff": 15
           },
           "zerolinecolor": "white",
           "zerolinewidth": 2
          }
         }
        },
        "xaxis": {
         "anchor": "y",
         "domain": [
          0,
          1
         ],
         "title": {
          "text": "x"
         }
        },
        "yaxis": {
         "anchor": "x",
         "domain": [
          0,
          1
         ],
         "title": {
          "text": "y"
         }
        }
       }
      }
     },
     "metadata": {}
    }
   ],
   "source": [
    "fig = px.scatter(x=cluster_centers[:,0], y=cluster_centers[:,1], size=binom_sample, color=labels)\n",
    "fig.show()"
   ]
  },
  {
   "cell_type": "code",
   "execution_count": null,
   "metadata": {},
   "outputs": [],
   "source": []
  }
 ]
}