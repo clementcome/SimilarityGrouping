{
 "metadata": {
  "language_info": {
   "codemirror_mode": {
    "name": "ipython",
    "version": 3
   },
   "file_extension": ".py",
   "mimetype": "text/x-python",
   "name": "python",
   "nbconvert_exporter": "python",
   "pygments_lexer": "ipython3",
   "version": "3.7.6-final"
  },
  "orig_nbformat": 2,
  "kernelspec": {
   "name": "Python 3.7.6 64-bit ('data': conda)",
   "display_name": "Python 3.7.6 64-bit ('data': conda)",
   "metadata": {
    "interpreter": {
     "hash": "2bdec0d84ddbe38cdac198f8d53576ff6ec339cc8de48e4d04d251f27d4a5633"
    }
   }
  }
 },
 "nbformat": 4,
 "nbformat_minor": 2,
 "cells": [
  {
   "cell_type": "code",
   "execution_count": 21,
   "metadata": {},
   "outputs": [],
   "source": [
    "import scipy.stats as stats\n",
    "import numpy as np\n",
    "import matplotlib.pyplot as plt\n",
    "import plotly.express as px\n",
    "import plotly.graph_objects as go\n",
    "from scipy.spatial.distance import pdist, squareform"
   ]
  },
  {
   "cell_type": "code",
   "execution_count": 22,
   "metadata": {},
   "outputs": [],
   "source": [
    "np.random.seed(42)\n",
    "p = 0.3\n",
    "n_estimation = 100\n",
    "n_cluster = 100\n",
    "cluster_centers = np.random.rand(n_cluster,2)\n",
    "binom_sample = stats.binom.rvs(n_estimation, p, size=(n_cluster))"
   ]
  },
  {
   "cell_type": "code",
   "execution_count": 23,
   "metadata": {},
   "outputs": [
    {
     "output_type": "display_data",
     "data": {
      "application/vnd.plotly.v1+json": {
       "config": {
        "plotlyServerURL": "https://plot.ly"
       },
       "data": [
        {
         "hovertemplate": "x=%{x}<br>y=%{y}<br>color=%{marker.color}<extra></extra>",
         "legendgroup": "",
         "marker": {
          "color": [
           32,
           24,
           25,
           36,
           31,
           20,
           24,
           32,
           19,
           25,
           30,
           32,
           32,
           26,
           33,
           27,
           28,
           33,
           32,
           35,
           32,
           31,
           24,
           28,
           27,
           27,
           39,
           29,
           36,
           31,
           34,
           30,
           31,
           30,
           26,
           33,
           27,
           21,
           32,
           26,
           37,
           38,
           36,
           28,
           20,
           37,
           29,
           39,
           38,
           35,
           27,
           29,
           35,
           28,
           26,
           31,
           37,
           32,
           31,
           24,
           31,
           41,
           25,
           30,
           35,
           33,
           32,
           32,
           28,
           27,
           34,
           34,
           35,
           36,
           30,
           30,
           34,
           32,
           32,
           34,
           36,
           28,
           28,
           24,
           31,
           22,
           30,
           30,
           27,
           31,
           22,
           22,
           34,
           28,
           25,
           30,
           33,
           26,
           31,
           24
          ],
          "coloraxis": "coloraxis",
          "symbol": "circle"
         },
         "mode": "markers",
         "name": "",
         "showlegend": false,
         "type": "scatter",
         "x": [
          0.3745401188473625,
          0.7319939418114051,
          0.15601864044243652,
          0.05808361216819946,
          0.6011150117432088,
          0.020584494295802447,
          0.8324426408004217,
          0.18182496720710062,
          0.3042422429595377,
          0.43194501864211576,
          0.6118528947223795,
          0.29214464853521815,
          0.45606998421703593,
          0.19967378215835974,
          0.5924145688620425,
          0.6075448519014384,
          0.06505159298527952,
          0.9656320330745594,
          0.3046137691733707,
          0.6842330265121569,
          0.12203823484477883,
          0.034388521115218396,
          0.2587799816000169,
          0.31171107608941095,
          0.5467102793432796,
          0.9695846277645586,
          0.9394989415641891,
          0.5978999788110851,
          0.0884925020519195,
          0.045227288910538066,
          0.388677289689482,
          0.8287375091519293,
          0.28093450968738076,
          0.14092422497476265,
          0.07455064367977082,
          0.7722447692966574,
          0.005522117123602399,
          0.7068573438476171,
          0.7712703466859457,
          0.3584657285442726,
          0.8631034258755935,
          0.3308980248526492,
          0.3109823217156622,
          0.7296061783380641,
          0.8872127425763265,
          0.1195942459383017,
          0.7607850486168974,
          0.770967179954561,
          0.5227328293819941,
          0.02541912674409519,
          0.03142918568673425,
          0.3143559810763267,
          0.907566473926093,
          0.41038292303562973,
          0.22879816549162246,
          0.289751452913768,
          0.9296976523425731,
          0.6334037565104235,
          0.8036720768991145,
          0.8925589984899778,
          0.8074401551640625,
          0.3180034749718639,
          0.22793516254194168,
          0.8180147659224931,
          0.006952130531190703,
          0.417411003148779,
          0.1198653673336828,
          0.9429097039125192,
          0.5187906217433661,
          0.363629602379294,
          0.9624472949421112,
          0.49724850589238545,
          0.2848404943774676,
          0.6095643339798968,
          0.05147875124998935,
          0.9082658859666537,
          0.1448948720912231,
          0.9856504541106007,
          0.6721355474058786,
          0.23763754399239967,
          0.3677831327192532,
          0.6335297107608947,
          0.0902897700544083,
          0.32078006497173583,
          0.040775141554763916,
          0.6775643618422824,
          0.512093058299281,
          0.6451727904094499,
          0.690937738102466,
          0.9367299887367345,
          0.3410663510502585,
          0.9246936182785628,
          0.2579416277151556,
          0.8172222002012158,
          0.5296505783560065,
          0.09310276780589921,
          0.9004180571633305,
          0.3390297910487007,
          0.7259556788702394,
          0.8870864242651173
         ],
         "xaxis": "x",
         "y": [
          0.9507143064099162,
          0.5986584841970366,
          0.15599452033620265,
          0.8661761457749352,
          0.7080725777960455,
          0.9699098521619943,
          0.21233911067827616,
          0.18340450985343382,
          0.5247564316322378,
          0.2912291401980419,
          0.13949386065204183,
          0.3663618432936917,
          0.7851759613930136,
          0.5142344384136116,
          0.046450412719997725,
          0.17052412368729153,
          0.9488855372533332,
          0.8083973481164611,
          0.09767211400638387,
          0.4401524937396013,
          0.4951769101112702,
          0.9093204020787821,
          0.662522284353982,
          0.5200680211778108,
          0.18485445552552704,
          0.7751328233611146,
          0.8948273504276488,
          0.9218742350231168,
          0.1959828624191452,
          0.32533033076326434,
          0.2713490317738959,
          0.3567533266935893,
          0.5426960831582485,
          0.8021969807540397,
          0.9868869366005173,
          0.1987156815341724,
          0.8154614284548342,
          0.7290071680409873,
          0.07404465173409036,
          0.11586905952512971,
          0.6232981268275579,
          0.06355835028602363,
          0.32518332202674705,
          0.6375574713552131,
          0.4722149251619493,
          0.713244787222995,
          0.5612771975694962,
          0.49379559636439074,
          0.42754101835854963,
          0.10789142699330445,
          0.6364104112637804,
          0.5085706911647028,
          0.24929222914887494,
          0.7555511385430487,
          0.07697990982879299,
          0.16122128725400442,
          0.808120379564417,
          0.8714605901877177,
          0.18657005888603584,
          0.5393422419156507,
          0.8960912999234932,
          0.11005192452767676,
          0.4271077886262563,
          0.8607305832563434,
          0.5107473025775657,
          0.22210781047073025,
          0.33761517140362796,
          0.32320293202075523,
          0.7030189588951778,
          0.9717820827209607,
          0.25178229582536416,
          0.30087830981676966,
          0.036886947354532795,
          0.5026790232288615,
          0.27864646423661144,
          0.23956189066697242,
          0.489452760277563,
          0.2420552715115004,
          0.7616196153287176,
          0.7282163486118596,
          0.6323058305935795,
          0.5357746840747585,
          0.835302495589238,
          0.18651851039985423,
          0.5908929431882418,
          0.016587828927856152,
          0.22649577519793795,
          0.17436642900499144,
          0.3867353463005374,
          0.13752094414599325,
          0.11347352124058907,
          0.877339353380981,
          0.659984046034179,
          0.5552008115994623,
          0.24185229090045168,
          0.8972157579533268,
          0.6331014572732679,
          0.3492095746126609,
          0.8971102599525771,
          0.7798755458576239
         ],
         "yaxis": "y"
        }
       ],
       "layout": {
        "coloraxis": {
         "colorbar": {
          "title": {
           "text": "color"
          }
         },
         "colorscale": [
          [
           0,
           "#0d0887"
          ],
          [
           0.1111111111111111,
           "#46039f"
          ],
          [
           0.2222222222222222,
           "#7201a8"
          ],
          [
           0.3333333333333333,
           "#9c179e"
          ],
          [
           0.4444444444444444,
           "#bd3786"
          ],
          [
           0.5555555555555556,
           "#d8576b"
          ],
          [
           0.6666666666666666,
           "#ed7953"
          ],
          [
           0.7777777777777778,
           "#fb9f3a"
          ],
          [
           0.8888888888888888,
           "#fdca26"
          ],
          [
           1,
           "#f0f921"
          ]
         ]
        },
        "legend": {
         "tracegroupgap": 0
        },
        "margin": {
         "t": 60
        },
        "template": {
         "data": {
          "bar": [
           {
            "error_x": {
             "color": "#2a3f5f"
            },
            "error_y": {
             "color": "#2a3f5f"
            },
            "marker": {
             "line": {
              "color": "#E5ECF6",
              "width": 0.5
             }
            },
            "type": "bar"
           }
          ],
          "barpolar": [
           {
            "marker": {
             "line": {
              "color": "#E5ECF6",
              "width": 0.5
             }
            },
            "type": "barpolar"
           }
          ],
          "carpet": [
           {
            "aaxis": {
             "endlinecolor": "#2a3f5f",
             "gridcolor": "white",
             "linecolor": "white",
             "minorgridcolor": "white",
             "startlinecolor": "#2a3f5f"
            },
            "baxis": {
             "endlinecolor": "#2a3f5f",
             "gridcolor": "white",
             "linecolor": "white",
             "minorgridcolor": "white",
             "startlinecolor": "#2a3f5f"
            },
            "type": "carpet"
           }
          ],
          "choropleth": [
           {
            "colorbar": {
             "outlinewidth": 0,
             "ticks": ""
            },
            "type": "choropleth"
           }
          ],
          "contour": [
           {
            "colorbar": {
             "outlinewidth": 0,
             "ticks": ""
            },
            "colorscale": [
             [
              0,
              "#0d0887"
             ],
             [
              0.1111111111111111,
              "#46039f"
             ],
             [
              0.2222222222222222,
              "#7201a8"
             ],
             [
              0.3333333333333333,
              "#9c179e"
             ],
             [
              0.4444444444444444,
              "#bd3786"
             ],
             [
              0.5555555555555556,
              "#d8576b"
             ],
             [
              0.6666666666666666,
              "#ed7953"
             ],
             [
              0.7777777777777778,
              "#fb9f3a"
             ],
             [
              0.8888888888888888,
              "#fdca26"
             ],
             [
              1,
              "#f0f921"
             ]
            ],
            "type": "contour"
           }
          ],
          "contourcarpet": [
           {
            "colorbar": {
             "outlinewidth": 0,
             "ticks": ""
            },
            "type": "contourcarpet"
           }
          ],
          "heatmap": [
           {
            "colorbar": {
             "outlinewidth": 0,
             "ticks": ""
            },
            "colorscale": [
             [
              0,
              "#0d0887"
             ],
             [
              0.1111111111111111,
              "#46039f"
             ],
             [
              0.2222222222222222,
              "#7201a8"
             ],
             [
              0.3333333333333333,
              "#9c179e"
             ],
             [
              0.4444444444444444,
              "#bd3786"
             ],
             [
              0.5555555555555556,
              "#d8576b"
             ],
             [
              0.6666666666666666,
              "#ed7953"
             ],
             [
              0.7777777777777778,
              "#fb9f3a"
             ],
             [
              0.8888888888888888,
              "#fdca26"
             ],
             [
              1,
              "#f0f921"
             ]
            ],
            "type": "heatmap"
           }
          ],
          "heatmapgl": [
           {
            "colorbar": {
             "outlinewidth": 0,
             "ticks": ""
            },
            "colorscale": [
             [
              0,
              "#0d0887"
             ],
             [
              0.1111111111111111,
              "#46039f"
             ],
             [
              0.2222222222222222,
              "#7201a8"
             ],
             [
              0.3333333333333333,
              "#9c179e"
             ],
             [
              0.4444444444444444,
              "#bd3786"
             ],
             [
              0.5555555555555556,
              "#d8576b"
             ],
             [
              0.6666666666666666,
              "#ed7953"
             ],
             [
              0.7777777777777778,
              "#fb9f3a"
             ],
             [
              0.8888888888888888,
              "#fdca26"
             ],
             [
              1,
              "#f0f921"
             ]
            ],
            "type": "heatmapgl"
           }
          ],
          "histogram": [
           {
            "marker": {
             "colorbar": {
              "outlinewidth": 0,
              "ticks": ""
             }
            },
            "type": "histogram"
           }
          ],
          "histogram2d": [
           {
            "colorbar": {
             "outlinewidth": 0,
             "ticks": ""
            },
            "colorscale": [
             [
              0,
              "#0d0887"
             ],
             [
              0.1111111111111111,
              "#46039f"
             ],
             [
              0.2222222222222222,
              "#7201a8"
             ],
             [
              0.3333333333333333,
              "#9c179e"
             ],
             [
              0.4444444444444444,
              "#bd3786"
             ],
             [
              0.5555555555555556,
              "#d8576b"
             ],
             [
              0.6666666666666666,
              "#ed7953"
             ],
             [
              0.7777777777777778,
              "#fb9f3a"
             ],
             [
              0.8888888888888888,
              "#fdca26"
             ],
             [
              1,
              "#f0f921"
             ]
            ],
            "type": "histogram2d"
           }
          ],
          "histogram2dcontour": [
           {
            "colorbar": {
             "outlinewidth": 0,
             "ticks": ""
            },
            "colorscale": [
             [
              0,
              "#0d0887"
             ],
             [
              0.1111111111111111,
              "#46039f"
             ],
             [
              0.2222222222222222,
              "#7201a8"
             ],
             [
              0.3333333333333333,
              "#9c179e"
             ],
             [
              0.4444444444444444,
              "#bd3786"
             ],
             [
              0.5555555555555556,
              "#d8576b"
             ],
             [
              0.6666666666666666,
              "#ed7953"
             ],
             [
              0.7777777777777778,
              "#fb9f3a"
             ],
             [
              0.8888888888888888,
              "#fdca26"
             ],
             [
              1,
              "#f0f921"
             ]
            ],
            "type": "histogram2dcontour"
           }
          ],
          "mesh3d": [
           {
            "colorbar": {
             "outlinewidth": 0,
             "ticks": ""
            },
            "type": "mesh3d"
           }
          ],
          "parcoords": [
           {
            "line": {
             "colorbar": {
              "outlinewidth": 0,
              "ticks": ""
             }
            },
            "type": "parcoords"
           }
          ],
          "pie": [
           {
            "automargin": true,
            "type": "pie"
           }
          ],
          "scatter": [
           {
            "marker": {
             "colorbar": {
              "outlinewidth": 0,
              "ticks": ""
             }
            },
            "type": "scatter"
           }
          ],
          "scatter3d": [
           {
            "line": {
             "colorbar": {
              "outlinewidth": 0,
              "ticks": ""
             }
            },
            "marker": {
             "colorbar": {
              "outlinewidth": 0,
              "ticks": ""
             }
            },
            "type": "scatter3d"
           }
          ],
          "scattercarpet": [
           {
            "marker": {
             "colorbar": {
              "outlinewidth": 0,
              "ticks": ""
             }
            },
            "type": "scattercarpet"
           }
          ],
          "scattergeo": [
           {
            "marker": {
             "colorbar": {
              "outlinewidth": 0,
              "ticks": ""
             }
            },
            "type": "scattergeo"
           }
          ],
          "scattergl": [
           {
            "marker": {
             "colorbar": {
              "outlinewidth": 0,
              "ticks": ""
             }
            },
            "type": "scattergl"
           }
          ],
          "scattermapbox": [
           {
            "marker": {
             "colorbar": {
              "outlinewidth": 0,
              "ticks": ""
             }
            },
            "type": "scattermapbox"
           }
          ],
          "scatterpolar": [
           {
            "marker": {
             "colorbar": {
              "outlinewidth": 0,
              "ticks": ""
             }
            },
            "type": "scatterpolar"
           }
          ],
          "scatterpolargl": [
           {
            "marker": {
             "colorbar": {
              "outlinewidth": 0,
              "ticks": ""
             }
            },
            "type": "scatterpolargl"
           }
          ],
          "scatterternary": [
           {
            "marker": {
             "colorbar": {
              "outlinewidth": 0,
              "ticks": ""
             }
            },
            "type": "scatterternary"
           }
          ],
          "surface": [
           {
            "colorbar": {
             "outlinewidth": 0,
             "ticks": ""
            },
            "colorscale": [
             [
              0,
              "#0d0887"
             ],
             [
              0.1111111111111111,
              "#46039f"
             ],
             [
              0.2222222222222222,
              "#7201a8"
             ],
             [
              0.3333333333333333,
              "#9c179e"
             ],
             [
              0.4444444444444444,
              "#bd3786"
             ],
             [
              0.5555555555555556,
              "#d8576b"
             ],
             [
              0.6666666666666666,
              "#ed7953"
             ],
             [
              0.7777777777777778,
              "#fb9f3a"
             ],
             [
              0.8888888888888888,
              "#fdca26"
             ],
             [
              1,
              "#f0f921"
             ]
            ],
            "type": "surface"
           }
          ],
          "table": [
           {
            "cells": {
             "fill": {
              "color": "#EBF0F8"
             },
             "line": {
              "color": "white"
             }
            },
            "header": {
             "fill": {
              "color": "#C8D4E3"
             },
             "line": {
              "color": "white"
             }
            },
            "type": "table"
           }
          ]
         },
         "layout": {
          "annotationdefaults": {
           "arrowcolor": "#2a3f5f",
           "arrowhead": 0,
           "arrowwidth": 1
          },
          "coloraxis": {
           "colorbar": {
            "outlinewidth": 0,
            "ticks": ""
           }
          },
          "colorscale": {
           "diverging": [
            [
             0,
             "#8e0152"
            ],
            [
             0.1,
             "#c51b7d"
            ],
            [
             0.2,
             "#de77ae"
            ],
            [
             0.3,
             "#f1b6da"
            ],
            [
             0.4,
             "#fde0ef"
            ],
            [
             0.5,
             "#f7f7f7"
            ],
            [
             0.6,
             "#e6f5d0"
            ],
            [
             0.7,
             "#b8e186"
            ],
            [
             0.8,
             "#7fbc41"
            ],
            [
             0.9,
             "#4d9221"
            ],
            [
             1,
             "#276419"
            ]
           ],
           "sequential": [
            [
             0,
             "#0d0887"
            ],
            [
             0.1111111111111111,
             "#46039f"
            ],
            [
             0.2222222222222222,
             "#7201a8"
            ],
            [
             0.3333333333333333,
             "#9c179e"
            ],
            [
             0.4444444444444444,
             "#bd3786"
            ],
            [
             0.5555555555555556,
             "#d8576b"
            ],
            [
             0.6666666666666666,
             "#ed7953"
            ],
            [
             0.7777777777777778,
             "#fb9f3a"
            ],
            [
             0.8888888888888888,
             "#fdca26"
            ],
            [
             1,
             "#f0f921"
            ]
           ],
           "sequentialminus": [
            [
             0,
             "#0d0887"
            ],
            [
             0.1111111111111111,
             "#46039f"
            ],
            [
             0.2222222222222222,
             "#7201a8"
            ],
            [
             0.3333333333333333,
             "#9c179e"
            ],
            [
             0.4444444444444444,
             "#bd3786"
            ],
            [
             0.5555555555555556,
             "#d8576b"
            ],
            [
             0.6666666666666666,
             "#ed7953"
            ],
            [
             0.7777777777777778,
             "#fb9f3a"
            ],
            [
             0.8888888888888888,
             "#fdca26"
            ],
            [
             1,
             "#f0f921"
            ]
           ]
          },
          "colorway": [
           "#636efa",
           "#EF553B",
           "#00cc96",
           "#ab63fa",
           "#FFA15A",
           "#19d3f3",
           "#FF6692",
           "#B6E880",
           "#FF97FF",
           "#FECB52"
          ],
          "font": {
           "color": "#2a3f5f"
          },
          "geo": {
           "bgcolor": "white",
           "lakecolor": "white",
           "landcolor": "#E5ECF6",
           "showlakes": true,
           "showland": true,
           "subunitcolor": "white"
          },
          "hoverlabel": {
           "align": "left"
          },
          "hovermode": "closest",
          "mapbox": {
           "style": "light"
          },
          "paper_bgcolor": "white",
          "plot_bgcolor": "#E5ECF6",
          "polar": {
           "angularaxis": {
            "gridcolor": "white",
            "linecolor": "white",
            "ticks": ""
           },
           "bgcolor": "#E5ECF6",
           "radialaxis": {
            "gridcolor": "white",
            "linecolor": "white",
            "ticks": ""
           }
          },
          "scene": {
           "xaxis": {
            "backgroundcolor": "#E5ECF6",
            "gridcolor": "white",
            "gridwidth": 2,
            "linecolor": "white",
            "showbackground": true,
            "ticks": "",
            "zerolinecolor": "white"
           },
           "yaxis": {
            "backgroundcolor": "#E5ECF6",
            "gridcolor": "white",
            "gridwidth": 2,
            "linecolor": "white",
            "showbackground": true,
            "ticks": "",
            "zerolinecolor": "white"
           },
           "zaxis": {
            "backgroundcolor": "#E5ECF6",
            "gridcolor": "white",
            "gridwidth": 2,
            "linecolor": "white",
            "showbackground": true,
            "ticks": "",
            "zerolinecolor": "white"
           }
          },
          "shapedefaults": {
           "line": {
            "color": "#2a3f5f"
           }
          },
          "ternary": {
           "aaxis": {
            "gridcolor": "white",
            "linecolor": "white",
            "ticks": ""
           },
           "baxis": {
            "gridcolor": "white",
            "linecolor": "white",
            "ticks": ""
           },
           "bgcolor": "#E5ECF6",
           "caxis": {
            "gridcolor": "white",
            "linecolor": "white",
            "ticks": ""
           }
          },
          "title": {
           "x": 0.05
          },
          "xaxis": {
           "automargin": true,
           "gridcolor": "white",
           "linecolor": "white",
           "ticks": "",
           "title": {
            "standoff": 15
           },
           "zerolinecolor": "white",
           "zerolinewidth": 2
          },
          "yaxis": {
           "automargin": true,
           "gridcolor": "white",
           "linecolor": "white",
           "ticks": "",
           "title": {
            "standoff": 15
           },
           "zerolinecolor": "white",
           "zerolinewidth": 2
          }
         }
        },
        "xaxis": {
         "anchor": "y",
         "domain": [
          0,
          1
         ],
         "title": {
          "text": "x"
         }
        },
        "yaxis": {
         "anchor": "x",
         "domain": [
          0,
          1
         ],
         "title": {
          "text": "y"
         }
        }
       }
      }
     },
     "metadata": {}
    }
   ],
   "source": [
    "px.scatter(x=cluster_centers[:,0], y=cluster_centers[:,1], color=binom_sample)"
   ]
  },
  {
   "cell_type": "code",
   "execution_count": 24,
   "metadata": {},
   "outputs": [
    {
     "output_type": "execute_result",
     "data": {
      "text/plain": [
       "<matplotlib.collections.PathCollection at 0x1fd40f2d148>"
      ]
     },
     "metadata": {},
     "execution_count": 24
    },
    {
     "output_type": "display_data",
     "data": {
      "text/plain": "<Figure size 432x288 with 1 Axes>",
      "image/svg+xml": "<?xml version=\"1.0\" encoding=\"utf-8\" standalone=\"no\"?>\r\n<!DOCTYPE svg PUBLIC \"-//W3C//DTD SVG 1.1//EN\"\r\n  \"http://www.w3.org/Graphics/SVG/1.1/DTD/svg11.dtd\">\r\n<!-- Created with matplotlib (https://matplotlib.org/) -->\r\n<svg height=\"248.518125pt\" version=\"1.1\" viewBox=\"0 0 372.103125 248.518125\" width=\"372.103125pt\" xmlns=\"http://www.w3.org/2000/svg\" xmlns:xlink=\"http://www.w3.org/1999/xlink\">\r\n <defs>\r\n  <style type=\"text/css\">\r\n*{stroke-linecap:butt;stroke-linejoin:round;}\r\n  </style>\r\n </defs>\r\n <g id=\"figure_1\">\r\n  <g id=\"patch_1\">\r\n   <path d=\"M 0 248.518125 \r\nL 372.103125 248.518125 \r\nL 372.103125 0 \r\nL 0 0 \r\nz\r\n\" style=\"fill:none;\"/>\r\n  </g>\r\n  <g id=\"axes_1\">\r\n   <g id=\"patch_2\">\r\n    <path d=\"M 30.103125 224.64 \r\nL 364.903125 224.64 \r\nL 364.903125 7.2 \r\nL 30.103125 7.2 \r\nz\r\n\" style=\"fill:#ffffff;\"/>\r\n   </g>\r\n   <g id=\"PathCollection_1\">\r\n    <defs>\r\n     <path d=\"M 0 3 \r\nC 0.795609 3 1.55874 2.683901 2.12132 2.12132 \r\nC 2.683901 1.55874 3 0.795609 3 0 \r\nC 3 -0.795609 2.683901 -1.55874 2.12132 -2.12132 \r\nC 1.55874 -2.683901 0.795609 -3 0 -3 \r\nC -0.795609 -3 -1.55874 -2.683901 -2.12132 -2.12132 \r\nC -2.683901 -1.55874 -3 -0.795609 -3 0 \r\nC -3 0.795609 -2.683901 1.55874 -2.12132 2.12132 \r\nC -1.55874 2.683901 -0.795609 3 0 3 \r\nz\r\n\" id=\"C0_0_81205ebac3\"/>\r\n    </defs>\r\n    <g clip-path=\"url(#p3a123903e3)\">\r\n     <use style=\"fill:#21a685;stroke:#21a685;\" x=\"160.589072\" xlink:href=\"#C0_0_81205ebac3\" y=\"26.982108\"/>\r\n    </g>\r\n    <g clip-path=\"url(#p3a123903e3)\">\r\n     <use style=\"fill:#3e4c8a;stroke:#3e4c8a;\" x=\"269.59764\" xlink:href=\"#C0_0_81205ebac3\" y=\"96.720888\"/>\r\n    </g>\r\n    <g clip-path=\"url(#p3a123903e3)\">\r\n     <use style=\"fill:#38588c;stroke:#38588c;\" x=\"93.949098\" xlink:href=\"#C0_0_81205ebac3\" y=\"184.408244\"/>\r\n    </g>\r\n    <g clip-path=\"url(#p3a123903e3)\">\r\n     <use style=\"fill:#69cd5b;stroke:#69cd5b;\" x=\"64.082982\" xlink:href=\"#C0_0_81205ebac3\" y=\"43.728283\"/>\r\n    </g>\r\n    <g clip-path=\"url(#p3a123903e3)\">\r\n     <use style=\"fill:#1e9b8a;stroke:#1e9b8a;\" x=\"229.685003\" xlink:href=\"#C0_0_81205ebac3\" y=\"75.047037\"/>\r\n    </g>\r\n    <g clip-path=\"url(#p3a123903e3)\">\r\n     <use style=\"fill:#471164;stroke:#471164;\" x=\"52.647309\" xlink:href=\"#C0_0_81205ebac3\" y=\"23.17966\"/>\r\n    </g>\r\n    <g clip-path=\"url(#p3a123903e3)\">\r\n     <use style=\"fill:#3e4c8a;stroke:#3e4c8a;\" x=\"300.230321\" xlink:href=\"#C0_0_81205ebac3\" y=\"173.246938\"/>\r\n    </g>\r\n    <g clip-path=\"url(#p3a123903e3)\">\r\n     <use style=\"fill:#21a685;stroke:#21a685;\" x=\"101.818956\" xlink:href=\"#C0_0_81205ebac3\" y=\"178.978596\"/>\r\n    </g>\r\n    <g clip-path=\"url(#p3a123903e3)\">\r\n     <use style=\"fill:#440154;stroke:#440154;\" x=\"139.15114\" xlink:href=\"#C0_0_81205ebac3\" y=\"111.360154\"/>\r\n    </g>\r\n    <g clip-path=\"url(#p3a123903e3)\">\r\n     <use style=\"fill:#38588c;stroke:#38588c;\" x=\"178.095182\" xlink:href=\"#C0_0_81205ebac3\" y=\"157.619603\"/>\r\n    </g>\r\n    <g clip-path=\"url(#p3a123903e3)\">\r\n     <use style=\"fill:#21918c;stroke:#21918c;\" x=\"232.959611\" xlink:href=\"#C0_0_81205ebac3\" y=\"187.676862\"/>\r\n    </g>\r\n    <g clip-path=\"url(#p3a123903e3)\">\r\n     <use style=\"fill:#21a685;stroke:#21a685;\" x=\"135.461876\" xlink:href=\"#C0_0_81205ebac3\" y=\"142.736557\"/>\r\n    </g>\r\n    <g clip-path=\"url(#p3a123903e3)\">\r\n     <use style=\"fill:#21a685;stroke:#21a685;\" x=\"185.452294\" xlink:href=\"#C0_0_81205ebac3\" y=\"59.773619\"/>\r\n    </g>\r\n    <g clip-path=\"url(#p3a123903e3)\">\r\n     <use style=\"fill:#32648e;stroke:#32648e;\" x=\"107.262103\" xlink:href=\"#C0_0_81205ebac3\" y=\"113.444457\"/>\r\n    </g>\r\n    <g clip-path=\"url(#p3a123903e3)\">\r\n     <use style=\"fill:#2ab07f;stroke:#2ab07f;\" x=\"227.031729\" xlink:href=\"#C0_0_81205ebac3\" y=\"206.107849\"/>\r\n    </g>\r\n    <g clip-path=\"url(#p3a123903e3)\">\r\n     <use style=\"fill:#2d708e;stroke:#2d708e;\" x=\"231.645837\" xlink:href=\"#C0_0_81205ebac3\" y=\"181.530073\"/>\r\n    </g>\r\n    <g clip-path=\"url(#p3a123903e3)\">\r\n     <use style=\"fill:#297a8e;stroke:#297a8e;\" x=\"66.207927\" xlink:href=\"#C0_0_81205ebac3\" y=\"27.344369\"/>\r\n    </g>\r\n    <g clip-path=\"url(#p3a123903e3)\">\r\n     <use style=\"fill:#2ab07f;stroke:#2ab07f;\" x=\"340.847554\" xlink:href=\"#C0_0_81205ebac3\" y=\"55.173691\"/>\r\n    </g>\r\n    <g clip-path=\"url(#p3a123903e3)\">\r\n     <use style=\"fill:#21a685;stroke:#21a685;\" x=\"139.26444\" xlink:href=\"#C0_0_81205ebac3\" y=\"195.961337\"/>\r\n    </g>\r\n    <g clip-path=\"url(#p3a123903e3)\">\r\n     <use style=\"fill:#52c569;stroke:#52c569;\" x=\"255.032545\" xlink:href=\"#C0_0_81205ebac3\" y=\"128.119358\"/>\r\n    </g>\r\n    <g clip-path=\"url(#p3a123903e3)\">\r\n     <use style=\"fill:#21a685;stroke:#21a685;\" x=\"83.586486\" xlink:href=\"#C0_0_81205ebac3\" y=\"117.219565\"/>\r\n    </g>\r\n    <g clip-path=\"url(#p3a123903e3)\">\r\n     <use style=\"fill:#1e9b8a;stroke:#1e9b8a;\" x=\"56.856964\" xlink:href=\"#C0_0_81205ebac3\" y=\"35.181832\"/>\r\n    </g>\r\n    <g clip-path=\"url(#p3a123903e3)\">\r\n     <use style=\"fill:#3e4c8a;stroke:#3e4c8a;\" x=\"125.287039\" xlink:href=\"#C0_0_81205ebac3\" y=\"84.0701\"/>\r\n    </g>\r\n    <g clip-path=\"url(#p3a123903e3)\">\r\n     <use style=\"fill:#297a8e;stroke:#297a8e;\" x=\"141.428824\" xlink:href=\"#C0_0_81205ebac3\" y=\"112.288882\"/>\r\n    </g>\r\n    <g clip-path=\"url(#p3a123903e3)\">\r\n     <use style=\"fill:#2d708e;stroke:#2d708e;\" x=\"213.09382\" xlink:href=\"#C0_0_81205ebac3\" y=\"178.691376\"/>\r\n    </g>\r\n    <g clip-path=\"url(#p3a123903e3)\">\r\n     <use style=\"fill:#2d708e;stroke:#2d708e;\" x=\"342.052931\" xlink:href=\"#C0_0_81205ebac3\" y=\"61.763065\"/>\r\n    </g>\r\n    <g clip-path=\"url(#p3a123903e3)\">\r\n     <use style=\"fill:#c2df23;stroke:#c2df23;\" x=\"332.878046\" xlink:href=\"#C0_0_81205ebac3\" y=\"38.052762\"/>\r\n    </g>\r\n    <g clip-path=\"url(#p3a123903e3)\">\r\n     <use style=\"fill:#25858e;stroke:#25858e;\" x=\"228.704552\" xlink:href=\"#C0_0_81205ebac3\" y=\"32.695041\"/>\r\n    </g>\r\n    <g clip-path=\"url(#p3a123903e3)\">\r\n     <use style=\"fill:#69cd5b;stroke:#69cd5b;\" x=\"73.356431\" xlink:href=\"#C0_0_81205ebac3\" y=\"176.486949\"/>\r\n    </g>\r\n    <g clip-path=\"url(#p3a123903e3)\">\r\n     <use style=\"fill:#1e9b8a;stroke:#1e9b8a;\" x=\"60.162338\" xlink:href=\"#C0_0_81205ebac3\" y=\"150.864494\"/>\r\n    </g>\r\n    <g clip-path=\"url(#p3a123903e3)\">\r\n     <use style=\"fill:#3bbb75;stroke:#3bbb75;\" x=\"164.900322\" xlink:href=\"#C0_0_81205ebac3\" y=\"161.557656\"/>\r\n    </g>\r\n    <g clip-path=\"url(#p3a123903e3)\">\r\n     <use style=\"fill:#21918c;stroke:#21918c;\" x=\"299.10041\" xlink:href=\"#C0_0_81205ebac3\" y=\"144.639909\"/>\r\n    </g>\r\n    <g clip-path=\"url(#p3a123903e3)\">\r\n     <use style=\"fill:#1e9b8a;stroke:#1e9b8a;\" x=\"132.043249\" xlink:href=\"#C0_0_81205ebac3\" y=\"107.806486\"/>\r\n    </g>\r\n    <g clip-path=\"url(#p3a123903e3)\">\r\n     <use style=\"fill:#21918c;stroke:#21918c;\" x=\"89.345928\" xlink:href=\"#C0_0_81205ebac3\" y=\"56.401923\"/>\r\n    </g>\r\n    <g clip-path=\"url(#p3a123903e3)\">\r\n     <use style=\"fill:#32648e;stroke:#32648e;\" x=\"69.104743\" xlink:href=\"#C0_0_81205ebac3\" y=\"19.816668\"/>\r\n    </g>\r\n    <g clip-path=\"url(#p3a123903e3)\">\r\n     <use style=\"fill:#2ab07f;stroke:#2ab07f;\" x=\"281.872471\" xlink:href=\"#C0_0_81205ebac3\" y=\"175.945604\"/>\r\n    </g>\r\n    <g clip-path=\"url(#p3a123903e3)\">\r\n     <use style=\"fill:#2d708e;stroke:#2d708e;\" x=\"48.05391\" xlink:href=\"#C0_0_81205ebac3\" y=\"53.774367\"/>\r\n    </g>\r\n    <g clip-path=\"url(#p3a123903e3)\">\r\n     <use style=\"fill:#482173;stroke:#482173;\" x=\"261.932022\" xlink:href=\"#C0_0_81205ebac3\" y=\"70.900101\"/>\r\n    </g>\r\n    <g clip-path=\"url(#p3a123903e3)\">\r\n     <use style=\"fill:#21a685;stroke:#21a685;\" x=\"281.575312\" xlink:href=\"#C0_0_81205ebac3\" y=\"200.641703\"/>\r\n    </g>\r\n    <g clip-path=\"url(#p3a123903e3)\">\r\n     <use style=\"fill:#32648e;stroke:#32648e;\" x=\"155.687051\" xlink:href=\"#C0_0_81205ebac3\" y=\"192.356702\"/>\r\n    </g>\r\n    <g clip-path=\"url(#p3a123903e3)\">\r\n     <use style=\"fill:#86d549;stroke:#86d549;\" x=\"309.580587\" xlink:href=\"#C0_0_81205ebac3\" y=\"91.840018\"/>\r\n    </g>\r\n    <g clip-path=\"url(#p3a123903e3)\">\r\n     <use style=\"fill:#a5db36;stroke:#a5db36;\" x=\"147.280046\" xlink:href=\"#C0_0_81205ebac3\" y=\"202.718936\"/>\r\n    </g>\r\n    <g clip-path=\"url(#p3a123903e3)\">\r\n     <use style=\"fill:#69cd5b;stroke:#69cd5b;\" x=\"141.206584\" xlink:href=\"#C0_0_81205ebac3\" y=\"150.893615\"/>\r\n    </g>\r\n    <g clip-path=\"url(#p3a123903e3)\">\r\n     <use style=\"fill:#297a8e;stroke:#297a8e;\" x=\"268.869472\" xlink:href=\"#C0_0_81205ebac3\" y=\"89.015383\"/>\r\n    </g>\r\n    <g clip-path=\"url(#p3a123903e3)\">\r\n     <use style=\"fill:#471164;stroke:#471164;\" x=\"316.932927\" xlink:href=\"#C0_0_81205ebac3\" y=\"121.768107\"/>\r\n    </g>\r\n    <g clip-path=\"url(#p3a123903e3)\">\r\n     <use style=\"fill:#86d549;stroke:#86d549;\" x=\"82.841171\" xlink:href=\"#C0_0_81205ebac3\" y=\"74.022473\"/>\r\n    </g>\r\n    <g clip-path=\"url(#p3a123903e3)\">\r\n     <use style=\"fill:#25858e;stroke:#25858e;\" x=\"278.377732\" xlink:href=\"#C0_0_81205ebac3\" y=\"104.125751\"/>\r\n    </g>\r\n    <g clip-path=\"url(#p3a123903e3)\">\r\n     <use style=\"fill:#c2df23;stroke:#c2df23;\" x=\"281.482859\" xlink:href=\"#C0_0_81205ebac3\" y=\"117.493189\"/>\r\n    </g>\r\n    <g clip-path=\"url(#p3a123903e3)\">\r\n     <use style=\"fill:#a5db36;stroke:#a5db36;\" x=\"205.781693\" xlink:href=\"#C0_0_81205ebac3\" y=\"130.617567\"/>\r\n    </g>\r\n    <g clip-path=\"url(#p3a123903e3)\">\r\n     <use style=\"fill:#52c569;stroke:#52c569;\" x=\"54.121671\" xlink:href=\"#C0_0_81205ebac3\" y=\"193.936992\"/>\r\n    </g>\r\n    <g clip-path=\"url(#p3a123903e3)\">\r\n     <use style=\"fill:#2d708e;stroke:#2d708e;\" x=\"55.954489\" xlink:href=\"#C0_0_81205ebac3\" y=\"89.242604\"/>\r\n    </g>\r\n    <g clip-path=\"url(#p3a123903e3)\">\r\n     <use style=\"fill:#25858e;stroke:#25858e;\" x=\"142.23541\" xlink:href=\"#C0_0_81205ebac3\" y=\"114.566389\"/>\r\n    </g>\r\n    <g clip-path=\"url(#p3a123903e3)\">\r\n     <use style=\"fill:#52c569;stroke:#52c569;\" x=\"323.13997\" xlink:href=\"#C0_0_81205ebac3\" y=\"165.92689\"/>\r\n    </g>\r\n    <g clip-path=\"url(#p3a123903e3)\">\r\n     <use style=\"fill:#297a8e;stroke:#297a8e;\" x=\"171.519639\" xlink:href=\"#C0_0_81205ebac3\" y=\"65.642003\"/>\r\n    </g>\r\n    <g clip-path=\"url(#p3a123903e3)\">\r\n     <use style=\"fill:#32648e;stroke:#32648e;\" x=\"116.14383\" xlink:href=\"#C0_0_81205ebac3\" y=\"200.060258\"/>\r\n    </g>\r\n    <g clip-path=\"url(#p3a123903e3)\">\r\n     <use style=\"fill:#1e9b8a;stroke:#1e9b8a;\" x=\"134.732051\" xlink:href=\"#C0_0_81205ebac3\" y=\"183.372873\"/>\r\n    </g>\r\n    <g clip-path=\"url(#p3a123903e3)\">\r\n     <use style=\"fill:#86d549;stroke:#86d549;\" x=\"329.88906\" xlink:href=\"#C0_0_81205ebac3\" y=\"55.228556\"/>\r\n    </g>\r\n    <g clip-path=\"url(#p3a123903e3)\">\r\n     <use style=\"fill:#21a685;stroke:#21a685;\" x=\"239.531729\" xlink:href=\"#C0_0_81205ebac3\" y=\"42.681486\"/>\r\n    </g>\r\n    <g clip-path=\"url(#p3a123903e3)\">\r\n     <use style=\"fill:#1e9b8a;stroke:#1e9b8a;\" x=\"291.456494\" xlink:href=\"#C0_0_81205ebac3\" y=\"178.351532\"/>\r\n    </g>\r\n    <g clip-path=\"url(#p3a123903e3)\">\r\n     <use style=\"fill:#3e4c8a;stroke:#3e4c8a;\" x=\"318.563313\" xlink:href=\"#C0_0_81205ebac3\" y=\"108.470849\"/>\r\n    </g>\r\n    <g clip-path=\"url(#p3a123903e3)\">\r\n     <use style=\"fill:#1e9b8a;stroke:#1e9b8a;\" x=\"292.605602\" xlink:href=\"#C0_0_81205ebac3\" y=\"37.802386\"/>\r\n    </g>\r\n    <g clip-path=\"url(#p3a123903e3)\">\r\n     <use style=\"fill:#fde725;stroke:#fde725;\" x=\"143.347744\" xlink:href=\"#C0_0_81205ebac3\" y=\"193.509019\"/>\r\n    </g>\r\n    <g clip-path=\"url(#p3a123903e3)\">\r\n     <use style=\"fill:#38588c;stroke:#38588c;\" x=\"115.88065\" xlink:href=\"#C0_0_81205ebac3\" y=\"130.703385\"/>\r\n    </g>\r\n    <g clip-path=\"url(#p3a123903e3)\">\r\n     <use style=\"fill:#21918c;stroke:#21918c;\" x=\"295.830419\" xlink:href=\"#C0_0_81205ebac3\" y=\"44.806995\"/>\r\n    </g>\r\n    <g clip-path=\"url(#p3a123903e3)\">\r\n     <use style=\"fill:#52c569;stroke:#52c569;\" x=\"48.490004\" xlink:href=\"#C0_0_81205ebac3\" y=\"114.135224\"/>\r\n    </g>\r\n    <g clip-path=\"url(#p3a123903e3)\">\r\n     <use style=\"fill:#2ab07f;stroke:#2ab07f;\" x=\"173.662911\" xlink:href=\"#C0_0_81205ebac3\" y=\"171.311855\"/>\r\n    </g>\r\n    <g clip-path=\"url(#p3a123903e3)\">\r\n     <use style=\"fill:#21a685;stroke:#21a685;\" x=\"82.923851\" xlink:href=\"#C0_0_81205ebac3\" y=\"148.430988\"/>\r\n    </g>\r\n    <g clip-path=\"url(#p3a123903e3)\">\r\n     <use style=\"fill:#21a685;stroke:#21a685;\" x=\"333.918187\" xlink:href=\"#C0_0_81205ebac3\" y=\"151.28591\"/>\r\n    </g>\r\n    <g clip-path=\"url(#p3a123903e3)\">\r\n     <use style=\"fill:#297a8e;stroke:#297a8e;\" x=\"204.579484\" xlink:href=\"#C0_0_81205ebac3\" y=\"76.048109\"/>\r\n    </g>\r\n    <g clip-path=\"url(#p3a123903e3)\">\r\n     <use style=\"fill:#2d708e;stroke:#2d708e;\" x=\"157.261818\" xlink:href=\"#C0_0_81205ebac3\" y=\"22.80879\"/>\r\n    </g>\r\n    <g clip-path=\"url(#p3a123903e3)\">\r\n     <use style=\"fill:#3bbb75;stroke:#3bbb75;\" x=\"339.876341\" xlink:href=\"#C0_0_81205ebac3\" y=\"165.433633\"/>\r\n    </g>\r\n    <g clip-path=\"url(#p3a123903e3)\">\r\n     <use style=\"fill:#3bbb75;stroke:#3bbb75;\" x=\"198.010033\" xlink:href=\"#C0_0_81205ebac3\" y=\"155.708197\"/>\r\n    </g>\r\n    <g clip-path=\"url(#p3a123903e3)\">\r\n     <use style=\"fill:#52c569;stroke:#52c569;\" x=\"133.234412\" xlink:href=\"#C0_0_81205ebac3\" y=\"208.002277\"/>\r\n    </g>\r\n    <g clip-path=\"url(#p3a123903e3)\">\r\n     <use style=\"fill:#69cd5b;stroke:#69cd5b;\" x=\"232.261695\" xlink:href=\"#C0_0_81205ebac3\" y=\"115.73347\"/>\r\n    </g>\r\n    <g clip-path=\"url(#p3a123903e3)\">\r\n     <use style=\"fill:#21918c;stroke:#21918c;\" x=\"62.068774\" xlink:href=\"#C0_0_81205ebac3\" y=\"160.112106\"/>\r\n    </g>\r\n    <g clip-path=\"url(#p3a123903e3)\">\r\n     <use style=\"fill:#21918c;stroke:#21918c;\" x=\"323.353262\" xlink:href=\"#C0_0_81205ebac3\" y=\"167.854374\"/>\r\n    </g>\r\n    <g clip-path=\"url(#p3a123903e3)\">\r\n     <use style=\"fill:#3bbb75;stroke:#3bbb75;\" x=\"90.556811\" xlink:href=\"#C0_0_81205ebac3\" y=\"118.353462\"/>\r\n    </g>\r\n    <g clip-path=\"url(#p3a123903e3)\">\r\n     <use style=\"fill:#21a685;stroke:#21a685;\" x=\"346.95234\" xlink:href=\"#C0_0_81205ebac3\" y=\"167.36046\"/>\r\n    </g>\r\n    <g clip-path=\"url(#p3a123903e3)\">\r\n     <use style=\"fill:#21a685;stroke:#21a685;\" x=\"251.343316\" xlink:href=\"#C0_0_81205ebac3\" y=\"64.439898\"/>\r\n    </g>\r\n    <g clip-path=\"url(#p3a123903e3)\">\r\n     <use style=\"fill:#3bbb75;stroke:#3bbb75;\" x=\"118.839473\" xlink:href=\"#C0_0_81205ebac3\" y=\"71.056755\"/>\r\n    </g>\r\n    <g clip-path=\"url(#p3a123903e3)\">\r\n     <use style=\"fill:#69cd5b;stroke:#69cd5b;\" x=\"158.528472\" xlink:href=\"#C0_0_81205ebac3\" y=\"90.055681\"/>\r\n    </g>\r\n    <g clip-path=\"url(#p3a123903e3)\">\r\n     <use style=\"fill:#297a8e;stroke:#297a8e;\" x=\"239.57014\" xlink:href=\"#C0_0_81205ebac3\" y=\"109.177547\"/>\r\n    </g>\r\n    <g clip-path=\"url(#p3a123903e3)\">\r\n     <use style=\"fill:#297a8e;stroke:#297a8e;\" x=\"73.904523\" xlink:href=\"#C0_0_81205ebac3\" y=\"49.844048\"/>\r\n    </g>\r\n    <g clip-path=\"url(#p3a123903e3)\">\r\n     <use style=\"fill:#3e4c8a;stroke:#3e4c8a;\" x=\"144.194489\" xlink:href=\"#C0_0_81205ebac3\" y=\"178.361744\"/>\r\n    </g>\r\n    <g clip-path=\"url(#p3a123903e3)\">\r\n     <use style=\"fill:#1e9b8a;stroke:#1e9b8a;\" x=\"58.804618\" xlink:href=\"#C0_0_81205ebac3\" y=\"98.259165\"/>\r\n    </g>\r\n    <g clip-path=\"url(#p3a123903e3)\">\r\n     <use style=\"fill:#472f7d;stroke:#472f7d;\" x=\"252.998879\" xlink:href=\"#C0_0_81205ebac3\" y=\"212.023332\"/>\r\n    </g>\r\n    <g clip-path=\"url(#p3a123903e3)\">\r\n     <use style=\"fill:#21918c;stroke:#21918c;\" x=\"202.537005\" xlink:href=\"#C0_0_81205ebac3\" y=\"170.442642\"/>\r\n    </g>\r\n    <g clip-path=\"url(#p3a123903e3)\">\r\n     <use style=\"fill:#21918c;stroke:#21918c;\" x=\"243.120796\" xlink:href=\"#C0_0_81205ebac3\" y=\"180.768951\"/>\r\n    </g>\r\n    <g clip-path=\"url(#p3a123903e3)\">\r\n     <use style=\"fill:#2d708e;stroke:#2d708e;\" x=\"257.077204\" xlink:href=\"#C0_0_81205ebac3\" y=\"138.700767\"/>\r\n    </g>\r\n    <g clip-path=\"url(#p3a123903e3)\">\r\n     <use style=\"fill:#1e9b8a;stroke:#1e9b8a;\" x=\"332.033631\" xlink:href=\"#C0_0_81205ebac3\" y=\"188.067677\"/>\r\n    </g>\r\n    <g clip-path=\"url(#p3a123903e3)\">\r\n     <use style=\"fill:#472f7d;stroke:#472f7d;\" x=\"150.380963\" xlink:href=\"#C0_0_81205ebac3\" y=\"192.831234\"/>\r\n    </g>\r\n    <g clip-path=\"url(#p3a123903e3)\">\r\n     <use style=\"fill:#472f7d;stroke:#472f7d;\" x=\"328.363038\" xlink:href=\"#C0_0_81205ebac3\" y=\"41.516961\"/>\r\n    </g>\r\n    <g clip-path=\"url(#p3a123903e3)\">\r\n     <use style=\"fill:#3bbb75;stroke:#3bbb75;\" x=\"125.031375\" xlink:href=\"#C0_0_81205ebac3\" y=\"84.5729\"/>\r\n    </g>\r\n    <g clip-path=\"url(#p3a123903e3)\">\r\n     <use style=\"fill:#297a8e;stroke:#297a8e;\" x=\"295.588719\" xlink:href=\"#C0_0_81205ebac3\" y=\"105.329423\"/>\r\n    </g>\r\n    <g clip-path=\"url(#p3a123903e3)\">\r\n     <use style=\"fill:#38588c;stroke:#38588c;\" x=\"207.891319\" xlink:href=\"#C0_0_81205ebac3\" y=\"167.400668\"/>\r\n    </g>\r\n    <g clip-path=\"url(#p3a123903e3)\">\r\n     <use style=\"fill:#21918c;stroke:#21918c;\" x=\"74.76237\" xlink:href=\"#C0_0_81205ebac3\" y=\"37.579642\"/>\r\n    </g>\r\n    <g clip-path=\"url(#p3a123903e3)\">\r\n     <use style=\"fill:#2ab07f;stroke:#2ab07f;\" x=\"320.96\" xlink:href=\"#C0_0_81205ebac3\" y=\"89.898075\"/>\r\n    </g>\r\n    <g clip-path=\"url(#p3a123903e3)\">\r\n     <use style=\"fill:#32648e;stroke:#32648e;\" x=\"149.759897\" xlink:href=\"#C0_0_81205ebac3\" y=\"146.134251\"/>\r\n    </g>\r\n    <g clip-path=\"url(#p3a123903e3)\">\r\n     <use style=\"fill:#1e9b8a;stroke:#1e9b8a;\" x=\"267.756221\" xlink:href=\"#C0_0_81205ebac3\" y=\"37.60054\"/>\r\n    </g>\r\n    <g clip-path=\"url(#p3a123903e3)\">\r\n     <use style=\"fill:#3e4c8a;stroke:#3e4c8a;\" x=\"316.894405\" xlink:href=\"#C0_0_81205ebac3\" y=\"60.823579\"/>\r\n    </g>\r\n   </g>\r\n   <g id=\"matplotlib.axis_1\">\r\n    <g id=\"xtick_1\">\r\n     <g id=\"line2d_1\">\r\n      <defs>\r\n       <path d=\"M 0 0 \r\nL 0 3.5 \r\n\" id=\"m5b7cc5a315\" style=\"stroke:#000000;stroke-width:0.8;\"/>\r\n      </defs>\r\n      <g>\r\n       <use style=\"stroke:#000000;stroke-width:0.8;\" x=\"46.369893\" xlink:href=\"#m5b7cc5a315\" y=\"224.64\"/>\r\n      </g>\r\n     </g>\r\n     <g id=\"text_1\">\r\n      <!-- 0.0 -->\r\n      <defs>\r\n       <path d=\"M 31.78125 66.40625 \r\nQ 24.171875 66.40625 20.328125 58.90625 \r\nQ 16.5 51.421875 16.5 36.375 \r\nQ 16.5 21.390625 20.328125 13.890625 \r\nQ 24.171875 6.390625 31.78125 6.390625 \r\nQ 39.453125 6.390625 43.28125 13.890625 \r\nQ 47.125 21.390625 47.125 36.375 \r\nQ 47.125 51.421875 43.28125 58.90625 \r\nQ 39.453125 66.40625 31.78125 66.40625 \r\nz\r\nM 31.78125 74.21875 \r\nQ 44.046875 74.21875 50.515625 64.515625 \r\nQ 56.984375 54.828125 56.984375 36.375 \r\nQ 56.984375 17.96875 50.515625 8.265625 \r\nQ 44.046875 -1.421875 31.78125 -1.421875 \r\nQ 19.53125 -1.421875 13.0625 8.265625 \r\nQ 6.59375 17.96875 6.59375 36.375 \r\nQ 6.59375 54.828125 13.0625 64.515625 \r\nQ 19.53125 74.21875 31.78125 74.21875 \r\nz\r\n\" id=\"DejaVuSans-48\"/>\r\n       <path d=\"M 10.6875 12.40625 \r\nL 21 12.40625 \r\nL 21 0 \r\nL 10.6875 0 \r\nz\r\n\" id=\"DejaVuSans-46\"/>\r\n      </defs>\r\n      <g transform=\"translate(38.418331 239.238437)scale(0.1 -0.1)\">\r\n       <use xlink:href=\"#DejaVuSans-48\"/>\r\n       <use x=\"63.623047\" xlink:href=\"#DejaVuSans-46\"/>\r\n       <use x=\"95.410156\" xlink:href=\"#DejaVuSans-48\"/>\r\n      </g>\r\n     </g>\r\n    </g>\r\n    <g id=\"xtick_2\">\r\n     <g id=\"line2d_2\">\r\n      <g>\r\n       <use style=\"stroke:#000000;stroke-width:0.8;\" x=\"107.361586\" xlink:href=\"#m5b7cc5a315\" y=\"224.64\"/>\r\n      </g>\r\n     </g>\r\n     <g id=\"text_2\">\r\n      <!-- 0.2 -->\r\n      <defs>\r\n       <path d=\"M 19.1875 8.296875 \r\nL 53.609375 8.296875 \r\nL 53.609375 0 \r\nL 7.328125 0 \r\nL 7.328125 8.296875 \r\nQ 12.9375 14.109375 22.625 23.890625 \r\nQ 32.328125 33.6875 34.8125 36.53125 \r\nQ 39.546875 41.84375 41.421875 45.53125 \r\nQ 43.3125 49.21875 43.3125 52.78125 \r\nQ 43.3125 58.59375 39.234375 62.25 \r\nQ 35.15625 65.921875 28.609375 65.921875 \r\nQ 23.96875 65.921875 18.8125 64.3125 \r\nQ 13.671875 62.703125 7.8125 59.421875 \r\nL 7.8125 69.390625 \r\nQ 13.765625 71.78125 18.9375 73 \r\nQ 24.125 74.21875 28.421875 74.21875 \r\nQ 39.75 74.21875 46.484375 68.546875 \r\nQ 53.21875 62.890625 53.21875 53.421875 \r\nQ 53.21875 48.921875 51.53125 44.890625 \r\nQ 49.859375 40.875 45.40625 35.40625 \r\nQ 44.1875 33.984375 37.640625 27.21875 \r\nQ 31.109375 20.453125 19.1875 8.296875 \r\nz\r\n\" id=\"DejaVuSans-50\"/>\r\n      </defs>\r\n      <g transform=\"translate(99.410023 239.238437)scale(0.1 -0.1)\">\r\n       <use xlink:href=\"#DejaVuSans-48\"/>\r\n       <use x=\"63.623047\" xlink:href=\"#DejaVuSans-46\"/>\r\n       <use x=\"95.410156\" xlink:href=\"#DejaVuSans-50\"/>\r\n      </g>\r\n     </g>\r\n    </g>\r\n    <g id=\"xtick_3\">\r\n     <g id=\"line2d_3\">\r\n      <g>\r\n       <use style=\"stroke:#000000;stroke-width:0.8;\" x=\"168.353278\" xlink:href=\"#m5b7cc5a315\" y=\"224.64\"/>\r\n      </g>\r\n     </g>\r\n     <g id=\"text_3\">\r\n      <!-- 0.4 -->\r\n      <defs>\r\n       <path d=\"M 37.796875 64.3125 \r\nL 12.890625 25.390625 \r\nL 37.796875 25.390625 \r\nz\r\nM 35.203125 72.90625 \r\nL 47.609375 72.90625 \r\nL 47.609375 25.390625 \r\nL 58.015625 25.390625 \r\nL 58.015625 17.1875 \r\nL 47.609375 17.1875 \r\nL 47.609375 0 \r\nL 37.796875 0 \r\nL 37.796875 17.1875 \r\nL 4.890625 17.1875 \r\nL 4.890625 26.703125 \r\nz\r\n\" id=\"DejaVuSans-52\"/>\r\n      </defs>\r\n      <g transform=\"translate(160.401716 239.238437)scale(0.1 -0.1)\">\r\n       <use xlink:href=\"#DejaVuSans-48\"/>\r\n       <use x=\"63.623047\" xlink:href=\"#DejaVuSans-46\"/>\r\n       <use x=\"95.410156\" xlink:href=\"#DejaVuSans-52\"/>\r\n      </g>\r\n     </g>\r\n    </g>\r\n    <g id=\"xtick_4\">\r\n     <g id=\"line2d_4\">\r\n      <g>\r\n       <use style=\"stroke:#000000;stroke-width:0.8;\" x=\"229.344971\" xlink:href=\"#m5b7cc5a315\" y=\"224.64\"/>\r\n      </g>\r\n     </g>\r\n     <g id=\"text_4\">\r\n      <!-- 0.6 -->\r\n      <defs>\r\n       <path d=\"M 33.015625 40.375 \r\nQ 26.375 40.375 22.484375 35.828125 \r\nQ 18.609375 31.296875 18.609375 23.390625 \r\nQ 18.609375 15.53125 22.484375 10.953125 \r\nQ 26.375 6.390625 33.015625 6.390625 \r\nQ 39.65625 6.390625 43.53125 10.953125 \r\nQ 47.40625 15.53125 47.40625 23.390625 \r\nQ 47.40625 31.296875 43.53125 35.828125 \r\nQ 39.65625 40.375 33.015625 40.375 \r\nz\r\nM 52.59375 71.296875 \r\nL 52.59375 62.3125 \r\nQ 48.875 64.0625 45.09375 64.984375 \r\nQ 41.3125 65.921875 37.59375 65.921875 \r\nQ 27.828125 65.921875 22.671875 59.328125 \r\nQ 17.53125 52.734375 16.796875 39.40625 \r\nQ 19.671875 43.65625 24.015625 45.921875 \r\nQ 28.375 48.1875 33.59375 48.1875 \r\nQ 44.578125 48.1875 50.953125 41.515625 \r\nQ 57.328125 34.859375 57.328125 23.390625 \r\nQ 57.328125 12.15625 50.6875 5.359375 \r\nQ 44.046875 -1.421875 33.015625 -1.421875 \r\nQ 20.359375 -1.421875 13.671875 8.265625 \r\nQ 6.984375 17.96875 6.984375 36.375 \r\nQ 6.984375 53.65625 15.1875 63.9375 \r\nQ 23.390625 74.21875 37.203125 74.21875 \r\nQ 40.921875 74.21875 44.703125 73.484375 \r\nQ 48.484375 72.75 52.59375 71.296875 \r\nz\r\n\" id=\"DejaVuSans-54\"/>\r\n      </defs>\r\n      <g transform=\"translate(221.393408 239.238437)scale(0.1 -0.1)\">\r\n       <use xlink:href=\"#DejaVuSans-48\"/>\r\n       <use x=\"63.623047\" xlink:href=\"#DejaVuSans-46\"/>\r\n       <use x=\"95.410156\" xlink:href=\"#DejaVuSans-54\"/>\r\n      </g>\r\n     </g>\r\n    </g>\r\n    <g id=\"xtick_5\">\r\n     <g id=\"line2d_5\">\r\n      <g>\r\n       <use style=\"stroke:#000000;stroke-width:0.8;\" x=\"290.336663\" xlink:href=\"#m5b7cc5a315\" y=\"224.64\"/>\r\n      </g>\r\n     </g>\r\n     <g id=\"text_5\">\r\n      <!-- 0.8 -->\r\n      <defs>\r\n       <path d=\"M 31.78125 34.625 \r\nQ 24.75 34.625 20.71875 30.859375 \r\nQ 16.703125 27.09375 16.703125 20.515625 \r\nQ 16.703125 13.921875 20.71875 10.15625 \r\nQ 24.75 6.390625 31.78125 6.390625 \r\nQ 38.8125 6.390625 42.859375 10.171875 \r\nQ 46.921875 13.96875 46.921875 20.515625 \r\nQ 46.921875 27.09375 42.890625 30.859375 \r\nQ 38.875 34.625 31.78125 34.625 \r\nz\r\nM 21.921875 38.8125 \r\nQ 15.578125 40.375 12.03125 44.71875 \r\nQ 8.5 49.078125 8.5 55.328125 \r\nQ 8.5 64.0625 14.71875 69.140625 \r\nQ 20.953125 74.21875 31.78125 74.21875 \r\nQ 42.671875 74.21875 48.875 69.140625 \r\nQ 55.078125 64.0625 55.078125 55.328125 \r\nQ 55.078125 49.078125 51.53125 44.71875 \r\nQ 48 40.375 41.703125 38.8125 \r\nQ 48.828125 37.15625 52.796875 32.3125 \r\nQ 56.78125 27.484375 56.78125 20.515625 \r\nQ 56.78125 9.90625 50.3125 4.234375 \r\nQ 43.84375 -1.421875 31.78125 -1.421875 \r\nQ 19.734375 -1.421875 13.25 4.234375 \r\nQ 6.78125 9.90625 6.78125 20.515625 \r\nQ 6.78125 27.484375 10.78125 32.3125 \r\nQ 14.796875 37.15625 21.921875 38.8125 \r\nz\r\nM 18.3125 54.390625 \r\nQ 18.3125 48.734375 21.84375 45.5625 \r\nQ 25.390625 42.390625 31.78125 42.390625 \r\nQ 38.140625 42.390625 41.71875 45.5625 \r\nQ 45.3125 48.734375 45.3125 54.390625 \r\nQ 45.3125 60.0625 41.71875 63.234375 \r\nQ 38.140625 66.40625 31.78125 66.40625 \r\nQ 25.390625 66.40625 21.84375 63.234375 \r\nQ 18.3125 60.0625 18.3125 54.390625 \r\nz\r\n\" id=\"DejaVuSans-56\"/>\r\n      </defs>\r\n      <g transform=\"translate(282.385101 239.238437)scale(0.1 -0.1)\">\r\n       <use xlink:href=\"#DejaVuSans-48\"/>\r\n       <use x=\"63.623047\" xlink:href=\"#DejaVuSans-46\"/>\r\n       <use x=\"95.410156\" xlink:href=\"#DejaVuSans-56\"/>\r\n      </g>\r\n     </g>\r\n    </g>\r\n    <g id=\"xtick_6\">\r\n     <g id=\"line2d_6\">\r\n      <g>\r\n       <use style=\"stroke:#000000;stroke-width:0.8;\" x=\"351.328356\" xlink:href=\"#m5b7cc5a315\" y=\"224.64\"/>\r\n      </g>\r\n     </g>\r\n     <g id=\"text_6\">\r\n      <!-- 1.0 -->\r\n      <defs>\r\n       <path d=\"M 12.40625 8.296875 \r\nL 28.515625 8.296875 \r\nL 28.515625 63.921875 \r\nL 10.984375 60.40625 \r\nL 10.984375 69.390625 \r\nL 28.421875 72.90625 \r\nL 38.28125 72.90625 \r\nL 38.28125 8.296875 \r\nL 54.390625 8.296875 \r\nL 54.390625 0 \r\nL 12.40625 0 \r\nz\r\n\" id=\"DejaVuSans-49\"/>\r\n      </defs>\r\n      <g transform=\"translate(343.376793 239.238437)scale(0.1 -0.1)\">\r\n       <use xlink:href=\"#DejaVuSans-49\"/>\r\n       <use x=\"63.623047\" xlink:href=\"#DejaVuSans-46\"/>\r\n       <use x=\"95.410156\" xlink:href=\"#DejaVuSans-48\"/>\r\n      </g>\r\n     </g>\r\n    </g>\r\n   </g>\r\n   <g id=\"matplotlib.axis_2\">\r\n    <g id=\"ytick_1\">\r\n     <g id=\"line2d_7\">\r\n      <defs>\r\n       <path d=\"M 0 0 \r\nL -3.5 0 \r\n\" id=\"md32a68ac0a\" style=\"stroke:#000000;stroke-width:0.8;\"/>\r\n      </defs>\r\n      <g>\r\n       <use style=\"stroke:#000000;stroke-width:0.8;\" x=\"30.103125\" xlink:href=\"#md32a68ac0a\" y=\"215.309217\"/>\r\n      </g>\r\n     </g>\r\n     <g id=\"text_7\">\r\n      <!-- 0.0 -->\r\n      <g transform=\"translate(7.2 219.108436)scale(0.1 -0.1)\">\r\n       <use xlink:href=\"#DejaVuSans-48\"/>\r\n       <use x=\"63.623047\" xlink:href=\"#DejaVuSans-46\"/>\r\n       <use x=\"95.410156\" xlink:href=\"#DejaVuSans-48\"/>\r\n      </g>\r\n     </g>\r\n    </g>\r\n    <g id=\"ytick_2\">\r\n     <g id=\"line2d_8\">\r\n      <g>\r\n       <use style=\"stroke:#000000;stroke-width:0.8;\" x=\"30.103125\" xlink:href=\"#md32a68ac0a\" y=\"175.691194\"/>\r\n      </g>\r\n     </g>\r\n     <g id=\"text_8\">\r\n      <!-- 0.2 -->\r\n      <g transform=\"translate(7.2 179.490412)scale(0.1 -0.1)\">\r\n       <use xlink:href=\"#DejaVuSans-48\"/>\r\n       <use x=\"63.623047\" xlink:href=\"#DejaVuSans-46\"/>\r\n       <use x=\"95.410156\" xlink:href=\"#DejaVuSans-50\"/>\r\n      </g>\r\n     </g>\r\n    </g>\r\n    <g id=\"ytick_3\">\r\n     <g id=\"line2d_9\">\r\n      <g>\r\n       <use style=\"stroke:#000000;stroke-width:0.8;\" x=\"30.103125\" xlink:href=\"#md32a68ac0a\" y=\"136.07317\"/>\r\n      </g>\r\n     </g>\r\n     <g id=\"text_9\">\r\n      <!-- 0.4 -->\r\n      <g transform=\"translate(7.2 139.872389)scale(0.1 -0.1)\">\r\n       <use xlink:href=\"#DejaVuSans-48\"/>\r\n       <use x=\"63.623047\" xlink:href=\"#DejaVuSans-46\"/>\r\n       <use x=\"95.410156\" xlink:href=\"#DejaVuSans-52\"/>\r\n      </g>\r\n     </g>\r\n    </g>\r\n    <g id=\"ytick_4\">\r\n     <g id=\"line2d_10\">\r\n      <g>\r\n       <use style=\"stroke:#000000;stroke-width:0.8;\" x=\"30.103125\" xlink:href=\"#md32a68ac0a\" y=\"96.455147\"/>\r\n      </g>\r\n     </g>\r\n     <g id=\"text_10\">\r\n      <!-- 0.6 -->\r\n      <g transform=\"translate(7.2 100.254365)scale(0.1 -0.1)\">\r\n       <use xlink:href=\"#DejaVuSans-48\"/>\r\n       <use x=\"63.623047\" xlink:href=\"#DejaVuSans-46\"/>\r\n       <use x=\"95.410156\" xlink:href=\"#DejaVuSans-54\"/>\r\n      </g>\r\n     </g>\r\n    </g>\r\n    <g id=\"ytick_5\">\r\n     <g id=\"line2d_11\">\r\n      <g>\r\n       <use style=\"stroke:#000000;stroke-width:0.8;\" x=\"30.103125\" xlink:href=\"#md32a68ac0a\" y=\"56.837123\"/>\r\n      </g>\r\n     </g>\r\n     <g id=\"text_11\">\r\n      <!-- 0.8 -->\r\n      <g transform=\"translate(7.2 60.636342)scale(0.1 -0.1)\">\r\n       <use xlink:href=\"#DejaVuSans-48\"/>\r\n       <use x=\"63.623047\" xlink:href=\"#DejaVuSans-46\"/>\r\n       <use x=\"95.410156\" xlink:href=\"#DejaVuSans-56\"/>\r\n      </g>\r\n     </g>\r\n    </g>\r\n    <g id=\"ytick_6\">\r\n     <g id=\"line2d_12\">\r\n      <g>\r\n       <use style=\"stroke:#000000;stroke-width:0.8;\" x=\"30.103125\" xlink:href=\"#md32a68ac0a\" y=\"17.2191\"/>\r\n      </g>\r\n     </g>\r\n     <g id=\"text_12\">\r\n      <!-- 1.0 -->\r\n      <g transform=\"translate(7.2 21.018318)scale(0.1 -0.1)\">\r\n       <use xlink:href=\"#DejaVuSans-49\"/>\r\n       <use x=\"63.623047\" xlink:href=\"#DejaVuSans-46\"/>\r\n       <use x=\"95.410156\" xlink:href=\"#DejaVuSans-48\"/>\r\n      </g>\r\n     </g>\r\n    </g>\r\n   </g>\r\n   <g id=\"patch_3\">\r\n    <path d=\"M 30.103125 224.64 \r\nL 30.103125 7.2 \r\n\" style=\"fill:none;stroke:#000000;stroke-linecap:square;stroke-linejoin:miter;stroke-width:0.8;\"/>\r\n   </g>\r\n   <g id=\"patch_4\">\r\n    <path d=\"M 364.903125 224.64 \r\nL 364.903125 7.2 \r\n\" style=\"fill:none;stroke:#000000;stroke-linecap:square;stroke-linejoin:miter;stroke-width:0.8;\"/>\r\n   </g>\r\n   <g id=\"patch_5\">\r\n    <path d=\"M 30.103125 224.64 \r\nL 364.903125 224.64 \r\n\" style=\"fill:none;stroke:#000000;stroke-linecap:square;stroke-linejoin:miter;stroke-width:0.8;\"/>\r\n   </g>\r\n   <g id=\"patch_6\">\r\n    <path d=\"M 30.103125 7.2 \r\nL 364.903125 7.2 \r\n\" style=\"fill:none;stroke:#000000;stroke-linecap:square;stroke-linejoin:miter;stroke-width:0.8;\"/>\r\n   </g>\r\n  </g>\r\n </g>\r\n <defs>\r\n  <clipPath id=\"p3a123903e3\">\r\n   <rect height=\"217.44\" width=\"334.8\" x=\"30.103125\" y=\"7.2\"/>\r\n  </clipPath>\r\n </defs>\r\n</svg>\r\n",
      "image/png": "[encoded data removed]"
     },
     "metadata": {
      "needs_background": "light"
     }
    }
   ],
   "source": [
    "plt.scatter(cluster_centers[:,0], cluster_centers[:,1], c=binom_sample)"
   ]
  },
  {
   "cell_type": "code",
   "execution_count": 25,
   "metadata": {},
   "outputs": [],
   "source": [
    "from BinomialSimilarityGrouping import BSG"
   ]
  },
  {
   "cell_type": "code",
   "execution_count": 35,
   "metadata": {},
   "outputs": [],
   "source": [
    "bsg = BSG(n_estimation, p, 0.1, 10)\n",
    "link_matrix = bsg.fit_epsilon(cluster_centers, binom_sample, 0.05)"
   ]
  },
  {
   "cell_type": "code",
   "execution_count": 36,
   "metadata": {},
   "outputs": [],
   "source": [
    "connections = np.where(link_matrix)\n",
    "start_points = connections[0]\n",
    "end_points = connections[1]"
   ]
  },
  {
   "cell_type": "code",
   "execution_count": 37,
   "metadata": {},
   "outputs": [
    {
     "output_type": "display_data",
     "data": {
      "text/plain": "<Figure size 432x288 with 1 Axes>",
      "image/svg+xml": "<?xml version=\"1.0\" encoding=\"utf-8\" standalone=\"no\"?>\r\n<!DOCTYPE svg PUBLIC \"-//W3C//DTD SVG 1.1//EN\"\r\n  \"http://www.w3.org/Graphics/SVG/1.1/DTD/svg11.dtd\">\r\n<!-- Created with matplotlib (https://matplotlib.org/) -->\r\n<svg height=\"248.518125pt\" version=\"1.1\" viewBox=\"0 0 372.103125 248.518125\" width=\"372.103125pt\" xmlns=\"http://www.w3.org/2000/svg\" xmlns:xlink=\"http://www.w3.org/1999/xlink\">\r\n <defs>\r\n  <style type=\"text/css\">\r\n*{stroke-linecap:butt;stroke-linejoin:round;}\r\n  </style>\r\n </defs>\r\n <g id=\"figure_1\">\r\n  <g id=\"patch_1\">\r\n   <path d=\"M 0 248.518125 \r\nL 372.103125 248.518125 \r\nL 372.103125 0 \r\nL 0 0 \r\nz\r\n\" style=\"fill:none;\"/>\r\n  </g>\r\n  <g id=\"axes_1\">\r\n   <g id=\"patch_2\">\r\n    <path d=\"M 30.103125 224.64 \r\nL 364.903125 224.64 \r\nL 364.903125 7.2 \r\nL 30.103125 7.2 \r\nz\r\n\" style=\"fill:#ffffff;\"/>\r\n   </g>\r\n   <g id=\"PathCollection_1\">\r\n    <defs>\r\n     <path d=\"M 0 3 \r\nC 0.795609 3 1.55874 2.683901 2.12132 2.12132 \r\nC 2.683901 1.55874 3 0.795609 3 0 \r\nC 3 -0.795609 2.683901 -1.55874 2.12132 -2.12132 \r\nC 1.55874 -2.683901 0.795609 -3 0 -3 \r\nC -0.795609 -3 -1.55874 -2.683901 -2.12132 -2.12132 \r\nC -2.683901 -1.55874 -3 -0.795609 -3 0 \r\nC -3 0.795609 -2.683901 1.55874 -2.12132 2.12132 \r\nC -1.55874 2.683901 -0.795609 3 0 3 \r\nz\r\n\" id=\"C0_0_c9b5e4881e\"/>\r\n    </defs>\r\n    <g clip-path=\"url(#p34b566e062)\">\r\n     <use style=\"fill:#21a685;stroke:#21a685;\" x=\"160.589072\" xlink:href=\"#C0_0_c9b5e4881e\" y=\"26.982108\"/>\r\n    </g>\r\n    <g clip-path=\"url(#p34b566e062)\">\r\n     <use style=\"fill:#3e4c8a;stroke:#3e4c8a;\" x=\"269.59764\" xlink:href=\"#C0_0_c9b5e4881e\" y=\"96.720888\"/>\r\n    </g>\r\n    <g clip-path=\"url(#p34b566e062)\">\r\n     <use style=\"fill:#38588c;stroke:#38588c;\" x=\"93.949098\" xlink:href=\"#C0_0_c9b5e4881e\" y=\"184.408244\"/>\r\n    </g>\r\n    <g clip-path=\"url(#p34b566e062)\">\r\n     <use style=\"fill:#69cd5b;stroke:#69cd5b;\" x=\"64.082982\" xlink:href=\"#C0_0_c9b5e4881e\" y=\"43.728283\"/>\r\n    </g>\r\n    <g clip-path=\"url(#p34b566e062)\">\r\n     <use style=\"fill:#1e9b8a;stroke:#1e9b8a;\" x=\"229.685003\" xlink:href=\"#C0_0_c9b5e4881e\" y=\"75.047037\"/>\r\n    </g>\r\n    <g clip-path=\"url(#p34b566e062)\">\r\n     <use style=\"fill:#471164;stroke:#471164;\" x=\"52.647309\" xlink:href=\"#C0_0_c9b5e4881e\" y=\"23.17966\"/>\r\n    </g>\r\n    <g clip-path=\"url(#p34b566e062)\">\r\n     <use style=\"fill:#3e4c8a;stroke:#3e4c8a;\" x=\"300.230321\" xlink:href=\"#C0_0_c9b5e4881e\" y=\"173.246938\"/>\r\n    </g>\r\n    <g clip-path=\"url(#p34b566e062)\">\r\n     <use style=\"fill:#21a685;stroke:#21a685;\" x=\"101.818956\" xlink:href=\"#C0_0_c9b5e4881e\" y=\"178.978596\"/>\r\n    </g>\r\n    <g clip-path=\"url(#p34b566e062)\">\r\n     <use style=\"fill:#440154;stroke:#440154;\" x=\"139.15114\" xlink:href=\"#C0_0_c9b5e4881e\" y=\"111.360154\"/>\r\n    </g>\r\n    <g clip-path=\"url(#p34b566e062)\">\r\n     <use style=\"fill:#38588c;stroke:#38588c;\" x=\"178.095182\" xlink:href=\"#C0_0_c9b5e4881e\" y=\"157.619603\"/>\r\n    </g>\r\n    <g clip-path=\"url(#p34b566e062)\">\r\n     <use style=\"fill:#21918c;stroke:#21918c;\" x=\"232.959611\" xlink:href=\"#C0_0_c9b5e4881e\" y=\"187.676862\"/>\r\n    </g>\r\n    <g clip-path=\"url(#p34b566e062)\">\r\n     <use style=\"fill:#21a685;stroke:#21a685;\" x=\"135.461876\" xlink:href=\"#C0_0_c9b5e4881e\" y=\"142.736557\"/>\r\n    </g>\r\n    <g clip-path=\"url(#p34b566e062)\">\r\n     <use style=\"fill:#21a685;stroke:#21a685;\" x=\"185.452294\" xlink:href=\"#C0_0_c9b5e4881e\" y=\"59.773619\"/>\r\n    </g>\r\n    <g clip-path=\"url(#p34b566e062)\">\r\n     <use style=\"fill:#32648e;stroke:#32648e;\" x=\"107.262103\" xlink:href=\"#C0_0_c9b5e4881e\" y=\"113.444457\"/>\r\n    </g>\r\n    <g clip-path=\"url(#p34b566e062)\">\r\n     <use style=\"fill:#2ab07f;stroke:#2ab07f;\" x=\"227.031729\" xlink:href=\"#C0_0_c9b5e4881e\" y=\"206.107849\"/>\r\n    </g>\r\n    <g clip-path=\"url(#p34b566e062)\">\r\n     <use style=\"fill:#2d708e;stroke:#2d708e;\" x=\"231.645837\" xlink:href=\"#C0_0_c9b5e4881e\" y=\"181.530073\"/>\r\n    </g>\r\n    <g clip-path=\"url(#p34b566e062)\">\r\n     <use style=\"fill:#297a8e;stroke:#297a8e;\" x=\"66.207927\" xlink:href=\"#C0_0_c9b5e4881e\" y=\"27.344369\"/>\r\n    </g>\r\n    <g clip-path=\"url(#p34b566e062)\">\r\n     <use style=\"fill:#2ab07f;stroke:#2ab07f;\" x=\"340.847554\" xlink:href=\"#C0_0_c9b5e4881e\" y=\"55.173691\"/>\r\n    </g>\r\n    <g clip-path=\"url(#p34b566e062)\">\r\n     <use style=\"fill:#21a685;stroke:#21a685;\" x=\"139.26444\" xlink:href=\"#C0_0_c9b5e4881e\" y=\"195.961337\"/>\r\n    </g>\r\n    <g clip-path=\"url(#p34b566e062)\">\r\n     <use style=\"fill:#52c569;stroke:#52c569;\" x=\"255.032545\" xlink:href=\"#C0_0_c9b5e4881e\" y=\"128.119358\"/>\r\n    </g>\r\n    <g clip-path=\"url(#p34b566e062)\">\r\n     <use style=\"fill:#21a685;stroke:#21a685;\" x=\"83.586486\" xlink:href=\"#C0_0_c9b5e4881e\" y=\"117.219565\"/>\r\n    </g>\r\n    <g clip-path=\"url(#p34b566e062)\">\r\n     <use style=\"fill:#1e9b8a;stroke:#1e9b8a;\" x=\"56.856964\" xlink:href=\"#C0_0_c9b5e4881e\" y=\"35.181832\"/>\r\n    </g>\r\n    <g clip-path=\"url(#p34b566e062)\">\r\n     <use style=\"fill:#3e4c8a;stroke:#3e4c8a;\" x=\"125.287039\" xlink:href=\"#C0_0_c9b5e4881e\" y=\"84.0701\"/>\r\n    </g>\r\n    <g clip-path=\"url(#p34b566e062)\">\r\n     <use style=\"fill:#297a8e;stroke:#297a8e;\" x=\"141.428824\" xlink:href=\"#C0_0_c9b5e4881e\" y=\"112.288882\"/>\r\n    </g>\r\n    <g clip-path=\"url(#p34b566e062)\">\r\n     <use style=\"fill:#2d708e;stroke:#2d708e;\" x=\"213.09382\" xlink:href=\"#C0_0_c9b5e4881e\" y=\"178.691376\"/>\r\n    </g>\r\n    <g clip-path=\"url(#p34b566e062)\">\r\n     <use style=\"fill:#2d708e;stroke:#2d708e;\" x=\"342.052931\" xlink:href=\"#C0_0_c9b5e4881e\" y=\"61.763065\"/>\r\n    </g>\r\n    <g clip-path=\"url(#p34b566e062)\">\r\n     <use style=\"fill:#c2df23;stroke:#c2df23;\" x=\"332.878046\" xlink:href=\"#C0_0_c9b5e4881e\" y=\"38.052762\"/>\r\n    </g>\r\n    <g clip-path=\"url(#p34b566e062)\">\r\n     <use style=\"fill:#25858e;stroke:#25858e;\" x=\"228.704552\" xlink:href=\"#C0_0_c9b5e4881e\" y=\"32.695041\"/>\r\n    </g>\r\n    <g clip-path=\"url(#p34b566e062)\">\r\n     <use style=\"fill:#69cd5b;stroke:#69cd5b;\" x=\"73.356431\" xlink:href=\"#C0_0_c9b5e4881e\" y=\"176.486949\"/>\r\n    </g>\r\n    <g clip-path=\"url(#p34b566e062)\">\r\n     <use style=\"fill:#1e9b8a;stroke:#1e9b8a;\" x=\"60.162338\" xlink:href=\"#C0_0_c9b5e4881e\" y=\"150.864494\"/>\r\n    </g>\r\n    <g clip-path=\"url(#p34b566e062)\">\r\n     <use style=\"fill:#3bbb75;stroke:#3bbb75;\" x=\"164.900322\" xlink:href=\"#C0_0_c9b5e4881e\" y=\"161.557656\"/>\r\n    </g>\r\n    <g clip-path=\"url(#p34b566e062)\">\r\n     <use style=\"fill:#21918c;stroke:#21918c;\" x=\"299.10041\" xlink:href=\"#C0_0_c9b5e4881e\" y=\"144.639909\"/>\r\n    </g>\r\n    <g clip-path=\"url(#p34b566e062)\">\r\n     <use style=\"fill:#1e9b8a;stroke:#1e9b8a;\" x=\"132.043249\" xlink:href=\"#C0_0_c9b5e4881e\" y=\"107.806486\"/>\r\n    </g>\r\n    <g clip-path=\"url(#p34b566e062)\">\r\n     <use style=\"fill:#21918c;stroke:#21918c;\" x=\"89.345928\" xlink:href=\"#C0_0_c9b5e4881e\" y=\"56.401923\"/>\r\n    </g>\r\n    <g clip-path=\"url(#p34b566e062)\">\r\n     <use style=\"fill:#32648e;stroke:#32648e;\" x=\"69.104743\" xlink:href=\"#C0_0_c9b5e4881e\" y=\"19.816668\"/>\r\n    </g>\r\n    <g clip-path=\"url(#p34b566e062)\">\r\n     <use style=\"fill:#2ab07f;stroke:#2ab07f;\" x=\"281.872471\" xlink:href=\"#C0_0_c9b5e4881e\" y=\"175.945604\"/>\r\n    </g>\r\n    <g clip-path=\"url(#p34b566e062)\">\r\n     <use style=\"fill:#2d708e;stroke:#2d708e;\" x=\"48.05391\" xlink:href=\"#C0_0_c9b5e4881e\" y=\"53.774367\"/>\r\n    </g>\r\n    <g clip-path=\"url(#p34b566e062)\">\r\n     <use style=\"fill:#482173;stroke:#482173;\" x=\"261.932022\" xlink:href=\"#C0_0_c9b5e4881e\" y=\"70.900101\"/>\r\n    </g>\r\n    <g clip-path=\"url(#p34b566e062)\">\r\n     <use style=\"fill:#21a685;stroke:#21a685;\" x=\"281.575312\" xlink:href=\"#C0_0_c9b5e4881e\" y=\"200.641703\"/>\r\n    </g>\r\n    <g clip-path=\"url(#p34b566e062)\">\r\n     <use style=\"fill:#32648e;stroke:#32648e;\" x=\"155.687051\" xlink:href=\"#C0_0_c9b5e4881e\" y=\"192.356702\"/>\r\n    </g>\r\n    <g clip-path=\"url(#p34b566e062)\">\r\n     <use style=\"fill:#86d549;stroke:#86d549;\" x=\"309.580587\" xlink:href=\"#C0_0_c9b5e4881e\" y=\"91.840018\"/>\r\n    </g>\r\n    <g clip-path=\"url(#p34b566e062)\">\r\n     <use style=\"fill:#a5db36;stroke:#a5db36;\" x=\"147.280046\" xlink:href=\"#C0_0_c9b5e4881e\" y=\"202.718936\"/>\r\n    </g>\r\n    <g clip-path=\"url(#p34b566e062)\">\r\n     <use style=\"fill:#69cd5b;stroke:#69cd5b;\" x=\"141.206584\" xlink:href=\"#C0_0_c9b5e4881e\" y=\"150.893615\"/>\r\n    </g>\r\n    <g clip-path=\"url(#p34b566e062)\">\r\n     <use style=\"fill:#297a8e;stroke:#297a8e;\" x=\"268.869472\" xlink:href=\"#C0_0_c9b5e4881e\" y=\"89.015383\"/>\r\n    </g>\r\n    <g clip-path=\"url(#p34b566e062)\">\r\n     <use style=\"fill:#471164;stroke:#471164;\" x=\"316.932927\" xlink:href=\"#C0_0_c9b5e4881e\" y=\"121.768107\"/>\r\n    </g>\r\n    <g clip-path=\"url(#p34b566e062)\">\r\n     <use style=\"fill:#86d549;stroke:#86d549;\" x=\"82.841171\" xlink:href=\"#C0_0_c9b5e4881e\" y=\"74.022473\"/>\r\n    </g>\r\n    <g clip-path=\"url(#p34b566e062)\">\r\n     <use style=\"fill:#25858e;stroke:#25858e;\" x=\"278.377732\" xlink:href=\"#C0_0_c9b5e4881e\" y=\"104.125751\"/>\r\n    </g>\r\n    <g clip-path=\"url(#p34b566e062)\">\r\n     <use style=\"fill:#c2df23;stroke:#c2df23;\" x=\"281.482859\" xlink:href=\"#C0_0_c9b5e4881e\" y=\"117.493189\"/>\r\n    </g>\r\n    <g clip-path=\"url(#p34b566e062)\">\r\n     <use style=\"fill:#a5db36;stroke:#a5db36;\" x=\"205.781693\" xlink:href=\"#C0_0_c9b5e4881e\" y=\"130.617567\"/>\r\n    </g>\r\n    <g clip-path=\"url(#p34b566e062)\">\r\n     <use style=\"fill:#52c569;stroke:#52c569;\" x=\"54.121671\" xlink:href=\"#C0_0_c9b5e4881e\" y=\"193.936992\"/>\r\n    </g>\r\n    <g clip-path=\"url(#p34b566e062)\">\r\n     <use style=\"fill:#2d708e;stroke:#2d708e;\" x=\"55.954489\" xlink:href=\"#C0_0_c9b5e4881e\" y=\"89.242604\"/>\r\n    </g>\r\n    <g clip-path=\"url(#p34b566e062)\">\r\n     <use style=\"fill:#25858e;stroke:#25858e;\" x=\"142.23541\" xlink:href=\"#C0_0_c9b5e4881e\" y=\"114.566389\"/>\r\n    </g>\r\n    <g clip-path=\"url(#p34b566e062)\">\r\n     <use style=\"fill:#52c569;stroke:#52c569;\" x=\"323.13997\" xlink:href=\"#C0_0_c9b5e4881e\" y=\"165.92689\"/>\r\n    </g>\r\n    <g clip-path=\"url(#p34b566e062)\">\r\n     <use style=\"fill:#297a8e;stroke:#297a8e;\" x=\"171.519639\" xlink:href=\"#C0_0_c9b5e4881e\" y=\"65.642003\"/>\r\n    </g>\r\n    <g clip-path=\"url(#p34b566e062)\">\r\n     <use style=\"fill:#32648e;stroke:#32648e;\" x=\"116.14383\" xlink:href=\"#C0_0_c9b5e4881e\" y=\"200.060258\"/>\r\n    </g>\r\n    <g clip-path=\"url(#p34b566e062)\">\r\n     <use style=\"fill:#1e9b8a;stroke:#1e9b8a;\" x=\"134.732051\" xlink:href=\"#C0_0_c9b5e4881e\" y=\"183.372873\"/>\r\n    </g>\r\n    <g clip-path=\"url(#p34b566e062)\">\r\n     <use style=\"fill:#86d549;stroke:#86d549;\" x=\"329.88906\" xlink:href=\"#C0_0_c9b5e4881e\" y=\"55.228556\"/>\r\n    </g>\r\n    <g clip-path=\"url(#p34b566e062)\">\r\n     <use style=\"fill:#21a685;stroke:#21a685;\" x=\"239.531729\" xlink:href=\"#C0_0_c9b5e4881e\" y=\"42.681486\"/>\r\n    </g>\r\n    <g clip-path=\"url(#p34b566e062)\">\r\n     <use style=\"fill:#1e9b8a;stroke:#1e9b8a;\" x=\"291.456494\" xlink:href=\"#C0_0_c9b5e4881e\" y=\"178.351532\"/>\r\n    </g>\r\n    <g clip-path=\"url(#p34b566e062)\">\r\n     <use style=\"fill:#3e4c8a;stroke:#3e4c8a;\" x=\"318.563313\" xlink:href=\"#C0_0_c9b5e4881e\" y=\"108.470849\"/>\r\n    </g>\r\n    <g clip-path=\"url(#p34b566e062)\">\r\n     <use style=\"fill:#1e9b8a;stroke:#1e9b8a;\" x=\"292.605602\" xlink:href=\"#C0_0_c9b5e4881e\" y=\"37.802386\"/>\r\n    </g>\r\n    <g clip-path=\"url(#p34b566e062)\">\r\n     <use style=\"fill:#fde725;stroke:#fde725;\" x=\"143.347744\" xlink:href=\"#C0_0_c9b5e4881e\" y=\"193.509019\"/>\r\n    </g>\r\n    <g clip-path=\"url(#p34b566e062)\">\r\n     <use style=\"fill:#38588c;stroke:#38588c;\" x=\"115.88065\" xlink:href=\"#C0_0_c9b5e4881e\" y=\"130.703385\"/>\r\n    </g>\r\n    <g clip-path=\"url(#p34b566e062)\">\r\n     <use style=\"fill:#21918c;stroke:#21918c;\" x=\"295.830419\" xlink:href=\"#C0_0_c9b5e4881e\" y=\"44.806995\"/>\r\n    </g>\r\n    <g clip-path=\"url(#p34b566e062)\">\r\n     <use style=\"fill:#52c569;stroke:#52c569;\" x=\"48.490004\" xlink:href=\"#C0_0_c9b5e4881e\" y=\"114.135224\"/>\r\n    </g>\r\n    <g clip-path=\"url(#p34b566e062)\">\r\n     <use style=\"fill:#2ab07f;stroke:#2ab07f;\" x=\"173.662911\" xlink:href=\"#C0_0_c9b5e4881e\" y=\"171.311855\"/>\r\n    </g>\r\n    <g clip-path=\"url(#p34b566e062)\">\r\n     <use style=\"fill:#21a685;stroke:#21a685;\" x=\"82.923851\" xlink:href=\"#C0_0_c9b5e4881e\" y=\"148.430988\"/>\r\n    </g>\r\n    <g clip-path=\"url(#p34b566e062)\">\r\n     <use style=\"fill:#21a685;stroke:#21a685;\" x=\"333.918187\" xlink:href=\"#C0_0_c9b5e4881e\" y=\"151.28591\"/>\r\n    </g>\r\n    <g clip-path=\"url(#p34b566e062)\">\r\n     <use style=\"fill:#297a8e;stroke:#297a8e;\" x=\"204.579484\" xlink:href=\"#C0_0_c9b5e4881e\" y=\"76.048109\"/>\r\n    </g>\r\n    <g clip-path=\"url(#p34b566e062)\">\r\n     <use style=\"fill:#2d708e;stroke:#2d708e;\" x=\"157.261818\" xlink:href=\"#C0_0_c9b5e4881e\" y=\"22.80879\"/>\r\n    </g>\r\n    <g clip-path=\"url(#p34b566e062)\">\r\n     <use style=\"fill:#3bbb75;stroke:#3bbb75;\" x=\"339.876341\" xlink:href=\"#C0_0_c9b5e4881e\" y=\"165.433633\"/>\r\n    </g>\r\n    <g clip-path=\"url(#p34b566e062)\">\r\n     <use style=\"fill:#3bbb75;stroke:#3bbb75;\" x=\"198.010033\" xlink:href=\"#C0_0_c9b5e4881e\" y=\"155.708197\"/>\r\n    </g>\r\n    <g clip-path=\"url(#p34b566e062)\">\r\n     <use style=\"fill:#52c569;stroke:#52c569;\" x=\"133.234412\" xlink:href=\"#C0_0_c9b5e4881e\" y=\"208.002277\"/>\r\n    </g>\r\n    <g clip-path=\"url(#p34b566e062)\">\r\n     <use style=\"fill:#69cd5b;stroke:#69cd5b;\" x=\"232.261695\" xlink:href=\"#C0_0_c9b5e4881e\" y=\"115.73347\"/>\r\n    </g>\r\n    <g clip-path=\"url(#p34b566e062)\">\r\n     <use style=\"fill:#21918c;stroke:#21918c;\" x=\"62.068774\" xlink:href=\"#C0_0_c9b5e4881e\" y=\"160.112106\"/>\r\n    </g>\r\n    <g clip-path=\"url(#p34b566e062)\">\r\n     <use style=\"fill:#21918c;stroke:#21918c;\" x=\"323.353262\" xlink:href=\"#C0_0_c9b5e4881e\" y=\"167.854374\"/>\r\n    </g>\r\n    <g clip-path=\"url(#p34b566e062)\">\r\n     <use style=\"fill:#3bbb75;stroke:#3bbb75;\" x=\"90.556811\" xlink:href=\"#C0_0_c9b5e4881e\" y=\"118.353462\"/>\r\n    </g>\r\n    <g clip-path=\"url(#p34b566e062)\">\r\n     <use style=\"fill:#21a685;stroke:#21a685;\" x=\"346.95234\" xlink:href=\"#C0_0_c9b5e4881e\" y=\"167.36046\"/>\r\n    </g>\r\n    <g clip-path=\"url(#p34b566e062)\">\r\n     <use style=\"fill:#21a685;stroke:#21a685;\" x=\"251.343316\" xlink:href=\"#C0_0_c9b5e4881e\" y=\"64.439898\"/>\r\n    </g>\r\n    <g clip-path=\"url(#p34b566e062)\">\r\n     <use style=\"fill:#3bbb75;stroke:#3bbb75;\" x=\"118.839473\" xlink:href=\"#C0_0_c9b5e4881e\" y=\"71.056755\"/>\r\n    </g>\r\n    <g clip-path=\"url(#p34b566e062)\">\r\n     <use style=\"fill:#69cd5b;stroke:#69cd5b;\" x=\"158.528472\" xlink:href=\"#C0_0_c9b5e4881e\" y=\"90.055681\"/>\r\n    </g>\r\n    <g clip-path=\"url(#p34b566e062)\">\r\n     <use style=\"fill:#297a8e;stroke:#297a8e;\" x=\"239.57014\" xlink:href=\"#C0_0_c9b5e4881e\" y=\"109.177547\"/>\r\n    </g>\r\n    <g clip-path=\"url(#p34b566e062)\">\r\n     <use style=\"fill:#297a8e;stroke:#297a8e;\" x=\"73.904523\" xlink:href=\"#C0_0_c9b5e4881e\" y=\"49.844048\"/>\r\n    </g>\r\n    <g clip-path=\"url(#p34b566e062)\">\r\n     <use style=\"fill:#3e4c8a;stroke:#3e4c8a;\" x=\"144.194489\" xlink:href=\"#C0_0_c9b5e4881e\" y=\"178.361744\"/>\r\n    </g>\r\n    <g clip-path=\"url(#p34b566e062)\">\r\n     <use style=\"fill:#1e9b8a;stroke:#1e9b8a;\" x=\"58.804618\" xlink:href=\"#C0_0_c9b5e4881e\" y=\"98.259165\"/>\r\n    </g>\r\n    <g clip-path=\"url(#p34b566e062)\">\r\n     <use style=\"fill:#472f7d;stroke:#472f7d;\" x=\"252.998879\" xlink:href=\"#C0_0_c9b5e4881e\" y=\"212.023332\"/>\r\n    </g>\r\n    <g clip-path=\"url(#p34b566e062)\">\r\n     <use style=\"fill:#21918c;stroke:#21918c;\" x=\"202.537005\" xlink:href=\"#C0_0_c9b5e4881e\" y=\"170.442642\"/>\r\n    </g>\r\n    <g clip-path=\"url(#p34b566e062)\">\r\n     <use style=\"fill:#21918c;stroke:#21918c;\" x=\"243.120796\" xlink:href=\"#C0_0_c9b5e4881e\" y=\"180.768951\"/>\r\n    </g>\r\n    <g clip-path=\"url(#p34b566e062)\">\r\n     <use style=\"fill:#2d708e;stroke:#2d708e;\" x=\"257.077204\" xlink:href=\"#C0_0_c9b5e4881e\" y=\"138.700767\"/>\r\n    </g>\r\n    <g clip-path=\"url(#p34b566e062)\">\r\n     <use style=\"fill:#1e9b8a;stroke:#1e9b8a;\" x=\"332.033631\" xlink:href=\"#C0_0_c9b5e4881e\" y=\"188.067677\"/>\r\n    </g>\r\n    <g clip-path=\"url(#p34b566e062)\">\r\n     <use style=\"fill:#472f7d;stroke:#472f7d;\" x=\"150.380963\" xlink:href=\"#C0_0_c9b5e4881e\" y=\"192.831234\"/>\r\n    </g>\r\n    <g clip-path=\"url(#p34b566e062)\">\r\n     <use style=\"fill:#472f7d;stroke:#472f7d;\" x=\"328.363038\" xlink:href=\"#C0_0_c9b5e4881e\" y=\"41.516961\"/>\r\n    </g>\r\n    <g clip-path=\"url(#p34b566e062)\">\r\n     <use style=\"fill:#3bbb75;stroke:#3bbb75;\" x=\"125.031375\" xlink:href=\"#C0_0_c9b5e4881e\" y=\"84.5729\"/>\r\n    </g>\r\n    <g clip-path=\"url(#p34b566e062)\">\r\n     <use style=\"fill:#297a8e;stroke:#297a8e;\" x=\"295.588719\" xlink:href=\"#C0_0_c9b5e4881e\" y=\"105.329423\"/>\r\n    </g>\r\n    <g clip-path=\"url(#p34b566e062)\">\r\n     <use style=\"fill:#38588c;stroke:#38588c;\" x=\"207.891319\" xlink:href=\"#C0_0_c9b5e4881e\" y=\"167.400668\"/>\r\n    </g>\r\n    <g clip-path=\"url(#p34b566e062)\">\r\n     <use style=\"fill:#21918c;stroke:#21918c;\" x=\"74.76237\" xlink:href=\"#C0_0_c9b5e4881e\" y=\"37.579642\"/>\r\n    </g>\r\n    <g clip-path=\"url(#p34b566e062)\">\r\n     <use style=\"fill:#2ab07f;stroke:#2ab07f;\" x=\"320.96\" xlink:href=\"#C0_0_c9b5e4881e\" y=\"89.898075\"/>\r\n    </g>\r\n    <g clip-path=\"url(#p34b566e062)\">\r\n     <use style=\"fill:#32648e;stroke:#32648e;\" x=\"149.759897\" xlink:href=\"#C0_0_c9b5e4881e\" y=\"146.134251\"/>\r\n    </g>\r\n    <g clip-path=\"url(#p34b566e062)\">\r\n     <use style=\"fill:#1e9b8a;stroke:#1e9b8a;\" x=\"267.756221\" xlink:href=\"#C0_0_c9b5e4881e\" y=\"37.60054\"/>\r\n    </g>\r\n    <g clip-path=\"url(#p34b566e062)\">\r\n     <use style=\"fill:#3e4c8a;stroke:#3e4c8a;\" x=\"316.894405\" xlink:href=\"#C0_0_c9b5e4881e\" y=\"60.823579\"/>\r\n    </g>\r\n   </g>\r\n   <g id=\"matplotlib.axis_1\">\r\n    <g id=\"xtick_1\">\r\n     <g id=\"line2d_1\">\r\n      <defs>\r\n       <path d=\"M 0 0 \r\nL 0 3.5 \r\n\" id=\"m45ec662ef9\" style=\"stroke:#000000;stroke-width:0.8;\"/>\r\n      </defs>\r\n      <g>\r\n       <use style=\"stroke:#000000;stroke-width:0.8;\" x=\"46.369893\" xlink:href=\"#m45ec662ef9\" y=\"224.64\"/>\r\n      </g>\r\n     </g>\r\n     <g id=\"text_1\">\r\n      <!-- 0.0 -->\r\n      <defs>\r\n       <path d=\"M 31.78125 66.40625 \r\nQ 24.171875 66.40625 20.328125 58.90625 \r\nQ 16.5 51.421875 16.5 36.375 \r\nQ 16.5 21.390625 20.328125 13.890625 \r\nQ 24.171875 6.390625 31.78125 6.390625 \r\nQ 39.453125 6.390625 43.28125 13.890625 \r\nQ 47.125 21.390625 47.125 36.375 \r\nQ 47.125 51.421875 43.28125 58.90625 \r\nQ 39.453125 66.40625 31.78125 66.40625 \r\nz\r\nM 31.78125 74.21875 \r\nQ 44.046875 74.21875 50.515625 64.515625 \r\nQ 56.984375 54.828125 56.984375 36.375 \r\nQ 56.984375 17.96875 50.515625 8.265625 \r\nQ 44.046875 -1.421875 31.78125 -1.421875 \r\nQ 19.53125 -1.421875 13.0625 8.265625 \r\nQ 6.59375 17.96875 6.59375 36.375 \r\nQ 6.59375 54.828125 13.0625 64.515625 \r\nQ 19.53125 74.21875 31.78125 74.21875 \r\nz\r\n\" id=\"DejaVuSans-48\"/>\r\n       <path d=\"M 10.6875 12.40625 \r\nL 21 12.40625 \r\nL 21 0 \r\nL 10.6875 0 \r\nz\r\n\" id=\"DejaVuSans-46\"/>\r\n      </defs>\r\n      <g transform=\"translate(38.418331 239.238437)scale(0.1 -0.1)\">\r\n       <use xlink:href=\"#DejaVuSans-48\"/>\r\n       <use x=\"63.623047\" xlink:href=\"#DejaVuSans-46\"/>\r\n       <use x=\"95.410156\" xlink:href=\"#DejaVuSans-48\"/>\r\n      </g>\r\n     </g>\r\n    </g>\r\n    <g id=\"xtick_2\">\r\n     <g id=\"line2d_2\">\r\n      <g>\r\n       <use style=\"stroke:#000000;stroke-width:0.8;\" x=\"107.361586\" xlink:href=\"#m45ec662ef9\" y=\"224.64\"/>\r\n      </g>\r\n     </g>\r\n     <g id=\"text_2\">\r\n      <!-- 0.2 -->\r\n      <defs>\r\n       <path d=\"M 19.1875 8.296875 \r\nL 53.609375 8.296875 \r\nL 53.609375 0 \r\nL 7.328125 0 \r\nL 7.328125 8.296875 \r\nQ 12.9375 14.109375 22.625 23.890625 \r\nQ 32.328125 33.6875 34.8125 36.53125 \r\nQ 39.546875 41.84375 41.421875 45.53125 \r\nQ 43.3125 49.21875 43.3125 52.78125 \r\nQ 43.3125 58.59375 39.234375 62.25 \r\nQ 35.15625 65.921875 28.609375 65.921875 \r\nQ 23.96875 65.921875 18.8125 64.3125 \r\nQ 13.671875 62.703125 7.8125 59.421875 \r\nL 7.8125 69.390625 \r\nQ 13.765625 71.78125 18.9375 73 \r\nQ 24.125 74.21875 28.421875 74.21875 \r\nQ 39.75 74.21875 46.484375 68.546875 \r\nQ 53.21875 62.890625 53.21875 53.421875 \r\nQ 53.21875 48.921875 51.53125 44.890625 \r\nQ 49.859375 40.875 45.40625 35.40625 \r\nQ 44.1875 33.984375 37.640625 27.21875 \r\nQ 31.109375 20.453125 19.1875 8.296875 \r\nz\r\n\" id=\"DejaVuSans-50\"/>\r\n      </defs>\r\n      <g transform=\"translate(99.410023 239.238437)scale(0.1 -0.1)\">\r\n       <use xlink:href=\"#DejaVuSans-48\"/>\r\n       <use x=\"63.623047\" xlink:href=\"#DejaVuSans-46\"/>\r\n       <use x=\"95.410156\" xlink:href=\"#DejaVuSans-50\"/>\r\n      </g>\r\n     </g>\r\n    </g>\r\n    <g id=\"xtick_3\">\r\n     <g id=\"line2d_3\">\r\n      <g>\r\n       <use style=\"stroke:#000000;stroke-width:0.8;\" x=\"168.353278\" xlink:href=\"#m45ec662ef9\" y=\"224.64\"/>\r\n      </g>\r\n     </g>\r\n     <g id=\"text_3\">\r\n      <!-- 0.4 -->\r\n      <defs>\r\n       <path d=\"M 37.796875 64.3125 \r\nL 12.890625 25.390625 \r\nL 37.796875 25.390625 \r\nz\r\nM 35.203125 72.90625 \r\nL 47.609375 72.90625 \r\nL 47.609375 25.390625 \r\nL 58.015625 25.390625 \r\nL 58.015625 17.1875 \r\nL 47.609375 17.1875 \r\nL 47.609375 0 \r\nL 37.796875 0 \r\nL 37.796875 17.1875 \r\nL 4.890625 17.1875 \r\nL 4.890625 26.703125 \r\nz\r\n\" id=\"DejaVuSans-52\"/>\r\n      </defs>\r\n      <g transform=\"translate(160.401716 239.238437)scale(0.1 -0.1)\">\r\n       <use xlink:href=\"#DejaVuSans-48\"/>\r\n       <use x=\"63.623047\" xlink:href=\"#DejaVuSans-46\"/>\r\n       <use x=\"95.410156\" xlink:href=\"#DejaVuSans-52\"/>\r\n      </g>\r\n     </g>\r\n    </g>\r\n    <g id=\"xtick_4\">\r\n     <g id=\"line2d_4\">\r\n      <g>\r\n       <use style=\"stroke:#000000;stroke-width:0.8;\" x=\"229.344971\" xlink:href=\"#m45ec662ef9\" y=\"224.64\"/>\r\n      </g>\r\n     </g>\r\n     <g id=\"text_4\">\r\n      <!-- 0.6 -->\r\n      <defs>\r\n       <path d=\"M 33.015625 40.375 \r\nQ 26.375 40.375 22.484375 35.828125 \r\nQ 18.609375 31.296875 18.609375 23.390625 \r\nQ 18.609375 15.53125 22.484375 10.953125 \r\nQ 26.375 6.390625 33.015625 6.390625 \r\nQ 39.65625 6.390625 43.53125 10.953125 \r\nQ 47.40625 15.53125 47.40625 23.390625 \r\nQ 47.40625 31.296875 43.53125 35.828125 \r\nQ 39.65625 40.375 33.015625 40.375 \r\nz\r\nM 52.59375 71.296875 \r\nL 52.59375 62.3125 \r\nQ 48.875 64.0625 45.09375 64.984375 \r\nQ 41.3125 65.921875 37.59375 65.921875 \r\nQ 27.828125 65.921875 22.671875 59.328125 \r\nQ 17.53125 52.734375 16.796875 39.40625 \r\nQ 19.671875 43.65625 24.015625 45.921875 \r\nQ 28.375 48.1875 33.59375 48.1875 \r\nQ 44.578125 48.1875 50.953125 41.515625 \r\nQ 57.328125 34.859375 57.328125 23.390625 \r\nQ 57.328125 12.15625 50.6875 5.359375 \r\nQ 44.046875 -1.421875 33.015625 -1.421875 \r\nQ 20.359375 -1.421875 13.671875 8.265625 \r\nQ 6.984375 17.96875 6.984375 36.375 \r\nQ 6.984375 53.65625 15.1875 63.9375 \r\nQ 23.390625 74.21875 37.203125 74.21875 \r\nQ 40.921875 74.21875 44.703125 73.484375 \r\nQ 48.484375 72.75 52.59375 71.296875 \r\nz\r\n\" id=\"DejaVuSans-54\"/>\r\n      </defs>\r\n      <g transform=\"translate(221.393408 239.238437)scale(0.1 -0.1)\">\r\n       <use xlink:href=\"#DejaVuSans-48\"/>\r\n       <use x=\"63.623047\" xlink:href=\"#DejaVuSans-46\"/>\r\n       <use x=\"95.410156\" xlink:href=\"#DejaVuSans-54\"/>\r\n      </g>\r\n     </g>\r\n    </g>\r\n    <g id=\"xtick_5\">\r\n     <g id=\"line2d_5\">\r\n      <g>\r\n       <use style=\"stroke:#000000;stroke-width:0.8;\" x=\"290.336663\" xlink:href=\"#m45ec662ef9\" y=\"224.64\"/>\r\n      </g>\r\n     </g>\r\n     <g id=\"text_5\">\r\n      <!-- 0.8 -->\r\n      <defs>\r\n       <path d=\"M 31.78125 34.625 \r\nQ 24.75 34.625 20.71875 30.859375 \r\nQ 16.703125 27.09375 16.703125 20.515625 \r\nQ 16.703125 13.921875 20.71875 10.15625 \r\nQ 24.75 6.390625 31.78125 6.390625 \r\nQ 38.8125 6.390625 42.859375 10.171875 \r\nQ 46.921875 13.96875 46.921875 20.515625 \r\nQ 46.921875 27.09375 42.890625 30.859375 \r\nQ 38.875 34.625 31.78125 34.625 \r\nz\r\nM 21.921875 38.8125 \r\nQ 15.578125 40.375 12.03125 44.71875 \r\nQ 8.5 49.078125 8.5 55.328125 \r\nQ 8.5 64.0625 14.71875 69.140625 \r\nQ 20.953125 74.21875 31.78125 74.21875 \r\nQ 42.671875 74.21875 48.875 69.140625 \r\nQ 55.078125 64.0625 55.078125 55.328125 \r\nQ 55.078125 49.078125 51.53125 44.71875 \r\nQ 48 40.375 41.703125 38.8125 \r\nQ 48.828125 37.15625 52.796875 32.3125 \r\nQ 56.78125 27.484375 56.78125 20.515625 \r\nQ 56.78125 9.90625 50.3125 4.234375 \r\nQ 43.84375 -1.421875 31.78125 -1.421875 \r\nQ 19.734375 -1.421875 13.25 4.234375 \r\nQ 6.78125 9.90625 6.78125 20.515625 \r\nQ 6.78125 27.484375 10.78125 32.3125 \r\nQ 14.796875 37.15625 21.921875 38.8125 \r\nz\r\nM 18.3125 54.390625 \r\nQ 18.3125 48.734375 21.84375 45.5625 \r\nQ 25.390625 42.390625 31.78125 42.390625 \r\nQ 38.140625 42.390625 41.71875 45.5625 \r\nQ 45.3125 48.734375 45.3125 54.390625 \r\nQ 45.3125 60.0625 41.71875 63.234375 \r\nQ 38.140625 66.40625 31.78125 66.40625 \r\nQ 25.390625 66.40625 21.84375 63.234375 \r\nQ 18.3125 60.0625 18.3125 54.390625 \r\nz\r\n\" id=\"DejaVuSans-56\"/>\r\n      </defs>\r\n      <g transform=\"translate(282.385101 239.238437)scale(0.1 -0.1)\">\r\n       <use xlink:href=\"#DejaVuSans-48\"/>\r\n       <use x=\"63.623047\" xlink:href=\"#DejaVuSans-46\"/>\r\n       <use x=\"95.410156\" xlink:href=\"#DejaVuSans-56\"/>\r\n      </g>\r\n     </g>\r\n    </g>\r\n    <g id=\"xtick_6\">\r\n     <g id=\"line2d_6\">\r\n      <g>\r\n       <use style=\"stroke:#000000;stroke-width:0.8;\" x=\"351.328356\" xlink:href=\"#m45ec662ef9\" y=\"224.64\"/>\r\n      </g>\r\n     </g>\r\n     <g id=\"text_6\">\r\n      <!-- 1.0 -->\r\n      <defs>\r\n       <path d=\"M 12.40625 8.296875 \r\nL 28.515625 8.296875 \r\nL 28.515625 63.921875 \r\nL 10.984375 60.40625 \r\nL 10.984375 69.390625 \r\nL 28.421875 72.90625 \r\nL 38.28125 72.90625 \r\nL 38.28125 8.296875 \r\nL 54.390625 8.296875 \r\nL 54.390625 0 \r\nL 12.40625 0 \r\nz\r\n\" id=\"DejaVuSans-49\"/>\r\n      </defs>\r\n      <g transform=\"translate(343.376793 239.238437)scale(0.1 -0.1)\">\r\n       <use xlink:href=\"#DejaVuSans-49\"/>\r\n       <use x=\"63.623047\" xlink:href=\"#DejaVuSans-46\"/>\r\n       <use x=\"95.410156\" xlink:href=\"#DejaVuSans-48\"/>\r\n      </g>\r\n     </g>\r\n    </g>\r\n   </g>\r\n   <g id=\"matplotlib.axis_2\">\r\n    <g id=\"ytick_1\">\r\n     <g id=\"line2d_7\">\r\n      <defs>\r\n       <path d=\"M 0 0 \r\nL -3.5 0 \r\n\" id=\"md8d259f84e\" style=\"stroke:#000000;stroke-width:0.8;\"/>\r\n      </defs>\r\n      <g>\r\n       <use style=\"stroke:#000000;stroke-width:0.8;\" x=\"30.103125\" xlink:href=\"#md8d259f84e\" y=\"215.309217\"/>\r\n      </g>\r\n     </g>\r\n     <g id=\"text_7\">\r\n      <!-- 0.0 -->\r\n      <g transform=\"translate(7.2 219.108436)scale(0.1 -0.1)\">\r\n       <use xlink:href=\"#DejaVuSans-48\"/>\r\n       <use x=\"63.623047\" xlink:href=\"#DejaVuSans-46\"/>\r\n       <use x=\"95.410156\" xlink:href=\"#DejaVuSans-48\"/>\r\n      </g>\r\n     </g>\r\n    </g>\r\n    <g id=\"ytick_2\">\r\n     <g id=\"line2d_8\">\r\n      <g>\r\n       <use style=\"stroke:#000000;stroke-width:0.8;\" x=\"30.103125\" xlink:href=\"#md8d259f84e\" y=\"175.691194\"/>\r\n      </g>\r\n     </g>\r\n     <g id=\"text_8\">\r\n      <!-- 0.2 -->\r\n      <g transform=\"translate(7.2 179.490412)scale(0.1 -0.1)\">\r\n       <use xlink:href=\"#DejaVuSans-48\"/>\r\n       <use x=\"63.623047\" xlink:href=\"#DejaVuSans-46\"/>\r\n       <use x=\"95.410156\" xlink:href=\"#DejaVuSans-50\"/>\r\n      </g>\r\n     </g>\r\n    </g>\r\n    <g id=\"ytick_3\">\r\n     <g id=\"line2d_9\">\r\n      <g>\r\n       <use style=\"stroke:#000000;stroke-width:0.8;\" x=\"30.103125\" xlink:href=\"#md8d259f84e\" y=\"136.07317\"/>\r\n      </g>\r\n     </g>\r\n     <g id=\"text_9\">\r\n      <!-- 0.4 -->\r\n      <g transform=\"translate(7.2 139.872389)scale(0.1 -0.1)\">\r\n       <use xlink:href=\"#DejaVuSans-48\"/>\r\n       <use x=\"63.623047\" xlink:href=\"#DejaVuSans-46\"/>\r\n       <use x=\"95.410156\" xlink:href=\"#DejaVuSans-52\"/>\r\n      </g>\r\n     </g>\r\n    </g>\r\n    <g id=\"ytick_4\">\r\n     <g id=\"line2d_10\">\r\n      <g>\r\n       <use style=\"stroke:#000000;stroke-width:0.8;\" x=\"30.103125\" xlink:href=\"#md8d259f84e\" y=\"96.455147\"/>\r\n      </g>\r\n     </g>\r\n     <g id=\"text_10\">\r\n      <!-- 0.6 -->\r\n      <g transform=\"translate(7.2 100.254365)scale(0.1 -0.1)\">\r\n       <use xlink:href=\"#DejaVuSans-48\"/>\r\n       <use x=\"63.623047\" xlink:href=\"#DejaVuSans-46\"/>\r\n       <use x=\"95.410156\" xlink:href=\"#DejaVuSans-54\"/>\r\n      </g>\r\n     </g>\r\n    </g>\r\n    <g id=\"ytick_5\">\r\n     <g id=\"line2d_11\">\r\n      <g>\r\n       <use style=\"stroke:#000000;stroke-width:0.8;\" x=\"30.103125\" xlink:href=\"#md8d259f84e\" y=\"56.837123\"/>\r\n      </g>\r\n     </g>\r\n     <g id=\"text_11\">\r\n      <!-- 0.8 -->\r\n      <g transform=\"translate(7.2 60.636342)scale(0.1 -0.1)\">\r\n       <use xlink:href=\"#DejaVuSans-48\"/>\r\n       <use x=\"63.623047\" xlink:href=\"#DejaVuSans-46\"/>\r\n       <use x=\"95.410156\" xlink:href=\"#DejaVuSans-56\"/>\r\n      </g>\r\n     </g>\r\n    </g>\r\n    <g id=\"ytick_6\">\r\n     <g id=\"line2d_12\">\r\n      <g>\r\n       <use style=\"stroke:#000000;stroke-width:0.8;\" x=\"30.103125\" xlink:href=\"#md8d259f84e\" y=\"17.2191\"/>\r\n      </g>\r\n     </g>\r\n     <g id=\"text_12\">\r\n      <!-- 1.0 -->\r\n      <g transform=\"translate(7.2 21.018318)scale(0.1 -0.1)\">\r\n       <use xlink:href=\"#DejaVuSans-49\"/>\r\n       <use x=\"63.623047\" xlink:href=\"#DejaVuSans-46\"/>\r\n       <use x=\"95.410156\" xlink:href=\"#DejaVuSans-48\"/>\r\n      </g>\r\n     </g>\r\n    </g>\r\n   </g>\r\n   <g id=\"line2d_13\">\r\n    <path clip-path=\"url(#p34b566e062)\" d=\"M 160.589072 26.982108 \r\nL 157.261818 22.80879 \r\n\" style=\"fill:none;stroke:#000000;stroke-linecap:square;stroke-width:1.5;\"/>\r\n   </g>\r\n   <g id=\"line2d_14\">\r\n    <path clip-path=\"url(#p34b566e062)\" d=\"M 139.15114 111.360154 \r\nL 141.428824 112.288882 \r\n\" style=\"fill:none;stroke:#000000;stroke-linecap:square;stroke-width:1.5;\"/>\r\n   </g>\r\n   <g id=\"line2d_15\">\r\n    <path clip-path=\"url(#p34b566e062)\" d=\"M 139.15114 111.360154 \r\nL 142.23541 114.566389 \r\n\" style=\"fill:none;stroke:#000000;stroke-linecap:square;stroke-width:1.5;\"/>\r\n   </g>\r\n   <g id=\"line2d_16\">\r\n    <path clip-path=\"url(#p34b566e062)\" d=\"M 232.959611 187.676862 \r\nL 231.645837 181.530073 \r\n\" style=\"fill:none;stroke:#000000;stroke-linecap:square;stroke-width:1.5;\"/>\r\n   </g>\r\n   <g id=\"line2d_17\">\r\n    <path clip-path=\"url(#p34b566e062)\" d=\"M 232.959611 187.676862 \r\nL 243.120796 180.768951 \r\n\" style=\"fill:none;stroke:#000000;stroke-linecap:square;stroke-width:1.5;\"/>\r\n   </g>\r\n   <g id=\"line2d_18\">\r\n    <path clip-path=\"url(#p34b566e062)\" d=\"M 231.645837 181.530073 \r\nL 243.120796 180.768951 \r\n\" style=\"fill:none;stroke:#000000;stroke-linecap:square;stroke-width:1.5;\"/>\r\n   </g>\r\n   <g id=\"line2d_19\">\r\n    <path clip-path=\"url(#p34b566e062)\" d=\"M 66.207927 27.344369 \r\nL 69.104743 19.816668 \r\n\" style=\"fill:none;stroke:#000000;stroke-linecap:square;stroke-width:1.5;\"/>\r\n   </g>\r\n   <g id=\"line2d_20\">\r\n    <path clip-path=\"url(#p34b566e062)\" d=\"M 340.847554 55.173691 \r\nL 329.88906 55.228556 \r\n\" style=\"fill:none;stroke:#000000;stroke-linecap:square;stroke-width:1.5;\"/>\r\n   </g>\r\n   <g id=\"line2d_21\">\r\n    <path clip-path=\"url(#p34b566e062)\" d=\"M 139.26444 195.961337 \r\nL 143.347744 193.509019 \r\n\" style=\"fill:none;stroke:#000000;stroke-linecap:square;stroke-width:1.5;\"/>\r\n   </g>\r\n   <g id=\"line2d_22\">\r\n    <path clip-path=\"url(#p34b566e062)\" d=\"M 83.586486 117.219565 \r\nL 90.556811 118.353462 \r\n\" style=\"fill:none;stroke:#000000;stroke-linecap:square;stroke-width:1.5;\"/>\r\n   </g>\r\n   <g id=\"line2d_23\">\r\n    <path clip-path=\"url(#p34b566e062)\" d=\"M 125.287039 84.0701 \r\nL 125.031375 84.5729 \r\n\" style=\"fill:none;stroke:#000000;stroke-linecap:square;stroke-width:1.5;\"/>\r\n   </g>\r\n   <g id=\"line2d_24\">\r\n    <path clip-path=\"url(#p34b566e062)\" d=\"M 141.428824 112.288882 \r\nL 142.23541 114.566389 \r\n\" style=\"fill:none;stroke:#000000;stroke-linecap:square;stroke-width:1.5;\"/>\r\n   </g>\r\n   <g id=\"line2d_25\">\r\n    <path clip-path=\"url(#p34b566e062)\" d=\"M 281.872471 175.945604 \r\nL 291.456494 178.351532 \r\n\" style=\"fill:none;stroke:#000000;stroke-linecap:square;stroke-width:1.5;\"/>\r\n   </g>\r\n   <g id=\"line2d_26\">\r\n    <path clip-path=\"url(#p34b566e062)\" d=\"M 155.687051 192.356702 \r\nL 150.380963 192.831234 \r\n\" style=\"fill:none;stroke:#000000;stroke-linecap:square;stroke-width:1.5;\"/>\r\n   </g>\r\n   <g id=\"line2d_27\">\r\n    <path clip-path=\"url(#p34b566e062)\" d=\"M 309.580587 91.840018 \r\nL 320.96 89.898075 \r\n\" style=\"fill:none;stroke:#000000;stroke-linecap:square;stroke-width:1.5;\"/>\r\n   </g>\r\n   <g id=\"line2d_28\">\r\n    <path clip-path=\"url(#p34b566e062)\" d=\"M 323.13997 165.92689 \r\nL 323.353262 167.854374 \r\n\" style=\"fill:none;stroke:#000000;stroke-linecap:square;stroke-width:1.5;\"/>\r\n   </g>\r\n   <g id=\"line2d_29\">\r\n    <path clip-path=\"url(#p34b566e062)\" d=\"M 292.605602 37.802386 \r\nL 295.830419 44.806995 \r\n\" style=\"fill:none;stroke:#000000;stroke-linecap:square;stroke-width:1.5;\"/>\r\n   </g>\r\n   <g id=\"line2d_30\">\r\n    <path clip-path=\"url(#p34b566e062)\" d=\"M 339.876341 165.433633 \r\nL 346.95234 167.36046 \r\n\" style=\"fill:none;stroke:#000000;stroke-linecap:square;stroke-width:1.5;\"/>\r\n   </g>\r\n   <g id=\"line2d_31\">\r\n    <path clip-path=\"url(#p34b566e062)\" d=\"M 202.537005 170.442642 \r\nL 207.891319 167.400668 \r\n\" style=\"fill:none;stroke:#000000;stroke-linecap:square;stroke-width:1.5;\"/>\r\n   </g>\r\n   <g id=\"patch_3\">\r\n    <path d=\"M 30.103125 224.64 \r\nL 30.103125 7.2 \r\n\" style=\"fill:none;stroke:#000000;stroke-linecap:square;stroke-linejoin:miter;stroke-width:0.8;\"/>\r\n   </g>\r\n   <g id=\"patch_4\">\r\n    <path d=\"M 364.903125 224.64 \r\nL 364.903125 7.2 \r\n\" style=\"fill:none;stroke:#000000;stroke-linecap:square;stroke-linejoin:miter;stroke-width:0.8;\"/>\r\n   </g>\r\n   <g id=\"patch_5\">\r\n    <path d=\"M 30.103125 224.64 \r\nL 364.903125 224.64 \r\n\" style=\"fill:none;stroke:#000000;stroke-linecap:square;stroke-linejoin:miter;stroke-width:0.8;\"/>\r\n   </g>\r\n   <g id=\"patch_6\">\r\n    <path d=\"M 30.103125 7.2 \r\nL 364.903125 7.2 \r\n\" style=\"fill:none;stroke:#000000;stroke-linecap:square;stroke-linejoin:miter;stroke-width:0.8;\"/>\r\n   </g>\r\n  </g>\r\n </g>\r\n <defs>\r\n  <clipPath id=\"p34b566e062\">\r\n   <rect height=\"217.44\" width=\"334.8\" x=\"30.103125\" y=\"7.2\"/>\r\n  </clipPath>\r\n </defs>\r\n</svg>\r\n",
      "image/png": "[encoded data removed]"
     },
     "metadata": {
      "needs_background": "light"
     }
    }
   ],
   "source": [
    "plt.scatter(cluster_centers[:,0], cluster_centers[:,1], c=binom_sample)\n",
    "for idx_point_1, idx_point_2 in zip(start_points, end_points):\n",
    "    if idx_point_1 < idx_point_2:\n",
    "        line = np.array([cluster_centers[idx_point_1],cluster_centers[idx_point_2]])\n",
    "        plt.plot(line[:,0], line[:,1], c=\"k\")"
   ]
  },
  {
   "cell_type": "code",
   "execution_count": 38,
   "metadata": {},
   "outputs": [
    {
     "output_type": "display_data",
     "data": {
      "application/vnd.plotly.v1+json": {
       "config": {
        "plotlyServerURL": "https://plot.ly"
       },
       "data": [
        {
         "hovertemplate": "x=%{x}<br>y=%{y}<br>color=%{marker.color}<extra></extra>",
         "legendgroup": "",
         "marker": {
          "color": [
           32,
           24,
           25,
           36,
           31,
           20,
           24,
           32,
           19,
           25,
           30,
           32,
           32,
           26,
           33,
           27,
           28,
           33,
           32,
           35,
           32,
           31,
           24,
           28,
           27,
           27,
           39,
           29,
           36,
           31,
           34,
           30,
           31,
           30,
           26,
           33,
           27,
           21,
           32,
           26,
           37,
           38,
           36,
           28,
           20,
           37,
           29,
           39,
           38,
           35,
           27,
           29,
           35,
           28,
           26,
           31,
           37,
           32,
           31,
           24,
           31,
           41,
           25,
           30,
           35,
           33,
           32,
           32,
           28,
           27,
           34,
           34,
           35,
           36,
           30,
           30,
           34,
           32,
           32,
           34,
           36,
           28,
           28,
           24,
           31,
           22,
           30,
           30,
           27,
           31,
           22,
           22,
           34,
           28,
           25,
           30,
           33,
           26,
           31,
           24
          ],
          "coloraxis": "coloraxis",
          "symbol": "circle"
         },
         "mode": "markers",
         "name": "",
         "showlegend": false,
         "type": "scatter",
         "x": [
          0.3745401188473625,
          0.7319939418114051,
          0.15601864044243652,
          0.05808361216819946,
          0.6011150117432088,
          0.020584494295802447,
          0.8324426408004217,
          0.18182496720710062,
          0.3042422429595377,
          0.43194501864211576,
          0.6118528947223795,
          0.29214464853521815,
          0.45606998421703593,
          0.19967378215835974,
          0.5924145688620425,
          0.6075448519014384,
          0.06505159298527952,
          0.9656320330745594,
          0.3046137691733707,
          0.6842330265121569,
          0.12203823484477883,
          0.034388521115218396,
          0.2587799816000169,
          0.31171107608941095,
          0.5467102793432796,
          0.9695846277645586,
          0.9394989415641891,
          0.5978999788110851,
          0.0884925020519195,
          0.045227288910538066,
          0.388677289689482,
          0.8287375091519293,
          0.28093450968738076,
          0.14092422497476265,
          0.07455064367977082,
          0.7722447692966574,
          0.005522117123602399,
          0.7068573438476171,
          0.7712703466859457,
          0.3584657285442726,
          0.8631034258755935,
          0.3308980248526492,
          0.3109823217156622,
          0.7296061783380641,
          0.8872127425763265,
          0.1195942459383017,
          0.7607850486168974,
          0.770967179954561,
          0.5227328293819941,
          0.02541912674409519,
          0.03142918568673425,
          0.3143559810763267,
          0.907566473926093,
          0.41038292303562973,
          0.22879816549162246,
          0.289751452913768,
          0.9296976523425731,
          0.6334037565104235,
          0.8036720768991145,
          0.8925589984899778,
          0.8074401551640625,
          0.3180034749718639,
          0.22793516254194168,
          0.8180147659224931,
          0.006952130531190703,
          0.417411003148779,
          0.1198653673336828,
          0.9429097039125192,
          0.5187906217433661,
          0.363629602379294,
          0.9624472949421112,
          0.49724850589238545,
          0.2848404943774676,
          0.6095643339798968,
          0.05147875124998935,
          0.9082658859666537,
          0.1448948720912231,
          0.9856504541106007,
          0.6721355474058786,
          0.23763754399239967,
          0.3677831327192532,
          0.6335297107608947,
          0.0902897700544083,
          0.32078006497173583,
          0.040775141554763916,
          0.6775643618422824,
          0.512093058299281,
          0.6451727904094499,
          0.690937738102466,
          0.9367299887367345,
          0.3410663510502585,
          0.9246936182785628,
          0.2579416277151556,
          0.8172222002012158,
          0.5296505783560065,
          0.09310276780589921,
          0.9004180571633305,
          0.3390297910487007,
          0.7259556788702394,
          0.8870864242651173
         ],
         "xaxis": "x",
         "y": [
          0.9507143064099162,
          0.5986584841970366,
          0.15599452033620265,
          0.8661761457749352,
          0.7080725777960455,
          0.9699098521619943,
          0.21233911067827616,
          0.18340450985343382,
          0.5247564316322378,
          0.2912291401980419,
          0.13949386065204183,
          0.3663618432936917,
          0.7851759613930136,
          0.5142344384136116,
          0.046450412719997725,
          0.17052412368729153,
          0.9488855372533332,
          0.8083973481164611,
          0.09767211400638387,
          0.4401524937396013,
          0.4951769101112702,
          0.9093204020787821,
          0.662522284353982,
          0.5200680211778108,
          0.18485445552552704,
          0.7751328233611146,
          0.8948273504276488,
          0.9218742350231168,
          0.1959828624191452,
          0.32533033076326434,
          0.2713490317738959,
          0.3567533266935893,
          0.5426960831582485,
          0.8021969807540397,
          0.9868869366005173,
          0.1987156815341724,
          0.8154614284548342,
          0.7290071680409873,
          0.07404465173409036,
          0.11586905952512971,
          0.6232981268275579,
          0.06355835028602363,
          0.32518332202674705,
          0.6375574713552131,
          0.4722149251619493,
          0.713244787222995,
          0.5612771975694962,
          0.49379559636439074,
          0.42754101835854963,
          0.10789142699330445,
          0.6364104112637804,
          0.5085706911647028,
          0.24929222914887494,
          0.7555511385430487,
          0.07697990982879299,
          0.16122128725400442,
          0.808120379564417,
          0.8714605901877177,
          0.18657005888603584,
          0.5393422419156507,
          0.8960912999234932,
          0.11005192452767676,
          0.4271077886262563,
          0.8607305832563434,
          0.5107473025775657,
          0.22210781047073025,
          0.33761517140362796,
          0.32320293202075523,
          0.7030189588951778,
          0.9717820827209607,
          0.25178229582536416,
          0.30087830981676966,
          0.036886947354532795,
          0.5026790232288615,
          0.27864646423661144,
          0.23956189066697242,
          0.489452760277563,
          0.2420552715115004,
          0.7616196153287176,
          0.7282163486118596,
          0.6323058305935795,
          0.5357746840747585,
          0.835302495589238,
          0.18651851039985423,
          0.5908929431882418,
          0.016587828927856152,
          0.22649577519793795,
          0.17436642900499144,
          0.3867353463005374,
          0.13752094414599325,
          0.11347352124058907,
          0.877339353380981,
          0.659984046034179,
          0.5552008115994623,
          0.24185229090045168,
          0.8972157579533268,
          0.6331014572732679,
          0.3492095746126609,
          0.8971102599525771,
          0.7798755458576239
         ],
         "yaxis": "y"
        },
        {
         "line": {
          "color": "black"
         },
         "mode": "lines",
         "type": "scatter",
         "x": [
          0.3745401188473625,
          0.363629602379294
         ],
         "y": [
          0.9507143064099162,
          0.9717820827209607
         ]
        },
        {
         "line": {
          "color": "black"
         },
         "mode": "lines",
         "type": "scatter",
         "x": [
          0.3042422429595377,
          0.31171107608941095
         ],
         "y": [
          0.5247564316322378,
          0.5200680211778108
         ]
        },
        {
         "line": {
          "color": "black"
         },
         "mode": "lines",
         "type": "scatter",
         "x": [
          0.3042422429595377,
          0.3143559810763267
         ],
         "y": [
          0.5247564316322378,
          0.5085706911647028
         ]
        },
        {
         "line": {
          "color": "black"
         },
         "mode": "lines",
         "type": "scatter",
         "x": [
          0.6118528947223795,
          0.6075448519014384
         ],
         "y": [
          0.13949386065204183,
          0.17052412368729153
         ]
        },
        {
         "line": {
          "color": "black"
         },
         "mode": "lines",
         "type": "scatter",
         "x": [
          0.6118528947223795,
          0.6451727904094499
         ],
         "y": [
          0.13949386065204183,
          0.17436642900499144
         ]
        },
        {
         "line": {
          "color": "black"
         },
         "mode": "lines",
         "type": "scatter",
         "x": [
          0.6075448519014384,
          0.6451727904094499
         ],
         "y": [
          0.17052412368729153,
          0.17436642900499144
         ]
        },
        {
         "line": {
          "color": "black"
         },
         "mode": "lines",
         "type": "scatter",
         "x": [
          0.06505159298527952,
          0.07455064367977082
         ],
         "y": [
          0.9488855372533332,
          0.9868869366005173
         ]
        },
        {
         "line": {
          "color": "black"
         },
         "mode": "lines",
         "type": "scatter",
         "x": [
          0.9656320330745594,
          0.9296976523425731
         ],
         "y": [
          0.8083973481164611,
          0.808120379564417
         ]
        },
        {
         "line": {
          "color": "black"
         },
         "mode": "lines",
         "type": "scatter",
         "x": [
          0.3046137691733707,
          0.3180034749718639
         ],
         "y": [
          0.09767211400638387,
          0.11005192452767676
         ]
        },
        {
         "line": {
          "color": "black"
         },
         "mode": "lines",
         "type": "scatter",
         "x": [
          0.12203823484477883,
          0.1448948720912231
         ],
         "y": [
          0.4951769101112702,
          0.489452760277563
         ]
        },
        {
         "line": {
          "color": "black"
         },
         "mode": "lines",
         "type": "scatter",
         "x": [
          0.2587799816000169,
          0.2579416277151556
         ],
         "y": [
          0.662522284353982,
          0.659984046034179
         ]
        },
        {
         "line": {
          "color": "black"
         },
         "mode": "lines",
         "type": "scatter",
         "x": [
          0.31171107608941095,
          0.3143559810763267
         ],
         "y": [
          0.5200680211778108,
          0.5085706911647028
         ]
        },
        {
         "line": {
          "color": "black"
         },
         "mode": "lines",
         "type": "scatter",
         "x": [
          0.7722447692966574,
          0.8036720768991145
         ],
         "y": [
          0.1987156815341724,
          0.18657005888603584
         ]
        },
        {
         "line": {
          "color": "black"
         },
         "mode": "lines",
         "type": "scatter",
         "x": [
          0.3584657285442726,
          0.3410663510502585
         ],
         "y": [
          0.11586905952512971,
          0.11347352124058907
         ]
        },
        {
         "line": {
          "color": "black"
         },
         "mode": "lines",
         "type": "scatter",
         "x": [
          0.8631034258755935,
          0.9004180571633305
         ],
         "y": [
          0.6232981268275579,
          0.6331014572732679
         ]
        },
        {
         "line": {
          "color": "black"
         },
         "mode": "lines",
         "type": "scatter",
         "x": [
          0.907566473926093,
          0.9082658859666537
         ],
         "y": [
          0.24929222914887494,
          0.23956189066697242
         ]
        },
        {
         "line": {
          "color": "black"
         },
         "mode": "lines",
         "type": "scatter",
         "x": [
          0.8074401551640625,
          0.8180147659224931
         ],
         "y": [
          0.8960912999234932,
          0.8607305832563434
         ]
        },
        {
         "line": {
          "color": "black"
         },
         "mode": "lines",
         "type": "scatter",
         "x": [
          0.9624472949421112,
          0.9856504541106007
         ],
         "y": [
          0.25178229582536416,
          0.2420552715115004
         ]
        },
        {
         "line": {
          "color": "black"
         },
         "mode": "lines",
         "type": "scatter",
         "x": [
          0.512093058299281,
          0.5296505783560065
         ],
         "y": [
          0.22649577519793795,
          0.24185229090045168
         ]
        }
       ],
       "layout": {
        "coloraxis": {
         "colorbar": {
          "title": {
           "text": "color"
          }
         },
         "colorscale": [
          [
           0,
           "#0d0887"
          ],
          [
           0.1111111111111111,
           "#46039f"
          ],
          [
           0.2222222222222222,
           "#7201a8"
          ],
          [
           0.3333333333333333,
           "#9c179e"
          ],
          [
           0.4444444444444444,
           "#bd3786"
          ],
          [
           0.5555555555555556,
           "#d8576b"
          ],
          [
           0.6666666666666666,
           "#ed7953"
          ],
          [
           0.7777777777777778,
           "#fb9f3a"
          ],
          [
           0.8888888888888888,
           "#fdca26"
          ],
          [
           1,
           "#f0f921"
          ]
         ]
        },
        "legend": {
         "tracegroupgap": 0
        },
        "margin": {
         "t": 60
        },
        "showlegend": false,
        "template": {
         "data": {
          "bar": [
           {
            "error_x": {
             "color": "#2a3f5f"
            },
            "error_y": {
             "color": "#2a3f5f"
            },
            "marker": {
             "line": {
              "color": "#E5ECF6",
              "width": 0.5
             }
            },
            "type": "bar"
           }
          ],
          "barpolar": [
           {
            "marker": {
             "line": {
              "color": "#E5ECF6",
              "width": 0.5
             }
            },
            "type": "barpolar"
           }
          ],
          "carpet": [
           {
            "aaxis": {
             "endlinecolor": "#2a3f5f",
             "gridcolor": "white",
             "linecolor": "white",
             "minorgridcolor": "white",
             "startlinecolor": "#2a3f5f"
            },
            "baxis": {
             "endlinecolor": "#2a3f5f",
             "gridcolor": "white",
             "linecolor": "white",
             "minorgridcolor": "white",
             "startlinecolor": "#2a3f5f"
            },
            "type": "carpet"
           }
          ],
          "choropleth": [
           {
            "colorbar": {
             "outlinewidth": 0,
             "ticks": ""
            },
            "type": "choropleth"
           }
          ],
          "contour": [
           {
            "colorbar": {
             "outlinewidth": 0,
             "ticks": ""
            },
            "colorscale": [
             [
              0,
              "#0d0887"
             ],
             [
              0.1111111111111111,
              "#46039f"
             ],
             [
              0.2222222222222222,
              "#7201a8"
             ],
             [
              0.3333333333333333,
              "#9c179e"
             ],
             [
              0.4444444444444444,
              "#bd3786"
             ],
             [
              0.5555555555555556,
              "#d8576b"
             ],
             [
              0.6666666666666666,
              "#ed7953"
             ],
             [
              0.7777777777777778,
              "#fb9f3a"
             ],
             [
              0.8888888888888888,
              "#fdca26"
             ],
             [
              1,
              "#f0f921"
             ]
            ],
            "type": "contour"
           }
          ],
          "contourcarpet": [
           {
            "colorbar": {
             "outlinewidth": 0,
             "ticks": ""
            },
            "type": "contourcarpet"
           }
          ],
          "heatmap": [
           {
            "colorbar": {
             "outlinewidth": 0,
             "ticks": ""
            },
            "colorscale": [
             [
              0,
              "#0d0887"
             ],
             [
              0.1111111111111111,
              "#46039f"
             ],
             [
              0.2222222222222222,
              "#7201a8"
             ],
             [
              0.3333333333333333,
              "#9c179e"
             ],
             [
              0.4444444444444444,
              "#bd3786"
             ],
             [
              0.5555555555555556,
              "#d8576b"
             ],
             [
              0.6666666666666666,
              "#ed7953"
             ],
             [
              0.7777777777777778,
              "#fb9f3a"
             ],
             [
              0.8888888888888888,
              "#fdca26"
             ],
             [
              1,
              "#f0f921"
             ]
            ],
            "type": "heatmap"
           }
          ],
          "heatmapgl": [
           {
            "colorbar": {
             "outlinewidth": 0,
             "ticks": ""
            },
            "colorscale": [
             [
              0,
              "#0d0887"
             ],
             [
              0.1111111111111111,
              "#46039f"
             ],
             [
              0.2222222222222222,
              "#7201a8"
             ],
             [
              0.3333333333333333,
              "#9c179e"
             ],
             [
              0.4444444444444444,
              "#bd3786"
             ],
             [
              0.5555555555555556,
              "#d8576b"
             ],
             [
              0.6666666666666666,
              "#ed7953"
             ],
             [
              0.7777777777777778,
              "#fb9f3a"
             ],
             [
              0.8888888888888888,
              "#fdca26"
             ],
             [
              1,
              "#f0f921"
             ]
            ],
            "type": "heatmapgl"
           }
          ],
          "histogram": [
           {
            "marker": {
             "colorbar": {
              "outlinewidth": 0,
              "ticks": ""
             }
            },
            "type": "histogram"
           }
          ],
          "histogram2d": [
           {
            "colorbar": {
             "outlinewidth": 0,
             "ticks": ""
            },
            "colorscale": [
             [
              0,
              "#0d0887"
             ],
             [
              0.1111111111111111,
              "#46039f"
             ],
             [
              0.2222222222222222,
              "#7201a8"
             ],
             [
              0.3333333333333333,
              "#9c179e"
             ],
             [
              0.4444444444444444,
              "#bd3786"
             ],
             [
              0.5555555555555556,
              "#d8576b"
             ],
             [
              0.6666666666666666,
              "#ed7953"
             ],
             [
              0.7777777777777778,
              "#fb9f3a"
             ],
             [
              0.8888888888888888,
              "#fdca26"
             ],
             [
              1,
              "#f0f921"
             ]
            ],
            "type": "histogram2d"
           }
          ],
          "histogram2dcontour": [
           {
            "colorbar": {
             "outlinewidth": 0,
             "ticks": ""
            },
            "colorscale": [
             [
              0,
              "#0d0887"
             ],
             [
              0.1111111111111111,
              "#46039f"
             ],
             [
              0.2222222222222222,
              "#7201a8"
             ],
             [
              0.3333333333333333,
              "#9c179e"
             ],
             [
              0.4444444444444444,
              "#bd3786"
             ],
             [
              0.5555555555555556,
              "#d8576b"
             ],
             [
              0.6666666666666666,
              "#ed7953"
             ],
             [
              0.7777777777777778,
              "#fb9f3a"
             ],
             [
              0.8888888888888888,
              "#fdca26"
             ],
             [
              1,
              "#f0f921"
             ]
            ],
            "type": "histogram2dcontour"
           }
          ],
          "mesh3d": [
           {
            "colorbar": {
             "outlinewidth": 0,
             "ticks": ""
            },
            "type": "mesh3d"
           }
          ],
          "parcoords": [
           {
            "line": {
             "colorbar": {
              "outlinewidth": 0,
              "ticks": ""
             }
            },
            "type": "parcoords"
           }
          ],
          "pie": [
           {
            "automargin": true,
            "type": "pie"
           }
          ],
          "scatter": [
           {
            "marker": {
             "colorbar": {
              "outlinewidth": 0,
              "ticks": ""
             }
            },
            "type": "scatter"
           }
          ],
          "scatter3d": [
           {
            "line": {
             "colorbar": {
              "outlinewidth": 0,
              "ticks": ""
             }
            },
            "marker": {
             "colorbar": {
              "outlinewidth": 0,
              "ticks": ""
             }
            },
            "type": "scatter3d"
           }
          ],
          "scattercarpet": [
           {
            "marker": {
             "colorbar": {
              "outlinewidth": 0,
              "ticks": ""
             }
            },
            "type": "scattercarpet"
           }
          ],
          "scattergeo": [
           {
            "marker": {
             "colorbar": {
              "outlinewidth": 0,
              "ticks": ""
             }
            },
            "type": "scattergeo"
           }
          ],
          "scattergl": [
           {
            "marker": {
             "colorbar": {
              "outlinewidth": 0,
              "ticks": ""
             }
            },
            "type": "scattergl"
           }
          ],
          "scattermapbox": [
           {
            "marker": {
             "colorbar": {
              "outlinewidth": 0,
              "ticks": ""
             }
            },
            "type": "scattermapbox"
           }
          ],
          "scatterpolar": [
           {
            "marker": {
             "colorbar": {
              "outlinewidth": 0,
              "ticks": ""
             }
            },
            "type": "scatterpolar"
           }
          ],
          "scatterpolargl": [
           {
            "marker": {
             "colorbar": {
              "outlinewidth": 0,
              "ticks": ""
             }
            },
            "type": "scatterpolargl"
           }
          ],
          "scatterternary": [
           {
            "marker": {
             "colorbar": {
              "outlinewidth": 0,
              "ticks": ""
             }
            },
            "type": "scatterternary"
           }
          ],
          "surface": [
           {
            "colorbar": {
             "outlinewidth": 0,
             "ticks": ""
            },
            "colorscale": [
             [
              0,
              "#0d0887"
             ],
             [
              0.1111111111111111,
              "#46039f"
             ],
             [
              0.2222222222222222,
              "#7201a8"
             ],
             [
              0.3333333333333333,
              "#9c179e"
             ],
             [
              0.4444444444444444,
              "#bd3786"
             ],
             [
              0.5555555555555556,
              "#d8576b"
             ],
             [
              0.6666666666666666,
              "#ed7953"
             ],
             [
              0.7777777777777778,
              "#fb9f3a"
             ],
             [
              0.8888888888888888,
              "#fdca26"
             ],
             [
              1,
              "#f0f921"
             ]
            ],
            "type": "surface"
           }
          ],
          "table": [
           {
            "cells": {
             "fill": {
              "color": "#EBF0F8"
             },
             "line": {
              "color": "white"
             }
            },
            "header": {
             "fill": {
              "color": "#C8D4E3"
             },
             "line": {
              "color": "white"
             }
            },
            "type": "table"
           }
          ]
         },
         "layout": {
          "annotationdefaults": {
           "arrowcolor": "#2a3f5f",
           "arrowhead": 0,
           "arrowwidth": 1
          },
          "coloraxis": {
           "colorbar": {
            "outlinewidth": 0,
            "ticks": ""
           }
          },
          "colorscale": {
           "diverging": [
            [
             0,
             "#8e0152"
            ],
            [
             0.1,
             "#c51b7d"
            ],
            [
             0.2,
             "#de77ae"
            ],
            [
             0.3,
             "#f1b6da"
            ],
            [
             0.4,
             "#fde0ef"
            ],
            [
             0.5,
             "#f7f7f7"
            ],
            [
             0.6,
             "#e6f5d0"
            ],
            [
             0.7,
             "#b8e186"
            ],
            [
             0.8,
             "#7fbc41"
            ],
            [
             0.9,
             "#4d9221"
            ],
            [
             1,
             "#276419"
            ]
           ],
           "sequential": [
            [
             0,
             "#0d0887"
            ],
            [
             0.1111111111111111,
             "#46039f"
            ],
            [
             0.2222222222222222,
             "#7201a8"
            ],
            [
             0.3333333333333333,
             "#9c179e"
            ],
            [
             0.4444444444444444,
             "#bd3786"
            ],
            [
             0.5555555555555556,
             "#d8576b"
            ],
            [
             0.6666666666666666,
             "#ed7953"
            ],
            [
             0.7777777777777778,
             "#fb9f3a"
            ],
            [
             0.8888888888888888,
             "#fdca26"
            ],
            [
             1,
             "#f0f921"
            ]
           ],
           "sequentialminus": [
            [
             0,
             "#0d0887"
            ],
            [
             0.1111111111111111,
             "#46039f"
            ],
            [
             0.2222222222222222,
             "#7201a8"
            ],
            [
             0.3333333333333333,
             "#9c179e"
            ],
            [
             0.4444444444444444,
             "#bd3786"
            ],
            [
             0.5555555555555556,
             "#d8576b"
            ],
            [
             0.6666666666666666,
             "#ed7953"
            ],
            [
             0.7777777777777778,
             "#fb9f3a"
            ],
            [
             0.8888888888888888,
             "#fdca26"
            ],
            [
             1,
             "#f0f921"
            ]
           ]
          },
          "colorway": [
           "#636efa",
           "#EF553B",
           "#00cc96",
           "#ab63fa",
           "#FFA15A",
           "#19d3f3",
           "#FF6692",
           "#B6E880",
           "#FF97FF",
           "#FECB52"
          ],
          "font": {
           "color": "#2a3f5f"
          },
          "geo": {
           "bgcolor": "white",
           "lakecolor": "white",
           "landcolor": "#E5ECF6",
           "showlakes": true,
           "showland": true,
           "subunitcolor": "white"
          },
          "hoverlabel": {
           "align": "left"
          },
          "hovermode": "closest",
          "mapbox": {
           "style": "light"
          },
          "paper_bgcolor": "white",
          "plot_bgcolor": "#E5ECF6",
          "polar": {
           "angularaxis": {
            "gridcolor": "white",
            "linecolor": "white",
            "ticks": ""
           },
           "bgcolor": "#E5ECF6",
           "radialaxis": {
            "gridcolor": "white",
            "linecolor": "white",
            "ticks": ""
           }
          },
          "scene": {
           "xaxis": {
            "backgroundcolor": "#E5ECF6",
            "gridcolor": "white",
            "gridwidth": 2,
            "linecolor": "white",
            "showbackground": true,
            "ticks": "",
            "zerolinecolor": "white"
           },
           "yaxis": {
            "backgroundcolor": "#E5ECF6",
            "gridcolor": "white",
            "gridwidth": 2,
            "linecolor": "white",
            "showbackground": true,
            "ticks": "",
            "zerolinecolor": "white"
           },
           "zaxis": {
            "backgroundcolor": "#E5ECF6",
            "gridcolor": "white",
            "gridwidth": 2,
            "linecolor": "white",
            "showbackground": true,
            "ticks": "",
            "zerolinecolor": "white"
           }
          },
          "shapedefaults": {
           "line": {
            "color": "#2a3f5f"
           }
          },
          "ternary": {
           "aaxis": {
            "gridcolor": "white",
            "linecolor": "white",
            "ticks": ""
           },
           "baxis": {
            "gridcolor": "white",
            "linecolor": "white",
            "ticks": ""
           },
           "bgcolor": "#E5ECF6",
           "caxis": {
            "gridcolor": "white",
            "linecolor": "white",
            "ticks": ""
           }
          },
          "title": {
           "x": 0.05
          },
          "xaxis": {
           "automargin": true,
           "gridcolor": "white",
           "linecolor": "white",
           "ticks": "",
           "title": {
            "standoff": 15
           },
           "zerolinecolor": "white",
           "zerolinewidth": 2
          },
          "yaxis": {
           "automargin": true,
           "gridcolor": "white",
           "linecolor": "white",
           "ticks": "",
           "title": {
            "standoff": 15
           },
           "zerolinecolor": "white",
           "zerolinewidth": 2
          }
         }
        },
        "xaxis": {
         "anchor": "y",
         "domain": [
          0,
          1
         ],
         "title": {
          "text": "x"
         }
        },
        "yaxis": {
         "anchor": "x",
         "domain": [
          0,
          1
         ],
         "title": {
          "text": "y"
         }
        }
       }
      }
     },
     "metadata": {}
    }
   ],
   "source": [
    "fig = px.scatter(x=cluster_centers[:,0], y=cluster_centers[:,1], color=binom_sample)\n",
    "for idx_point_1, idx_point_2 in zip(start_points, end_points):\n",
    "    if idx_point_1 < idx_point_2:\n",
    "        line = np.array([cluster_centers[idx_point_1],cluster_centers[idx_point_2]])\n",
    "        fig.add_trace(go.Scatter(x=line[:,0], y=line[:,1], mode=\"lines\", line_color=\"black\"))\n",
    "fig.update_layout(showlegend=False)\n",
    "fig.show()"
   ]
  },
  {
   "cell_type": "code",
   "execution_count": null,
   "metadata": {},
   "outputs": [],
   "source": []
  },
  {
   "cell_type": "code",
   "execution_count": null,
   "metadata": {},
   "outputs": [],
   "source": []
  }
 ]
}