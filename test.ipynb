{
 "metadata": {
  "language_info": {
   "codemirror_mode": {
    "name": "ipython",
    "version": 3
   },
   "file_extension": ".py",
   "mimetype": "text/x-python",
   "name": "python",
   "nbconvert_exporter": "python",
   "pygments_lexer": "ipython3",
   "version": "3.7.6-final"
  },
  "orig_nbformat": 2,
  "kernelspec": {
   "name": "Python 3.7.6 64-bit ('data': conda)",
   "display_name": "Python 3.7.6 64-bit ('data': conda)",
   "metadata": {
    "interpreter": {
     "hash": "2bdec0d84ddbe38cdac198f8d53576ff6ec339cc8de48e4d04d251f27d4a5633"
    }
   }
  }
 },
 "nbformat": 4,
 "nbformat_minor": 2,
 "cells": [
  {
   "cell_type": "code",
   "execution_count": 1,
   "metadata": {},
   "outputs": [],
   "source": [
    "import scipy.stats as stats\n",
    "import numpy as np\n",
    "import matplotlib.pyplot as plt\n",
    "import plotly.express as px\n",
    "import plotly.graph_objects as go\n",
    "from scipy.spatial.distance import pdist, squareform"
   ]
  },
  {
   "cell_type": "code",
   "execution_count": 2,
   "metadata": {},
   "outputs": [],
   "source": [
    "np.random.seed(42)\n",
    "p = 0.3\n",
    "n_estimation = 100\n",
    "n_cluster = 100\n",
    "cluster_centers = np.random.rand(n_cluster,2)\n",
    "binom_sample = stats.binom.rvs(n_estimation, p, size=(n_cluster))"
   ]
  },
  {
   "cell_type": "code",
   "execution_count": 3,
   "metadata": {},
   "outputs": [
    {
     "output_type": "display_data",
     "data": {
      "application/vnd.plotly.v1+json": {
       "config": {
        "plotlyServerURL": "https://plot.ly"
       },
       "data": [
        {
         "hovertemplate": "x=%{x}<br>y=%{y}<br>color=%{marker.color}<extra></extra>",
         "legendgroup": "",
         "marker": {
          "color": [
           32,
           24,
           25,
           36,
           31,
           20,
           24,
           32,
           19,
           25,
           30,
           32,
           32,
           26,
           33,
           27,
           28,
           33,
           32,
           35,
           32,
           31,
           24,
           28,
           27,
           27,
           39,
           29,
           36,
           31,
           34,
           30,
           31,
           30,
           26,
           33,
           27,
           21,
           32,
           26,
           37,
           38,
           36,
           28,
           20,
           37,
           29,
           39,
           38,
           35,
           27,
           29,
           35,
           28,
           26,
           31,
           37,
           32,
           31,
           24,
           31,
           41,
           25,
           30,
           35,
           33,
           32,
           32,
           28,
           27,
           34,
           34,
           35,
           36,
           30,
           30,
           34,
           32,
           32,
           34,
           36,
           28,
           28,
           24,
           31,
           22,
           30,
           30,
           27,
           31,
           22,
           22,
           34,
           28,
           25,
           30,
           33,
           26,
           31,
           24
          ],
          "coloraxis": "coloraxis",
          "symbol": "circle"
         },
         "mode": "markers",
         "name": "",
         "showlegend": false,
         "type": "scatter",
         "x": [
          0.3745401188473625,
          0.7319939418114051,
          0.15601864044243652,
          0.05808361216819946,
          0.6011150117432088,
          0.020584494295802447,
          0.8324426408004217,
          0.18182496720710062,
          0.3042422429595377,
          0.43194501864211576,
          0.6118528947223795,
          0.29214464853521815,
          0.45606998421703593,
          0.19967378215835974,
          0.5924145688620425,
          0.6075448519014384,
          0.06505159298527952,
          0.9656320330745594,
          0.3046137691733707,
          0.6842330265121569,
          0.12203823484477883,
          0.034388521115218396,
          0.2587799816000169,
          0.31171107608941095,
          0.5467102793432796,
          0.9695846277645586,
          0.9394989415641891,
          0.5978999788110851,
          0.0884925020519195,
          0.045227288910538066,
          0.388677289689482,
          0.8287375091519293,
          0.28093450968738076,
          0.14092422497476265,
          0.07455064367977082,
          0.7722447692966574,
          0.005522117123602399,
          0.7068573438476171,
          0.7712703466859457,
          0.3584657285442726,
          0.8631034258755935,
          0.3308980248526492,
          0.3109823217156622,
          0.7296061783380641,
          0.8872127425763265,
          0.1195942459383017,
          0.7607850486168974,
          0.770967179954561,
          0.5227328293819941,
          0.02541912674409519,
          0.03142918568673425,
          0.3143559810763267,
          0.907566473926093,
          0.41038292303562973,
          0.22879816549162246,
          0.289751452913768,
          0.9296976523425731,
          0.6334037565104235,
          0.8036720768991145,
          0.8925589984899778,
          0.8074401551640625,
          0.3180034749718639,
          0.22793516254194168,
          0.8180147659224931,
          0.006952130531190703,
          0.417411003148779,
          0.1198653673336828,
          0.9429097039125192,
          0.5187906217433661,
          0.363629602379294,
          0.9624472949421112,
          0.49724850589238545,
          0.2848404943774676,
          0.6095643339798968,
          0.05147875124998935,
          0.9082658859666537,
          0.1448948720912231,
          0.9856504541106007,
          0.6721355474058786,
          0.23763754399239967,
          0.3677831327192532,
          0.6335297107608947,
          0.0902897700544083,
          0.32078006497173583,
          0.040775141554763916,
          0.6775643618422824,
          0.512093058299281,
          0.6451727904094499,
          0.690937738102466,
          0.9367299887367345,
          0.3410663510502585,
          0.9246936182785628,
          0.2579416277151556,
          0.8172222002012158,
          0.5296505783560065,
          0.09310276780589921,
          0.9004180571633305,
          0.3390297910487007,
          0.7259556788702394,
          0.8870864242651173
         ],
         "xaxis": "x",
         "y": [
          0.9507143064099162,
          0.5986584841970366,
          0.15599452033620265,
          0.8661761457749352,
          0.7080725777960455,
          0.9699098521619943,
          0.21233911067827616,
          0.18340450985343382,
          0.5247564316322378,
          0.2912291401980419,
          0.13949386065204183,
          0.3663618432936917,
          0.7851759613930136,
          0.5142344384136116,
          0.046450412719997725,
          0.17052412368729153,
          0.9488855372533332,
          0.8083973481164611,
          0.09767211400638387,
          0.4401524937396013,
          0.4951769101112702,
          0.9093204020787821,
          0.662522284353982,
          0.5200680211778108,
          0.18485445552552704,
          0.7751328233611146,
          0.8948273504276488,
          0.9218742350231168,
          0.1959828624191452,
          0.32533033076326434,
          0.2713490317738959,
          0.3567533266935893,
          0.5426960831582485,
          0.8021969807540397,
          0.9868869366005173,
          0.1987156815341724,
          0.8154614284548342,
          0.7290071680409873,
          0.07404465173409036,
          0.11586905952512971,
          0.6232981268275579,
          0.06355835028602363,
          0.32518332202674705,
          0.6375574713552131,
          0.4722149251619493,
          0.713244787222995,
          0.5612771975694962,
          0.49379559636439074,
          0.42754101835854963,
          0.10789142699330445,
          0.6364104112637804,
          0.5085706911647028,
          0.24929222914887494,
          0.7555511385430487,
          0.07697990982879299,
          0.16122128725400442,
          0.808120379564417,
          0.8714605901877177,
          0.18657005888603584,
          0.5393422419156507,
          0.8960912999234932,
          0.11005192452767676,
          0.4271077886262563,
          0.8607305832563434,
          0.5107473025775657,
          0.22210781047073025,
          0.33761517140362796,
          0.32320293202075523,
          0.7030189588951778,
          0.9717820827209607,
          0.25178229582536416,
          0.30087830981676966,
          0.036886947354532795,
          0.5026790232288615,
          0.27864646423661144,
          0.23956189066697242,
          0.489452760277563,
          0.2420552715115004,
          0.7616196153287176,
          0.7282163486118596,
          0.6323058305935795,
          0.5357746840747585,
          0.835302495589238,
          0.18651851039985423,
          0.5908929431882418,
          0.016587828927856152,
          0.22649577519793795,
          0.17436642900499144,
          0.3867353463005374,
          0.13752094414599325,
          0.11347352124058907,
          0.877339353380981,
          0.659984046034179,
          0.5552008115994623,
          0.24185229090045168,
          0.8972157579533268,
          0.6331014572732679,
          0.3492095746126609,
          0.8971102599525771,
          0.7798755458576239
         ],
         "yaxis": "y"
        }
       ],
       "layout": {
        "coloraxis": {
         "colorbar": {
          "title": {
           "text": "color"
          }
         },
         "colorscale": [
          [
           0,
           "#0d0887"
          ],
          [
           0.1111111111111111,
           "#46039f"
          ],
          [
           0.2222222222222222,
           "#7201a8"
          ],
          [
           0.3333333333333333,
           "#9c179e"
          ],
          [
           0.4444444444444444,
           "#bd3786"
          ],
          [
           0.5555555555555556,
           "#d8576b"
          ],
          [
           0.6666666666666666,
           "#ed7953"
          ],
          [
           0.7777777777777778,
           "#fb9f3a"
          ],
          [
           0.8888888888888888,
           "#fdca26"
          ],
          [
           1,
           "#f0f921"
          ]
         ]
        },
        "legend": {
         "tracegroupgap": 0
        },
        "margin": {
         "t": 60
        },
        "template": {
         "data": {
          "bar": [
           {
            "error_x": {
             "color": "#2a3f5f"
            },
            "error_y": {
             "color": "#2a3f5f"
            },
            "marker": {
             "line": {
              "color": "#E5ECF6",
              "width": 0.5
             }
            },
            "type": "bar"
           }
          ],
          "barpolar": [
           {
            "marker": {
             "line": {
              "color": "#E5ECF6",
              "width": 0.5
             }
            },
            "type": "barpolar"
           }
          ],
          "carpet": [
           {
            "aaxis": {
             "endlinecolor": "#2a3f5f",
             "gridcolor": "white",
             "linecolor": "white",
             "minorgridcolor": "white",
             "startlinecolor": "#2a3f5f"
            },
            "baxis": {
             "endlinecolor": "#2a3f5f",
             "gridcolor": "white",
             "linecolor": "white",
             "minorgridcolor": "white",
             "startlinecolor": "#2a3f5f"
            },
            "type": "carpet"
           }
          ],
          "choropleth": [
           {
            "colorbar": {
             "outlinewidth": 0,
             "ticks": ""
            },
            "type": "choropleth"
           }
          ],
          "contour": [
           {
            "colorbar": {
             "outlinewidth": 0,
             "ticks": ""
            },
            "colorscale": [
             [
              0,
              "#0d0887"
             ],
             [
              0.1111111111111111,
              "#46039f"
             ],
             [
              0.2222222222222222,
              "#7201a8"
             ],
             [
              0.3333333333333333,
              "#9c179e"
             ],
             [
              0.4444444444444444,
              "#bd3786"
             ],
             [
              0.5555555555555556,
              "#d8576b"
             ],
             [
              0.6666666666666666,
              "#ed7953"
             ],
             [
              0.7777777777777778,
              "#fb9f3a"
             ],
             [
              0.8888888888888888,
              "#fdca26"
             ],
             [
              1,
              "#f0f921"
             ]
            ],
            "type": "contour"
           }
          ],
          "contourcarpet": [
           {
            "colorbar": {
             "outlinewidth": 0,
             "ticks": ""
            },
            "type": "contourcarpet"
           }
          ],
          "heatmap": [
           {
            "colorbar": {
             "outlinewidth": 0,
             "ticks": ""
            },
            "colorscale": [
             [
              0,
              "#0d0887"
             ],
             [
              0.1111111111111111,
              "#46039f"
             ],
             [
              0.2222222222222222,
              "#7201a8"
             ],
             [
              0.3333333333333333,
              "#9c179e"
             ],
             [
              0.4444444444444444,
              "#bd3786"
             ],
             [
              0.5555555555555556,
              "#d8576b"
             ],
             [
              0.6666666666666666,
              "#ed7953"
             ],
             [
              0.7777777777777778,
              "#fb9f3a"
             ],
             [
              0.8888888888888888,
              "#fdca26"
             ],
             [
              1,
              "#f0f921"
             ]
            ],
            "type": "heatmap"
           }
          ],
          "heatmapgl": [
           {
            "colorbar": {
             "outlinewidth": 0,
             "ticks": ""
            },
            "colorscale": [
             [
              0,
              "#0d0887"
             ],
             [
              0.1111111111111111,
              "#46039f"
             ],
             [
              0.2222222222222222,
              "#7201a8"
             ],
             [
              0.3333333333333333,
              "#9c179e"
             ],
             [
              0.4444444444444444,
              "#bd3786"
             ],
             [
              0.5555555555555556,
              "#d8576b"
             ],
             [
              0.6666666666666666,
              "#ed7953"
             ],
             [
              0.7777777777777778,
              "#fb9f3a"
             ],
             [
              0.8888888888888888,
              "#fdca26"
             ],
             [
              1,
              "#f0f921"
             ]
            ],
            "type": "heatmapgl"
           }
          ],
          "histogram": [
           {
            "marker": {
             "colorbar": {
              "outlinewidth": 0,
              "ticks": ""
             }
            },
            "type": "histogram"
           }
          ],
          "histogram2d": [
           {
            "colorbar": {
             "outlinewidth": 0,
             "ticks": ""
            },
            "colorscale": [
             [
              0,
              "#0d0887"
             ],
             [
              0.1111111111111111,
              "#46039f"
             ],
             [
              0.2222222222222222,
              "#7201a8"
             ],
             [
              0.3333333333333333,
              "#9c179e"
             ],
             [
              0.4444444444444444,
              "#bd3786"
             ],
             [
              0.5555555555555556,
              "#d8576b"
             ],
             [
              0.6666666666666666,
              "#ed7953"
             ],
             [
              0.7777777777777778,
              "#fb9f3a"
             ],
             [
              0.8888888888888888,
              "#fdca26"
             ],
             [
              1,
              "#f0f921"
             ]
            ],
            "type": "histogram2d"
           }
          ],
          "histogram2dcontour": [
           {
            "colorbar": {
             "outlinewidth": 0,
             "ticks": ""
            },
            "colorscale": [
             [
              0,
              "#0d0887"
             ],
             [
              0.1111111111111111,
              "#46039f"
             ],
             [
              0.2222222222222222,
              "#7201a8"
             ],
             [
              0.3333333333333333,
              "#9c179e"
             ],
             [
              0.4444444444444444,
              "#bd3786"
             ],
             [
              0.5555555555555556,
              "#d8576b"
             ],
             [
              0.6666666666666666,
              "#ed7953"
             ],
             [
              0.7777777777777778,
              "#fb9f3a"
             ],
             [
              0.8888888888888888,
              "#fdca26"
             ],
             [
              1,
              "#f0f921"
             ]
            ],
            "type": "histogram2dcontour"
           }
          ],
          "mesh3d": [
           {
            "colorbar": {
             "outlinewidth": 0,
             "ticks": ""
            },
            "type": "mesh3d"
           }
          ],
          "parcoords": [
           {
            "line": {
             "colorbar": {
              "outlinewidth": 0,
              "ticks": ""
             }
            },
            "type": "parcoords"
           }
          ],
          "pie": [
           {
            "automargin": true,
            "type": "pie"
           }
          ],
          "scatter": [
           {
            "marker": {
             "colorbar": {
              "outlinewidth": 0,
              "ticks": ""
             }
            },
            "type": "scatter"
           }
          ],
          "scatter3d": [
           {
            "line": {
             "colorbar": {
              "outlinewidth": 0,
              "ticks": ""
             }
            },
            "marker": {
             "colorbar": {
              "outlinewidth": 0,
              "ticks": ""
             }
            },
            "type": "scatter3d"
           }
          ],
          "scattercarpet": [
           {
            "marker": {
             "colorbar": {
              "outlinewidth": 0,
              "ticks": ""
             }
            },
            "type": "scattercarpet"
           }
          ],
          "scattergeo": [
           {
            "marker": {
             "colorbar": {
              "outlinewidth": 0,
              "ticks": ""
             }
            },
            "type": "scattergeo"
           }
          ],
          "scattergl": [
           {
            "marker": {
             "colorbar": {
              "outlinewidth": 0,
              "ticks": ""
             }
            },
            "type": "scattergl"
           }
          ],
          "scattermapbox": [
           {
            "marker": {
             "colorbar": {
              "outlinewidth": 0,
              "ticks": ""
             }
            },
            "type": "scattermapbox"
           }
          ],
          "scatterpolar": [
           {
            "marker": {
             "colorbar": {
              "outlinewidth": 0,
              "ticks": ""
             }
            },
            "type": "scatterpolar"
           }
          ],
          "scatterpolargl": [
           {
            "marker": {
             "colorbar": {
              "outlinewidth": 0,
              "ticks": ""
             }
            },
            "type": "scatterpolargl"
           }
          ],
          "scatterternary": [
           {
            "marker": {
             "colorbar": {
              "outlinewidth": 0,
              "ticks": ""
             }
            },
            "type": "scatterternary"
           }
          ],
          "surface": [
           {
            "colorbar": {
             "outlinewidth": 0,
             "ticks": ""
            },
            "colorscale": [
             [
              0,
              "#0d0887"
             ],
             [
              0.1111111111111111,
              "#46039f"
             ],
             [
              0.2222222222222222,
              "#7201a8"
             ],
             [
              0.3333333333333333,
              "#9c179e"
             ],
             [
              0.4444444444444444,
              "#bd3786"
             ],
             [
              0.5555555555555556,
              "#d8576b"
             ],
             [
              0.6666666666666666,
              "#ed7953"
             ],
             [
              0.7777777777777778,
              "#fb9f3a"
             ],
             [
              0.8888888888888888,
              "#fdca26"
             ],
             [
              1,
              "#f0f921"
             ]
            ],
            "type": "surface"
           }
          ],
          "table": [
           {
            "cells": {
             "fill": {
              "color": "#EBF0F8"
             },
             "line": {
              "color": "white"
             }
            },
            "header": {
             "fill": {
              "color": "#C8D4E3"
             },
             "line": {
              "color": "white"
             }
            },
            "type": "table"
           }
          ]
         },
         "layout": {
          "annotationdefaults": {
           "arrowcolor": "#2a3f5f",
           "arrowhead": 0,
           "arrowwidth": 1
          },
          "coloraxis": {
           "colorbar": {
            "outlinewidth": 0,
            "ticks": ""
           }
          },
          "colorscale": {
           "diverging": [
            [
             0,
             "#8e0152"
            ],
            [
             0.1,
             "#c51b7d"
            ],
            [
             0.2,
             "#de77ae"
            ],
            [
             0.3,
             "#f1b6da"
            ],
            [
             0.4,
             "#fde0ef"
            ],
            [
             0.5,
             "#f7f7f7"
            ],
            [
             0.6,
             "#e6f5d0"
            ],
            [
             0.7,
             "#b8e186"
            ],
            [
             0.8,
             "#7fbc41"
            ],
            [
             0.9,
             "#4d9221"
            ],
            [
             1,
             "#276419"
            ]
           ],
           "sequential": [
            [
             0,
             "#0d0887"
            ],
            [
             0.1111111111111111,
             "#46039f"
            ],
            [
             0.2222222222222222,
             "#7201a8"
            ],
            [
             0.3333333333333333,
             "#9c179e"
            ],
            [
             0.4444444444444444,
             "#bd3786"
            ],
            [
             0.5555555555555556,
             "#d8576b"
            ],
            [
             0.6666666666666666,
             "#ed7953"
            ],
            [
             0.7777777777777778,
             "#fb9f3a"
            ],
            [
             0.8888888888888888,
             "#fdca26"
            ],
            [
             1,
             "#f0f921"
            ]
           ],
           "sequentialminus": [
            [
             0,
             "#0d0887"
            ],
            [
             0.1111111111111111,
             "#46039f"
            ],
            [
             0.2222222222222222,
             "#7201a8"
            ],
            [
             0.3333333333333333,
             "#9c179e"
            ],
            [
             0.4444444444444444,
             "#bd3786"
            ],
            [
             0.5555555555555556,
             "#d8576b"
            ],
            [
             0.6666666666666666,
             "#ed7953"
            ],
            [
             0.7777777777777778,
             "#fb9f3a"
            ],
            [
             0.8888888888888888,
             "#fdca26"
            ],
            [
             1,
             "#f0f921"
            ]
           ]
          },
          "colorway": [
           "#636efa",
           "#EF553B",
           "#00cc96",
           "#ab63fa",
           "#FFA15A",
           "#19d3f3",
           "#FF6692",
           "#B6E880",
           "#FF97FF",
           "#FECB52"
          ],
          "font": {
           "color": "#2a3f5f"
          },
          "geo": {
           "bgcolor": "white",
           "lakecolor": "white",
           "landcolor": "#E5ECF6",
           "showlakes": true,
           "showland": true,
           "subunitcolor": "white"
          },
          "hoverlabel": {
           "align": "left"
          },
          "hovermode": "closest",
          "mapbox": {
           "style": "light"
          },
          "paper_bgcolor": "white",
          "plot_bgcolor": "#E5ECF6",
          "polar": {
           "angularaxis": {
            "gridcolor": "white",
            "linecolor": "white",
            "ticks": ""
           },
           "bgcolor": "#E5ECF6",
           "radialaxis": {
            "gridcolor": "white",
            "linecolor": "white",
            "ticks": ""
           }
          },
          "scene": {
           "xaxis": {
            "backgroundcolor": "#E5ECF6",
            "gridcolor": "white",
            "gridwidth": 2,
            "linecolor": "white",
            "showbackground": true,
            "ticks": "",
            "zerolinecolor": "white"
           },
           "yaxis": {
            "backgroundcolor": "#E5ECF6",
            "gridcolor": "white",
            "gridwidth": 2,
            "linecolor": "white",
            "showbackground": true,
            "ticks": "",
            "zerolinecolor": "white"
           },
           "zaxis": {
            "backgroundcolor": "#E5ECF6",
            "gridcolor": "white",
            "gridwidth": 2,
            "linecolor": "white",
            "showbackground": true,
            "ticks": "",
            "zerolinecolor": "white"
           }
          },
          "shapedefaults": {
           "line": {
            "color": "#2a3f5f"
           }
          },
          "ternary": {
           "aaxis": {
            "gridcolor": "white",
            "linecolor": "white",
            "ticks": ""
           },
           "baxis": {
            "gridcolor": "white",
            "linecolor": "white",
            "ticks": ""
           },
           "bgcolor": "#E5ECF6",
           "caxis": {
            "gridcolor": "white",
            "linecolor": "white",
            "ticks": ""
           }
          },
          "title": {
           "x": 0.05
          },
          "xaxis": {
           "automargin": true,
           "gridcolor": "white",
           "linecolor": "white",
           "ticks": "",
           "title": {
            "standoff": 15
           },
           "zerolinecolor": "white",
           "zerolinewidth": 2
          },
          "yaxis": {
           "automargin": true,
           "gridcolor": "white",
           "linecolor": "white",
           "ticks": "",
           "title": {
            "standoff": 15
           },
           "zerolinecolor": "white",
           "zerolinewidth": 2
          }
         }
        },
        "xaxis": {
         "anchor": "y",
         "domain": [
          0,
          1
         ],
         "title": {
          "text": "x"
         }
        },
        "yaxis": {
         "anchor": "x",
         "domain": [
          0,
          1
         ],
         "title": {
          "text": "y"
         }
        }
       }
      }
     },
     "metadata": {}
    }
   ],
   "source": [
    "px.scatter(x=cluster_centers[:,0], y=cluster_centers[:,1], color=binom_sample)"
   ]
  },
  {
   "cell_type": "code",
   "execution_count": 4,
   "metadata": {},
   "outputs": [
    {
     "output_type": "execute_result",
     "data": {
      "text/plain": [
       "<matplotlib.collections.PathCollection at 0x215dbeaec48>"
      ]
     },
     "metadata": {},
     "execution_count": 4
    },
    {
     "output_type": "display_data",
     "data": {
      "text/plain": "<Figure size 432x288 with 1 Axes>",
      "image/svg+xml": "<?xml version=\"1.0\" encoding=\"utf-8\" standalone=\"no\"?>\r\n<!DOCTYPE svg PUBLIC \"-//W3C//DTD SVG 1.1//EN\"\r\n  \"http://www.w3.org/Graphics/SVG/1.1/DTD/svg11.dtd\">\r\n<!-- Created with matplotlib (https://matplotlib.org/) -->\r\n<svg height=\"248.518125pt\" version=\"1.1\" viewBox=\"0 0 372.103125 248.518125\" width=\"372.103125pt\" xmlns=\"http://www.w3.org/2000/svg\" xmlns:xlink=\"http://www.w3.org/1999/xlink\">\r\n <metadata>\r\n  <rdf:RDF xmlns:cc=\"http://creativecommons.org/ns#\" xmlns:dc=\"http://purl.org/dc/elements/1.1/\" xmlns:rdf=\"http://www.w3.org/1999/02/22-rdf-syntax-ns#\">\r\n   <cc:Work>\r\n    <dc:type rdf:resource=\"http://purl.org/dc/dcmitype/StillImage\"/>\r\n    <dc:date>2020-10-27T10:18:45.871289</dc:date>\r\n    <dc:format>image/svg+xml</dc:format>\r\n    <dc:creator>\r\n     <cc:Agent>\r\n      <dc:title>Matplotlib v3.3.2, https://matplotlib.org/</dc:title>\r\n     </cc:Agent>\r\n    </dc:creator>\r\n   </cc:Work>\r\n  </rdf:RDF>\r\n </metadata>\r\n <defs>\r\n  <style type=\"text/css\">*{stroke-linecap:butt;stroke-linejoin:round;}</style>\r\n </defs>\r\n <g id=\"figure_1\">\r\n  <g id=\"patch_1\">\r\n   <path d=\"M 0 248.518125 \r\nL 372.103125 248.518125 \r\nL 372.103125 0 \r\nL 0 0 \r\nz\r\n\" style=\"fill:none;\"/>\r\n  </g>\r\n  <g id=\"axes_1\">\r\n   <g id=\"patch_2\">\r\n    <path d=\"M 30.103125 224.64 \r\nL 364.903125 224.64 \r\nL 364.903125 7.2 \r\nL 30.103125 7.2 \r\nz\r\n\" style=\"fill:#ffffff;\"/>\r\n   </g>\r\n   <g id=\"PathCollection_1\">\r\n    <defs>\r\n     <path d=\"M 0 3 \r\nC 0.795609 3 1.55874 2.683901 2.12132 2.12132 \r\nC 2.683901 1.55874 3 0.795609 3 -0 \r\nC 3 -0.795609 2.683901 -1.55874 2.12132 -2.12132 \r\nC 1.55874 -2.683901 0.795609 -3 0 -3 \r\nC -0.795609 -3 -1.55874 -2.683901 -2.12132 -2.12132 \r\nC -2.683901 -1.55874 -3 -0.795609 -3 0 \r\nC -3 0.795609 -2.683901 1.55874 -2.12132 2.12132 \r\nC -1.55874 2.683901 -0.795609 3 0 3 \r\nz\r\n\" id=\"C0_0_b7da95fce6\"/>\r\n    </defs>\r\n    <g clip-path=\"url(#p8a87b533da)\">\r\n     <use style=\"fill:#21a685;stroke:#21a685;\" x=\"159.914117\" xlink:href=\"#C0_0_b7da95fce6\" y=\"24.452851\"/>\r\n    </g>\r\n    <g clip-path=\"url(#p8a87b533da)\">\r\n     <use style=\"fill:#3e4c8a;stroke:#3e4c8a;\" x=\"270.915852\" xlink:href=\"#C0_0_b7da95fce6\" y=\"96.174894\"/>\r\n    </g>\r\n    <g clip-path=\"url(#p8a87b533da)\">\r\n     <use style=\"fill:#38588c;stroke:#38588c;\" x=\"92.055665\" xlink:href=\"#C0_0_b7da95fce6\" y=\"186.355945\"/>\r\n    </g>\r\n    <g clip-path=\"url(#p8a87b533da)\">\r\n     <use style=\"fill:#69cd5b;stroke:#69cd5b;\" x=\"61.643463\" xlink:href=\"#C0_0_b7da95fce6\" y=\"41.675261\"/>\r\n    </g>\r\n    <g clip-path=\"url(#p8a87b533da)\">\r\n     <use style=\"fill:#1e9b8a;stroke:#1e9b8a;\" x=\"230.273432\" xlink:href=\"#C0_0_b7da95fce6\" y=\"73.884673\"/>\r\n    </g>\r\n    <g clip-path=\"url(#p8a87b533da)\">\r\n     <use style=\"fill:#471164;stroke:#471164;\" x=\"49.998694\" xlink:href=\"#C0_0_b7da95fce6\" y=\"20.542267\"/>\r\n    </g>\r\n    <g clip-path=\"url(#p8a87b533da)\">\r\n     <use style=\"fill:#3e4c8a;stroke:#3e4c8a;\" x=\"302.108636\" xlink:href=\"#C0_0_b7da95fce6\" y=\"174.877228\"/>\r\n    </g>\r\n    <g clip-path=\"url(#p8a87b533da)\">\r\n     <use style=\"fill:#21a685;stroke:#21a685;\" x=\"100.069419\" xlink:href=\"#C0_0_b7da95fce6\" y=\"180.771886\"/>\r\n    </g>\r\n    <g clip-path=\"url(#p8a87b533da)\">\r\n     <use style=\"fill:#440154;stroke:#440154;\" x=\"138.084204\" xlink:href=\"#C0_0_b7da95fce6\" y=\"111.230479\"/>\r\n    </g>\r\n    <g clip-path=\"url(#p8a87b533da)\">\r\n     <use style=\"fill:#38588c;stroke:#38588c;\" x=\"177.740318\" xlink:href=\"#C0_0_b7da95fce6\" y=\"158.805475\"/>\r\n    </g>\r\n    <g clip-path=\"url(#p8a87b533da)\">\r\n     <use style=\"fill:#21918c;stroke:#21918c;\" x=\"233.607915\" xlink:href=\"#C0_0_b7da95fce6\" y=\"189.717517\"/>\r\n    </g>\r\n    <g clip-path=\"url(#p8a87b533da)\">\r\n     <use style=\"fill:#21a685;stroke:#21a685;\" x=\"134.327483\" xlink:href=\"#C0_0_b7da95fce6\" y=\"143.499178\"/>\r\n    </g>\r\n    <g clip-path=\"url(#p8a87b533da)\">\r\n     <use style=\"fill:#21a685;stroke:#21a685;\" x=\"185.231951\" xlink:href=\"#C0_0_b7da95fce6\" y=\"58.176902\"/>\r\n    </g>\r\n    <g clip-path=\"url(#p8a87b533da)\">\r\n     <use style=\"fill:#32648e;stroke:#32648e;\" x=\"105.612092\" xlink:href=\"#C0_0_b7da95fce6\" y=\"113.374056\"/>\r\n    </g>\r\n    <g clip-path=\"url(#p8a87b533da)\">\r\n     <use style=\"fill:#2ab07f;stroke:#2ab07f;\" x=\"227.571645\" xlink:href=\"#C0_0_b7da95fce6\" y=\"208.672654\"/>\r\n    </g>\r\n    <g clip-path=\"url(#p8a87b533da)\">\r\n     <use style=\"fill:#2d708e;stroke:#2d708e;\" x=\"232.270119\" xlink:href=\"#C0_0_b7da95fce6\" y=\"183.395923\"/>\r\n    </g>\r\n    <g clip-path=\"url(#p8a87b533da)\">\r\n     <use style=\"fill:#297a8e;stroke:#297a8e;\" x=\"63.807261\" xlink:href=\"#C0_0_b7da95fce6\" y=\"24.825414\"/>\r\n    </g>\r\n    <g clip-path=\"url(#p8a87b533da)\">\r\n     <use style=\"fill:#2ab07f;stroke:#2ab07f;\" x=\"343.468533\" xlink:href=\"#C0_0_b7da95fce6\" y=\"53.446159\"/>\r\n    </g>\r\n    <g clip-path=\"url(#p8a87b533da)\">\r\n     <use style=\"fill:#21a685;stroke:#21a685;\" x=\"138.199575\" xlink:href=\"#C0_0_b7da95fce6\" y=\"198.23759\"/>\r\n    </g>\r\n    <g clip-path=\"url(#p8a87b533da)\">\r\n     <use style=\"fill:#52c569;stroke:#52c569;\" x=\"256.084441\" xlink:href=\"#C0_0_b7da95fce6\" y=\"128.466289\"/>\r\n    </g>\r\n    <g clip-path=\"url(#p8a87b533da)\">\r\n     <use style=\"fill:#21a685;stroke:#21a685;\" x=\"81.503578\" xlink:href=\"#C0_0_b7da95fce6\" y=\"117.256522\"/>\r\n    </g>\r\n    <g clip-path=\"url(#p8a87b533da)\">\r\n     <use style=\"fill:#1e9b8a;stroke:#1e9b8a;\" x=\"54.28532\" xlink:href=\"#C0_0_b7da95fce6\" y=\"32.885762\"/>\r\n    </g>\r\n    <g clip-path=\"url(#p8a87b533da)\">\r\n     <use style=\"fill:#3e4c8a;stroke:#3e4c8a;\" x=\"123.966604\" xlink:href=\"#C0_0_b7da95fce6\" y=\"83.164338\"/>\r\n    </g>\r\n    <g clip-path=\"url(#p8a87b533da)\">\r\n     <use style=\"fill:#297a8e;stroke:#297a8e;\" x=\"140.403534\" xlink:href=\"#C0_0_b7da95fce6\" y=\"112.185618\"/>\r\n    </g>\r\n    <g clip-path=\"url(#p8a87b533da)\">\r\n     <use style=\"fill:#2d708e;stroke:#2d708e;\" x=\"213.378887\" xlink:href=\"#C0_0_b7da95fce6\" y=\"180.476498\"/>\r\n    </g>\r\n    <g clip-path=\"url(#p8a87b533da)\">\r\n     <use style=\"fill:#2d708e;stroke:#2d708e;\" x=\"344.69595\" xlink:href=\"#C0_0_b7da95fce6\" y=\"60.222925\"/>\r\n    </g>\r\n    <g clip-path=\"url(#p8a87b533da)\">\r\n     <use style=\"fill:#c2df23;stroke:#c2df23;\" x=\"335.353308\" xlink:href=\"#C0_0_b7da95fce6\" y=\"35.838337\"/>\r\n    </g>\r\n    <g clip-path=\"url(#p8a87b533da)\">\r\n     <use style=\"fill:#25858e;stroke:#25858e;\" x=\"229.275054\" xlink:href=\"#C0_0_b7da95fce6\" y=\"30.328251\"/>\r\n    </g>\r\n    <g clip-path=\"url(#p8a87b533da)\">\r\n     <use style=\"fill:#69cd5b;stroke:#69cd5b;\" x=\"71.086472\" xlink:href=\"#C0_0_b7da95fce6\" y=\"178.20938\"/>\r\n    </g>\r\n    <g clip-path=\"url(#p8a87b533da)\">\r\n     <use style=\"fill:#1e9b8a;stroke:#1e9b8a;\" x=\"57.651131\" xlink:href=\"#C0_0_b7da95fce6\" y=\"151.858262\"/>\r\n    </g>\r\n    <g clip-path=\"url(#p8a87b533da)\">\r\n     <use style=\"fill:#3bbb75;stroke:#3bbb75;\" x=\"164.304196\" xlink:href=\"#C0_0_b7da95fce6\" y=\"162.855521\"/>\r\n    </g>\r\n    <g clip-path=\"url(#p8a87b533da)\">\r\n     <use style=\"fill:#21918c;stroke:#21918c;\" x=\"300.958065\" xlink:href=\"#C0_0_b7da95fce6\" y=\"145.456659\"/>\r\n    </g>\r\n    <g clip-path=\"url(#p8a87b533da)\">\r\n     <use style=\"fill:#1e9b8a;stroke:#1e9b8a;\" x=\"130.846349\" xlink:href=\"#C0_0_b7da95fce6\" y=\"107.57575\"/>\r\n    </g>\r\n    <g clip-path=\"url(#p8a87b533da)\">\r\n     <use style=\"fill:#21918c;stroke:#21918c;\" x=\"87.368329\" xlink:href=\"#C0_0_b7da95fce6\" y=\"54.70932\"/>\r\n    </g>\r\n    <g clip-path=\"url(#p8a87b533da)\">\r\n     <use style=\"fill:#32648e;stroke:#32648e;\" x=\"66.757044\" xlink:href=\"#C0_0_b7da95fce6\" y=\"17.083636\"/>\r\n    </g>\r\n    <g clip-path=\"url(#p8a87b533da)\">\r\n     <use style=\"fill:#2ab07f;stroke:#2ab07f;\" x=\"283.415121\" xlink:href=\"#C0_0_b7da95fce6\" y=\"177.652641\"/>\r\n    </g>\r\n    <g clip-path=\"url(#p8a87b533da)\">\r\n     <use style=\"fill:#2d708e;stroke:#2d708e;\" x=\"45.321307\" xlink:href=\"#C0_0_b7da95fce6\" y=\"52.00704\"/>\r\n    </g>\r\n    <g clip-path=\"url(#p8a87b533da)\">\r\n     <use style=\"fill:#482173;stroke:#482173;\" x=\"263.110072\" xlink:href=\"#C0_0_b7da95fce6\" y=\"69.619805\"/>\r\n    </g>\r\n    <g clip-path=\"url(#p8a87b533da)\">\r\n     <use style=\"fill:#21a685;stroke:#21a685;\" x=\"283.11253\" xlink:href=\"#C0_0_b7da95fce6\" y=\"203.051059\"/>\r\n    </g>\r\n    <g clip-path=\"url(#p8a87b533da)\">\r\n     <use style=\"fill:#32648e;stroke:#32648e;\" x=\"154.922465\" xlink:href=\"#C0_0_b7da95fce6\" y=\"194.530444\"/>\r\n    </g>\r\n    <g clip-path=\"url(#p8a87b533da)\">\r\n     <use style=\"fill:#86d549;stroke:#86d549;\" x=\"311.629866\" xlink:href=\"#C0_0_b7da95fce6\" y=\"91.15522\"/>\r\n    </g>\r\n    <g clip-path=\"url(#p8a87b533da)\">\r\n     <use style=\"fill:#a5db36;stroke:#a5db36;\" x=\"146.361743\" xlink:href=\"#C0_0_b7da95fce6\" y=\"205.187365\"/>\r\n    </g>\r\n    <g clip-path=\"url(#p8a87b533da)\">\r\n     <use style=\"fill:#69cd5b;stroke:#69cd5b;\" x=\"140.17723\" xlink:href=\"#C0_0_b7da95fce6\" y=\"151.888211\"/>\r\n    </g>\r\n    <g clip-path=\"url(#p8a87b533da)\">\r\n     <use style=\"fill:#297a8e;stroke:#297a8e;\" x=\"270.174369\" xlink:href=\"#C0_0_b7da95fce6\" y=\"88.250257\"/>\r\n    </g>\r\n    <g clip-path=\"url(#p8a87b533da)\">\r\n     <use style=\"fill:#471164;stroke:#471164;\" x=\"319.11664\" xlink:href=\"#C0_0_b7da95fce6\" y=\"121.934418\"/>\r\n    </g>\r\n    <g clip-path=\"url(#p8a87b533da)\">\r\n     <use style=\"fill:#86d549;stroke:#86d549;\" x=\"80.744635\" xlink:href=\"#C0_0_b7da95fce6\" y=\"72.830972\"/>\r\n    </g>\r\n    <g clip-path=\"url(#p8a87b533da)\">\r\n     <use style=\"fill:#25858e;stroke:#25858e;\" x=\"279.856483\" xlink:href=\"#C0_0_b7da95fce6\" y=\"103.790341\"/>\r\n    </g>\r\n    <g clip-path=\"url(#p8a87b533da)\">\r\n     <use style=\"fill:#c2df23;stroke:#c2df23;\" x=\"283.018386\" xlink:href=\"#C0_0_b7da95fce6\" y=\"117.537928\"/>\r\n    </g>\r\n    <g clip-path=\"url(#p8a87b533da)\">\r\n     <use style=\"fill:#a5db36;stroke:#a5db36;\" x=\"205.933063\" xlink:href=\"#C0_0_b7da95fce6\" y=\"131.035543\"/>\r\n    </g>\r\n    <g clip-path=\"url(#p8a87b533da)\">\r\n     <use style=\"fill:#52c569;stroke:#52c569;\" x=\"51.500014\" xlink:href=\"#C0_0_b7da95fce6\" y=\"196.155675\"/>\r\n    </g>\r\n    <g clip-path=\"url(#p8a87b533da)\">\r\n     <use style=\"fill:#2d708e;stroke:#2d708e;\" x=\"53.366345\" xlink:href=\"#C0_0_b7da95fce6\" y=\"88.48394\"/>\r\n    </g>\r\n    <g clip-path=\"url(#p8a87b533da)\">\r\n     <use style=\"fill:#25858e;stroke:#25858e;\" x=\"141.224868\" xlink:href=\"#C0_0_b7da95fce6\" y=\"114.527895\"/>\r\n    </g>\r\n    <g clip-path=\"url(#p8a87b533da)\">\r\n     <use style=\"fill:#52c569;stroke:#52c569;\" x=\"325.437176\" xlink:href=\"#C0_0_b7da95fce6\" y=\"167.349009\"/>\r\n    </g>\r\n    <g clip-path=\"url(#p8a87b533da)\">\r\n     <use style=\"fill:#297a8e;stroke:#297a8e;\" x=\"171.044544\" xlink:href=\"#C0_0_b7da95fce6\" y=\"64.212174\"/>\r\n    </g>\r\n    <g clip-path=\"url(#p8a87b533da)\">\r\n     <use style=\"fill:#32648e;stroke:#32648e;\" x=\"114.656217\" xlink:href=\"#C0_0_b7da95fce6\" y=\"202.453078\"/>\r\n    </g>\r\n    <g clip-path=\"url(#p8a87b533da)\">\r\n     <use style=\"fill:#1e9b8a;stroke:#1e9b8a;\" x=\"133.584314\" xlink:href=\"#C0_0_b7da95fce6\" y=\"185.29113\"/>\r\n    </g>\r\n    <g clip-path=\"url(#p8a87b533da)\">\r\n     <use style=\"fill:#86d549;stroke:#86d549;\" x=\"332.309669\" xlink:href=\"#C0_0_b7da95fce6\" y=\"53.502584\"/>\r\n    </g>\r\n    <g clip-path=\"url(#p8a87b533da)\">\r\n     <use style=\"fill:#21a685;stroke:#21a685;\" x=\"240.300201\" xlink:href=\"#C0_0_b7da95fce6\" y=\"40.598695\"/>\r\n    </g>\r\n    <g clip-path=\"url(#p8a87b533da)\">\r\n     <use style=\"fill:#1e9b8a;stroke:#1e9b8a;\" x=\"293.174384\" xlink:href=\"#C0_0_b7da95fce6\" y=\"180.126989\"/>\r\n    </g>\r\n    <g clip-path=\"url(#p8a87b533da)\">\r\n     <use style=\"fill:#3e4c8a;stroke:#3e4c8a;\" x=\"320.776837\" xlink:href=\"#C0_0_b7da95fce6\" y=\"108.259007\"/>\r\n    </g>\r\n    <g clip-path=\"url(#p8a87b533da)\">\r\n     <use style=\"fill:#1e9b8a;stroke:#1e9b8a;\" x=\"294.344502\" xlink:href=\"#C0_0_b7da95fce6\" y=\"35.580841\"/>\r\n    </g>\r\n    <g clip-path=\"url(#p8a87b533da)\">\r\n     <use style=\"fill:#fde725;stroke:#fde725;\" x=\"142.357541\" xlink:href=\"#C0_0_b7da95fce6\" y=\"195.715531\"/>\r\n    </g>\r\n    <g clip-path=\"url(#p8a87b533da)\">\r\n     <use style=\"fill:#38588c;stroke:#38588c;\" x=\"114.388225\" xlink:href=\"#C0_0_b7da95fce6\" y=\"131.123802\"/>\r\n    </g>\r\n    <g clip-path=\"url(#p8a87b533da)\">\r\n     <use style=\"fill:#21918c;stroke:#21918c;\" x=\"297.628283\" xlink:href=\"#C0_0_b7da95fce6\" y=\"42.78465\"/>\r\n    </g>\r\n    <g clip-path=\"url(#p8a87b533da)\">\r\n     <use style=\"fill:#52c569;stroke:#52c569;\" x=\"45.765375\" xlink:href=\"#C0_0_b7da95fce6\" y=\"114.084468\"/>\r\n    </g>\r\n    <g clip-path=\"url(#p8a87b533da)\">\r\n     <use style=\"fill:#2ab07f;stroke:#2ab07f;\" x=\"173.227005\" xlink:href=\"#C0_0_b7da95fce6\" y=\"172.887114\"/>\r\n    </g>\r\n    <g clip-path=\"url(#p8a87b533da)\">\r\n     <use style=\"fill:#21a685;stroke:#21a685;\" x=\"80.828828\" xlink:href=\"#C0_0_b7da95fce6\" y=\"149.355551\"/>\r\n    </g>\r\n    <g clip-path=\"url(#p8a87b533da)\">\r\n     <use style=\"fill:#21a685;stroke:#21a685;\" x=\"336.412467\" xlink:href=\"#C0_0_b7da95fce6\" y=\"152.291663\"/>\r\n    </g>\r\n    <g clip-path=\"url(#p8a87b533da)\">\r\n     <use style=\"fill:#297a8e;stroke:#297a8e;\" x=\"204.708871\" xlink:href=\"#C0_0_b7da95fce6\" y=\"74.914213\"/>\r\n    </g>\r\n    <g clip-path=\"url(#p8a87b533da)\">\r\n     <use style=\"fill:#2d708e;stroke:#2d708e;\" x=\"156.526026\" xlink:href=\"#C0_0_b7da95fce6\" y=\"20.16085\"/>\r\n    </g>\r\n    <g clip-path=\"url(#p8a87b533da)\">\r\n     <use style=\"fill:#3bbb75;stroke:#3bbb75;\" x=\"342.479562\" xlink:href=\"#C0_0_b7da95fce6\" y=\"166.841724\"/>\r\n    </g>\r\n    <g clip-path=\"url(#p8a87b533da)\">\r\n     <use style=\"fill:#3bbb75;stroke:#3bbb75;\" x=\"198.019302\" xlink:href=\"#C0_0_b7da95fce6\" y=\"156.839713\"/>\r\n    </g>\r\n    <g clip-path=\"url(#p8a87b533da)\">\r\n     <use style=\"fill:#52c569;stroke:#52c569;\" x=\"132.059292\" xlink:href=\"#C0_0_b7da95fce6\" y=\"210.620956\"/>\r\n    </g>\r\n    <g clip-path=\"url(#p8a87b533da)\">\r\n     <use style=\"fill:#69cd5b;stroke:#69cd5b;\" x=\"232.897238\" xlink:href=\"#C0_0_b7da95fce6\" y=\"115.728166\"/>\r\n    </g>\r\n    <g clip-path=\"url(#p8a87b533da)\">\r\n     <use style=\"fill:#21918c;stroke:#21918c;\" x=\"59.592426\" xlink:href=\"#C0_0_b7da95fce6\" y=\"161.368862\"/>\r\n    </g>\r\n    <g clip-path=\"url(#p8a87b533da)\">\r\n     <use style=\"fill:#21918c;stroke:#21918c;\" x=\"325.654367\" xlink:href=\"#C0_0_b7da95fce6\" y=\"169.331308\"/>\r\n    </g>\r\n    <g clip-path=\"url(#p8a87b533da)\">\r\n     <use style=\"fill:#3bbb75;stroke:#3bbb75;\" x=\"88.601352\" xlink:href=\"#C0_0_b7da95fce6\" y=\"118.422666\"/>\r\n    </g>\r\n    <g clip-path=\"url(#p8a87b533da)\">\r\n     <use style=\"fill:#21a685;stroke:#21a685;\" x=\"349.684943\" xlink:href=\"#C0_0_b7da95fce6\" y=\"168.823348\"/>\r\n    </g>\r\n    <g clip-path=\"url(#p8a87b533da)\">\r\n     <use style=\"fill:#21a685;stroke:#21a685;\" x=\"252.327757\" xlink:href=\"#C0_0_b7da95fce6\" y=\"62.975883\"/>\r\n    </g>\r\n    <g clip-path=\"url(#p8a87b533da)\">\r\n     <use style=\"fill:#3bbb75;stroke:#3bbb75;\" x=\"117.401149\" xlink:href=\"#C0_0_b7da95fce6\" y=\"69.780913\"/>\r\n    </g>\r\n    <g clip-path=\"url(#p8a87b533da)\">\r\n     <use style=\"fill:#69cd5b;stroke:#69cd5b;\" x=\"157.81584\" xlink:href=\"#C0_0_b7da95fce6\" y=\"89.320139\"/>\r\n    </g>\r\n    <g clip-path=\"url(#p8a87b533da)\">\r\n     <use style=\"fill:#297a8e;stroke:#297a8e;\" x=\"240.339314\" xlink:href=\"#C0_0_b7da95fce6\" y=\"108.985802\"/>\r\n    </g>\r\n    <g clip-path=\"url(#p8a87b533da)\">\r\n     <use style=\"fill:#297a8e;stroke:#297a8e;\" x=\"71.644585\" xlink:href=\"#C0_0_b7da95fce6\" y=\"47.964949\"/>\r\n    </g>\r\n    <g clip-path=\"url(#p8a87b533da)\">\r\n     <use style=\"fill:#3e4c8a;stroke:#3e4c8a;\" x=\"143.219767\" xlink:href=\"#C0_0_b7da95fce6\" y=\"180.137491\"/>\r\n    </g>\r\n    <g clip-path=\"url(#p8a87b533da)\">\r\n     <use style=\"fill:#1e9b8a;stroke:#1e9b8a;\" x=\"56.268586\" xlink:href=\"#C0_0_b7da95fce6\" y=\"97.756917\"/>\r\n    </g>\r\n    <g clip-path=\"url(#p8a87b533da)\">\r\n     <use style=\"fill:#472f7d;stroke:#472f7d;\" x=\"254.013591\" xlink:href=\"#C0_0_b7da95fce6\" y=\"214.756364\"/>\r\n    </g>\r\n    <g clip-path=\"url(#p8a87b533da)\">\r\n     <use style=\"fill:#21918c;stroke:#21918c;\" x=\"202.629047\" xlink:href=\"#C0_0_b7da95fce6\" y=\"171.993183\"/>\r\n    </g>\r\n    <g clip-path=\"url(#p8a87b533da)\">\r\n     <use style=\"fill:#21918c;stroke:#21918c;\" x=\"243.954891\" xlink:href=\"#C0_0_b7da95fce6\" y=\"182.613155\"/>\r\n    </g>\r\n    <g clip-path=\"url(#p8a87b533da)\">\r\n     <use style=\"fill:#2d708e;stroke:#2d708e;\" x=\"258.166485\" xlink:href=\"#C0_0_b7da95fce6\" y=\"139.348617\"/>\r\n    </g>\r\n    <g clip-path=\"url(#p8a87b533da)\">\r\n     <use style=\"fill:#1e9b8a;stroke:#1e9b8a;\" x=\"334.493452\" xlink:href=\"#C0_0_b7da95fce6\" y=\"190.119447\"/>\r\n    </g>\r\n    <g clip-path=\"url(#p8a87b533da)\">\r\n     <use style=\"fill:#472f7d;stroke:#472f7d;\" x=\"149.519359\" xlink:href=\"#C0_0_b7da95fce6\" y=\"195.018472\"/>\r\n    </g>\r\n    <g clip-path=\"url(#p8a87b533da)\">\r\n     <use style=\"fill:#472f7d;stroke:#472f7d;\" x=\"330.755744\" xlink:href=\"#C0_0_b7da95fce6\" y=\"39.401053\"/>\r\n    </g>\r\n    <g clip-path=\"url(#p8a87b533da)\">\r\n     <use style=\"fill:#3bbb75;stroke:#3bbb75;\" x=\"123.706266\" xlink:href=\"#C0_0_b7da95fce6\" y=\"83.681436\"/>\r\n    </g>\r\n    <g clip-path=\"url(#p8a87b533da)\">\r\n     <use style=\"fill:#297a8e;stroke:#297a8e;\" x=\"297.382164\" xlink:href=\"#C0_0_b7da95fce6\" y=\"105.028243\"/>\r\n    </g>\r\n    <g clip-path=\"url(#p8a87b533da)\">\r\n     <use style=\"fill:#38588c;stroke:#38588c;\" x=\"208.081262\" xlink:href=\"#C0_0_b7da95fce6\" y=\"168.8647\"/>\r\n    </g>\r\n    <g clip-path=\"url(#p8a87b533da)\">\r\n     <use style=\"fill:#21918c;stroke:#21918c;\" x=\"72.518118\" xlink:href=\"#C0_0_b7da95fce6\" y=\"35.351762\"/>\r\n    </g>\r\n    <g clip-path=\"url(#p8a87b533da)\">\r\n     <use style=\"fill:#2ab07f;stroke:#2ab07f;\" x=\"323.217346\" xlink:href=\"#C0_0_b7da95fce6\" y=\"89.158051\"/>\r\n    </g>\r\n    <g clip-path=\"url(#p8a87b533da)\">\r\n     <use style=\"fill:#32648e;stroke:#32648e;\" x=\"148.886937\" xlink:href=\"#C0_0_b7da95fce6\" y=\"146.993498\"/>\r\n    </g>\r\n    <g clip-path=\"url(#p8a87b533da)\">\r\n     <use style=\"fill:#1e9b8a;stroke:#1e9b8a;\" x=\"269.040763\" xlink:href=\"#C0_0_b7da95fce6\" y=\"35.373255\"/>\r\n    </g>\r\n    <g clip-path=\"url(#p8a87b533da)\">\r\n     <use style=\"fill:#3e4c8a;stroke:#3e4c8a;\" x=\"319.077414\" xlink:href=\"#C0_0_b7da95fce6\" y=\"59.256721\"/>\r\n    </g>\r\n   </g>\r\n   <g id=\"matplotlib.axis_1\">\r\n    <g id=\"xtick_1\">\r\n     <g id=\"line2d_1\">\r\n      <defs>\r\n       <path d=\"M 0 0 \r\nL 0 3.5 \r\n\" id=\"m226dd3eb7f\" style=\"stroke:#000000;stroke-width:0.8;\"/>\r\n      </defs>\r\n      <g>\r\n       <use style=\"stroke:#000000;stroke-width:0.8;\" x=\"43.606499\" xlink:href=\"#m226dd3eb7f\" y=\"224.64\"/>\r\n      </g>\r\n     </g>\r\n     <g id=\"text_1\">\r\n      <!-- 0.0 -->\r\n      <g transform=\"translate(35.654937 239.238437)scale(0.1 -0.1)\">\r\n       <defs>\r\n        <path d=\"M 31.78125 66.40625 \r\nQ 24.171875 66.40625 20.328125 58.90625 \r\nQ 16.5 51.421875 16.5 36.375 \r\nQ 16.5 21.390625 20.328125 13.890625 \r\nQ 24.171875 6.390625 31.78125 6.390625 \r\nQ 39.453125 6.390625 43.28125 13.890625 \r\nQ 47.125 21.390625 47.125 36.375 \r\nQ 47.125 51.421875 43.28125 58.90625 \r\nQ 39.453125 66.40625 31.78125 66.40625 \r\nz\r\nM 31.78125 74.21875 \r\nQ 44.046875 74.21875 50.515625 64.515625 \r\nQ 56.984375 54.828125 56.984375 36.375 \r\nQ 56.984375 17.96875 50.515625 8.265625 \r\nQ 44.046875 -1.421875 31.78125 -1.421875 \r\nQ 19.53125 -1.421875 13.0625 8.265625 \r\nQ 6.59375 17.96875 6.59375 36.375 \r\nQ 6.59375 54.828125 13.0625 64.515625 \r\nQ 19.53125 74.21875 31.78125 74.21875 \r\nz\r\n\" id=\"DejaVuSans-48\"/>\r\n        <path d=\"M 10.6875 12.40625 \r\nL 21 12.40625 \r\nL 21 0 \r\nL 10.6875 0 \r\nz\r\n\" id=\"DejaVuSans-46\"/>\r\n       </defs>\r\n       <use xlink:href=\"#DejaVuSans-48\"/>\r\n       <use x=\"63.623047\" xlink:href=\"#DejaVuSans-46\"/>\r\n       <use x=\"95.410156\" xlink:href=\"#DejaVuSans-48\"/>\r\n      </g>\r\n     </g>\r\n    </g>\r\n    <g id=\"xtick_2\">\r\n     <g id=\"line2d_2\">\r\n      <g>\r\n       <use style=\"stroke:#000000;stroke-width:0.8;\" x=\"105.713394\" xlink:href=\"#m226dd3eb7f\" y=\"224.64\"/>\r\n      </g>\r\n     </g>\r\n     <g id=\"text_2\">\r\n      <!-- 0.2 -->\r\n      <g transform=\"translate(97.761831 239.238437)scale(0.1 -0.1)\">\r\n       <defs>\r\n        <path d=\"M 19.1875 8.296875 \r\nL 53.609375 8.296875 \r\nL 53.609375 0 \r\nL 7.328125 0 \r\nL 7.328125 8.296875 \r\nQ 12.9375 14.109375 22.625 23.890625 \r\nQ 32.328125 33.6875 34.8125 36.53125 \r\nQ 39.546875 41.84375 41.421875 45.53125 \r\nQ 43.3125 49.21875 43.3125 52.78125 \r\nQ 43.3125 58.59375 39.234375 62.25 \r\nQ 35.15625 65.921875 28.609375 65.921875 \r\nQ 23.96875 65.921875 18.8125 64.3125 \r\nQ 13.671875 62.703125 7.8125 59.421875 \r\nL 7.8125 69.390625 \r\nQ 13.765625 71.78125 18.9375 73 \r\nQ 24.125 74.21875 28.421875 74.21875 \r\nQ 39.75 74.21875 46.484375 68.546875 \r\nQ 53.21875 62.890625 53.21875 53.421875 \r\nQ 53.21875 48.921875 51.53125 44.890625 \r\nQ 49.859375 40.875 45.40625 35.40625 \r\nQ 44.1875 33.984375 37.640625 27.21875 \r\nQ 31.109375 20.453125 19.1875 8.296875 \r\nz\r\n\" id=\"DejaVuSans-50\"/>\r\n       </defs>\r\n       <use xlink:href=\"#DejaVuSans-48\"/>\r\n       <use x=\"63.623047\" xlink:href=\"#DejaVuSans-46\"/>\r\n       <use x=\"95.410156\" xlink:href=\"#DejaVuSans-50\"/>\r\n      </g>\r\n     </g>\r\n    </g>\r\n    <g id=\"xtick_3\">\r\n     <g id=\"line2d_3\">\r\n      <g>\r\n       <use style=\"stroke:#000000;stroke-width:0.8;\" x=\"167.820288\" xlink:href=\"#m226dd3eb7f\" y=\"224.64\"/>\r\n      </g>\r\n     </g>\r\n     <g id=\"text_3\">\r\n      <!-- 0.4 -->\r\n      <g transform=\"translate(159.868726 239.238437)scale(0.1 -0.1)\">\r\n       <defs>\r\n        <path d=\"M 37.796875 64.3125 \r\nL 12.890625 25.390625 \r\nL 37.796875 25.390625 \r\nz\r\nM 35.203125 72.90625 \r\nL 47.609375 72.90625 \r\nL 47.609375 25.390625 \r\nL 58.015625 25.390625 \r\nL 58.015625 17.1875 \r\nL 47.609375 17.1875 \r\nL 47.609375 0 \r\nL 37.796875 0 \r\nL 37.796875 17.1875 \r\nL 4.890625 17.1875 \r\nL 4.890625 26.703125 \r\nz\r\n\" id=\"DejaVuSans-52\"/>\r\n       </defs>\r\n       <use xlink:href=\"#DejaVuSans-48\"/>\r\n       <use x=\"63.623047\" xlink:href=\"#DejaVuSans-46\"/>\r\n       <use x=\"95.410156\" xlink:href=\"#DejaVuSans-52\"/>\r\n      </g>\r\n     </g>\r\n    </g>\r\n    <g id=\"xtick_4\">\r\n     <g id=\"line2d_4\">\r\n      <g>\r\n       <use style=\"stroke:#000000;stroke-width:0.8;\" x=\"229.927183\" xlink:href=\"#m226dd3eb7f\" y=\"224.64\"/>\r\n      </g>\r\n     </g>\r\n     <g id=\"text_4\">\r\n      <!-- 0.6 -->\r\n      <g transform=\"translate(221.97562 239.238437)scale(0.1 -0.1)\">\r\n       <defs>\r\n        <path d=\"M 33.015625 40.375 \r\nQ 26.375 40.375 22.484375 35.828125 \r\nQ 18.609375 31.296875 18.609375 23.390625 \r\nQ 18.609375 15.53125 22.484375 10.953125 \r\nQ 26.375 6.390625 33.015625 6.390625 \r\nQ 39.65625 6.390625 43.53125 10.953125 \r\nQ 47.40625 15.53125 47.40625 23.390625 \r\nQ 47.40625 31.296875 43.53125 35.828125 \r\nQ 39.65625 40.375 33.015625 40.375 \r\nz\r\nM 52.59375 71.296875 \r\nL 52.59375 62.3125 \r\nQ 48.875 64.0625 45.09375 64.984375 \r\nQ 41.3125 65.921875 37.59375 65.921875 \r\nQ 27.828125 65.921875 22.671875 59.328125 \r\nQ 17.53125 52.734375 16.796875 39.40625 \r\nQ 19.671875 43.65625 24.015625 45.921875 \r\nQ 28.375 48.1875 33.59375 48.1875 \r\nQ 44.578125 48.1875 50.953125 41.515625 \r\nQ 57.328125 34.859375 57.328125 23.390625 \r\nQ 57.328125 12.15625 50.6875 5.359375 \r\nQ 44.046875 -1.421875 33.015625 -1.421875 \r\nQ 20.359375 -1.421875 13.671875 8.265625 \r\nQ 6.984375 17.96875 6.984375 36.375 \r\nQ 6.984375 53.65625 15.1875 63.9375 \r\nQ 23.390625 74.21875 37.203125 74.21875 \r\nQ 40.921875 74.21875 44.703125 73.484375 \r\nQ 48.484375 72.75 52.59375 71.296875 \r\nz\r\n\" id=\"DejaVuSans-54\"/>\r\n       </defs>\r\n       <use xlink:href=\"#DejaVuSans-48\"/>\r\n       <use x=\"63.623047\" xlink:href=\"#DejaVuSans-46\"/>\r\n       <use x=\"95.410156\" xlink:href=\"#DejaVuSans-54\"/>\r\n      </g>\r\n     </g>\r\n    </g>\r\n    <g id=\"xtick_5\">\r\n     <g id=\"line2d_5\">\r\n      <g>\r\n       <use style=\"stroke:#000000;stroke-width:0.8;\" x=\"292.034077\" xlink:href=\"#m226dd3eb7f\" y=\"224.64\"/>\r\n      </g>\r\n     </g>\r\n     <g id=\"text_5\">\r\n      <!-- 0.8 -->\r\n      <g transform=\"translate(284.082515 239.238437)scale(0.1 -0.1)\">\r\n       <defs>\r\n        <path d=\"M 31.78125 34.625 \r\nQ 24.75 34.625 20.71875 30.859375 \r\nQ 16.703125 27.09375 16.703125 20.515625 \r\nQ 16.703125 13.921875 20.71875 10.15625 \r\nQ 24.75 6.390625 31.78125 6.390625 \r\nQ 38.8125 6.390625 42.859375 10.171875 \r\nQ 46.921875 13.96875 46.921875 20.515625 \r\nQ 46.921875 27.09375 42.890625 30.859375 \r\nQ 38.875 34.625 31.78125 34.625 \r\nz\r\nM 21.921875 38.8125 \r\nQ 15.578125 40.375 12.03125 44.71875 \r\nQ 8.5 49.078125 8.5 55.328125 \r\nQ 8.5 64.0625 14.71875 69.140625 \r\nQ 20.953125 74.21875 31.78125 74.21875 \r\nQ 42.671875 74.21875 48.875 69.140625 \r\nQ 55.078125 64.0625 55.078125 55.328125 \r\nQ 55.078125 49.078125 51.53125 44.71875 \r\nQ 48 40.375 41.703125 38.8125 \r\nQ 48.828125 37.15625 52.796875 32.3125 \r\nQ 56.78125 27.484375 56.78125 20.515625 \r\nQ 56.78125 9.90625 50.3125 4.234375 \r\nQ 43.84375 -1.421875 31.78125 -1.421875 \r\nQ 19.734375 -1.421875 13.25 4.234375 \r\nQ 6.78125 9.90625 6.78125 20.515625 \r\nQ 6.78125 27.484375 10.78125 32.3125 \r\nQ 14.796875 37.15625 21.921875 38.8125 \r\nz\r\nM 18.3125 54.390625 \r\nQ 18.3125 48.734375 21.84375 45.5625 \r\nQ 25.390625 42.390625 31.78125 42.390625 \r\nQ 38.140625 42.390625 41.71875 45.5625 \r\nQ 45.3125 48.734375 45.3125 54.390625 \r\nQ 45.3125 60.0625 41.71875 63.234375 \r\nQ 38.140625 66.40625 31.78125 66.40625 \r\nQ 25.390625 66.40625 21.84375 63.234375 \r\nQ 18.3125 60.0625 18.3125 54.390625 \r\nz\r\n\" id=\"DejaVuSans-56\"/>\r\n       </defs>\r\n       <use xlink:href=\"#DejaVuSans-48\"/>\r\n       <use x=\"63.623047\" xlink:href=\"#DejaVuSans-46\"/>\r\n       <use x=\"95.410156\" xlink:href=\"#DejaVuSans-56\"/>\r\n      </g>\r\n     </g>\r\n    </g>\r\n    <g id=\"xtick_6\">\r\n     <g id=\"line2d_6\">\r\n      <g>\r\n       <use style=\"stroke:#000000;stroke-width:0.8;\" x=\"354.140972\" xlink:href=\"#m226dd3eb7f\" y=\"224.64\"/>\r\n      </g>\r\n     </g>\r\n     <g id=\"text_6\">\r\n      <!-- 1.0 -->\r\n      <g transform=\"translate(346.189409 239.238437)scale(0.1 -0.1)\">\r\n       <defs>\r\n        <path d=\"M 12.40625 8.296875 \r\nL 28.515625 8.296875 \r\nL 28.515625 63.921875 \r\nL 10.984375 60.40625 \r\nL 10.984375 69.390625 \r\nL 28.421875 72.90625 \r\nL 38.28125 72.90625 \r\nL 38.28125 8.296875 \r\nL 54.390625 8.296875 \r\nL 54.390625 0 \r\nL 12.40625 0 \r\nz\r\n\" id=\"DejaVuSans-49\"/>\r\n       </defs>\r\n       <use xlink:href=\"#DejaVuSans-49\"/>\r\n       <use x=\"63.623047\" xlink:href=\"#DejaVuSans-46\"/>\r\n       <use x=\"95.410156\" xlink:href=\"#DejaVuSans-48\"/>\r\n      </g>\r\n     </g>\r\n    </g>\r\n   </g>\r\n   <g id=\"matplotlib.axis_2\">\r\n    <g id=\"ytick_1\">\r\n     <g id=\"line2d_7\">\r\n      <defs>\r\n       <path d=\"M 0 0 \r\nL -3.5 0 \r\n\" id=\"md664684377\" style=\"stroke:#000000;stroke-width:0.8;\"/>\r\n      </defs>\r\n      <g>\r\n       <use style=\"stroke:#000000;stroke-width:0.8;\" x=\"30.103125\" xlink:href=\"#md664684377\" y=\"218.135694\"/>\r\n      </g>\r\n     </g>\r\n     <g id=\"text_7\">\r\n      <!-- 0.0 -->\r\n      <g transform=\"translate(7.2 221.934913)scale(0.1 -0.1)\">\r\n       <use xlink:href=\"#DejaVuSans-48\"/>\r\n       <use x=\"63.623047\" xlink:href=\"#DejaVuSans-46\"/>\r\n       <use x=\"95.410156\" xlink:href=\"#DejaVuSans-48\"/>\r\n      </g>\r\n     </g>\r\n    </g>\r\n    <g id=\"ytick_2\">\r\n     <g id=\"line2d_8\">\r\n      <g>\r\n       <use style=\"stroke:#000000;stroke-width:0.8;\" x=\"30.103125\" xlink:href=\"#md664684377\" y=\"177.390995\"/>\r\n      </g>\r\n     </g>\r\n     <g id=\"text_8\">\r\n      <!-- 0.2 -->\r\n      <g transform=\"translate(7.2 181.190214)scale(0.1 -0.1)\">\r\n       <use xlink:href=\"#DejaVuSans-48\"/>\r\n       <use x=\"63.623047\" xlink:href=\"#DejaVuSans-46\"/>\r\n       <use x=\"95.410156\" xlink:href=\"#DejaVuSans-50\"/>\r\n      </g>\r\n     </g>\r\n    </g>\r\n    <g id=\"ytick_3\">\r\n     <g id=\"line2d_9\">\r\n      <g>\r\n       <use style=\"stroke:#000000;stroke-width:0.8;\" x=\"30.103125\" xlink:href=\"#md664684377\" y=\"136.646295\"/>\r\n      </g>\r\n     </g>\r\n     <g id=\"text_9\">\r\n      <!-- 0.4 -->\r\n      <g transform=\"translate(7.2 140.445514)scale(0.1 -0.1)\">\r\n       <use xlink:href=\"#DejaVuSans-48\"/>\r\n       <use x=\"63.623047\" xlink:href=\"#DejaVuSans-46\"/>\r\n       <use x=\"95.410156\" xlink:href=\"#DejaVuSans-52\"/>\r\n      </g>\r\n     </g>\r\n    </g>\r\n    <g id=\"ytick_4\">\r\n     <g id=\"line2d_10\">\r\n      <g>\r\n       <use style=\"stroke:#000000;stroke-width:0.8;\" x=\"30.103125\" xlink:href=\"#md664684377\" y=\"95.901596\"/>\r\n      </g>\r\n     </g>\r\n     <g id=\"text_10\">\r\n      <!-- 0.6 -->\r\n      <g transform=\"translate(7.2 99.700815)scale(0.1 -0.1)\">\r\n       <use xlink:href=\"#DejaVuSans-48\"/>\r\n       <use x=\"63.623047\" xlink:href=\"#DejaVuSans-46\"/>\r\n       <use x=\"95.410156\" xlink:href=\"#DejaVuSans-54\"/>\r\n      </g>\r\n     </g>\r\n    </g>\r\n    <g id=\"ytick_5\">\r\n     <g id=\"line2d_11\">\r\n      <g>\r\n       <use style=\"stroke:#000000;stroke-width:0.8;\" x=\"30.103125\" xlink:href=\"#md664684377\" y=\"55.156897\"/>\r\n      </g>\r\n     </g>\r\n     <g id=\"text_11\">\r\n      <!-- 0.8 -->\r\n      <g transform=\"translate(7.2 58.956115)scale(0.1 -0.1)\">\r\n       <use xlink:href=\"#DejaVuSans-48\"/>\r\n       <use x=\"63.623047\" xlink:href=\"#DejaVuSans-46\"/>\r\n       <use x=\"95.410156\" xlink:href=\"#DejaVuSans-56\"/>\r\n      </g>\r\n     </g>\r\n    </g>\r\n    <g id=\"ytick_6\">\r\n     <g id=\"line2d_12\">\r\n      <g>\r\n       <use style=\"stroke:#000000;stroke-width:0.8;\" x=\"30.103125\" xlink:href=\"#md664684377\" y=\"14.412197\"/>\r\n      </g>\r\n     </g>\r\n     <g id=\"text_12\">\r\n      <!-- 1.0 -->\r\n      <g transform=\"translate(7.2 18.211416)scale(0.1 -0.1)\">\r\n       <use xlink:href=\"#DejaVuSans-49\"/>\r\n       <use x=\"63.623047\" xlink:href=\"#DejaVuSans-46\"/>\r\n       <use x=\"95.410156\" xlink:href=\"#DejaVuSans-48\"/>\r\n      </g>\r\n     </g>\r\n    </g>\r\n   </g>\r\n   <g id=\"patch_3\">\r\n    <path d=\"M 30.103125 224.64 \r\nL 30.103125 7.2 \r\n\" style=\"fill:none;stroke:#000000;stroke-linecap:square;stroke-linejoin:miter;stroke-width:0.8;\"/>\r\n   </g>\r\n   <g id=\"patch_4\">\r\n    <path d=\"M 364.903125 224.64 \r\nL 364.903125 7.2 \r\n\" style=\"fill:none;stroke:#000000;stroke-linecap:square;stroke-linejoin:miter;stroke-width:0.8;\"/>\r\n   </g>\r\n   <g id=\"patch_5\">\r\n    <path d=\"M 30.103125 224.64 \r\nL 364.903125 224.64 \r\n\" style=\"fill:none;stroke:#000000;stroke-linecap:square;stroke-linejoin:miter;stroke-width:0.8;\"/>\r\n   </g>\r\n   <g id=\"patch_6\">\r\n    <path d=\"M 30.103125 7.2 \r\nL 364.903125 7.2 \r\n\" style=\"fill:none;stroke:#000000;stroke-linecap:square;stroke-linejoin:miter;stroke-width:0.8;\"/>\r\n   </g>\r\n  </g>\r\n </g>\r\n <defs>\r\n  <clipPath id=\"p8a87b533da\">\r\n   <rect height=\"217.44\" width=\"334.8\" x=\"30.103125\" y=\"7.2\"/>\r\n  </clipPath>\r\n </defs>\r\n</svg>\r\n",
      "image/png": "[encoded data removed]"
     },
     "metadata": {
      "needs_background": "light"
     }
    }
   ],
   "source": [
    "plt.scatter(cluster_centers[:,0], cluster_centers[:,1], c=binom_sample)"
   ]
  },
  {
   "cell_type": "code",
   "execution_count": 5,
   "metadata": {},
   "outputs": [],
   "source": [
    "from BinomialSimilarityGrouping import BSG"
   ]
  },
  {
   "cell_type": "code",
   "execution_count": 6,
   "metadata": {},
   "outputs": [],
   "source": [
    "epsilon_list = [0.05, 0.1, 0.15, 0.2]\n",
    "color_list = [f\"rgba(0, 0, 255, {1-epsilon*5+0.05})\" for epsilon in epsilon_list]\n",
    "bsg = BSG(n_estimation, p, 0.1, 10)\n",
    "link_list = []\n",
    "for epsilon in epsilon_list:\n",
    "    link_list.append(bsg.fit_epsilon(cluster_centers, binom_sample, epsilon))"
   ]
  },
  {
   "cell_type": "code",
   "execution_count": 7,
   "metadata": {},
   "outputs": [],
   "source": [
    "connections = np.where(link_list[0])\n",
    "start_points = connections[0]\n",
    "end_points = connections[1]"
   ]
  },
  {
   "cell_type": "code",
   "execution_count": 8,
   "metadata": {},
   "outputs": [
    {
     "output_type": "display_data",
     "data": {
      "text/plain": "<Figure size 432x288 with 1 Axes>",
      "image/svg+xml": "<?xml version=\"1.0\" encoding=\"utf-8\" standalone=\"no\"?>\r\n<!DOCTYPE svg PUBLIC \"-//W3C//DTD SVG 1.1//EN\"\r\n  \"http://www.w3.org/Graphics/SVG/1.1/DTD/svg11.dtd\">\r\n<!-- Created with matplotlib (https://matplotlib.org/) -->\r\n<svg height=\"248.518125pt\" version=\"1.1\" viewBox=\"0 0 372.103125 248.518125\" width=\"372.103125pt\" xmlns=\"http://www.w3.org/2000/svg\" xmlns:xlink=\"http://www.w3.org/1999/xlink\">\r\n <metadata>\r\n  <rdf:RDF xmlns:cc=\"http://creativecommons.org/ns#\" xmlns:dc=\"http://purl.org/dc/elements/1.1/\" xmlns:rdf=\"http://www.w3.org/1999/02/22-rdf-syntax-ns#\">\r\n   <cc:Work>\r\n    <dc:type rdf:resource=\"http://purl.org/dc/dcmitype/StillImage\"/>\r\n    <dc:date>2020-10-27T10:18:46.420285</dc:date>\r\n    <dc:format>image/svg+xml</dc:format>\r\n    <dc:creator>\r\n     <cc:Agent>\r\n      <dc:title>Matplotlib v3.3.2, https://matplotlib.org/</dc:title>\r\n     </cc:Agent>\r\n    </dc:creator>\r\n   </cc:Work>\r\n  </rdf:RDF>\r\n </metadata>\r\n <defs>\r\n  <style type=\"text/css\">*{stroke-linecap:butt;stroke-linejoin:round;}</style>\r\n </defs>\r\n <g id=\"figure_1\">\r\n  <g id=\"patch_1\">\r\n   <path d=\"M 0 248.518125 \r\nL 372.103125 248.518125 \r\nL 372.103125 0 \r\nL 0 0 \r\nz\r\n\" style=\"fill:none;\"/>\r\n  </g>\r\n  <g id=\"axes_1\">\r\n   <g id=\"patch_2\">\r\n    <path d=\"M 30.103125 224.64 \r\nL 364.903125 224.64 \r\nL 364.903125 7.2 \r\nL 30.103125 7.2 \r\nz\r\n\" style=\"fill:#ffffff;\"/>\r\n   </g>\r\n   <g id=\"PathCollection_1\">\r\n    <defs>\r\n     <path d=\"M 0 3 \r\nC 0.795609 3 1.55874 2.683901 2.12132 2.12132 \r\nC 2.683901 1.55874 3 0.795609 3 -0 \r\nC 3 -0.795609 2.683901 -1.55874 2.12132 -2.12132 \r\nC 1.55874 -2.683901 0.795609 -3 0 -3 \r\nC -0.795609 -3 -1.55874 -2.683901 -2.12132 -2.12132 \r\nC -2.683901 -1.55874 -3 -0.795609 -3 0 \r\nC -3 0.795609 -2.683901 1.55874 -2.12132 2.12132 \r\nC -1.55874 2.683901 -0.795609 3 0 3 \r\nz\r\n\" id=\"C0_0_1d2abd504c\"/>\r\n    </defs>\r\n    <g clip-path=\"url(#p0249ad40e0)\">\r\n     <use style=\"fill:#21a685;stroke:#21a685;\" x=\"159.914117\" xlink:href=\"#C0_0_1d2abd504c\" y=\"24.452851\"/>\r\n    </g>\r\n    <g clip-path=\"url(#p0249ad40e0)\">\r\n     <use style=\"fill:#3e4c8a;stroke:#3e4c8a;\" x=\"270.915852\" xlink:href=\"#C0_0_1d2abd504c\" y=\"96.174894\"/>\r\n    </g>\r\n    <g clip-path=\"url(#p0249ad40e0)\">\r\n     <use style=\"fill:#38588c;stroke:#38588c;\" x=\"92.055665\" xlink:href=\"#C0_0_1d2abd504c\" y=\"186.355945\"/>\r\n    </g>\r\n    <g clip-path=\"url(#p0249ad40e0)\">\r\n     <use style=\"fill:#69cd5b;stroke:#69cd5b;\" x=\"61.643463\" xlink:href=\"#C0_0_1d2abd504c\" y=\"41.675261\"/>\r\n    </g>\r\n    <g clip-path=\"url(#p0249ad40e0)\">\r\n     <use style=\"fill:#1e9b8a;stroke:#1e9b8a;\" x=\"230.273432\" xlink:href=\"#C0_0_1d2abd504c\" y=\"73.884673\"/>\r\n    </g>\r\n    <g clip-path=\"url(#p0249ad40e0)\">\r\n     <use style=\"fill:#471164;stroke:#471164;\" x=\"49.998694\" xlink:href=\"#C0_0_1d2abd504c\" y=\"20.542267\"/>\r\n    </g>\r\n    <g clip-path=\"url(#p0249ad40e0)\">\r\n     <use style=\"fill:#3e4c8a;stroke:#3e4c8a;\" x=\"302.108636\" xlink:href=\"#C0_0_1d2abd504c\" y=\"174.877228\"/>\r\n    </g>\r\n    <g clip-path=\"url(#p0249ad40e0)\">\r\n     <use style=\"fill:#21a685;stroke:#21a685;\" x=\"100.069419\" xlink:href=\"#C0_0_1d2abd504c\" y=\"180.771886\"/>\r\n    </g>\r\n    <g clip-path=\"url(#p0249ad40e0)\">\r\n     <use style=\"fill:#440154;stroke:#440154;\" x=\"138.084204\" xlink:href=\"#C0_0_1d2abd504c\" y=\"111.230479\"/>\r\n    </g>\r\n    <g clip-path=\"url(#p0249ad40e0)\">\r\n     <use style=\"fill:#38588c;stroke:#38588c;\" x=\"177.740318\" xlink:href=\"#C0_0_1d2abd504c\" y=\"158.805475\"/>\r\n    </g>\r\n    <g clip-path=\"url(#p0249ad40e0)\">\r\n     <use style=\"fill:#21918c;stroke:#21918c;\" x=\"233.607915\" xlink:href=\"#C0_0_1d2abd504c\" y=\"189.717517\"/>\r\n    </g>\r\n    <g clip-path=\"url(#p0249ad40e0)\">\r\n     <use style=\"fill:#21a685;stroke:#21a685;\" x=\"134.327483\" xlink:href=\"#C0_0_1d2abd504c\" y=\"143.499178\"/>\r\n    </g>\r\n    <g clip-path=\"url(#p0249ad40e0)\">\r\n     <use style=\"fill:#21a685;stroke:#21a685;\" x=\"185.231951\" xlink:href=\"#C0_0_1d2abd504c\" y=\"58.176902\"/>\r\n    </g>\r\n    <g clip-path=\"url(#p0249ad40e0)\">\r\n     <use style=\"fill:#32648e;stroke:#32648e;\" x=\"105.612092\" xlink:href=\"#C0_0_1d2abd504c\" y=\"113.374056\"/>\r\n    </g>\r\n    <g clip-path=\"url(#p0249ad40e0)\">\r\n     <use style=\"fill:#2ab07f;stroke:#2ab07f;\" x=\"227.571645\" xlink:href=\"#C0_0_1d2abd504c\" y=\"208.672654\"/>\r\n    </g>\r\n    <g clip-path=\"url(#p0249ad40e0)\">\r\n     <use style=\"fill:#2d708e;stroke:#2d708e;\" x=\"232.270119\" xlink:href=\"#C0_0_1d2abd504c\" y=\"183.395923\"/>\r\n    </g>\r\n    <g clip-path=\"url(#p0249ad40e0)\">\r\n     <use style=\"fill:#297a8e;stroke:#297a8e;\" x=\"63.807261\" xlink:href=\"#C0_0_1d2abd504c\" y=\"24.825414\"/>\r\n    </g>\r\n    <g clip-path=\"url(#p0249ad40e0)\">\r\n     <use style=\"fill:#2ab07f;stroke:#2ab07f;\" x=\"343.468533\" xlink:href=\"#C0_0_1d2abd504c\" y=\"53.446159\"/>\r\n    </g>\r\n    <g clip-path=\"url(#p0249ad40e0)\">\r\n     <use style=\"fill:#21a685;stroke:#21a685;\" x=\"138.199575\" xlink:href=\"#C0_0_1d2abd504c\" y=\"198.23759\"/>\r\n    </g>\r\n    <g clip-path=\"url(#p0249ad40e0)\">\r\n     <use style=\"fill:#52c569;stroke:#52c569;\" x=\"256.084441\" xlink:href=\"#C0_0_1d2abd504c\" y=\"128.466289\"/>\r\n    </g>\r\n    <g clip-path=\"url(#p0249ad40e0)\">\r\n     <use style=\"fill:#21a685;stroke:#21a685;\" x=\"81.503578\" xlink:href=\"#C0_0_1d2abd504c\" y=\"117.256522\"/>\r\n    </g>\r\n    <g clip-path=\"url(#p0249ad40e0)\">\r\n     <use style=\"fill:#1e9b8a;stroke:#1e9b8a;\" x=\"54.28532\" xlink:href=\"#C0_0_1d2abd504c\" y=\"32.885762\"/>\r\n    </g>\r\n    <g clip-path=\"url(#p0249ad40e0)\">\r\n     <use style=\"fill:#3e4c8a;stroke:#3e4c8a;\" x=\"123.966604\" xlink:href=\"#C0_0_1d2abd504c\" y=\"83.164338\"/>\r\n    </g>\r\n    <g clip-path=\"url(#p0249ad40e0)\">\r\n     <use style=\"fill:#297a8e;stroke:#297a8e;\" x=\"140.403534\" xlink:href=\"#C0_0_1d2abd504c\" y=\"112.185618\"/>\r\n    </g>\r\n    <g clip-path=\"url(#p0249ad40e0)\">\r\n     <use style=\"fill:#2d708e;stroke:#2d708e;\" x=\"213.378887\" xlink:href=\"#C0_0_1d2abd504c\" y=\"180.476498\"/>\r\n    </g>\r\n    <g clip-path=\"url(#p0249ad40e0)\">\r\n     <use style=\"fill:#2d708e;stroke:#2d708e;\" x=\"344.69595\" xlink:href=\"#C0_0_1d2abd504c\" y=\"60.222925\"/>\r\n    </g>\r\n    <g clip-path=\"url(#p0249ad40e0)\">\r\n     <use style=\"fill:#c2df23;stroke:#c2df23;\" x=\"335.353308\" xlink:href=\"#C0_0_1d2abd504c\" y=\"35.838337\"/>\r\n    </g>\r\n    <g clip-path=\"url(#p0249ad40e0)\">\r\n     <use style=\"fill:#25858e;stroke:#25858e;\" x=\"229.275054\" xlink:href=\"#C0_0_1d2abd504c\" y=\"30.328251\"/>\r\n    </g>\r\n    <g clip-path=\"url(#p0249ad40e0)\">\r\n     <use style=\"fill:#69cd5b;stroke:#69cd5b;\" x=\"71.086472\" xlink:href=\"#C0_0_1d2abd504c\" y=\"178.20938\"/>\r\n    </g>\r\n    <g clip-path=\"url(#p0249ad40e0)\">\r\n     <use style=\"fill:#1e9b8a;stroke:#1e9b8a;\" x=\"57.651131\" xlink:href=\"#C0_0_1d2abd504c\" y=\"151.858262\"/>\r\n    </g>\r\n    <g clip-path=\"url(#p0249ad40e0)\">\r\n     <use style=\"fill:#3bbb75;stroke:#3bbb75;\" x=\"164.304196\" xlink:href=\"#C0_0_1d2abd504c\" y=\"162.855521\"/>\r\n    </g>\r\n    <g clip-path=\"url(#p0249ad40e0)\">\r\n     <use style=\"fill:#21918c;stroke:#21918c;\" x=\"300.958065\" xlink:href=\"#C0_0_1d2abd504c\" y=\"145.456659\"/>\r\n    </g>\r\n    <g clip-path=\"url(#p0249ad40e0)\">\r\n     <use style=\"fill:#1e9b8a;stroke:#1e9b8a;\" x=\"130.846349\" xlink:href=\"#C0_0_1d2abd504c\" y=\"107.57575\"/>\r\n    </g>\r\n    <g clip-path=\"url(#p0249ad40e0)\">\r\n     <use style=\"fill:#21918c;stroke:#21918c;\" x=\"87.368329\" xlink:href=\"#C0_0_1d2abd504c\" y=\"54.70932\"/>\r\n    </g>\r\n    <g clip-path=\"url(#p0249ad40e0)\">\r\n     <use style=\"fill:#32648e;stroke:#32648e;\" x=\"66.757044\" xlink:href=\"#C0_0_1d2abd504c\" y=\"17.083636\"/>\r\n    </g>\r\n    <g clip-path=\"url(#p0249ad40e0)\">\r\n     <use style=\"fill:#2ab07f;stroke:#2ab07f;\" x=\"283.415121\" xlink:href=\"#C0_0_1d2abd504c\" y=\"177.652641\"/>\r\n    </g>\r\n    <g clip-path=\"url(#p0249ad40e0)\">\r\n     <use style=\"fill:#2d708e;stroke:#2d708e;\" x=\"45.321307\" xlink:href=\"#C0_0_1d2abd504c\" y=\"52.00704\"/>\r\n    </g>\r\n    <g clip-path=\"url(#p0249ad40e0)\">\r\n     <use style=\"fill:#482173;stroke:#482173;\" x=\"263.110072\" xlink:href=\"#C0_0_1d2abd504c\" y=\"69.619805\"/>\r\n    </g>\r\n    <g clip-path=\"url(#p0249ad40e0)\">\r\n     <use style=\"fill:#21a685;stroke:#21a685;\" x=\"283.11253\" xlink:href=\"#C0_0_1d2abd504c\" y=\"203.051059\"/>\r\n    </g>\r\n    <g clip-path=\"url(#p0249ad40e0)\">\r\n     <use style=\"fill:#32648e;stroke:#32648e;\" x=\"154.922465\" xlink:href=\"#C0_0_1d2abd504c\" y=\"194.530444\"/>\r\n    </g>\r\n    <g clip-path=\"url(#p0249ad40e0)\">\r\n     <use style=\"fill:#86d549;stroke:#86d549;\" x=\"311.629866\" xlink:href=\"#C0_0_1d2abd504c\" y=\"91.15522\"/>\r\n    </g>\r\n    <g clip-path=\"url(#p0249ad40e0)\">\r\n     <use style=\"fill:#a5db36;stroke:#a5db36;\" x=\"146.361743\" xlink:href=\"#C0_0_1d2abd504c\" y=\"205.187365\"/>\r\n    </g>\r\n    <g clip-path=\"url(#p0249ad40e0)\">\r\n     <use style=\"fill:#69cd5b;stroke:#69cd5b;\" x=\"140.17723\" xlink:href=\"#C0_0_1d2abd504c\" y=\"151.888211\"/>\r\n    </g>\r\n    <g clip-path=\"url(#p0249ad40e0)\">\r\n     <use style=\"fill:#297a8e;stroke:#297a8e;\" x=\"270.174369\" xlink:href=\"#C0_0_1d2abd504c\" y=\"88.250257\"/>\r\n    </g>\r\n    <g clip-path=\"url(#p0249ad40e0)\">\r\n     <use style=\"fill:#471164;stroke:#471164;\" x=\"319.11664\" xlink:href=\"#C0_0_1d2abd504c\" y=\"121.934418\"/>\r\n    </g>\r\n    <g clip-path=\"url(#p0249ad40e0)\">\r\n     <use style=\"fill:#86d549;stroke:#86d549;\" x=\"80.744635\" xlink:href=\"#C0_0_1d2abd504c\" y=\"72.830972\"/>\r\n    </g>\r\n    <g clip-path=\"url(#p0249ad40e0)\">\r\n     <use style=\"fill:#25858e;stroke:#25858e;\" x=\"279.856483\" xlink:href=\"#C0_0_1d2abd504c\" y=\"103.790341\"/>\r\n    </g>\r\n    <g clip-path=\"url(#p0249ad40e0)\">\r\n     <use style=\"fill:#c2df23;stroke:#c2df23;\" x=\"283.018386\" xlink:href=\"#C0_0_1d2abd504c\" y=\"117.537928\"/>\r\n    </g>\r\n    <g clip-path=\"url(#p0249ad40e0)\">\r\n     <use style=\"fill:#a5db36;stroke:#a5db36;\" x=\"205.933063\" xlink:href=\"#C0_0_1d2abd504c\" y=\"131.035543\"/>\r\n    </g>\r\n    <g clip-path=\"url(#p0249ad40e0)\">\r\n     <use style=\"fill:#52c569;stroke:#52c569;\" x=\"51.500014\" xlink:href=\"#C0_0_1d2abd504c\" y=\"196.155675\"/>\r\n    </g>\r\n    <g clip-path=\"url(#p0249ad40e0)\">\r\n     <use style=\"fill:#2d708e;stroke:#2d708e;\" x=\"53.366345\" xlink:href=\"#C0_0_1d2abd504c\" y=\"88.48394\"/>\r\n    </g>\r\n    <g clip-path=\"url(#p0249ad40e0)\">\r\n     <use style=\"fill:#25858e;stroke:#25858e;\" x=\"141.224868\" xlink:href=\"#C0_0_1d2abd504c\" y=\"114.527895\"/>\r\n    </g>\r\n    <g clip-path=\"url(#p0249ad40e0)\">\r\n     <use style=\"fill:#52c569;stroke:#52c569;\" x=\"325.437176\" xlink:href=\"#C0_0_1d2abd504c\" y=\"167.349009\"/>\r\n    </g>\r\n    <g clip-path=\"url(#p0249ad40e0)\">\r\n     <use style=\"fill:#297a8e;stroke:#297a8e;\" x=\"171.044544\" xlink:href=\"#C0_0_1d2abd504c\" y=\"64.212174\"/>\r\n    </g>\r\n    <g clip-path=\"url(#p0249ad40e0)\">\r\n     <use style=\"fill:#32648e;stroke:#32648e;\" x=\"114.656217\" xlink:href=\"#C0_0_1d2abd504c\" y=\"202.453078\"/>\r\n    </g>\r\n    <g clip-path=\"url(#p0249ad40e0)\">\r\n     <use style=\"fill:#1e9b8a;stroke:#1e9b8a;\" x=\"133.584314\" xlink:href=\"#C0_0_1d2abd504c\" y=\"185.29113\"/>\r\n    </g>\r\n    <g clip-path=\"url(#p0249ad40e0)\">\r\n     <use style=\"fill:#86d549;stroke:#86d549;\" x=\"332.309669\" xlink:href=\"#C0_0_1d2abd504c\" y=\"53.502584\"/>\r\n    </g>\r\n    <g clip-path=\"url(#p0249ad40e0)\">\r\n     <use style=\"fill:#21a685;stroke:#21a685;\" x=\"240.300201\" xlink:href=\"#C0_0_1d2abd504c\" y=\"40.598695\"/>\r\n    </g>\r\n    <g clip-path=\"url(#p0249ad40e0)\">\r\n     <use style=\"fill:#1e9b8a;stroke:#1e9b8a;\" x=\"293.174384\" xlink:href=\"#C0_0_1d2abd504c\" y=\"180.126989\"/>\r\n    </g>\r\n    <g clip-path=\"url(#p0249ad40e0)\">\r\n     <use style=\"fill:#3e4c8a;stroke:#3e4c8a;\" x=\"320.776837\" xlink:href=\"#C0_0_1d2abd504c\" y=\"108.259007\"/>\r\n    </g>\r\n    <g clip-path=\"url(#p0249ad40e0)\">\r\n     <use style=\"fill:#1e9b8a;stroke:#1e9b8a;\" x=\"294.344502\" xlink:href=\"#C0_0_1d2abd504c\" y=\"35.580841\"/>\r\n    </g>\r\n    <g clip-path=\"url(#p0249ad40e0)\">\r\n     <use style=\"fill:#fde725;stroke:#fde725;\" x=\"142.357541\" xlink:href=\"#C0_0_1d2abd504c\" y=\"195.715531\"/>\r\n    </g>\r\n    <g clip-path=\"url(#p0249ad40e0)\">\r\n     <use style=\"fill:#38588c;stroke:#38588c;\" x=\"114.388225\" xlink:href=\"#C0_0_1d2abd504c\" y=\"131.123802\"/>\r\n    </g>\r\n    <g clip-path=\"url(#p0249ad40e0)\">\r\n     <use style=\"fill:#21918c;stroke:#21918c;\" x=\"297.628283\" xlink:href=\"#C0_0_1d2abd504c\" y=\"42.78465\"/>\r\n    </g>\r\n    <g clip-path=\"url(#p0249ad40e0)\">\r\n     <use style=\"fill:#52c569;stroke:#52c569;\" x=\"45.765375\" xlink:href=\"#C0_0_1d2abd504c\" y=\"114.084468\"/>\r\n    </g>\r\n    <g clip-path=\"url(#p0249ad40e0)\">\r\n     <use style=\"fill:#2ab07f;stroke:#2ab07f;\" x=\"173.227005\" xlink:href=\"#C0_0_1d2abd504c\" y=\"172.887114\"/>\r\n    </g>\r\n    <g clip-path=\"url(#p0249ad40e0)\">\r\n     <use style=\"fill:#21a685;stroke:#21a685;\" x=\"80.828828\" xlink:href=\"#C0_0_1d2abd504c\" y=\"149.355551\"/>\r\n    </g>\r\n    <g clip-path=\"url(#p0249ad40e0)\">\r\n     <use style=\"fill:#21a685;stroke:#21a685;\" x=\"336.412467\" xlink:href=\"#C0_0_1d2abd504c\" y=\"152.291663\"/>\r\n    </g>\r\n    <g clip-path=\"url(#p0249ad40e0)\">\r\n     <use style=\"fill:#297a8e;stroke:#297a8e;\" x=\"204.708871\" xlink:href=\"#C0_0_1d2abd504c\" y=\"74.914213\"/>\r\n    </g>\r\n    <g clip-path=\"url(#p0249ad40e0)\">\r\n     <use style=\"fill:#2d708e;stroke:#2d708e;\" x=\"156.526026\" xlink:href=\"#C0_0_1d2abd504c\" y=\"20.16085\"/>\r\n    </g>\r\n    <g clip-path=\"url(#p0249ad40e0)\">\r\n     <use style=\"fill:#3bbb75;stroke:#3bbb75;\" x=\"342.479562\" xlink:href=\"#C0_0_1d2abd504c\" y=\"166.841724\"/>\r\n    </g>\r\n    <g clip-path=\"url(#p0249ad40e0)\">\r\n     <use style=\"fill:#3bbb75;stroke:#3bbb75;\" x=\"198.019302\" xlink:href=\"#C0_0_1d2abd504c\" y=\"156.839713\"/>\r\n    </g>\r\n    <g clip-path=\"url(#p0249ad40e0)\">\r\n     <use style=\"fill:#52c569;stroke:#52c569;\" x=\"132.059292\" xlink:href=\"#C0_0_1d2abd504c\" y=\"210.620956\"/>\r\n    </g>\r\n    <g clip-path=\"url(#p0249ad40e0)\">\r\n     <use style=\"fill:#69cd5b;stroke:#69cd5b;\" x=\"232.897238\" xlink:href=\"#C0_0_1d2abd504c\" y=\"115.728166\"/>\r\n    </g>\r\n    <g clip-path=\"url(#p0249ad40e0)\">\r\n     <use style=\"fill:#21918c;stroke:#21918c;\" x=\"59.592426\" xlink:href=\"#C0_0_1d2abd504c\" y=\"161.368862\"/>\r\n    </g>\r\n    <g clip-path=\"url(#p0249ad40e0)\">\r\n     <use style=\"fill:#21918c;stroke:#21918c;\" x=\"325.654367\" xlink:href=\"#C0_0_1d2abd504c\" y=\"169.331308\"/>\r\n    </g>\r\n    <g clip-path=\"url(#p0249ad40e0)\">\r\n     <use style=\"fill:#3bbb75;stroke:#3bbb75;\" x=\"88.601352\" xlink:href=\"#C0_0_1d2abd504c\" y=\"118.422666\"/>\r\n    </g>\r\n    <g clip-path=\"url(#p0249ad40e0)\">\r\n     <use style=\"fill:#21a685;stroke:#21a685;\" x=\"349.684943\" xlink:href=\"#C0_0_1d2abd504c\" y=\"168.823348\"/>\r\n    </g>\r\n    <g clip-path=\"url(#p0249ad40e0)\">\r\n     <use style=\"fill:#21a685;stroke:#21a685;\" x=\"252.327757\" xlink:href=\"#C0_0_1d2abd504c\" y=\"62.975883\"/>\r\n    </g>\r\n    <g clip-path=\"url(#p0249ad40e0)\">\r\n     <use style=\"fill:#3bbb75;stroke:#3bbb75;\" x=\"117.401149\" xlink:href=\"#C0_0_1d2abd504c\" y=\"69.780913\"/>\r\n    </g>\r\n    <g clip-path=\"url(#p0249ad40e0)\">\r\n     <use style=\"fill:#69cd5b;stroke:#69cd5b;\" x=\"157.81584\" xlink:href=\"#C0_0_1d2abd504c\" y=\"89.320139\"/>\r\n    </g>\r\n    <g clip-path=\"url(#p0249ad40e0)\">\r\n     <use style=\"fill:#297a8e;stroke:#297a8e;\" x=\"240.339314\" xlink:href=\"#C0_0_1d2abd504c\" y=\"108.985802\"/>\r\n    </g>\r\n    <g clip-path=\"url(#p0249ad40e0)\">\r\n     <use style=\"fill:#297a8e;stroke:#297a8e;\" x=\"71.644585\" xlink:href=\"#C0_0_1d2abd504c\" y=\"47.964949\"/>\r\n    </g>\r\n    <g clip-path=\"url(#p0249ad40e0)\">\r\n     <use style=\"fill:#3e4c8a;stroke:#3e4c8a;\" x=\"143.219767\" xlink:href=\"#C0_0_1d2abd504c\" y=\"180.137491\"/>\r\n    </g>\r\n    <g clip-path=\"url(#p0249ad40e0)\">\r\n     <use style=\"fill:#1e9b8a;stroke:#1e9b8a;\" x=\"56.268586\" xlink:href=\"#C0_0_1d2abd504c\" y=\"97.756917\"/>\r\n    </g>\r\n    <g clip-path=\"url(#p0249ad40e0)\">\r\n     <use style=\"fill:#472f7d;stroke:#472f7d;\" x=\"254.013591\" xlink:href=\"#C0_0_1d2abd504c\" y=\"214.756364\"/>\r\n    </g>\r\n    <g clip-path=\"url(#p0249ad40e0)\">\r\n     <use style=\"fill:#21918c;stroke:#21918c;\" x=\"202.629047\" xlink:href=\"#C0_0_1d2abd504c\" y=\"171.993183\"/>\r\n    </g>\r\n    <g clip-path=\"url(#p0249ad40e0)\">\r\n     <use style=\"fill:#21918c;stroke:#21918c;\" x=\"243.954891\" xlink:href=\"#C0_0_1d2abd504c\" y=\"182.613155\"/>\r\n    </g>\r\n    <g clip-path=\"url(#p0249ad40e0)\">\r\n     <use style=\"fill:#2d708e;stroke:#2d708e;\" x=\"258.166485\" xlink:href=\"#C0_0_1d2abd504c\" y=\"139.348617\"/>\r\n    </g>\r\n    <g clip-path=\"url(#p0249ad40e0)\">\r\n     <use style=\"fill:#1e9b8a;stroke:#1e9b8a;\" x=\"334.493452\" xlink:href=\"#C0_0_1d2abd504c\" y=\"190.119447\"/>\r\n    </g>\r\n    <g clip-path=\"url(#p0249ad40e0)\">\r\n     <use style=\"fill:#472f7d;stroke:#472f7d;\" x=\"149.519359\" xlink:href=\"#C0_0_1d2abd504c\" y=\"195.018472\"/>\r\n    </g>\r\n    <g clip-path=\"url(#p0249ad40e0)\">\r\n     <use style=\"fill:#472f7d;stroke:#472f7d;\" x=\"330.755744\" xlink:href=\"#C0_0_1d2abd504c\" y=\"39.401053\"/>\r\n    </g>\r\n    <g clip-path=\"url(#p0249ad40e0)\">\r\n     <use style=\"fill:#3bbb75;stroke:#3bbb75;\" x=\"123.706266\" xlink:href=\"#C0_0_1d2abd504c\" y=\"83.681436\"/>\r\n    </g>\r\n    <g clip-path=\"url(#p0249ad40e0)\">\r\n     <use style=\"fill:#297a8e;stroke:#297a8e;\" x=\"297.382164\" xlink:href=\"#C0_0_1d2abd504c\" y=\"105.028243\"/>\r\n    </g>\r\n    <g clip-path=\"url(#p0249ad40e0)\">\r\n     <use style=\"fill:#38588c;stroke:#38588c;\" x=\"208.081262\" xlink:href=\"#C0_0_1d2abd504c\" y=\"168.8647\"/>\r\n    </g>\r\n    <g clip-path=\"url(#p0249ad40e0)\">\r\n     <use style=\"fill:#21918c;stroke:#21918c;\" x=\"72.518118\" xlink:href=\"#C0_0_1d2abd504c\" y=\"35.351762\"/>\r\n    </g>\r\n    <g clip-path=\"url(#p0249ad40e0)\">\r\n     <use style=\"fill:#2ab07f;stroke:#2ab07f;\" x=\"323.217346\" xlink:href=\"#C0_0_1d2abd504c\" y=\"89.158051\"/>\r\n    </g>\r\n    <g clip-path=\"url(#p0249ad40e0)\">\r\n     <use style=\"fill:#32648e;stroke:#32648e;\" x=\"148.886937\" xlink:href=\"#C0_0_1d2abd504c\" y=\"146.993498\"/>\r\n    </g>\r\n    <g clip-path=\"url(#p0249ad40e0)\">\r\n     <use style=\"fill:#1e9b8a;stroke:#1e9b8a;\" x=\"269.040763\" xlink:href=\"#C0_0_1d2abd504c\" y=\"35.373255\"/>\r\n    </g>\r\n    <g clip-path=\"url(#p0249ad40e0)\">\r\n     <use style=\"fill:#3e4c8a;stroke:#3e4c8a;\" x=\"319.077414\" xlink:href=\"#C0_0_1d2abd504c\" y=\"59.256721\"/>\r\n    </g>\r\n   </g>\r\n   <g id=\"matplotlib.axis_1\">\r\n    <g id=\"xtick_1\">\r\n     <g id=\"line2d_1\">\r\n      <defs>\r\n       <path d=\"M 0 0 \r\nL 0 3.5 \r\n\" id=\"m804026e11a\" style=\"stroke:#000000;stroke-width:0.8;\"/>\r\n      </defs>\r\n      <g>\r\n       <use style=\"stroke:#000000;stroke-width:0.8;\" x=\"43.606499\" xlink:href=\"#m804026e11a\" y=\"224.64\"/>\r\n      </g>\r\n     </g>\r\n     <g id=\"text_1\">\r\n      <!-- 0.0 -->\r\n      <g transform=\"translate(35.654937 239.238437)scale(0.1 -0.1)\">\r\n       <defs>\r\n        <path d=\"M 31.78125 66.40625 \r\nQ 24.171875 66.40625 20.328125 58.90625 \r\nQ 16.5 51.421875 16.5 36.375 \r\nQ 16.5 21.390625 20.328125 13.890625 \r\nQ 24.171875 6.390625 31.78125 6.390625 \r\nQ 39.453125 6.390625 43.28125 13.890625 \r\nQ 47.125 21.390625 47.125 36.375 \r\nQ 47.125 51.421875 43.28125 58.90625 \r\nQ 39.453125 66.40625 31.78125 66.40625 \r\nz\r\nM 31.78125 74.21875 \r\nQ 44.046875 74.21875 50.515625 64.515625 \r\nQ 56.984375 54.828125 56.984375 36.375 \r\nQ 56.984375 17.96875 50.515625 8.265625 \r\nQ 44.046875 -1.421875 31.78125 -1.421875 \r\nQ 19.53125 -1.421875 13.0625 8.265625 \r\nQ 6.59375 17.96875 6.59375 36.375 \r\nQ 6.59375 54.828125 13.0625 64.515625 \r\nQ 19.53125 74.21875 31.78125 74.21875 \r\nz\r\n\" id=\"DejaVuSans-48\"/>\r\n        <path d=\"M 10.6875 12.40625 \r\nL 21 12.40625 \r\nL 21 0 \r\nL 10.6875 0 \r\nz\r\n\" id=\"DejaVuSans-46\"/>\r\n       </defs>\r\n       <use xlink:href=\"#DejaVuSans-48\"/>\r\n       <use x=\"63.623047\" xlink:href=\"#DejaVuSans-46\"/>\r\n       <use x=\"95.410156\" xlink:href=\"#DejaVuSans-48\"/>\r\n      </g>\r\n     </g>\r\n    </g>\r\n    <g id=\"xtick_2\">\r\n     <g id=\"line2d_2\">\r\n      <g>\r\n       <use style=\"stroke:#000000;stroke-width:0.8;\" x=\"105.713394\" xlink:href=\"#m804026e11a\" y=\"224.64\"/>\r\n      </g>\r\n     </g>\r\n     <g id=\"text_2\">\r\n      <!-- 0.2 -->\r\n      <g transform=\"translate(97.761831 239.238437)scale(0.1 -0.1)\">\r\n       <defs>\r\n        <path d=\"M 19.1875 8.296875 \r\nL 53.609375 8.296875 \r\nL 53.609375 0 \r\nL 7.328125 0 \r\nL 7.328125 8.296875 \r\nQ 12.9375 14.109375 22.625 23.890625 \r\nQ 32.328125 33.6875 34.8125 36.53125 \r\nQ 39.546875 41.84375 41.421875 45.53125 \r\nQ 43.3125 49.21875 43.3125 52.78125 \r\nQ 43.3125 58.59375 39.234375 62.25 \r\nQ 35.15625 65.921875 28.609375 65.921875 \r\nQ 23.96875 65.921875 18.8125 64.3125 \r\nQ 13.671875 62.703125 7.8125 59.421875 \r\nL 7.8125 69.390625 \r\nQ 13.765625 71.78125 18.9375 73 \r\nQ 24.125 74.21875 28.421875 74.21875 \r\nQ 39.75 74.21875 46.484375 68.546875 \r\nQ 53.21875 62.890625 53.21875 53.421875 \r\nQ 53.21875 48.921875 51.53125 44.890625 \r\nQ 49.859375 40.875 45.40625 35.40625 \r\nQ 44.1875 33.984375 37.640625 27.21875 \r\nQ 31.109375 20.453125 19.1875 8.296875 \r\nz\r\n\" id=\"DejaVuSans-50\"/>\r\n       </defs>\r\n       <use xlink:href=\"#DejaVuSans-48\"/>\r\n       <use x=\"63.623047\" xlink:href=\"#DejaVuSans-46\"/>\r\n       <use x=\"95.410156\" xlink:href=\"#DejaVuSans-50\"/>\r\n      </g>\r\n     </g>\r\n    </g>\r\n    <g id=\"xtick_3\">\r\n     <g id=\"line2d_3\">\r\n      <g>\r\n       <use style=\"stroke:#000000;stroke-width:0.8;\" x=\"167.820288\" xlink:href=\"#m804026e11a\" y=\"224.64\"/>\r\n      </g>\r\n     </g>\r\n     <g id=\"text_3\">\r\n      <!-- 0.4 -->\r\n      <g transform=\"translate(159.868726 239.238437)scale(0.1 -0.1)\">\r\n       <defs>\r\n        <path d=\"M 37.796875 64.3125 \r\nL 12.890625 25.390625 \r\nL 37.796875 25.390625 \r\nz\r\nM 35.203125 72.90625 \r\nL 47.609375 72.90625 \r\nL 47.609375 25.390625 \r\nL 58.015625 25.390625 \r\nL 58.015625 17.1875 \r\nL 47.609375 17.1875 \r\nL 47.609375 0 \r\nL 37.796875 0 \r\nL 37.796875 17.1875 \r\nL 4.890625 17.1875 \r\nL 4.890625 26.703125 \r\nz\r\n\" id=\"DejaVuSans-52\"/>\r\n       </defs>\r\n       <use xlink:href=\"#DejaVuSans-48\"/>\r\n       <use x=\"63.623047\" xlink:href=\"#DejaVuSans-46\"/>\r\n       <use x=\"95.410156\" xlink:href=\"#DejaVuSans-52\"/>\r\n      </g>\r\n     </g>\r\n    </g>\r\n    <g id=\"xtick_4\">\r\n     <g id=\"line2d_4\">\r\n      <g>\r\n       <use style=\"stroke:#000000;stroke-width:0.8;\" x=\"229.927183\" xlink:href=\"#m804026e11a\" y=\"224.64\"/>\r\n      </g>\r\n     </g>\r\n     <g id=\"text_4\">\r\n      <!-- 0.6 -->\r\n      <g transform=\"translate(221.97562 239.238437)scale(0.1 -0.1)\">\r\n       <defs>\r\n        <path d=\"M 33.015625 40.375 \r\nQ 26.375 40.375 22.484375 35.828125 \r\nQ 18.609375 31.296875 18.609375 23.390625 \r\nQ 18.609375 15.53125 22.484375 10.953125 \r\nQ 26.375 6.390625 33.015625 6.390625 \r\nQ 39.65625 6.390625 43.53125 10.953125 \r\nQ 47.40625 15.53125 47.40625 23.390625 \r\nQ 47.40625 31.296875 43.53125 35.828125 \r\nQ 39.65625 40.375 33.015625 40.375 \r\nz\r\nM 52.59375 71.296875 \r\nL 52.59375 62.3125 \r\nQ 48.875 64.0625 45.09375 64.984375 \r\nQ 41.3125 65.921875 37.59375 65.921875 \r\nQ 27.828125 65.921875 22.671875 59.328125 \r\nQ 17.53125 52.734375 16.796875 39.40625 \r\nQ 19.671875 43.65625 24.015625 45.921875 \r\nQ 28.375 48.1875 33.59375 48.1875 \r\nQ 44.578125 48.1875 50.953125 41.515625 \r\nQ 57.328125 34.859375 57.328125 23.390625 \r\nQ 57.328125 12.15625 50.6875 5.359375 \r\nQ 44.046875 -1.421875 33.015625 -1.421875 \r\nQ 20.359375 -1.421875 13.671875 8.265625 \r\nQ 6.984375 17.96875 6.984375 36.375 \r\nQ 6.984375 53.65625 15.1875 63.9375 \r\nQ 23.390625 74.21875 37.203125 74.21875 \r\nQ 40.921875 74.21875 44.703125 73.484375 \r\nQ 48.484375 72.75 52.59375 71.296875 \r\nz\r\n\" id=\"DejaVuSans-54\"/>\r\n       </defs>\r\n       <use xlink:href=\"#DejaVuSans-48\"/>\r\n       <use x=\"63.623047\" xlink:href=\"#DejaVuSans-46\"/>\r\n       <use x=\"95.410156\" xlink:href=\"#DejaVuSans-54\"/>\r\n      </g>\r\n     </g>\r\n    </g>\r\n    <g id=\"xtick_5\">\r\n     <g id=\"line2d_5\">\r\n      <g>\r\n       <use style=\"stroke:#000000;stroke-width:0.8;\" x=\"292.034077\" xlink:href=\"#m804026e11a\" y=\"224.64\"/>\r\n      </g>\r\n     </g>\r\n     <g id=\"text_5\">\r\n      <!-- 0.8 -->\r\n      <g transform=\"translate(284.082515 239.238437)scale(0.1 -0.1)\">\r\n       <defs>\r\n        <path d=\"M 31.78125 34.625 \r\nQ 24.75 34.625 20.71875 30.859375 \r\nQ 16.703125 27.09375 16.703125 20.515625 \r\nQ 16.703125 13.921875 20.71875 10.15625 \r\nQ 24.75 6.390625 31.78125 6.390625 \r\nQ 38.8125 6.390625 42.859375 10.171875 \r\nQ 46.921875 13.96875 46.921875 20.515625 \r\nQ 46.921875 27.09375 42.890625 30.859375 \r\nQ 38.875 34.625 31.78125 34.625 \r\nz\r\nM 21.921875 38.8125 \r\nQ 15.578125 40.375 12.03125 44.71875 \r\nQ 8.5 49.078125 8.5 55.328125 \r\nQ 8.5 64.0625 14.71875 69.140625 \r\nQ 20.953125 74.21875 31.78125 74.21875 \r\nQ 42.671875 74.21875 48.875 69.140625 \r\nQ 55.078125 64.0625 55.078125 55.328125 \r\nQ 55.078125 49.078125 51.53125 44.71875 \r\nQ 48 40.375 41.703125 38.8125 \r\nQ 48.828125 37.15625 52.796875 32.3125 \r\nQ 56.78125 27.484375 56.78125 20.515625 \r\nQ 56.78125 9.90625 50.3125 4.234375 \r\nQ 43.84375 -1.421875 31.78125 -1.421875 \r\nQ 19.734375 -1.421875 13.25 4.234375 \r\nQ 6.78125 9.90625 6.78125 20.515625 \r\nQ 6.78125 27.484375 10.78125 32.3125 \r\nQ 14.796875 37.15625 21.921875 38.8125 \r\nz\r\nM 18.3125 54.390625 \r\nQ 18.3125 48.734375 21.84375 45.5625 \r\nQ 25.390625 42.390625 31.78125 42.390625 \r\nQ 38.140625 42.390625 41.71875 45.5625 \r\nQ 45.3125 48.734375 45.3125 54.390625 \r\nQ 45.3125 60.0625 41.71875 63.234375 \r\nQ 38.140625 66.40625 31.78125 66.40625 \r\nQ 25.390625 66.40625 21.84375 63.234375 \r\nQ 18.3125 60.0625 18.3125 54.390625 \r\nz\r\n\" id=\"DejaVuSans-56\"/>\r\n       </defs>\r\n       <use xlink:href=\"#DejaVuSans-48\"/>\r\n       <use x=\"63.623047\" xlink:href=\"#DejaVuSans-46\"/>\r\n       <use x=\"95.410156\" xlink:href=\"#DejaVuSans-56\"/>\r\n      </g>\r\n     </g>\r\n    </g>\r\n    <g id=\"xtick_6\">\r\n     <g id=\"line2d_6\">\r\n      <g>\r\n       <use style=\"stroke:#000000;stroke-width:0.8;\" x=\"354.140972\" xlink:href=\"#m804026e11a\" y=\"224.64\"/>\r\n      </g>\r\n     </g>\r\n     <g id=\"text_6\">\r\n      <!-- 1.0 -->\r\n      <g transform=\"translate(346.189409 239.238437)scale(0.1 -0.1)\">\r\n       <defs>\r\n        <path d=\"M 12.40625 8.296875 \r\nL 28.515625 8.296875 \r\nL 28.515625 63.921875 \r\nL 10.984375 60.40625 \r\nL 10.984375 69.390625 \r\nL 28.421875 72.90625 \r\nL 38.28125 72.90625 \r\nL 38.28125 8.296875 \r\nL 54.390625 8.296875 \r\nL 54.390625 0 \r\nL 12.40625 0 \r\nz\r\n\" id=\"DejaVuSans-49\"/>\r\n       </defs>\r\n       <use xlink:href=\"#DejaVuSans-49\"/>\r\n       <use x=\"63.623047\" xlink:href=\"#DejaVuSans-46\"/>\r\n       <use x=\"95.410156\" xlink:href=\"#DejaVuSans-48\"/>\r\n      </g>\r\n     </g>\r\n    </g>\r\n   </g>\r\n   <g id=\"matplotlib.axis_2\">\r\n    <g id=\"ytick_1\">\r\n     <g id=\"line2d_7\">\r\n      <defs>\r\n       <path d=\"M 0 0 \r\nL -3.5 0 \r\n\" id=\"m33b63b0e20\" style=\"stroke:#000000;stroke-width:0.8;\"/>\r\n      </defs>\r\n      <g>\r\n       <use style=\"stroke:#000000;stroke-width:0.8;\" x=\"30.103125\" xlink:href=\"#m33b63b0e20\" y=\"218.135694\"/>\r\n      </g>\r\n     </g>\r\n     <g id=\"text_7\">\r\n      <!-- 0.0 -->\r\n      <g transform=\"translate(7.2 221.934913)scale(0.1 -0.1)\">\r\n       <use xlink:href=\"#DejaVuSans-48\"/>\r\n       <use x=\"63.623047\" xlink:href=\"#DejaVuSans-46\"/>\r\n       <use x=\"95.410156\" xlink:href=\"#DejaVuSans-48\"/>\r\n      </g>\r\n     </g>\r\n    </g>\r\n    <g id=\"ytick_2\">\r\n     <g id=\"line2d_8\">\r\n      <g>\r\n       <use style=\"stroke:#000000;stroke-width:0.8;\" x=\"30.103125\" xlink:href=\"#m33b63b0e20\" y=\"177.390995\"/>\r\n      </g>\r\n     </g>\r\n     <g id=\"text_8\">\r\n      <!-- 0.2 -->\r\n      <g transform=\"translate(7.2 181.190214)scale(0.1 -0.1)\">\r\n       <use xlink:href=\"#DejaVuSans-48\"/>\r\n       <use x=\"63.623047\" xlink:href=\"#DejaVuSans-46\"/>\r\n       <use x=\"95.410156\" xlink:href=\"#DejaVuSans-50\"/>\r\n      </g>\r\n     </g>\r\n    </g>\r\n    <g id=\"ytick_3\">\r\n     <g id=\"line2d_9\">\r\n      <g>\r\n       <use style=\"stroke:#000000;stroke-width:0.8;\" x=\"30.103125\" xlink:href=\"#m33b63b0e20\" y=\"136.646295\"/>\r\n      </g>\r\n     </g>\r\n     <g id=\"text_9\">\r\n      <!-- 0.4 -->\r\n      <g transform=\"translate(7.2 140.445514)scale(0.1 -0.1)\">\r\n       <use xlink:href=\"#DejaVuSans-48\"/>\r\n       <use x=\"63.623047\" xlink:href=\"#DejaVuSans-46\"/>\r\n       <use x=\"95.410156\" xlink:href=\"#DejaVuSans-52\"/>\r\n      </g>\r\n     </g>\r\n    </g>\r\n    <g id=\"ytick_4\">\r\n     <g id=\"line2d_10\">\r\n      <g>\r\n       <use style=\"stroke:#000000;stroke-width:0.8;\" x=\"30.103125\" xlink:href=\"#m33b63b0e20\" y=\"95.901596\"/>\r\n      </g>\r\n     </g>\r\n     <g id=\"text_10\">\r\n      <!-- 0.6 -->\r\n      <g transform=\"translate(7.2 99.700815)scale(0.1 -0.1)\">\r\n       <use xlink:href=\"#DejaVuSans-48\"/>\r\n       <use x=\"63.623047\" xlink:href=\"#DejaVuSans-46\"/>\r\n       <use x=\"95.410156\" xlink:href=\"#DejaVuSans-54\"/>\r\n      </g>\r\n     </g>\r\n    </g>\r\n    <g id=\"ytick_5\">\r\n     <g id=\"line2d_11\">\r\n      <g>\r\n       <use style=\"stroke:#000000;stroke-width:0.8;\" x=\"30.103125\" xlink:href=\"#m33b63b0e20\" y=\"55.156897\"/>\r\n      </g>\r\n     </g>\r\n     <g id=\"text_11\">\r\n      <!-- 0.8 -->\r\n      <g transform=\"translate(7.2 58.956115)scale(0.1 -0.1)\">\r\n       <use xlink:href=\"#DejaVuSans-48\"/>\r\n       <use x=\"63.623047\" xlink:href=\"#DejaVuSans-46\"/>\r\n       <use x=\"95.410156\" xlink:href=\"#DejaVuSans-56\"/>\r\n      </g>\r\n     </g>\r\n    </g>\r\n    <g id=\"ytick_6\">\r\n     <g id=\"line2d_12\">\r\n      <g>\r\n       <use style=\"stroke:#000000;stroke-width:0.8;\" x=\"30.103125\" xlink:href=\"#m33b63b0e20\" y=\"14.412197\"/>\r\n      </g>\r\n     </g>\r\n     <g id=\"text_12\">\r\n      <!-- 1.0 -->\r\n      <g transform=\"translate(7.2 18.211416)scale(0.1 -0.1)\">\r\n       <use xlink:href=\"#DejaVuSans-49\"/>\r\n       <use x=\"63.623047\" xlink:href=\"#DejaVuSans-46\"/>\r\n       <use x=\"95.410156\" xlink:href=\"#DejaVuSans-48\"/>\r\n      </g>\r\n     </g>\r\n    </g>\r\n   </g>\r\n   <g id=\"line2d_13\">\r\n    <path clip-path=\"url(#p0249ad40e0)\" d=\"M 159.914117 24.452851 \r\nL 156.526026 20.16085 \r\n\" style=\"fill:none;stroke:#000000;stroke-linecap:square;stroke-width:1.5;\"/>\r\n   </g>\r\n   <g id=\"line2d_14\">\r\n    <path clip-path=\"url(#p0249ad40e0)\" d=\"M 138.084204 111.230479 \r\nL 140.403534 112.185618 \r\n\" style=\"fill:none;stroke:#000000;stroke-linecap:square;stroke-width:1.5;\"/>\r\n   </g>\r\n   <g id=\"line2d_15\">\r\n    <path clip-path=\"url(#p0249ad40e0)\" d=\"M 138.084204 111.230479 \r\nL 141.224868 114.527895 \r\n\" style=\"fill:none;stroke:#000000;stroke-linecap:square;stroke-width:1.5;\"/>\r\n   </g>\r\n   <g id=\"line2d_16\">\r\n    <path clip-path=\"url(#p0249ad40e0)\" d=\"M 233.607915 189.717517 \r\nL 232.270119 183.395923 \r\n\" style=\"fill:none;stroke:#000000;stroke-linecap:square;stroke-width:1.5;\"/>\r\n   </g>\r\n   <g id=\"line2d_17\">\r\n    <path clip-path=\"url(#p0249ad40e0)\" d=\"M 233.607915 189.717517 \r\nL 243.954891 182.613155 \r\n\" style=\"fill:none;stroke:#000000;stroke-linecap:square;stroke-width:1.5;\"/>\r\n   </g>\r\n   <g id=\"line2d_18\">\r\n    <path clip-path=\"url(#p0249ad40e0)\" d=\"M 232.270119 183.395923 \r\nL 243.954891 182.613155 \r\n\" style=\"fill:none;stroke:#000000;stroke-linecap:square;stroke-width:1.5;\"/>\r\n   </g>\r\n   <g id=\"line2d_19\">\r\n    <path clip-path=\"url(#p0249ad40e0)\" d=\"M 63.807261 24.825414 \r\nL 66.757044 17.083636 \r\n\" style=\"fill:none;stroke:#000000;stroke-linecap:square;stroke-width:1.5;\"/>\r\n   </g>\r\n   <g id=\"line2d_20\">\r\n    <path clip-path=\"url(#p0249ad40e0)\" d=\"M 343.468533 53.446159 \r\nL 332.309669 53.502584 \r\n\" style=\"fill:none;stroke:#000000;stroke-linecap:square;stroke-width:1.5;\"/>\r\n   </g>\r\n   <g id=\"line2d_21\">\r\n    <path clip-path=\"url(#p0249ad40e0)\" d=\"M 138.199575 198.23759 \r\nL 142.357541 195.715531 \r\n\" style=\"fill:none;stroke:#000000;stroke-linecap:square;stroke-width:1.5;\"/>\r\n   </g>\r\n   <g id=\"line2d_22\">\r\n    <path clip-path=\"url(#p0249ad40e0)\" d=\"M 81.503578 117.256522 \r\nL 88.601352 118.422666 \r\n\" style=\"fill:none;stroke:#000000;stroke-linecap:square;stroke-width:1.5;\"/>\r\n   </g>\r\n   <g id=\"line2d_23\">\r\n    <path clip-path=\"url(#p0249ad40e0)\" d=\"M 123.966604 83.164338 \r\nL 123.706266 83.681436 \r\n\" style=\"fill:none;stroke:#000000;stroke-linecap:square;stroke-width:1.5;\"/>\r\n   </g>\r\n   <g id=\"line2d_24\">\r\n    <path clip-path=\"url(#p0249ad40e0)\" d=\"M 140.403534 112.185618 \r\nL 141.224868 114.527895 \r\n\" style=\"fill:none;stroke:#000000;stroke-linecap:square;stroke-width:1.5;\"/>\r\n   </g>\r\n   <g id=\"line2d_25\">\r\n    <path clip-path=\"url(#p0249ad40e0)\" d=\"M 283.415121 177.652641 \r\nL 293.174384 180.126989 \r\n\" style=\"fill:none;stroke:#000000;stroke-linecap:square;stroke-width:1.5;\"/>\r\n   </g>\r\n   <g id=\"line2d_26\">\r\n    <path clip-path=\"url(#p0249ad40e0)\" d=\"M 154.922465 194.530444 \r\nL 149.519359 195.018472 \r\n\" style=\"fill:none;stroke:#000000;stroke-linecap:square;stroke-width:1.5;\"/>\r\n   </g>\r\n   <g id=\"line2d_27\">\r\n    <path clip-path=\"url(#p0249ad40e0)\" d=\"M 311.629866 91.15522 \r\nL 323.217346 89.158051 \r\n\" style=\"fill:none;stroke:#000000;stroke-linecap:square;stroke-width:1.5;\"/>\r\n   </g>\r\n   <g id=\"line2d_28\">\r\n    <path clip-path=\"url(#p0249ad40e0)\" d=\"M 325.437176 167.349009 \r\nL 325.654367 169.331308 \r\n\" style=\"fill:none;stroke:#000000;stroke-linecap:square;stroke-width:1.5;\"/>\r\n   </g>\r\n   <g id=\"line2d_29\">\r\n    <path clip-path=\"url(#p0249ad40e0)\" d=\"M 294.344502 35.580841 \r\nL 297.628283 42.78465 \r\n\" style=\"fill:none;stroke:#000000;stroke-linecap:square;stroke-width:1.5;\"/>\r\n   </g>\r\n   <g id=\"line2d_30\">\r\n    <path clip-path=\"url(#p0249ad40e0)\" d=\"M 342.479562 166.841724 \r\nL 349.684943 168.823348 \r\n\" style=\"fill:none;stroke:#000000;stroke-linecap:square;stroke-width:1.5;\"/>\r\n   </g>\r\n   <g id=\"line2d_31\">\r\n    <path clip-path=\"url(#p0249ad40e0)\" d=\"M 202.629047 171.993183 \r\nL 208.081262 168.8647 \r\n\" style=\"fill:none;stroke:#000000;stroke-linecap:square;stroke-width:1.5;\"/>\r\n   </g>\r\n   <g id=\"patch_3\">\r\n    <path d=\"M 30.103125 224.64 \r\nL 30.103125 7.2 \r\n\" style=\"fill:none;stroke:#000000;stroke-linecap:square;stroke-linejoin:miter;stroke-width:0.8;\"/>\r\n   </g>\r\n   <g id=\"patch_4\">\r\n    <path d=\"M 364.903125 224.64 \r\nL 364.903125 7.2 \r\n\" style=\"fill:none;stroke:#000000;stroke-linecap:square;stroke-linejoin:miter;stroke-width:0.8;\"/>\r\n   </g>\r\n   <g id=\"patch_5\">\r\n    <path d=\"M 30.103125 224.64 \r\nL 364.903125 224.64 \r\n\" style=\"fill:none;stroke:#000000;stroke-linecap:square;stroke-linejoin:miter;stroke-width:0.8;\"/>\r\n   </g>\r\n   <g id=\"patch_6\">\r\n    <path d=\"M 30.103125 7.2 \r\nL 364.903125 7.2 \r\n\" style=\"fill:none;stroke:#000000;stroke-linecap:square;stroke-linejoin:miter;stroke-width:0.8;\"/>\r\n   </g>\r\n  </g>\r\n </g>\r\n <defs>\r\n  <clipPath id=\"p0249ad40e0\">\r\n   <rect height=\"217.44\" width=\"334.8\" x=\"30.103125\" y=\"7.2\"/>\r\n  </clipPath>\r\n </defs>\r\n</svg>\r\n",
      "image/png": "[encoded data removed]"
     },
     "metadata": {
      "needs_background": "light"
     }
    }
   ],
   "source": [
    "plt.scatter(cluster_centers[:,0], cluster_centers[:,1], c=binom_sample)\n",
    "for idx_point_1, idx_point_2 in zip(start_points, end_points):\n",
    "    if idx_point_1 < idx_point_2:\n",
    "        line = np.array([cluster_centers[idx_point_1],cluster_centers[idx_point_2]])\n",
    "        plt.plot(line[:,0], line[:,1], c=\"k\")"
   ]
  },
  {
   "cell_type": "code",
   "execution_count": 9,
   "metadata": {},
   "outputs": [
    {
     "output_type": "display_data",
     "data": {
      "application/vnd.plotly.v1+json": {
       "config": {
        "plotlyServerURL": "https://plot.ly"
       },
       "data": [
        {
         "hovertemplate": "x=%{x}<br>y=%{y}<br>color=%{marker.color}<extra></extra>",
         "legendgroup": "",
         "marker": {
          "color": [
           32,
           24,
           25,
           36,
           31,
           20,
           24,
           32,
           19,
           25,
           30,
           32,
           32,
           26,
           33,
           27,
           28,
           33,
           32,
           35,
           32,
           31,
           24,
           28,
           27,
           27,
           39,
           29,
           36,
           31,
           34,
           30,
           31,
           30,
           26,
           33,
           27,
           21,
           32,
           26,
           37,
           38,
           36,
           28,
           20,
           37,
           29,
           39,
           38,
           35,
           27,
           29,
           35,
           28,
           26,
           31,
           37,
           32,
           31,
           24,
           31,
           41,
           25,
           30,
           35,
           33,
           32,
           32,
           28,
           27,
           34,
           34,
           35,
           36,
           30,
           30,
           34,
           32,
           32,
           34,
           36,
           28,
           28,
           24,
           31,
           22,
           30,
           30,
           27,
           31,
           22,
           22,
           34,
           28,
           25,
           30,
           33,
           26,
           31,
           24
          ],
          "coloraxis": "coloraxis",
          "symbol": "circle"
         },
         "mode": "markers",
         "name": "",
         "showlegend": false,
         "type": "scatter",
         "x": [
          0.3745401188473625,
          0.7319939418114051,
          0.15601864044243652,
          0.05808361216819946,
          0.6011150117432088,
          0.020584494295802447,
          0.8324426408004217,
          0.18182496720710062,
          0.3042422429595377,
          0.43194501864211576,
          0.6118528947223795,
          0.29214464853521815,
          0.45606998421703593,
          0.19967378215835974,
          0.5924145688620425,
          0.6075448519014384,
          0.06505159298527952,
          0.9656320330745594,
          0.3046137691733707,
          0.6842330265121569,
          0.12203823484477883,
          0.034388521115218396,
          0.2587799816000169,
          0.31171107608941095,
          0.5467102793432796,
          0.9695846277645586,
          0.9394989415641891,
          0.5978999788110851,
          0.0884925020519195,
          0.045227288910538066,
          0.388677289689482,
          0.8287375091519293,
          0.28093450968738076,
          0.14092422497476265,
          0.07455064367977082,
          0.7722447692966574,
          0.005522117123602399,
          0.7068573438476171,
          0.7712703466859457,
          0.3584657285442726,
          0.8631034258755935,
          0.3308980248526492,
          0.3109823217156622,
          0.7296061783380641,
          0.8872127425763265,
          0.1195942459383017,
          0.7607850486168974,
          0.770967179954561,
          0.5227328293819941,
          0.02541912674409519,
          0.03142918568673425,
          0.3143559810763267,
          0.907566473926093,
          0.41038292303562973,
          0.22879816549162246,
          0.289751452913768,
          0.9296976523425731,
          0.6334037565104235,
          0.8036720768991145,
          0.8925589984899778,
          0.8074401551640625,
          0.3180034749718639,
          0.22793516254194168,
          0.8180147659224931,
          0.006952130531190703,
          0.417411003148779,
          0.1198653673336828,
          0.9429097039125192,
          0.5187906217433661,
          0.363629602379294,
          0.9624472949421112,
          0.49724850589238545,
          0.2848404943774676,
          0.6095643339798968,
          0.05147875124998935,
          0.9082658859666537,
          0.1448948720912231,
          0.9856504541106007,
          0.6721355474058786,
          0.23763754399239967,
          0.3677831327192532,
          0.6335297107608947,
          0.0902897700544083,
          0.32078006497173583,
          0.040775141554763916,
          0.6775643618422824,
          0.512093058299281,
          0.6451727904094499,
          0.690937738102466,
          0.9367299887367345,
          0.3410663510502585,
          0.9246936182785628,
          0.2579416277151556,
          0.8172222002012158,
          0.5296505783560065,
          0.09310276780589921,
          0.9004180571633305,
          0.3390297910487007,
          0.7259556788702394,
          0.8870864242651173
         ],
         "xaxis": "x",
         "y": [
          0.9507143064099162,
          0.5986584841970366,
          0.15599452033620265,
          0.8661761457749352,
          0.7080725777960455,
          0.9699098521619943,
          0.21233911067827616,
          0.18340450985343382,
          0.5247564316322378,
          0.2912291401980419,
          0.13949386065204183,
          0.3663618432936917,
          0.7851759613930136,
          0.5142344384136116,
          0.046450412719997725,
          0.17052412368729153,
          0.9488855372533332,
          0.8083973481164611,
          0.09767211400638387,
          0.4401524937396013,
          0.4951769101112702,
          0.9093204020787821,
          0.662522284353982,
          0.5200680211778108,
          0.18485445552552704,
          0.7751328233611146,
          0.8948273504276488,
          0.9218742350231168,
          0.1959828624191452,
          0.32533033076326434,
          0.2713490317738959,
          0.3567533266935893,
          0.5426960831582485,
          0.8021969807540397,
          0.9868869366005173,
          0.1987156815341724,
          0.8154614284548342,
          0.7290071680409873,
          0.07404465173409036,
          0.11586905952512971,
          0.6232981268275579,
          0.06355835028602363,
          0.32518332202674705,
          0.6375574713552131,
          0.4722149251619493,
          0.713244787222995,
          0.5612771975694962,
          0.49379559636439074,
          0.42754101835854963,
          0.10789142699330445,
          0.6364104112637804,
          0.5085706911647028,
          0.24929222914887494,
          0.7555511385430487,
          0.07697990982879299,
          0.16122128725400442,
          0.808120379564417,
          0.8714605901877177,
          0.18657005888603584,
          0.5393422419156507,
          0.8960912999234932,
          0.11005192452767676,
          0.4271077886262563,
          0.8607305832563434,
          0.5107473025775657,
          0.22210781047073025,
          0.33761517140362796,
          0.32320293202075523,
          0.7030189588951778,
          0.9717820827209607,
          0.25178229582536416,
          0.30087830981676966,
          0.036886947354532795,
          0.5026790232288615,
          0.27864646423661144,
          0.23956189066697242,
          0.489452760277563,
          0.2420552715115004,
          0.7616196153287176,
          0.7282163486118596,
          0.6323058305935795,
          0.5357746840747585,
          0.835302495589238,
          0.18651851039985423,
          0.5908929431882418,
          0.016587828927856152,
          0.22649577519793795,
          0.17436642900499144,
          0.3867353463005374,
          0.13752094414599325,
          0.11347352124058907,
          0.877339353380981,
          0.659984046034179,
          0.5552008115994623,
          0.24185229090045168,
          0.8972157579533268,
          0.6331014572732679,
          0.3492095746126609,
          0.8971102599525771,
          0.7798755458576239
         ],
         "yaxis": "y"
        },
        {
         "line": {
          "color": "rgba(0, 0, 255, 0.8)"
         },
         "mode": "lines",
         "type": "scatter",
         "x": [
          0.3745401188473625,
          0.363629602379294
         ],
         "y": [
          0.9507143064099162,
          0.9717820827209607
         ]
        },
        {
         "line": {
          "color": "rgba(0, 0, 255, 0.8)"
         },
         "mode": "lines",
         "type": "scatter",
         "x": [
          0.3042422429595377,
          0.31171107608941095
         ],
         "y": [
          0.5247564316322378,
          0.5200680211778108
         ]
        },
        {
         "line": {
          "color": "rgba(0, 0, 255, 0.8)"
         },
         "mode": "lines",
         "type": "scatter",
         "x": [
          0.3042422429595377,
          0.3143559810763267
         ],
         "y": [
          0.5247564316322378,
          0.5085706911647028
         ]
        },
        {
         "line": {
          "color": "rgba(0, 0, 255, 0.8)"
         },
         "mode": "lines",
         "type": "scatter",
         "x": [
          0.6118528947223795,
          0.6075448519014384
         ],
         "y": [
          0.13949386065204183,
          0.17052412368729153
         ]
        },
        {
         "line": {
          "color": "rgba(0, 0, 255, 0.8)"
         },
         "mode": "lines",
         "type": "scatter",
         "x": [
          0.6118528947223795,
          0.6451727904094499
         ],
         "y": [
          0.13949386065204183,
          0.17436642900499144
         ]
        },
        {
         "line": {
          "color": "rgba(0, 0, 255, 0.8)"
         },
         "mode": "lines",
         "type": "scatter",
         "x": [
          0.6075448519014384,
          0.6451727904094499
         ],
         "y": [
          0.17052412368729153,
          0.17436642900499144
         ]
        },
        {
         "line": {
          "color": "rgba(0, 0, 255, 0.8)"
         },
         "mode": "lines",
         "type": "scatter",
         "x": [
          0.06505159298527952,
          0.07455064367977082
         ],
         "y": [
          0.9488855372533332,
          0.9868869366005173
         ]
        },
        {
         "line": {
          "color": "rgba(0, 0, 255, 0.8)"
         },
         "mode": "lines",
         "type": "scatter",
         "x": [
          0.9656320330745594,
          0.9296976523425731
         ],
         "y": [
          0.8083973481164611,
          0.808120379564417
         ]
        },
        {
         "line": {
          "color": "rgba(0, 0, 255, 0.8)"
         },
         "mode": "lines",
         "type": "scatter",
         "x": [
          0.3046137691733707,
          0.3180034749718639
         ],
         "y": [
          0.09767211400638387,
          0.11005192452767676
         ]
        },
        {
         "line": {
          "color": "rgba(0, 0, 255, 0.8)"
         },
         "mode": "lines",
         "type": "scatter",
         "x": [
          0.12203823484477883,
          0.1448948720912231
         ],
         "y": [
          0.4951769101112702,
          0.489452760277563
         ]
        },
        {
         "line": {
          "color": "rgba(0, 0, 255, 0.8)"
         },
         "mode": "lines",
         "type": "scatter",
         "x": [
          0.2587799816000169,
          0.2579416277151556
         ],
         "y": [
          0.662522284353982,
          0.659984046034179
         ]
        },
        {
         "line": {
          "color": "rgba(0, 0, 255, 0.8)"
         },
         "mode": "lines",
         "type": "scatter",
         "x": [
          0.31171107608941095,
          0.3143559810763267
         ],
         "y": [
          0.5200680211778108,
          0.5085706911647028
         ]
        },
        {
         "line": {
          "color": "rgba(0, 0, 255, 0.8)"
         },
         "mode": "lines",
         "type": "scatter",
         "x": [
          0.7722447692966574,
          0.8036720768991145
         ],
         "y": [
          0.1987156815341724,
          0.18657005888603584
         ]
        },
        {
         "line": {
          "color": "rgba(0, 0, 255, 0.8)"
         },
         "mode": "lines",
         "type": "scatter",
         "x": [
          0.3584657285442726,
          0.3410663510502585
         ],
         "y": [
          0.11586905952512971,
          0.11347352124058907
         ]
        },
        {
         "line": {
          "color": "rgba(0, 0, 255, 0.8)"
         },
         "mode": "lines",
         "type": "scatter",
         "x": [
          0.8631034258755935,
          0.9004180571633305
         ],
         "y": [
          0.6232981268275579,
          0.6331014572732679
         ]
        },
        {
         "line": {
          "color": "rgba(0, 0, 255, 0.8)"
         },
         "mode": "lines",
         "type": "scatter",
         "x": [
          0.907566473926093,
          0.9082658859666537
         ],
         "y": [
          0.24929222914887494,
          0.23956189066697242
         ]
        },
        {
         "line": {
          "color": "rgba(0, 0, 255, 0.8)"
         },
         "mode": "lines",
         "type": "scatter",
         "x": [
          0.8074401551640625,
          0.8180147659224931
         ],
         "y": [
          0.8960912999234932,
          0.8607305832563434
         ]
        },
        {
         "line": {
          "color": "rgba(0, 0, 255, 0.8)"
         },
         "mode": "lines",
         "type": "scatter",
         "x": [
          0.9624472949421112,
          0.9856504541106007
         ],
         "y": [
          0.25178229582536416,
          0.2420552715115004
         ]
        },
        {
         "line": {
          "color": "rgba(0, 0, 255, 0.8)"
         },
         "mode": "lines",
         "type": "scatter",
         "x": [
          0.512093058299281,
          0.5296505783560065
         ],
         "y": [
          0.22649577519793795,
          0.24185229090045168
         ]
        },
        {
         "line": {
          "color": "rgba(0, 0, 255, 0.55)"
         },
         "mode": "lines",
         "type": "scatter",
         "x": [
          0.7319939418114051,
          0.7296061783380641
         ],
         "y": [
          0.5986584841970366,
          0.6375574713552131
         ]
        },
        {
         "line": {
          "color": "rgba(0, 0, 255, 0.55)"
         },
         "mode": "lines",
         "type": "scatter",
         "x": [
          0.7319939418114051,
          0.7607850486168974
         ],
         "y": [
          0.5986584841970366,
          0.5612771975694962
         ]
        },
        {
         "line": {
          "color": "rgba(0, 0, 255, 0.55)"
         },
         "mode": "lines",
         "type": "scatter",
         "x": [
          0.15601864044243652,
          0.18182496720710062
         ],
         "y": [
          0.15599452033620265,
          0.18340450985343382
         ]
        },
        {
         "line": {
          "color": "rgba(0, 0, 255, 0.55)"
         },
         "mode": "lines",
         "type": "scatter",
         "x": [
          0.05808361216819946,
          0.034388521115218396
         ],
         "y": [
          0.8661761457749352,
          0.9093204020787821
         ]
        },
        {
         "line": {
          "color": "rgba(0, 0, 255, 0.55)"
         },
         "mode": "lines",
         "type": "scatter",
         "x": [
          0.05808361216819946,
          0.09310276780589921
         ],
         "y": [
          0.8661761457749352,
          0.8972157579533268
         ]
        },
        {
         "line": {
          "color": "rgba(0, 0, 255, 0.55)"
         },
         "mode": "lines",
         "type": "scatter",
         "x": [
          0.6011150117432088,
          0.6721355474058786
         ],
         "y": [
          0.7080725777960455,
          0.7616196153287176
         ]
        },
        {
         "line": {
          "color": "rgba(0, 0, 255, 0.55)"
         },
         "mode": "lines",
         "type": "scatter",
         "x": [
          0.020584494295802447,
          0.06505159298527952
         ],
         "y": [
          0.9699098521619943,
          0.9488855372533332
         ]
        },
        {
         "line": {
          "color": "rgba(0, 0, 255, 0.55)"
         },
         "mode": "lines",
         "type": "scatter",
         "x": [
          0.020584494295802447,
          0.07455064367977082
         ],
         "y": [
          0.9699098521619943,
          0.9868869366005173
         ]
        },
        {
         "line": {
          "color": "rgba(0, 0, 255, 0.55)"
         },
         "mode": "lines",
         "type": "scatter",
         "x": [
          0.8324426408004217,
          0.8036720768991145
         ],
         "y": [
          0.21233911067827616,
          0.18657005888603584
         ]
        },
        {
         "line": {
          "color": "rgba(0, 0, 255, 0.55)"
         },
         "mode": "lines",
         "type": "scatter",
         "x": [
          0.3042422429595377,
          0.28093450968738076
         ],
         "y": [
          0.5247564316322378,
          0.5426960831582485
         ]
        },
        {
         "line": {
          "color": "rgba(0, 0, 255, 0.55)"
         },
         "mode": "lines",
         "type": "scatter",
         "x": [
          0.29214464853521815,
          0.3109823217156622
         ],
         "y": [
          0.3663618432936917,
          0.32518332202674705
         ]
        },
        {
         "line": {
          "color": "rgba(0, 0, 255, 0.55)"
         },
         "mode": "lines",
         "type": "scatter",
         "x": [
          0.29214464853521815,
          0.3390297910487007
         ],
         "y": [
          0.3663618432936917,
          0.3492095746126609
         ]
        },
        {
         "line": {
          "color": "rgba(0, 0, 255, 0.55)"
         },
         "mode": "lines",
         "type": "scatter",
         "x": [
          0.45606998421703593,
          0.41038292303562973
         ],
         "y": [
          0.7851759613930136,
          0.7555511385430487
         ]
        },
        {
         "line": {
          "color": "rgba(0, 0, 255, 0.55)"
         },
         "mode": "lines",
         "type": "scatter",
         "x": [
          0.19967378215835974,
          0.22793516254194168
         ],
         "y": [
          0.5142344384136116,
          0.4271077886262563
         ]
        },
        {
         "line": {
          "color": "rgba(0, 0, 255, 0.55)"
         },
         "mode": "lines",
         "type": "scatter",
         "x": [
          0.6075448519014384,
          0.5467102793432796
         ],
         "y": [
          0.17052412368729153,
          0.18485445552552704
         ]
        },
        {
         "line": {
          "color": "rgba(0, 0, 255, 0.55)"
         },
         "mode": "lines",
         "type": "scatter",
         "x": [
          0.06505159298527952,
          0.034388521115218396
         ],
         "y": [
          0.9488855372533332,
          0.9093204020787821
         ]
        },
        {
         "line": {
          "color": "rgba(0, 0, 255, 0.55)"
         },
         "mode": "lines",
         "type": "scatter",
         "x": [
          0.06505159298527952,
          0.09310276780589921
         ],
         "y": [
          0.9488855372533332,
          0.8972157579533268
         ]
        },
        {
         "line": {
          "color": "rgba(0, 0, 255, 0.55)"
         },
         "mode": "lines",
         "type": "scatter",
         "x": [
          0.9656320330745594,
          0.9695846277645586
         ],
         "y": [
          0.8083973481164611,
          0.7751328233611146
         ]
        },
        {
         "line": {
          "color": "rgba(0, 0, 255, 0.55)"
         },
         "mode": "lines",
         "type": "scatter",
         "x": [
          0.3046137691733707,
          0.3308980248526492
         ],
         "y": [
          0.09767211400638387,
          0.06355835028602363
         ]
        },
        {
         "line": {
          "color": "rgba(0, 0, 255, 0.55)"
         },
         "mode": "lines",
         "type": "scatter",
         "x": [
          0.3046137691733707,
          0.289751452913768
         ],
         "y": [
          0.09767211400638387,
          0.16122128725400442
         ]
        },
        {
         "line": {
          "color": "rgba(0, 0, 255, 0.55)"
         },
         "mode": "lines",
         "type": "scatter",
         "x": [
          0.3046137691733707,
          0.2848404943774676
         ],
         "y": [
          0.09767211400638387,
          0.036886947354532795
         ]
        },
        {
         "line": {
          "color": "rgba(0, 0, 255, 0.55)"
         },
         "mode": "lines",
         "type": "scatter",
         "x": [
          0.034388521115218396,
          0.09310276780589921
         ],
         "y": [
          0.9093204020787821,
          0.8972157579533268
         ]
        },
        {
         "line": {
          "color": "rgba(0, 0, 255, 0.55)"
         },
         "mode": "lines",
         "type": "scatter",
         "x": [
          0.31171107608941095,
          0.28093450968738076
         ],
         "y": [
          0.5200680211778108,
          0.5426960831582485
         ]
        },
        {
         "line": {
          "color": "rgba(0, 0, 255, 0.55)"
         },
         "mode": "lines",
         "type": "scatter",
         "x": [
          0.5467102793432796,
          0.512093058299281
         ],
         "y": [
          0.18485445552552704,
          0.22649577519793795
         ]
        },
        {
         "line": {
          "color": "rgba(0, 0, 255, 0.55)"
         },
         "mode": "lines",
         "type": "scatter",
         "x": [
          0.5467102793432796,
          0.5296505783560065
         ],
         "y": [
          0.18485445552552704,
          0.24185229090045168
         ]
        },
        {
         "line": {
          "color": "rgba(0, 0, 255, 0.55)"
         },
         "mode": "lines",
         "type": "scatter",
         "x": [
          0.9695846277645586,
          0.8870864242651173
         ],
         "y": [
          0.7751328233611146,
          0.7798755458576239
         ]
        },
        {
         "line": {
          "color": "rgba(0, 0, 255, 0.55)"
         },
         "mode": "lines",
         "type": "scatter",
         "x": [
          0.9394989415641891,
          0.9296976523425731
         ],
         "y": [
          0.8948273504276488,
          0.808120379564417
         ]
        },
        {
         "line": {
          "color": "rgba(0, 0, 255, 0.55)"
         },
         "mode": "lines",
         "type": "scatter",
         "x": [
          0.5978999788110851,
          0.6334037565104235
         ],
         "y": [
          0.9218742350231168,
          0.8714605901877177
         ]
        },
        {
         "line": {
          "color": "rgba(0, 0, 255, 0.55)"
         },
         "mode": "lines",
         "type": "scatter",
         "x": [
          0.045227288910538066,
          0.1198653673336828
         ],
         "y": [
          0.32533033076326434,
          0.33761517140362796
         ]
        },
        {
         "line": {
          "color": "rgba(0, 0, 255, 0.55)"
         },
         "mode": "lines",
         "type": "scatter",
         "x": [
          0.045227288910538066,
          0.05147875124998935
         ],
         "y": [
          0.32533033076326434,
          0.27864646423661144
         ]
        },
        {
         "line": {
          "color": "rgba(0, 0, 255, 0.55)"
         },
         "mode": "lines",
         "type": "scatter",
         "x": [
          0.388677289689482,
          0.417411003148779
         ],
         "y": [
          0.2713490317738959,
          0.22210781047073025
         ]
        },
        {
         "line": {
          "color": "rgba(0, 0, 255, 0.55)"
         },
         "mode": "lines",
         "type": "scatter",
         "x": [
          0.28093450968738076,
          0.3143559810763267
         ],
         "y": [
          0.5426960831582485,
          0.5085706911647028
         ]
        },
        {
         "line": {
          "color": "rgba(0, 0, 255, 0.55)"
         },
         "mode": "lines",
         "type": "scatter",
         "x": [
          0.14092422497476265,
          0.0902897700544083
         ],
         "y": [
          0.8021969807540397,
          0.835302495589238
         ]
        },
        {
         "line": {
          "color": "rgba(0, 0, 255, 0.55)"
         },
         "mode": "lines",
         "type": "scatter",
         "x": [
          0.005522117123602399,
          0.0902897700544083
         ],
         "y": [
          0.8154614284548342,
          0.835302495589238
         ]
        },
        {
         "line": {
          "color": "rgba(0, 0, 255, 0.55)"
         },
         "mode": "lines",
         "type": "scatter",
         "x": [
          0.3584657285442726,
          0.32078006497173583
         ],
         "y": [
          0.11586905952512971,
          0.18651851039985423
         ]
        },
        {
         "line": {
          "color": "rgba(0, 0, 255, 0.55)"
         },
         "mode": "lines",
         "type": "scatter",
         "x": [
          0.3308980248526492,
          0.3180034749718639
         ],
         "y": [
          0.06355835028602363,
          0.11005192452767676
         ]
        },
        {
         "line": {
          "color": "rgba(0, 0, 255, 0.55)"
         },
         "mode": "lines",
         "type": "scatter",
         "x": [
          0.3308980248526492,
          0.2848404943774676
         ],
         "y": [
          0.06355835028602363,
          0.036886947354532795
         ]
        },
        {
         "line": {
          "color": "rgba(0, 0, 255, 0.55)"
         },
         "mode": "lines",
         "type": "scatter",
         "x": [
          0.7296061783380641,
          0.7607850486168974
         ],
         "y": [
          0.6375574713552131,
          0.5612771975694962
         ]
        },
        {
         "line": {
          "color": "rgba(0, 0, 255, 0.55)"
         },
         "mode": "lines",
         "type": "scatter",
         "x": [
          0.8872127425763265,
          0.8925589984899778
         ],
         "y": [
          0.4722149251619493,
          0.5393422419156507
         ]
        },
        {
         "line": {
          "color": "rgba(0, 0, 255, 0.55)"
         },
         "mode": "lines",
         "type": "scatter",
         "x": [
          0.7607850486168974,
          0.8172222002012158
         ],
         "y": [
          0.5612771975694962,
          0.5552008115994623
         ]
        },
        {
         "line": {
          "color": "rgba(0, 0, 255, 0.55)"
         },
         "mode": "lines",
         "type": "scatter",
         "x": [
          0.03142918568673425,
          0.040775141554763916
         ],
         "y": [
          0.6364104112637804,
          0.5908929431882418
         ]
        },
        {
         "line": {
          "color": "rgba(0, 0, 255, 0.55)"
         },
         "mode": "lines",
         "type": "scatter",
         "x": [
          0.907566473926093,
          0.9624472949421112
         ],
         "y": [
          0.24929222914887494,
          0.25178229582536416
         ]
        },
        {
         "line": {
          "color": "rgba(0, 0, 255, 0.55)"
         },
         "mode": "lines",
         "type": "scatter",
         "x": [
          0.907566473926093,
          0.9856504541106007
         ],
         "y": [
          0.24929222914887494,
          0.2420552715115004
         ]
        },
        {
         "line": {
          "color": "rgba(0, 0, 255, 0.55)"
         },
         "mode": "lines",
         "type": "scatter",
         "x": [
          0.289751452913768,
          0.32078006497173583
         ],
         "y": [
          0.16122128725400442,
          0.18651851039985423
         ]
        },
        {
         "line": {
          "color": "rgba(0, 0, 255, 0.55)"
         },
         "mode": "lines",
         "type": "scatter",
         "x": [
          0.8925589984899778,
          0.8172222002012158
         ],
         "y": [
          0.5393422419156507,
          0.5552008115994623
         ]
        },
        {
         "line": {
          "color": "rgba(0, 0, 255, 0.55)"
         },
         "mode": "lines",
         "type": "scatter",
         "x": [
          0.8074401551640625,
          0.7259556788702394
         ],
         "y": [
          0.8960912999234932,
          0.8971102599525771
         ]
        },
        {
         "line": {
          "color": "rgba(0, 0, 255, 0.55)"
         },
         "mode": "lines",
         "type": "scatter",
         "x": [
          0.3180034749718639,
          0.2848404943774676
         ],
         "y": [
          0.11005192452767676,
          0.036886947354532795
         ]
        },
        {
         "line": {
          "color": "rgba(0, 0, 255, 0.55)"
         },
         "mode": "lines",
         "type": "scatter",
         "x": [
          0.9429097039125192,
          0.9624472949421112
         ],
         "y": [
          0.32320293202075523,
          0.25178229582536416
         ]
        },
        {
         "line": {
          "color": "rgba(0, 0, 255, 0.55)"
         },
         "mode": "lines",
         "type": "scatter",
         "x": [
          0.9429097039125192,
          0.9856504541106007
         ],
         "y": [
          0.32320293202075523,
          0.2420552715115004
         ]
        },
        {
         "line": {
          "color": "rgba(0, 0, 255, 0.55)"
         },
         "mode": "lines",
         "type": "scatter",
         "x": [
          0.9624472949421112,
          0.9082658859666537
         ],
         "y": [
          0.25178229582536416,
          0.23956189066697242
         ]
        },
        {
         "line": {
          "color": "rgba(0, 0, 255, 0.55)"
         },
         "mode": "lines",
         "type": "scatter",
         "x": [
          0.6095643339798968,
          0.6335297107608947
         ],
         "y": [
          0.5026790232288615,
          0.5357746840747585
         ]
        },
        {
         "line": {
          "color": "rgba(0, 0, 255, 0.55)"
         },
         "mode": "lines",
         "type": "scatter",
         "x": [
          0.9082658859666537,
          0.9856504541106007
         ],
         "y": [
          0.23956189066697242,
          0.2420552715115004
         ]
        },
        {
         "line": {
          "color": "rgba(0, 0, 255, 0.55)"
         },
         "mode": "lines",
         "type": "scatter",
         "x": [
          0.23763754399239967,
          0.2579416277151556
         ],
         "y": [
          0.7282163486118596,
          0.659984046034179
         ]
        },
        {
         "line": {
          "color": "rgba(0, 0, 255, 0.55)"
         },
         "mode": "lines",
         "type": "scatter",
         "x": [
          0.0902897700544083,
          0.09310276780589921
         ],
         "y": [
          0.835302495589238,
          0.8972157579533268
         ]
        },
        {
         "line": {
          "color": "rgba(0, 0, 255, 0.55)"
         },
         "mode": "lines",
         "type": "scatter",
         "x": [
          0.32078006497173583,
          0.3410663510502585
         ],
         "y": [
          0.18651851039985423,
          0.11347352124058907
         ]
        },
        {
         "line": {
          "color": "rgba(0, 0, 255, 0.3)"
         },
         "mode": "lines",
         "type": "scatter",
         "x": [
          0.7319939418114051,
          0.7068573438476171
         ],
         "y": [
          0.5986584841970366,
          0.7290071680409873
         ]
        },
        {
         "line": {
          "color": "rgba(0, 0, 255, 0.3)"
         },
         "mode": "lines",
         "type": "scatter",
         "x": [
          0.7319939418114051,
          0.6335297107608947
         ],
         "y": [
          0.5986584841970366,
          0.5357746840747585
         ]
        },
        {
         "line": {
          "color": "rgba(0, 0, 255, 0.3)"
         },
         "mode": "lines",
         "type": "scatter",
         "x": [
          0.7319939418114051,
          0.8172222002012158
         ],
         "y": [
          0.5986584841970366,
          0.5552008115994623
         ]
        },
        {
         "line": {
          "color": "rgba(0, 0, 255, 0.3)"
         },
         "mode": "lines",
         "type": "scatter",
         "x": [
          0.15601864044243652,
          0.22879816549162246
         ],
         "y": [
          0.15599452033620265,
          0.07697990982879299
         ]
        },
        {
         "line": {
          "color": "rgba(0, 0, 255, 0.3)"
         },
         "mode": "lines",
         "type": "scatter",
         "x": [
          0.05808361216819946,
          0.0902897700544083
         ],
         "y": [
          0.8661761457749352,
          0.835302495589238
         ]
        },
        {
         "line": {
          "color": "rgba(0, 0, 255, 0.3)"
         },
         "mode": "lines",
         "type": "scatter",
         "x": [
          0.6011150117432088,
          0.5187906217433661
         ],
         "y": [
          0.7080725777960455,
          0.7030189588951778
         ]
        },
        {
         "line": {
          "color": "rgba(0, 0, 255, 0.3)"
         },
         "mode": "lines",
         "type": "scatter",
         "x": [
          0.020584494295802447,
          0.034388521115218396
         ],
         "y": [
          0.9699098521619943,
          0.9093204020787821
         ]
        },
        {
         "line": {
          "color": "rgba(0, 0, 255, 0.3)"
         },
         "mode": "lines",
         "type": "scatter",
         "x": [
          0.8324426408004217,
          0.9082658859666537
         ],
         "y": [
          0.21233911067827616,
          0.23956189066697242
         ]
        },
        {
         "line": {
          "color": "rgba(0, 0, 255, 0.3)"
         },
         "mode": "lines",
         "type": "scatter",
         "x": [
          0.18182496720710062,
          0.3046137691733707
         ],
         "y": [
          0.18340450985343382,
          0.09767211400638387
         ]
        },
        {
         "line": {
          "color": "rgba(0, 0, 255, 0.3)"
         },
         "mode": "lines",
         "type": "scatter",
         "x": [
          0.18182496720710062,
          0.0884925020519195
         ],
         "y": [
          0.18340450985343382,
          0.1959828624191452
         ]
        },
        {
         "line": {
          "color": "rgba(0, 0, 255, 0.3)"
         },
         "mode": "lines",
         "type": "scatter",
         "x": [
          0.18182496720710062,
          0.289751452913768
         ],
         "y": [
          0.18340450985343382,
          0.16122128725400442
         ]
        },
        {
         "line": {
          "color": "rgba(0, 0, 255, 0.3)"
         },
         "mode": "lines",
         "type": "scatter",
         "x": [
          0.3042422429595377,
          0.19967378215835974
         ],
         "y": [
          0.5247564316322378,
          0.5142344384136116
         ]
        },
        {
         "line": {
          "color": "rgba(0, 0, 255, 0.3)"
         },
         "mode": "lines",
         "type": "scatter",
         "x": [
          0.3042422429595377,
          0.22793516254194168
         ],
         "y": [
          0.5247564316322378,
          0.4271077886262563
         ]
        },
        {
         "line": {
          "color": "rgba(0, 0, 255, 0.3)"
         },
         "mode": "lines",
         "type": "scatter",
         "x": [
          0.43194501864211576,
          0.388677289689482
         ],
         "y": [
          0.2912291401980419,
          0.2713490317738959
         ]
        },
        {
         "line": {
          "color": "rgba(0, 0, 255, 0.3)"
         },
         "mode": "lines",
         "type": "scatter",
         "x": [
          0.43194501864211576,
          0.5296505783560065
         ],
         "y": [
          0.2912291401980419,
          0.24185229090045168
         ]
        },
        {
         "line": {
          "color": "rgba(0, 0, 255, 0.3)"
         },
         "mode": "lines",
         "type": "scatter",
         "x": [
          0.43194501864211576,
          0.3390297910487007
         ],
         "y": [
          0.2912291401980419,
          0.3492095746126609
         ]
        },
        {
         "line": {
          "color": "rgba(0, 0, 255, 0.3)"
         },
         "mode": "lines",
         "type": "scatter",
         "x": [
          0.6118528947223795,
          0.5924145688620425
         ],
         "y": [
          0.13949386065204183,
          0.046450412719997725
         ]
        },
        {
         "line": {
          "color": "rgba(0, 0, 255, 0.3)"
         },
         "mode": "lines",
         "type": "scatter",
         "x": [
          0.6118528947223795,
          0.5467102793432796
         ],
         "y": [
          0.13949386065204183,
          0.18485445552552704
         ]
        },
        {
         "line": {
          "color": "rgba(0, 0, 255, 0.3)"
         },
         "mode": "lines",
         "type": "scatter",
         "x": [
          0.6118528947223795,
          0.512093058299281
         ],
         "y": [
          0.13949386065204183,
          0.22649577519793795
         ]
        },
        {
         "line": {
          "color": "rgba(0, 0, 255, 0.3)"
         },
         "mode": "lines",
         "type": "scatter",
         "x": [
          0.19967378215835974,
          0.31171107608941095
         ],
         "y": [
          0.5142344384136116,
          0.5200680211778108
         ]
        },
        {
         "line": {
          "color": "rgba(0, 0, 255, 0.3)"
         },
         "mode": "lines",
         "type": "scatter",
         "x": [
          0.19967378215835974,
          0.28093450968738076
         ],
         "y": [
          0.5142344384136116,
          0.5426960831582485
         ]
        },
        {
         "line": {
          "color": "rgba(0, 0, 255, 0.3)"
         },
         "mode": "lines",
         "type": "scatter",
         "x": [
          0.19967378215835974,
          0.3143559810763267
         ],
         "y": [
          0.5142344384136116,
          0.5085706911647028
         ]
        },
        {
         "line": {
          "color": "rgba(0, 0, 255, 0.3)"
         },
         "mode": "lines",
         "type": "scatter",
         "x": [
          0.6075448519014384,
          0.512093058299281
         ],
         "y": [
          0.17052412368729153,
          0.22649577519793795
         ]
        },
        {
         "line": {
          "color": "rgba(0, 0, 255, 0.3)"
         },
         "mode": "lines",
         "type": "scatter",
         "x": [
          0.6075448519014384,
          0.5296505783560065
         ],
         "y": [
          0.17052412368729153,
          0.24185229090045168
         ]
        },
        {
         "line": {
          "color": "rgba(0, 0, 255, 0.3)"
         },
         "mode": "lines",
         "type": "scatter",
         "x": [
          0.06505159298527952,
          0.0902897700544083
         ],
         "y": [
          0.9488855372533332,
          0.835302495589238
         ]
        },
        {
         "line": {
          "color": "rgba(0, 0, 255, 0.3)"
         },
         "mode": "lines",
         "type": "scatter",
         "x": [
          0.9656320330745594,
          0.9394989415641891
         ],
         "y": [
          0.8083973481164611,
          0.8948273504276488
         ]
        },
        {
         "line": {
          "color": "rgba(0, 0, 255, 0.3)"
         },
         "mode": "lines",
         "type": "scatter",
         "x": [
          0.3046137691733707,
          0.3584657285442726
         ],
         "y": [
          0.09767211400638387,
          0.11586905952512971
         ]
        },
        {
         "line": {
          "color": "rgba(0, 0, 255, 0.3)"
         },
         "mode": "lines",
         "type": "scatter",
         "x": [
          0.3046137691733707,
          0.22879816549162246
         ],
         "y": [
          0.09767211400638387,
          0.07697990982879299
         ]
        },
        {
         "line": {
          "color": "rgba(0, 0, 255, 0.3)"
         },
         "mode": "lines",
         "type": "scatter",
         "x": [
          0.3046137691733707,
          0.3410663510502585
         ],
         "y": [
          0.09767211400638387,
          0.11347352124058907
         ]
        },
        {
         "line": {
          "color": "rgba(0, 0, 255, 0.3)"
         },
         "mode": "lines",
         "type": "scatter",
         "x": [
          0.6842330265121569,
          0.770967179954561
         ],
         "y": [
          0.4401524937396013,
          0.49379559636439074
         ]
        },
        {
         "line": {
          "color": "rgba(0, 0, 255, 0.3)"
         },
         "mode": "lines",
         "type": "scatter",
         "x": [
          0.6842330265121569,
          0.6095643339798968
         ],
         "y": [
          0.4401524937396013,
          0.5026790232288615
         ]
        },
        {
         "line": {
          "color": "rgba(0, 0, 255, 0.3)"
         },
         "mode": "lines",
         "type": "scatter",
         "x": [
          0.6842330265121569,
          0.690937738102466
         ],
         "y": [
          0.4401524937396013,
          0.3867353463005374
         ]
        },
        {
         "line": {
          "color": "rgba(0, 0, 255, 0.3)"
         },
         "mode": "lines",
         "type": "scatter",
         "x": [
          0.12203823484477883,
          0.006952130531190703
         ],
         "y": [
          0.4951769101112702,
          0.5107473025775657
         ]
        },
        {
         "line": {
          "color": "rgba(0, 0, 255, 0.3)"
         },
         "mode": "lines",
         "type": "scatter",
         "x": [
          0.12203823484477883,
          0.040775141554763916
         ],
         "y": [
          0.4951769101112702,
          0.5908929431882418
         ]
        },
        {
         "line": {
          "color": "rgba(0, 0, 255, 0.3)"
         },
         "mode": "lines",
         "type": "scatter",
         "x": [
          0.034388521115218396,
          0.07455064367977082
         ],
         "y": [
          0.9093204020787821,
          0.9868869366005173
         ]
        },
        {
         "line": {
          "color": "rgba(0, 0, 255, 0.3)"
         },
         "mode": "lines",
         "type": "scatter",
         "x": [
          0.034388521115218396,
          0.005522117123602399
         ],
         "y": [
          0.9093204020787821,
          0.8154614284548342
         ]
        },
        {
         "line": {
          "color": "rgba(0, 0, 255, 0.3)"
         },
         "mode": "lines",
         "type": "scatter",
         "x": [
          0.034388521115218396,
          0.0902897700544083
         ],
         "y": [
          0.9093204020787821,
          0.835302495589238
         ]
        },
        {
         "line": {
          "color": "rgba(0, 0, 255, 0.3)"
         },
         "mode": "lines",
         "type": "scatter",
         "x": [
          0.5467102793432796,
          0.6451727904094499
         ],
         "y": [
          0.18485445552552704,
          0.17436642900499144
         ]
        },
        {
         "line": {
          "color": "rgba(0, 0, 255, 0.3)"
         },
         "mode": "lines",
         "type": "scatter",
         "x": [
          0.9695846277645586,
          0.9246936182785628
         ],
         "y": [
          0.7751328233611146,
          0.877339353380981
         ]
        },
        {
         "line": {
          "color": "rgba(0, 0, 255, 0.3)"
         },
         "mode": "lines",
         "type": "scatter",
         "x": [
          0.0884925020519195,
          0.02541912674409519
         ],
         "y": [
          0.1959828624191452,
          0.10789142699330445
         ]
        },
        {
         "line": {
          "color": "rgba(0, 0, 255, 0.3)"
         },
         "mode": "lines",
         "type": "scatter",
         "x": [
          0.388677289689482,
          0.3109823217156622
         ],
         "y": [
          0.2713490317738959,
          0.32518332202674705
         ]
        },
        {
         "line": {
          "color": "rgba(0, 0, 255, 0.3)"
         },
         "mode": "lines",
         "type": "scatter",
         "x": [
          0.388677289689482,
          0.49724850589238545
         ],
         "y": [
          0.2713490317738959,
          0.30087830981676966
         ]
        },
        {
         "line": {
          "color": "rgba(0, 0, 255, 0.3)"
         },
         "mode": "lines",
         "type": "scatter",
         "x": [
          0.8287375091519293,
          0.9429097039125192
         ],
         "y": [
          0.3567533266935893,
          0.32320293202075523
         ]
        },
        {
         "line": {
          "color": "rgba(0, 0, 255, 0.3)"
         },
         "mode": "lines",
         "type": "scatter",
         "x": [
          0.8287375091519293,
          0.9082658859666537
         ],
         "y": [
          0.3567533266935893,
          0.23956189066697242
         ]
        },
        {
         "line": {
          "color": "rgba(0, 0, 255, 0.3)"
         },
         "mode": "lines",
         "type": "scatter",
         "x": [
          0.14092422497476265,
          0.09310276780589921
         ],
         "y": [
          0.8021969807540397,
          0.8972157579533268
         ]
        },
        {
         "line": {
          "color": "rgba(0, 0, 255, 0.3)"
         },
         "mode": "lines",
         "type": "scatter",
         "x": [
          0.07455064367977082,
          0.09310276780589921
         ],
         "y": [
          0.9868869366005173,
          0.8972157579533268
         ]
        },
        {
         "line": {
          "color": "rgba(0, 0, 255, 0.3)"
         },
         "mode": "lines",
         "type": "scatter",
         "x": [
          0.7722447692966574,
          0.7712703466859457
         ],
         "y": [
          0.1987156815341724,
          0.07404465173409036
         ]
        },
        {
         "line": {
          "color": "rgba(0, 0, 255, 0.3)"
         },
         "mode": "lines",
         "type": "scatter",
         "x": [
          0.7068573438476171,
          0.7296061783380641
         ],
         "y": [
          0.7290071680409873,
          0.6375574713552131
         ]
        },
        {
         "line": {
          "color": "rgba(0, 0, 255, 0.3)"
         },
         "mode": "lines",
         "type": "scatter",
         "x": [
          0.7068573438476171,
          0.6721355474058786
         ],
         "y": [
          0.7290071680409873,
          0.7616196153287176
         ]
        },
        {
         "line": {
          "color": "rgba(0, 0, 255, 0.3)"
         },
         "mode": "lines",
         "type": "scatter",
         "x": [
          0.7712703466859457,
          0.8036720768991145
         ],
         "y": [
          0.07404465173409036,
          0.18657005888603584
         ]
        },
        {
         "line": {
          "color": "rgba(0, 0, 255, 0.3)"
         },
         "mode": "lines",
         "type": "scatter",
         "x": [
          0.3584657285442726,
          0.22879816549162246
         ],
         "y": [
          0.11586905952512971,
          0.07697990982879299
         ]
        },
        {
         "line": {
          "color": "rgba(0, 0, 255, 0.3)"
         },
         "mode": "lines",
         "type": "scatter",
         "x": [
          0.3584657285442726,
          0.289751452913768
         ],
         "y": [
          0.11586905952512971,
          0.16122128725400442
         ]
        },
        {
         "line": {
          "color": "rgba(0, 0, 255, 0.3)"
         },
         "mode": "lines",
         "type": "scatter",
         "x": [
          0.3109823217156622,
          0.3390297910487007
         ],
         "y": [
          0.32518332202674705,
          0.3492095746126609
         ]
        },
        {
         "line": {
          "color": "rgba(0, 0, 255, 0.3)"
         },
         "mode": "lines",
         "type": "scatter",
         "x": [
          0.7296061783380641,
          0.6335297107608947
         ],
         "y": [
          0.6375574713552131,
          0.5357746840747585
         ]
        },
        {
         "line": {
          "color": "rgba(0, 0, 255, 0.3)"
         },
         "mode": "lines",
         "type": "scatter",
         "x": [
          0.7296061783380641,
          0.8172222002012158
         ],
         "y": [
          0.6375574713552131,
          0.5552008115994623
         ]
        },
        {
         "line": {
          "color": "rgba(0, 0, 255, 0.3)"
         },
         "mode": "lines",
         "type": "scatter",
         "x": [
          0.1195942459383017,
          0.23763754399239967
         ],
         "y": [
          0.713244787222995,
          0.7282163486118596
         ]
        },
        {
         "line": {
          "color": "rgba(0, 0, 255, 0.3)"
         },
         "mode": "lines",
         "type": "scatter",
         "x": [
          0.7607850486168974,
          0.6335297107608947
         ],
         "y": [
          0.5612771975694962,
          0.5357746840747585
         ]
        },
        {
         "line": {
          "color": "rgba(0, 0, 255, 0.3)"
         },
         "mode": "lines",
         "type": "scatter",
         "x": [
          0.5227328293819941,
          0.6095643339798968
         ],
         "y": [
          0.42754101835854963,
          0.5026790232288615
         ]
        },
        {
         "line": {
          "color": "rgba(0, 0, 255, 0.3)"
         },
         "mode": "lines",
         "type": "scatter",
         "x": [
          0.907566473926093,
          0.9429097039125192
         ],
         "y": [
          0.24929222914887494,
          0.32320293202075523
         ]
        },
        {
         "line": {
          "color": "rgba(0, 0, 255, 0.3)"
         },
         "mode": "lines",
         "type": "scatter",
         "x": [
          0.41038292303562973,
          0.5187906217433661
         ],
         "y": [
          0.7555511385430487,
          0.7030189588951778
         ]
        },
        {
         "line": {
          "color": "rgba(0, 0, 255, 0.3)"
         },
         "mode": "lines",
         "type": "scatter",
         "x": [
          0.22879816549162246,
          0.3410663510502585
         ],
         "y": [
          0.07697990982879299,
          0.11347352124058907
         ]
        },
        {
         "line": {
          "color": "rgba(0, 0, 255, 0.3)"
         },
         "mode": "lines",
         "type": "scatter",
         "x": [
          0.289751452913768,
          0.3180034749718639
         ],
         "y": [
          0.16122128725400442,
          0.11005192452767676
         ]
        },
        {
         "line": {
          "color": "rgba(0, 0, 255, 0.3)"
         },
         "mode": "lines",
         "type": "scatter",
         "x": [
          0.289751452913768,
          0.3410663510502585
         ],
         "y": [
          0.16122128725400442,
          0.11347352124058907
         ]
        },
        {
         "line": {
          "color": "rgba(0, 0, 255, 0.3)"
         },
         "mode": "lines",
         "type": "scatter",
         "x": [
          0.6334037565104235,
          0.6721355474058786
         ],
         "y": [
          0.8714605901877177,
          0.7616196153287176
         ]
        },
        {
         "line": {
          "color": "rgba(0, 0, 255, 0.3)"
         },
         "mode": "lines",
         "type": "scatter",
         "x": [
          0.6334037565104235,
          0.7259556788702394
         ],
         "y": [
          0.8714605901877177,
          0.8971102599525771
         ]
        },
        {
         "line": {
          "color": "rgba(0, 0, 255, 0.3)"
         },
         "mode": "lines",
         "type": "scatter",
         "x": [
          0.8036720768991145,
          0.9082658859666537
         ],
         "y": [
          0.18657005888603584,
          0.23956189066697242
         ]
        },
        {
         "line": {
          "color": "rgba(0, 0, 255, 0.3)"
         },
         "mode": "lines",
         "type": "scatter",
         "x": [
          0.8036720768991145,
          0.9367299887367345
         ],
         "y": [
          0.18657005888603584,
          0.13752094414599325
         ]
        },
        {
         "line": {
          "color": "rgba(0, 0, 255, 0.3)"
         },
         "mode": "lines",
         "type": "scatter",
         "x": [
          0.22793516254194168,
          0.3390297910487007
         ],
         "y": [
          0.4271077886262563,
          0.3492095746126609
         ]
        },
        {
         "line": {
          "color": "rgba(0, 0, 255, 0.3)"
         },
         "mode": "lines",
         "type": "scatter",
         "x": [
          0.8180147659224931,
          0.7259556788702394
         ],
         "y": [
          0.8607305832563434,
          0.8971102599525771
         ]
        },
        {
         "line": {
          "color": "rgba(0, 0, 255, 0.3)"
         },
         "mode": "lines",
         "type": "scatter",
         "x": [
          0.006952130531190703,
          0.1448948720912231
         ],
         "y": [
          0.5107473025775657,
          0.489452760277563
         ]
        },
        {
         "line": {
          "color": "rgba(0, 0, 255, 0.3)"
         },
         "mode": "lines",
         "type": "scatter",
         "x": [
          0.006952130531190703,
          0.040775141554763916
         ],
         "y": [
          0.5107473025775657,
          0.5908929431882418
         ]
        },
        {
         "line": {
          "color": "rgba(0, 0, 255, 0.3)"
         },
         "mode": "lines",
         "type": "scatter",
         "x": [
          0.417411003148779,
          0.49724850589238545
         ],
         "y": [
          0.22210781047073025,
          0.30087830981676966
         ]
        },
        {
         "line": {
          "color": "rgba(0, 0, 255, 0.3)"
         },
         "mode": "lines",
         "type": "scatter",
         "x": [
          0.417411003148779,
          0.512093058299281
         ],
         "y": [
          0.22210781047073025,
          0.22649577519793795
         ]
        },
        {
         "line": {
          "color": "rgba(0, 0, 255, 0.3)"
         },
         "mode": "lines",
         "type": "scatter",
         "x": [
          0.1198653673336828,
          0.05147875124998935
         ],
         "y": [
          0.33761517140362796,
          0.27864646423661144
         ]
        },
        {
         "line": {
          "color": "rgba(0, 0, 255, 0.3)"
         },
         "mode": "lines",
         "type": "scatter",
         "x": [
          0.9429097039125192,
          0.9082658859666537
         ],
         "y": [
          0.32320293202075523,
          0.23956189066697242
         ]
        },
        {
         "line": {
          "color": "rgba(0, 0, 255, 0.3)"
         },
         "mode": "lines",
         "type": "scatter",
         "x": [
          0.49724850589238545,
          0.512093058299281
         ],
         "y": [
          0.30087830981676966,
          0.22649577519793795
         ]
        },
        {
         "line": {
          "color": "rgba(0, 0, 255, 0.3)"
         },
         "mode": "lines",
         "type": "scatter",
         "x": [
          0.9082658859666537,
          0.9367299887367345
         ],
         "y": [
          0.23956189066697242,
          0.13752094414599325
         ]
        },
        {
         "line": {
          "color": "rgba(0, 0, 255, 0.3)"
         },
         "mode": "lines",
         "type": "scatter",
         "x": [
          0.9856504541106007,
          0.9367299887367345
         ],
         "y": [
          0.2420552715115004,
          0.13752094414599325
         ]
        },
        {
         "line": {
          "color": "rgba(0, 0, 255, 0.3)"
         },
         "mode": "lines",
         "type": "scatter",
         "x": [
          0.3677831327192532,
          0.2579416277151556
         ],
         "y": [
          0.6323058305935795,
          0.659984046034179
         ]
        },
        {
         "line": {
          "color": "rgba(0, 0, 255, 0.3)"
         },
         "mode": "lines",
         "type": "scatter",
         "x": [
          0.512093058299281,
          0.6451727904094499
         ],
         "y": [
          0.22649577519793795,
          0.17436642900499144
         ]
        },
        {
         "line": {
          "color": "rgba(0, 0, 255, 0.3)"
         },
         "mode": "lines",
         "type": "scatter",
         "x": [
          0.9246936182785628,
          0.8870864242651173
         ],
         "y": [
          0.877339353380981,
          0.7798755458576239
         ]
        },
        {
         "line": {
          "color": "rgba(0, 0, 255, 0.05)"
         },
         "mode": "lines",
         "type": "scatter",
         "x": [
          0.3745401188473625,
          0.45606998421703593
         ],
         "y": [
          0.9507143064099162,
          0.7851759613930136
         ]
        },
        {
         "line": {
          "color": "rgba(0, 0, 255, 0.05)"
         },
         "mode": "lines",
         "type": "scatter",
         "x": [
          0.7319939418114051,
          0.8925589984899778
         ],
         "y": [
          0.5986584841970366,
          0.5393422419156507
         ]
        },
        {
         "line": {
          "color": "rgba(0, 0, 255, 0.05)"
         },
         "mode": "lines",
         "type": "scatter",
         "x": [
          0.15601864044243652,
          0.32078006497173583
         ],
         "y": [
          0.15599452033620265,
          0.18651851039985423
         ]
        },
        {
         "line": {
          "color": "rgba(0, 0, 255, 0.05)"
         },
         "mode": "lines",
         "type": "scatter",
         "x": [
          0.05808361216819946,
          0.14092422497476265
         ],
         "y": [
          0.8661761457749352,
          0.8021969807540397
         ]
        },
        {
         "line": {
          "color": "rgba(0, 0, 255, 0.05)"
         },
         "mode": "lines",
         "type": "scatter",
         "x": [
          0.05808361216819946,
          0.1195942459383017
         ],
         "y": [
          0.8661761457749352,
          0.713244787222995
         ]
        },
        {
         "line": {
          "color": "rgba(0, 0, 255, 0.05)"
         },
         "mode": "lines",
         "type": "scatter",
         "x": [
          0.6011150117432088,
          0.45606998421703593
         ],
         "y": [
          0.7080725777960455,
          0.7851759613930136
         ]
        },
        {
         "line": {
          "color": "rgba(0, 0, 255, 0.05)"
         },
         "mode": "lines",
         "type": "scatter",
         "x": [
          0.6011150117432088,
          0.7296061783380641
         ],
         "y": [
          0.7080725777960455,
          0.6375574713552131
         ]
        },
        {
         "line": {
          "color": "rgba(0, 0, 255, 0.05)"
         },
         "mode": "lines",
         "type": "scatter",
         "x": [
          0.6011150117432088,
          0.6334037565104235
         ],
         "y": [
          0.7080725777960455,
          0.8714605901877177
         ]
        },
        {
         "line": {
          "color": "rgba(0, 0, 255, 0.05)"
         },
         "mode": "lines",
         "type": "scatter",
         "x": [
          0.020584494295802447,
          0.005522117123602399
         ],
         "y": [
          0.9699098521619943,
          0.8154614284548342
         ]
        },
        {
         "line": {
          "color": "rgba(0, 0, 255, 0.05)"
         },
         "mode": "lines",
         "type": "scatter",
         "x": [
          0.020584494295802447,
          0.09310276780589921
         ],
         "y": [
          0.9699098521619943,
          0.8972157579533268
         ]
        },
        {
         "line": {
          "color": "rgba(0, 0, 255, 0.05)"
         },
         "mode": "lines",
         "type": "scatter",
         "x": [
          0.8324426408004217,
          0.7722447692966574
         ],
         "y": [
          0.21233911067827616,
          0.1987156815341724
         ]
        },
        {
         "line": {
          "color": "rgba(0, 0, 255, 0.05)"
         },
         "mode": "lines",
         "type": "scatter",
         "x": [
          0.18182496720710062,
          0.1198653673336828
         ],
         "y": [
          0.18340450985343382,
          0.33761517140362796
         ]
        },
        {
         "line": {
          "color": "rgba(0, 0, 255, 0.05)"
         },
         "mode": "lines",
         "type": "scatter",
         "x": [
          0.18182496720710062,
          0.05147875124998935
         ],
         "y": [
          0.18340450985343382,
          0.27864646423661144
         ]
        },
        {
         "line": {
          "color": "rgba(0, 0, 255, 0.05)"
         },
         "mode": "lines",
         "type": "scatter",
         "x": [
          0.3042422429595377,
          0.2587799816000169
         ],
         "y": [
          0.5247564316322378,
          0.662522284353982
         ]
        },
        {
         "line": {
          "color": "rgba(0, 0, 255, 0.05)"
         },
         "mode": "lines",
         "type": "scatter",
         "x": [
          0.43194501864211576,
          0.5467102793432796
         ],
         "y": [
          0.2912291401980419,
          0.18485445552552704
         ]
        },
        {
         "line": {
          "color": "rgba(0, 0, 255, 0.05)"
         },
         "mode": "lines",
         "type": "scatter",
         "x": [
          0.43194501864211576,
          0.417411003148779
         ],
         "y": [
          0.2912291401980419,
          0.22210781047073025
         ]
        },
        {
         "line": {
          "color": "rgba(0, 0, 255, 0.05)"
         },
         "mode": "lines",
         "type": "scatter",
         "x": [
          0.43194501864211576,
          0.49724850589238545
         ],
         "y": [
          0.2912291401980419,
          0.30087830981676966
         ]
        },
        {
         "line": {
          "color": "rgba(0, 0, 255, 0.05)"
         },
         "mode": "lines",
         "type": "scatter",
         "x": [
          0.43194501864211576,
          0.32078006497173583
         ],
         "y": [
          0.2912291401980419,
          0.18651851039985423
         ]
        },
        {
         "line": {
          "color": "rgba(0, 0, 255, 0.05)"
         },
         "mode": "lines",
         "type": "scatter",
         "x": [
          0.43194501864211576,
          0.512093058299281
         ],
         "y": [
          0.2912291401980419,
          0.22649577519793795
         ]
        },
        {
         "line": {
          "color": "rgba(0, 0, 255, 0.05)"
         },
         "mode": "lines",
         "type": "scatter",
         "x": [
          0.29214464853521815,
          0.388677289689482
         ],
         "y": [
          0.3663618432936917,
          0.2713490317738959
         ]
        },
        {
         "line": {
          "color": "rgba(0, 0, 255, 0.05)"
         },
         "mode": "lines",
         "type": "scatter",
         "x": [
          0.29214464853521815,
          0.28093450968738076
         ],
         "y": [
          0.3663618432936917,
          0.5426960831582485
         ]
        },
        {
         "line": {
          "color": "rgba(0, 0, 255, 0.05)"
         },
         "mode": "lines",
         "type": "scatter",
         "x": [
          0.29214464853521815,
          0.3143559810763267
         ],
         "y": [
          0.3663618432936917,
          0.5085706911647028
         ]
        },
        {
         "line": {
          "color": "rgba(0, 0, 255, 0.05)"
         },
         "mode": "lines",
         "type": "scatter",
         "x": [
          0.29214464853521815,
          0.22793516254194168
         ],
         "y": [
          0.3663618432936917,
          0.4271077886262563
         ]
        },
        {
         "line": {
          "color": "rgba(0, 0, 255, 0.05)"
         },
         "mode": "lines",
         "type": "scatter",
         "x": [
          0.29214464853521815,
          0.1198653673336828
         ],
         "y": [
          0.3663618432936917,
          0.33761517140362796
         ]
        },
        {
         "line": {
          "color": "rgba(0, 0, 255, 0.05)"
         },
         "mode": "lines",
         "type": "scatter",
         "x": [
          0.45606998421703593,
          0.6334037565104235
         ],
         "y": [
          0.7851759613930136,
          0.8714605901877177
         ]
        },
        {
         "line": {
          "color": "rgba(0, 0, 255, 0.05)"
         },
         "mode": "lines",
         "type": "scatter",
         "x": [
          0.45606998421703593,
          0.5187906217433661
         ],
         "y": [
          0.7851759613930136,
          0.7030189588951778
         ]
        },
        {
         "line": {
          "color": "rgba(0, 0, 255, 0.05)"
         },
         "mode": "lines",
         "type": "scatter",
         "x": [
          0.19967378215835974,
          0.12203823484477883
         ],
         "y": [
          0.5142344384136116,
          0.4951769101112702
         ]
        },
        {
         "line": {
          "color": "rgba(0, 0, 255, 0.05)"
         },
         "mode": "lines",
         "type": "scatter",
         "x": [
          0.19967378215835974,
          0.2587799816000169
         ],
         "y": [
          0.5142344384136116,
          0.662522284353982
         ]
        },
        {
         "line": {
          "color": "rgba(0, 0, 255, 0.05)"
         },
         "mode": "lines",
         "type": "scatter",
         "x": [
          0.19967378215835974,
          0.1448948720912231
         ],
         "y": [
          0.5142344384136116,
          0.489452760277563
         ]
        },
        {
         "line": {
          "color": "rgba(0, 0, 255, 0.05)"
         },
         "mode": "lines",
         "type": "scatter",
         "x": [
          0.5924145688620425,
          0.7712703466859457
         ],
         "y": [
          0.046450412719997725,
          0.07404465173409036
         ]
        },
        {
         "line": {
          "color": "rgba(0, 0, 255, 0.05)"
         },
         "mode": "lines",
         "type": "scatter",
         "x": [
          0.5924145688620425,
          0.6451727904094499
         ],
         "y": [
          0.046450412719997725,
          0.17436642900499144
         ]
        },
        {
         "line": {
          "color": "rgba(0, 0, 255, 0.05)"
         },
         "mode": "lines",
         "type": "scatter",
         "x": [
          0.06505159298527952,
          0.14092422497476265
         ],
         "y": [
          0.9488855372533332,
          0.8021969807540397
         ]
        },
        {
         "line": {
          "color": "rgba(0, 0, 255, 0.05)"
         },
         "mode": "lines",
         "type": "scatter",
         "x": [
          0.06505159298527952,
          0.005522117123602399
         ],
         "y": [
          0.9488855372533332,
          0.8154614284548342
         ]
        },
        {
         "line": {
          "color": "rgba(0, 0, 255, 0.05)"
         },
         "mode": "lines",
         "type": "scatter",
         "x": [
          0.9656320330745594,
          0.9004180571633305
         ],
         "y": [
          0.8083973481164611,
          0.6331014572732679
         ]
        },
        {
         "line": {
          "color": "rgba(0, 0, 255, 0.05)"
         },
         "mode": "lines",
         "type": "scatter",
         "x": [
          0.3046137691733707,
          0.417411003148779
         ],
         "y": [
          0.09767211400638387,
          0.22210781047073025
         ]
        },
        {
         "line": {
          "color": "rgba(0, 0, 255, 0.05)"
         },
         "mode": "lines",
         "type": "scatter",
         "x": [
          0.6842330265121569,
          0.5227328293819941
         ],
         "y": [
          0.4401524937396013,
          0.42754101835854963
         ]
        },
        {
         "line": {
          "color": "rgba(0, 0, 255, 0.05)"
         },
         "mode": "lines",
         "type": "scatter",
         "x": [
          0.12203823484477883,
          0.28093450968738076
         ],
         "y": [
          0.4951769101112702,
          0.5426960831582485
         ]
        },
        {
         "line": {
          "color": "rgba(0, 0, 255, 0.05)"
         },
         "mode": "lines",
         "type": "scatter",
         "x": [
          0.12203823484477883,
          0.1198653673336828
         ],
         "y": [
          0.4951769101112702,
          0.33761517140362796
         ]
        },
        {
         "line": {
          "color": "rgba(0, 0, 255, 0.05)"
         },
         "mode": "lines",
         "type": "scatter",
         "x": [
          0.034388521115218396,
          0.14092422497476265
         ],
         "y": [
          0.9093204020787821,
          0.8021969807540397
         ]
        },
        {
         "line": {
          "color": "rgba(0, 0, 255, 0.05)"
         },
         "mode": "lines",
         "type": "scatter",
         "x": [
          0.2587799816000169,
          0.31171107608941095
         ],
         "y": [
          0.662522284353982,
          0.5200680211778108
         ]
        },
        {
         "line": {
          "color": "rgba(0, 0, 255, 0.05)"
         },
         "mode": "lines",
         "type": "scatter",
         "x": [
          0.31171107608941095,
          0.22793516254194168
         ],
         "y": [
          0.5200680211778108,
          0.4271077886262563
         ]
        },
        {
         "line": {
          "color": "rgba(0, 0, 255, 0.05)"
         },
         "mode": "lines",
         "type": "scatter",
         "x": [
          0.31171107608941095,
          0.3390297910487007
         ],
         "y": [
          0.5200680211778108,
          0.3492095746126609
         ]
        },
        {
         "line": {
          "color": "rgba(0, 0, 255, 0.05)"
         },
         "mode": "lines",
         "type": "scatter",
         "x": [
          0.9695846277645586,
          0.9296976523425731
         ],
         "y": [
          0.7751328233611146,
          0.808120379564417
         ]
        },
        {
         "line": {
          "color": "rgba(0, 0, 255, 0.05)"
         },
         "mode": "lines",
         "type": "scatter",
         "x": [
          0.5978999788110851,
          0.7259556788702394
         ],
         "y": [
          0.9218742350231168,
          0.8971102599525771
         ]
        },
        {
         "line": {
          "color": "rgba(0, 0, 255, 0.05)"
         },
         "mode": "lines",
         "type": "scatter",
         "x": [
          0.0884925020519195,
          0.1198653673336828
         ],
         "y": [
          0.1959828624191452,
          0.33761517140362796
         ]
        },
        {
         "line": {
          "color": "rgba(0, 0, 255, 0.05)"
         },
         "mode": "lines",
         "type": "scatter",
         "x": [
          0.0884925020519195,
          0.05147875124998935
         ],
         "y": [
          0.1959828624191452,
          0.27864646423661144
         ]
        },
        {
         "line": {
          "color": "rgba(0, 0, 255, 0.05)"
         },
         "mode": "lines",
         "type": "scatter",
         "x": [
          0.388677289689482,
          0.289751452913768
         ],
         "y": [
          0.2713490317738959,
          0.16122128725400442
         ]
        },
        {
         "line": {
          "color": "rgba(0, 0, 255, 0.05)"
         },
         "mode": "lines",
         "type": "scatter",
         "x": [
          0.388677289689482,
          0.512093058299281
         ],
         "y": [
          0.2713490317738959,
          0.22649577519793795
         ]
        },
        {
         "line": {
          "color": "rgba(0, 0, 255, 0.05)"
         },
         "mode": "lines",
         "type": "scatter",
         "x": [
          0.8287375091519293,
          0.8036720768991145
         ],
         "y": [
          0.3567533266935893,
          0.18657005888603584
         ]
        },
        {
         "line": {
          "color": "rgba(0, 0, 255, 0.05)"
         },
         "mode": "lines",
         "type": "scatter",
         "x": [
          0.8287375091519293,
          0.690937738102466
         ],
         "y": [
          0.3567533266935893,
          0.3867353463005374
         ]
        },
        {
         "line": {
          "color": "rgba(0, 0, 255, 0.05)"
         },
         "mode": "lines",
         "type": "scatter",
         "x": [
          0.28093450968738076,
          0.1448948720912231
         ],
         "y": [
          0.5426960831582485,
          0.489452760277563
         ]
        },
        {
         "line": {
          "color": "rgba(0, 0, 255, 0.05)"
         },
         "mode": "lines",
         "type": "scatter",
         "x": [
          0.28093450968738076,
          0.3677831327192532
         ],
         "y": [
          0.5426960831582485,
          0.6323058305935795
         ]
        },
        {
         "line": {
          "color": "rgba(0, 0, 255, 0.05)"
         },
         "mode": "lines",
         "type": "scatter",
         "x": [
          0.28093450968738076,
          0.2579416277151556
         ],
         "y": [
          0.5426960831582485,
          0.659984046034179
         ]
        },
        {
         "line": {
          "color": "rgba(0, 0, 255, 0.05)"
         },
         "mode": "lines",
         "type": "scatter",
         "x": [
          0.14092422497476265,
          0.005522117123602399
         ],
         "y": [
          0.8021969807540397,
          0.8154614284548342
         ]
        },
        {
         "line": {
          "color": "rgba(0, 0, 255, 0.05)"
         },
         "mode": "lines",
         "type": "scatter",
         "x": [
          0.14092422497476265,
          0.1195942459383017
         ],
         "y": [
          0.8021969807540397,
          0.713244787222995
         ]
        },
        {
         "line": {
          "color": "rgba(0, 0, 255, 0.05)"
         },
         "mode": "lines",
         "type": "scatter",
         "x": [
          0.14092422497476265,
          0.23763754399239967
         ],
         "y": [
          0.8021969807540397,
          0.7282163486118596
         ]
        },
        {
         "line": {
          "color": "rgba(0, 0, 255, 0.05)"
         },
         "mode": "lines",
         "type": "scatter",
         "x": [
          0.07455064367977082,
          0.005522117123602399
         ],
         "y": [
          0.9868869366005173,
          0.8154614284548342
         ]
        },
        {
         "line": {
          "color": "rgba(0, 0, 255, 0.05)"
         },
         "mode": "lines",
         "type": "scatter",
         "x": [
          0.07455064367977082,
          0.0902897700544083
         ],
         "y": [
          0.9868869366005173,
          0.835302495589238
         ]
        },
        {
         "line": {
          "color": "rgba(0, 0, 255, 0.05)"
         },
         "mode": "lines",
         "type": "scatter",
         "x": [
          0.7722447692966574,
          0.907566473926093
         ],
         "y": [
          0.1987156815341724,
          0.24929222914887494
         ]
        },
        {
         "line": {
          "color": "rgba(0, 0, 255, 0.05)"
         },
         "mode": "lines",
         "type": "scatter",
         "x": [
          0.7722447692966574,
          0.9082658859666537
         ],
         "y": [
          0.1987156815341724,
          0.23956189066697242
         ]
        },
        {
         "line": {
          "color": "rgba(0, 0, 255, 0.05)"
         },
         "mode": "lines",
         "type": "scatter",
         "x": [
          0.7722447692966574,
          0.6451727904094499
         ],
         "y": [
          0.1987156815341724,
          0.17436642900499144
         ]
        },
        {
         "line": {
          "color": "rgba(0, 0, 255, 0.05)"
         },
         "mode": "lines",
         "type": "scatter",
         "x": [
          0.005522117123602399,
          0.03142918568673425
         ],
         "y": [
          0.8154614284548342,
          0.6364104112637804
         ]
        },
        {
         "line": {
          "color": "rgba(0, 0, 255, 0.05)"
         },
         "mode": "lines",
         "type": "scatter",
         "x": [
          0.005522117123602399,
          0.09310276780589921
         ],
         "y": [
          0.8154614284548342,
          0.8972157579533268
         ]
        },
        {
         "line": {
          "color": "rgba(0, 0, 255, 0.05)"
         },
         "mode": "lines",
         "type": "scatter",
         "x": [
          0.7068573438476171,
          0.8870864242651173
         ],
         "y": [
          0.7290071680409873,
          0.7798755458576239
         ]
        },
        {
         "line": {
          "color": "rgba(0, 0, 255, 0.05)"
         },
         "mode": "lines",
         "type": "scatter",
         "x": [
          0.7712703466859457,
          0.6451727904094499
         ],
         "y": [
          0.07404465173409036,
          0.17436642900499144
         ]
        },
        {
         "line": {
          "color": "rgba(0, 0, 255, 0.05)"
         },
         "mode": "lines",
         "type": "scatter",
         "x": [
          0.7712703466859457,
          0.9367299887367345
         ],
         "y": [
          0.07404465173409036,
          0.13752094414599325
         ]
        },
        {
         "line": {
          "color": "rgba(0, 0, 255, 0.05)"
         },
         "mode": "lines",
         "type": "scatter",
         "x": [
          0.8631034258755935,
          0.770967179954561
         ],
         "y": [
          0.6232981268275579,
          0.49379559636439074
         ]
        },
        {
         "line": {
          "color": "rgba(0, 0, 255, 0.05)"
         },
         "mode": "lines",
         "type": "scatter",
         "x": [
          0.8631034258755935,
          0.9296976523425731
         ],
         "y": [
          0.6232981268275579,
          0.808120379564417
         ]
        },
        {
         "line": {
          "color": "rgba(0, 0, 255, 0.05)"
         },
         "mode": "lines",
         "type": "scatter",
         "x": [
          0.3308980248526492,
          0.289751452913768
         ],
         "y": [
          0.06355835028602363,
          0.16122128725400442
         ]
        },
        {
         "line": {
          "color": "rgba(0, 0, 255, 0.05)"
         },
         "mode": "lines",
         "type": "scatter",
         "x": [
          0.3109823217156622,
          0.417411003148779
         ],
         "y": [
          0.32518332202674705,
          0.22210781047073025
         ]
        },
        {
         "line": {
          "color": "rgba(0, 0, 255, 0.05)"
         },
         "mode": "lines",
         "type": "scatter",
         "x": [
          0.8872127425763265,
          0.8172222002012158
         ],
         "y": [
          0.4722149251619493,
          0.5552008115994623
         ]
        },
        {
         "line": {
          "color": "rgba(0, 0, 255, 0.05)"
         },
         "mode": "lines",
         "type": "scatter",
         "x": [
          0.1195942459383017,
          0.2579416277151556
         ],
         "y": [
          0.713244787222995,
          0.659984046034179
         ]
        },
        {
         "line": {
          "color": "rgba(0, 0, 255, 0.05)"
         },
         "mode": "lines",
         "type": "scatter",
         "x": [
          0.7607850486168974,
          0.770967179954561
         ],
         "y": [
          0.5612771975694962,
          0.49379559636439074
         ]
        },
        {
         "line": {
          "color": "rgba(0, 0, 255, 0.05)"
         },
         "mode": "lines",
         "type": "scatter",
         "x": [
          0.7607850486168974,
          0.8925589984899778
         ],
         "y": [
          0.5612771975694962,
          0.5393422419156507
         ]
        },
        {
         "line": {
          "color": "rgba(0, 0, 255, 0.05)"
         },
         "mode": "lines",
         "type": "scatter",
         "x": [
          0.770967179954561,
          0.6095643339798968
         ],
         "y": [
          0.49379559636439074,
          0.5026790232288615
         ]
        },
        {
         "line": {
          "color": "rgba(0, 0, 255, 0.05)"
         },
         "mode": "lines",
         "type": "scatter",
         "x": [
          0.5227328293819941,
          0.49724850589238545
         ],
         "y": [
          0.42754101835854963,
          0.30087830981676966
         ]
        },
        {
         "line": {
          "color": "rgba(0, 0, 255, 0.05)"
         },
         "mode": "lines",
         "type": "scatter",
         "x": [
          0.3143559810763267,
          0.22793516254194168
         ],
         "y": [
          0.5085706911647028,
          0.4271077886262563
         ]
        },
        {
         "line": {
          "color": "rgba(0, 0, 255, 0.05)"
         },
         "mode": "lines",
         "type": "scatter",
         "x": [
          0.907566473926093,
          0.8036720768991145
         ],
         "y": [
          0.24929222914887494,
          0.18657005888603584
         ]
        },
        {
         "line": {
          "color": "rgba(0, 0, 255, 0.05)"
         },
         "mode": "lines",
         "type": "scatter",
         "x": [
          0.907566473926093,
          0.9367299887367345
         ],
         "y": [
          0.24929222914887494,
          0.13752094414599325
         ]
        },
        {
         "line": {
          "color": "rgba(0, 0, 255, 0.05)"
         },
         "mode": "lines",
         "type": "scatter",
         "x": [
          0.22879816549162246,
          0.289751452913768
         ],
         "y": [
          0.07697990982879299,
          0.16122128725400442
         ]
        },
        {
         "line": {
          "color": "rgba(0, 0, 255, 0.05)"
         },
         "mode": "lines",
         "type": "scatter",
         "x": [
          0.22879816549162246,
          0.32078006497173583
         ],
         "y": [
          0.07697990982879299,
          0.18651851039985423
         ]
        },
        {
         "line": {
          "color": "rgba(0, 0, 255, 0.05)"
         },
         "mode": "lines",
         "type": "scatter",
         "x": [
          0.289751452913768,
          0.417411003148779
         ],
         "y": [
          0.16122128725400442,
          0.22210781047073025
         ]
        },
        {
         "line": {
          "color": "rgba(0, 0, 255, 0.05)"
         },
         "mode": "lines",
         "type": "scatter",
         "x": [
          0.289751452913768,
          0.2848404943774676
         ],
         "y": [
          0.16122128725400442,
          0.036886947354532795
         ]
        },
        {
         "line": {
          "color": "rgba(0, 0, 255, 0.05)"
         },
         "mode": "lines",
         "type": "scatter",
         "x": [
          0.6334037565104235,
          0.8074401551640625
         ],
         "y": [
          0.8714605901877177,
          0.8960912999234932
         ]
        },
        {
         "line": {
          "color": "rgba(0, 0, 255, 0.05)"
         },
         "mode": "lines",
         "type": "scatter",
         "x": [
          0.8036720768991145,
          0.6451727904094499
         ],
         "y": [
          0.18657005888603584,
          0.17436642900499144
         ]
        },
        {
         "line": {
          "color": "rgba(0, 0, 255, 0.05)"
         },
         "mode": "lines",
         "type": "scatter",
         "x": [
          0.8180147659224931,
          0.9246936182785628
         ],
         "y": [
          0.8607305832563434,
          0.877339353380981
         ]
        },
        {
         "line": {
          "color": "rgba(0, 0, 255, 0.05)"
         },
         "mode": "lines",
         "type": "scatter",
         "x": [
          0.8180147659224931,
          0.8870864242651173
         ],
         "y": [
          0.8607305832563434,
          0.7798755458576239
         ]
        },
        {
         "line": {
          "color": "rgba(0, 0, 255, 0.05)"
         },
         "mode": "lines",
         "type": "scatter",
         "x": [
          0.1198653673336828,
          0.1448948720912231
         ],
         "y": [
          0.33761517140362796,
          0.489452760277563
         ]
        },
        {
         "line": {
          "color": "rgba(0, 0, 255, 0.05)"
         },
         "mode": "lines",
         "type": "scatter",
         "x": [
          0.9624472949421112,
          0.9367299887367345
         ],
         "y": [
          0.25178229582536416,
          0.13752094414599325
         ]
        },
        {
         "line": {
          "color": "rgba(0, 0, 255, 0.05)"
         },
         "mode": "lines",
         "type": "scatter",
         "x": [
          0.1448948720912231,
          0.040775141554763916
         ],
         "y": [
          0.489452760277563,
          0.5908929431882418
         ]
        },
        {
         "line": {
          "color": "rgba(0, 0, 255, 0.05)"
         },
         "mode": "lines",
         "type": "scatter",
         "x": [
          0.6721355474058786,
          0.7259556788702394
         ],
         "y": [
          0.7616196153287176,
          0.8971102599525771
         ]
        },
        {
         "line": {
          "color": "rgba(0, 0, 255, 0.05)"
         },
         "mode": "lines",
         "type": "scatter",
         "x": [
          0.23763754399239967,
          0.3677831327192532
         ],
         "y": [
          0.7282163486118596,
          0.6323058305935795
         ]
        },
        {
         "line": {
          "color": "rgba(0, 0, 255, 0.05)"
         },
         "mode": "lines",
         "type": "scatter",
         "x": [
          0.6335297107608947,
          0.690937738102466
         ],
         "y": [
          0.5357746840747585,
          0.3867353463005374
         ]
        },
        {
         "line": {
          "color": "rgba(0, 0, 255, 0.05)"
         },
         "mode": "lines",
         "type": "scatter",
         "x": [
          0.6335297107608947,
          0.8172222002012158
         ],
         "y": [
          0.5357746840747585,
          0.5552008115994623
         ]
        },
        {
         "line": {
          "color": "rgba(0, 0, 255, 0.05)"
         },
         "mode": "lines",
         "type": "scatter",
         "x": [
          0.32078006497173583,
          0.3390297910487007
         ],
         "y": [
          0.18651851039985423,
          0.3492095746126609
         ]
        },
        {
         "line": {
          "color": "rgba(0, 0, 255, 0.05)"
         },
         "mode": "lines",
         "type": "scatter",
         "x": [
          0.8172222002012158,
          0.9004180571633305
         ],
         "y": [
          0.5552008115994623,
          0.6331014572732679
         ]
        }
       ],
       "layout": {
        "coloraxis": {
         "colorbar": {
          "title": {
           "text": "color"
          }
         },
         "colorscale": [
          [
           0,
           "#0d0887"
          ],
          [
           0.1111111111111111,
           "#46039f"
          ],
          [
           0.2222222222222222,
           "#7201a8"
          ],
          [
           0.3333333333333333,
           "#9c179e"
          ],
          [
           0.4444444444444444,
           "#bd3786"
          ],
          [
           0.5555555555555556,
           "#d8576b"
          ],
          [
           0.6666666666666666,
           "#ed7953"
          ],
          [
           0.7777777777777778,
           "#fb9f3a"
          ],
          [
           0.8888888888888888,
           "#fdca26"
          ],
          [
           1,
           "#f0f921"
          ]
         ]
        },
        "legend": {
         "tracegroupgap": 0
        },
        "margin": {
         "t": 60
        },
        "showlegend": false,
        "template": {
         "data": {
          "bar": [
           {
            "error_x": {
             "color": "#2a3f5f"
            },
            "error_y": {
             "color": "#2a3f5f"
            },
            "marker": {
             "line": {
              "color": "#E5ECF6",
              "width": 0.5
             }
            },
            "type": "bar"
           }
          ],
          "barpolar": [
           {
            "marker": {
             "line": {
              "color": "#E5ECF6",
              "width": 0.5
             }
            },
            "type": "barpolar"
           }
          ],
          "carpet": [
           {
            "aaxis": {
             "endlinecolor": "#2a3f5f",
             "gridcolor": "white",
             "linecolor": "white",
             "minorgridcolor": "white",
             "startlinecolor": "#2a3f5f"
            },
            "baxis": {
             "endlinecolor": "#2a3f5f",
             "gridcolor": "white",
             "linecolor": "white",
             "minorgridcolor": "white",
             "startlinecolor": "#2a3f5f"
            },
            "type": "carpet"
           }
          ],
          "choropleth": [
           {
            "colorbar": {
             "outlinewidth": 0,
             "ticks": ""
            },
            "type": "choropleth"
           }
          ],
          "contour": [
           {
            "colorbar": {
             "outlinewidth": 0,
             "ticks": ""
            },
            "colorscale": [
             [
              0,
              "#0d0887"
             ],
             [
              0.1111111111111111,
              "#46039f"
             ],
             [
              0.2222222222222222,
              "#7201a8"
             ],
             [
              0.3333333333333333,
              "#9c179e"
             ],
             [
              0.4444444444444444,
              "#bd3786"
             ],
             [
              0.5555555555555556,
              "#d8576b"
             ],
             [
              0.6666666666666666,
              "#ed7953"
             ],
             [
              0.7777777777777778,
              "#fb9f3a"
             ],
             [
              0.8888888888888888,
              "#fdca26"
             ],
             [
              1,
              "#f0f921"
             ]
            ],
            "type": "contour"
           }
          ],
          "contourcarpet": [
           {
            "colorbar": {
             "outlinewidth": 0,
             "ticks": ""
            },
            "type": "contourcarpet"
           }
          ],
          "heatmap": [
           {
            "colorbar": {
             "outlinewidth": 0,
             "ticks": ""
            },
            "colorscale": [
             [
              0,
              "#0d0887"
             ],
             [
              0.1111111111111111,
              "#46039f"
             ],
             [
              0.2222222222222222,
              "#7201a8"
             ],
             [
              0.3333333333333333,
              "#9c179e"
             ],
             [
              0.4444444444444444,
              "#bd3786"
             ],
             [
              0.5555555555555556,
              "#d8576b"
             ],
             [
              0.6666666666666666,
              "#ed7953"
             ],
             [
              0.7777777777777778,
              "#fb9f3a"
             ],
             [
              0.8888888888888888,
              "#fdca26"
             ],
             [
              1,
              "#f0f921"
             ]
            ],
            "type": "heatmap"
           }
          ],
          "heatmapgl": [
           {
            "colorbar": {
             "outlinewidth": 0,
             "ticks": ""
            },
            "colorscale": [
             [
              0,
              "#0d0887"
             ],
             [
              0.1111111111111111,
              "#46039f"
             ],
             [
              0.2222222222222222,
              "#7201a8"
             ],
             [
              0.3333333333333333,
              "#9c179e"
             ],
             [
              0.4444444444444444,
              "#bd3786"
             ],
             [
              0.5555555555555556,
              "#d8576b"
             ],
             [
              0.6666666666666666,
              "#ed7953"
             ],
             [
              0.7777777777777778,
              "#fb9f3a"
             ],
             [
              0.8888888888888888,
              "#fdca26"
             ],
             [
              1,
              "#f0f921"
             ]
            ],
            "type": "heatmapgl"
           }
          ],
          "histogram": [
           {
            "marker": {
             "colorbar": {
              "outlinewidth": 0,
              "ticks": ""
             }
            },
            "type": "histogram"
           }
          ],
          "histogram2d": [
           {
            "colorbar": {
             "outlinewidth": 0,
             "ticks": ""
            },
            "colorscale": [
             [
              0,
              "#0d0887"
             ],
             [
              0.1111111111111111,
              "#46039f"
             ],
             [
              0.2222222222222222,
              "#7201a8"
             ],
             [
              0.3333333333333333,
              "#9c179e"
             ],
             [
              0.4444444444444444,
              "#bd3786"
             ],
             [
              0.5555555555555556,
              "#d8576b"
             ],
             [
              0.6666666666666666,
              "#ed7953"
             ],
             [
              0.7777777777777778,
              "#fb9f3a"
             ],
             [
              0.8888888888888888,
              "#fdca26"
             ],
             [
              1,
              "#f0f921"
             ]
            ],
            "type": "histogram2d"
           }
          ],
          "histogram2dcontour": [
           {
            "colorbar": {
             "outlinewidth": 0,
             "ticks": ""
            },
            "colorscale": [
             [
              0,
              "#0d0887"
             ],
             [
              0.1111111111111111,
              "#46039f"
             ],
             [
              0.2222222222222222,
              "#7201a8"
             ],
             [
              0.3333333333333333,
              "#9c179e"
             ],
             [
              0.4444444444444444,
              "#bd3786"
             ],
             [
              0.5555555555555556,
              "#d8576b"
             ],
             [
              0.6666666666666666,
              "#ed7953"
             ],
             [
              0.7777777777777778,
              "#fb9f3a"
             ],
             [
              0.8888888888888888,
              "#fdca26"
             ],
             [
              1,
              "#f0f921"
             ]
            ],
            "type": "histogram2dcontour"
           }
          ],
          "mesh3d": [
           {
            "colorbar": {
             "outlinewidth": 0,
             "ticks": ""
            },
            "type": "mesh3d"
           }
          ],
          "parcoords": [
           {
            "line": {
             "colorbar": {
              "outlinewidth": 0,
              "ticks": ""
             }
            },
            "type": "parcoords"
           }
          ],
          "pie": [
           {
            "automargin": true,
            "type": "pie"
           }
          ],
          "scatter": [
           {
            "marker": {
             "colorbar": {
              "outlinewidth": 0,
              "ticks": ""
             }
            },
            "type": "scatter"
           }
          ],
          "scatter3d": [
           {
            "line": {
             "colorbar": {
              "outlinewidth": 0,
              "ticks": ""
             }
            },
            "marker": {
             "colorbar": {
              "outlinewidth": 0,
              "ticks": ""
             }
            },
            "type": "scatter3d"
           }
          ],
          "scattercarpet": [
           {
            "marker": {
             "colorbar": {
              "outlinewidth": 0,
              "ticks": ""
             }
            },
            "type": "scattercarpet"
           }
          ],
          "scattergeo": [
           {
            "marker": {
             "colorbar": {
              "outlinewidth": 0,
              "ticks": ""
             }
            },
            "type": "scattergeo"
           }
          ],
          "scattergl": [
           {
            "marker": {
             "colorbar": {
              "outlinewidth": 0,
              "ticks": ""
             }
            },
            "type": "scattergl"
           }
          ],
          "scattermapbox": [
           {
            "marker": {
             "colorbar": {
              "outlinewidth": 0,
              "ticks": ""
             }
            },
            "type": "scattermapbox"
           }
          ],
          "scatterpolar": [
           {
            "marker": {
             "colorbar": {
              "outlinewidth": 0,
              "ticks": ""
             }
            },
            "type": "scatterpolar"
           }
          ],
          "scatterpolargl": [
           {
            "marker": {
             "colorbar": {
              "outlinewidth": 0,
              "ticks": ""
             }
            },
            "type": "scatterpolargl"
           }
          ],
          "scatterternary": [
           {
            "marker": {
             "colorbar": {
              "outlinewidth": 0,
              "ticks": ""
             }
            },
            "type": "scatterternary"
           }
          ],
          "surface": [
           {
            "colorbar": {
             "outlinewidth": 0,
             "ticks": ""
            },
            "colorscale": [
             [
              0,
              "#0d0887"
             ],
             [
              0.1111111111111111,
              "#46039f"
             ],
             [
              0.2222222222222222,
              "#7201a8"
             ],
             [
              0.3333333333333333,
              "#9c179e"
             ],
             [
              0.4444444444444444,
              "#bd3786"
             ],
             [
              0.5555555555555556,
              "#d8576b"
             ],
             [
              0.6666666666666666,
              "#ed7953"
             ],
             [
              0.7777777777777778,
              "#fb9f3a"
             ],
             [
              0.8888888888888888,
              "#fdca26"
             ],
             [
              1,
              "#f0f921"
             ]
            ],
            "type": "surface"
           }
          ],
          "table": [
           {
            "cells": {
             "fill": {
              "color": "#EBF0F8"
             },
             "line": {
              "color": "white"
             }
            },
            "header": {
             "fill": {
              "color": "#C8D4E3"
             },
             "line": {
              "color": "white"
             }
            },
            "type": "table"
           }
          ]
         },
         "layout": {
          "annotationdefaults": {
           "arrowcolor": "#2a3f5f",
           "arrowhead": 0,
           "arrowwidth": 1
          },
          "coloraxis": {
           "colorbar": {
            "outlinewidth": 0,
            "ticks": ""
           }
          },
          "colorscale": {
           "diverging": [
            [
             0,
             "#8e0152"
            ],
            [
             0.1,
             "#c51b7d"
            ],
            [
             0.2,
             "#de77ae"
            ],
            [
             0.3,
             "#f1b6da"
            ],
            [
             0.4,
             "#fde0ef"
            ],
            [
             0.5,
             "#f7f7f7"
            ],
            [
             0.6,
             "#e6f5d0"
            ],
            [
             0.7,
             "#b8e186"
            ],
            [
             0.8,
             "#7fbc41"
            ],
            [
             0.9,
             "#4d9221"
            ],
            [
             1,
             "#276419"
            ]
           ],
           "sequential": [
            [
             0,
             "#0d0887"
            ],
            [
             0.1111111111111111,
             "#46039f"
            ],
            [
             0.2222222222222222,
             "#7201a8"
            ],
            [
             0.3333333333333333,
             "#9c179e"
            ],
            [
             0.4444444444444444,
             "#bd3786"
            ],
            [
             0.5555555555555556,
             "#d8576b"
            ],
            [
             0.6666666666666666,
             "#ed7953"
            ],
            [
             0.7777777777777778,
             "#fb9f3a"
            ],
            [
             0.8888888888888888,
             "#fdca26"
            ],
            [
             1,
             "#f0f921"
            ]
           ],
           "sequentialminus": [
            [
             0,
             "#0d0887"
            ],
            [
             0.1111111111111111,
             "#46039f"
            ],
            [
             0.2222222222222222,
             "#7201a8"
            ],
            [
             0.3333333333333333,
             "#9c179e"
            ],
            [
             0.4444444444444444,
             "#bd3786"
            ],
            [
             0.5555555555555556,
             "#d8576b"
            ],
            [
             0.6666666666666666,
             "#ed7953"
            ],
            [
             0.7777777777777778,
             "#fb9f3a"
            ],
            [
             0.8888888888888888,
             "#fdca26"
            ],
            [
             1,
             "#f0f921"
            ]
           ]
          },
          "colorway": [
           "#636efa",
           "#EF553B",
           "#00cc96",
           "#ab63fa",
           "#FFA15A",
           "#19d3f3",
           "#FF6692",
           "#B6E880",
           "#FF97FF",
           "#FECB52"
          ],
          "font": {
           "color": "#2a3f5f"
          },
          "geo": {
           "bgcolor": "white",
           "lakecolor": "white",
           "landcolor": "#E5ECF6",
           "showlakes": true,
           "showland": true,
           "subunitcolor": "white"
          },
          "hoverlabel": {
           "align": "left"
          },
          "hovermode": "closest",
          "mapbox": {
           "style": "light"
          },
          "paper_bgcolor": "white",
          "plot_bgcolor": "#E5ECF6",
          "polar": {
           "angularaxis": {
            "gridcolor": "white",
            "linecolor": "white",
            "ticks": ""
           },
           "bgcolor": "#E5ECF6",
           "radialaxis": {
            "gridcolor": "white",
            "linecolor": "white",
            "ticks": ""
           }
          },
          "scene": {
           "xaxis": {
            "backgroundcolor": "#E5ECF6",
            "gridcolor": "white",
            "gridwidth": 2,
            "linecolor": "white",
            "showbackground": true,
            "ticks": "",
            "zerolinecolor": "white"
           },
           "yaxis": {
            "backgroundcolor": "#E5ECF6",
            "gridcolor": "white",
            "gridwidth": 2,
            "linecolor": "white",
            "showbackground": true,
            "ticks": "",
            "zerolinecolor": "white"
           },
           "zaxis": {
            "backgroundcolor": "#E5ECF6",
            "gridcolor": "white",
            "gridwidth": 2,
            "linecolor": "white",
            "showbackground": true,
            "ticks": "",
            "zerolinecolor": "white"
           }
          },
          "shapedefaults": {
           "line": {
            "color": "#2a3f5f"
           }
          },
          "ternary": {
           "aaxis": {
            "gridcolor": "white",
            "linecolor": "white",
            "ticks": ""
           },
           "baxis": {
            "gridcolor": "white",
            "linecolor": "white",
            "ticks": ""
           },
           "bgcolor": "#E5ECF6",
           "caxis": {
            "gridcolor": "white",
            "linecolor": "white",
            "ticks": ""
           }
          },
          "title": {
           "x": 0.05
          },
          "xaxis": {
           "automargin": true,
           "gridcolor": "white",
           "linecolor": "white",
           "ticks": "",
           "title": {
            "standoff": 15
           },
           "zerolinecolor": "white",
           "zerolinewidth": 2
          },
          "yaxis": {
           "automargin": true,
           "gridcolor": "white",
           "linecolor": "white",
           "ticks": "",
           "title": {
            "standoff": 15
           },
           "zerolinecolor": "white",
           "zerolinewidth": 2
          }
         }
        },
        "xaxis": {
         "anchor": "y",
         "domain": [
          0,
          1
         ],
         "title": {
          "text": "x"
         }
        },
        "yaxis": {
         "anchor": "x",
         "domain": [
          0,
          1
         ],
         "title": {
          "text": "y"
         }
        }
       }
      }
     },
     "metadata": {}
    }
   ],
   "source": [
    "fig = px.scatter(x=cluster_centers[:,0], y=cluster_centers[:,1], color=binom_sample)\n",
    "for i, color in enumerate(color_list):\n",
    "    if i > 0:\n",
    "        connections = np.where(link_list[i] & ~link_list[i-1])\n",
    "    else:\n",
    "        connections = np.where(link_list[i])\n",
    "    start_points = connections[0]\n",
    "    end_points = connections[1]\n",
    "    for idx_point_1, idx_point_2 in zip(start_points, end_points):\n",
    "        if idx_point_1 < idx_point_2:\n",
    "            line = np.array([cluster_centers[idx_point_1],cluster_centers[idx_point_2]])\n",
    "            fig.add_trace(go.Scatter(x=line[:,0], y=line[:,1], mode=\"lines\", line_color=color))\n",
    "fig.update_layout(showlegend=False)\n",
    "fig.show()"
   ]
  },
  {
   "cell_type": "code",
   "execution_count": 19,
   "metadata": {},
   "outputs": [],
   "source": [
    "linkage_matrix = bsg.fit_hierarchy(cluster_centers, binom_sample)\n",
    "labels = bsg.predict_hierarchy(15)"
   ]
  },
  {
   "cell_type": "code",
   "execution_count": 20,
   "metadata": {},
   "outputs": [
    {
     "output_type": "display_data",
     "data": {
      "application/vnd.plotly.v1+json": {
       "config": {
        "plotlyServerURL": "https://plot.ly"
       },
       "data": [
        {
         "hovertemplate": "x=%{x}<br>y=%{y}<br>size=%{marker.size}<br>color=%{marker.color}<extra></extra>",
         "legendgroup": "",
         "marker": {
          "color": [
           1,
           8,
           14,
           5,
           8,
           5,
           3,
           14,
           11,
           12,
           12,
           12,
           8,
           11,
           12,
           12,
           5,
           2,
           14,
           9,
           10,
           5,
           7,
           11,
           12,
           2,
           2,
           8,
           14,
           13,
           12,
           4,
           11,
           5,
           5,
           3,
           5,
           8,
           3,
           14,
           6,
           14,
           12,
           8,
           8,
           7,
           8,
           9,
           9,
           14,
           10,
           11,
           3,
           8,
           14,
           14,
           2,
           8,
           3,
           8,
           8,
           14,
           11,
           8,
           10,
           12,
           13,
           3,
           8,
           1,
           3,
           12,
           14,
           9,
           13,
           3,
           10,
           3,
           8,
           7,
           7,
           9,
           5,
           14,
           10,
           15,
           12,
           12,
           9,
           3,
           14,
           2,
           7,
           8,
           12,
           5,
           6,
           12,
           8,
           2
          ],
          "coloraxis": "coloraxis",
          "size": [
           32,
           24,
           25,
           36,
           31,
           20,
           24,
           32,
           19,
           25,
           30,
           32,
           32,
           26,
           33,
           27,
           28,
           33,
           32,
           35,
           32,
           31,
           24,
           28,
           27,
           27,
           39,
           29,
           36,
           31,
           34,
           30,
           31,
           30,
           26,
           33,
           27,
           21,
           32,
           26,
           37,
           38,
           36,
           28,
           20,
           37,
           29,
           39,
           38,
           35,
           27,
           29,
           35,
           28,
           26,
           31,
           37,
           32,
           31,
           24,
           31,
           41,
           25,
           30,
           35,
           33,
           32,
           32,
           28,
           27,
           34,
           34,
           35,
           36,
           30,
           30,
           34,
           32,
           32,
           34,
           36,
           28,
           28,
           24,
           31,
           22,
           30,
           30,
           27,
           31,
           22,
           22,
           34,
           28,
           25,
           30,
           33,
           26,
           31,
           24
          ],
          "sizemode": "area",
          "sizeref": 0.1025,
          "symbol": "circle"
         },
         "mode": "markers",
         "name": "",
         "showlegend": false,
         "type": "scatter",
         "x": [
          0.3745401188473625,
          0.7319939418114051,
          0.15601864044243652,
          0.05808361216819946,
          0.6011150117432088,
          0.020584494295802447,
          0.8324426408004217,
          0.18182496720710062,
          0.3042422429595377,
          0.43194501864211576,
          0.6118528947223795,
          0.29214464853521815,
          0.45606998421703593,
          0.19967378215835974,
          0.5924145688620425,
          0.6075448519014384,
          0.06505159298527952,
          0.9656320330745594,
          0.3046137691733707,
          0.6842330265121569,
          0.12203823484477883,
          0.034388521115218396,
          0.2587799816000169,
          0.31171107608941095,
          0.5467102793432796,
          0.9695846277645586,
          0.9394989415641891,
          0.5978999788110851,
          0.0884925020519195,
          0.045227288910538066,
          0.388677289689482,
          0.8287375091519293,
          0.28093450968738076,
          0.14092422497476265,
          0.07455064367977082,
          0.7722447692966574,
          0.005522117123602399,
          0.7068573438476171,
          0.7712703466859457,
          0.3584657285442726,
          0.8631034258755935,
          0.3308980248526492,
          0.3109823217156622,
          0.7296061783380641,
          0.8872127425763265,
          0.1195942459383017,
          0.7607850486168974,
          0.770967179954561,
          0.5227328293819941,
          0.02541912674409519,
          0.03142918568673425,
          0.3143559810763267,
          0.907566473926093,
          0.41038292303562973,
          0.22879816549162246,
          0.289751452913768,
          0.9296976523425731,
          0.6334037565104235,
          0.8036720768991145,
          0.8925589984899778,
          0.8074401551640625,
          0.3180034749718639,
          0.22793516254194168,
          0.8180147659224931,
          0.006952130531190703,
          0.417411003148779,
          0.1198653673336828,
          0.9429097039125192,
          0.5187906217433661,
          0.363629602379294,
          0.9624472949421112,
          0.49724850589238545,
          0.2848404943774676,
          0.6095643339798968,
          0.05147875124998935,
          0.9082658859666537,
          0.1448948720912231,
          0.9856504541106007,
          0.6721355474058786,
          0.23763754399239967,
          0.3677831327192532,
          0.6335297107608947,
          0.0902897700544083,
          0.32078006497173583,
          0.040775141554763916,
          0.6775643618422824,
          0.512093058299281,
          0.6451727904094499,
          0.690937738102466,
          0.9367299887367345,
          0.3410663510502585,
          0.9246936182785628,
          0.2579416277151556,
          0.8172222002012158,
          0.5296505783560065,
          0.09310276780589921,
          0.9004180571633305,
          0.3390297910487007,
          0.7259556788702394,
          0.8870864242651173
         ],
         "xaxis": "x",
         "y": [
          0.9507143064099162,
          0.5986584841970366,
          0.15599452033620265,
          0.8661761457749352,
          0.7080725777960455,
          0.9699098521619943,
          0.21233911067827616,
          0.18340450985343382,
          0.5247564316322378,
          0.2912291401980419,
          0.13949386065204183,
          0.3663618432936917,
          0.7851759613930136,
          0.5142344384136116,
          0.046450412719997725,
          0.17052412368729153,
          0.9488855372533332,
          0.8083973481164611,
          0.09767211400638387,
          0.4401524937396013,
          0.4951769101112702,
          0.9093204020787821,
          0.662522284353982,
          0.5200680211778108,
          0.18485445552552704,
          0.7751328233611146,
          0.8948273504276488,
          0.9218742350231168,
          0.1959828624191452,
          0.32533033076326434,
          0.2713490317738959,
          0.3567533266935893,
          0.5426960831582485,
          0.8021969807540397,
          0.9868869366005173,
          0.1987156815341724,
          0.8154614284548342,
          0.7290071680409873,
          0.07404465173409036,
          0.11586905952512971,
          0.6232981268275579,
          0.06355835028602363,
          0.32518332202674705,
          0.6375574713552131,
          0.4722149251619493,
          0.713244787222995,
          0.5612771975694962,
          0.49379559636439074,
          0.42754101835854963,
          0.10789142699330445,
          0.6364104112637804,
          0.5085706911647028,
          0.24929222914887494,
          0.7555511385430487,
          0.07697990982879299,
          0.16122128725400442,
          0.808120379564417,
          0.8714605901877177,
          0.18657005888603584,
          0.5393422419156507,
          0.8960912999234932,
          0.11005192452767676,
          0.4271077886262563,
          0.8607305832563434,
          0.5107473025775657,
          0.22210781047073025,
          0.33761517140362796,
          0.32320293202075523,
          0.7030189588951778,
          0.9717820827209607,
          0.25178229582536416,
          0.30087830981676966,
          0.036886947354532795,
          0.5026790232288615,
          0.27864646423661144,
          0.23956189066697242,
          0.489452760277563,
          0.2420552715115004,
          0.7616196153287176,
          0.7282163486118596,
          0.6323058305935795,
          0.5357746840747585,
          0.835302495589238,
          0.18651851039985423,
          0.5908929431882418,
          0.016587828927856152,
          0.22649577519793795,
          0.17436642900499144,
          0.3867353463005374,
          0.13752094414599325,
          0.11347352124058907,
          0.877339353380981,
          0.659984046034179,
          0.5552008115994623,
          0.24185229090045168,
          0.8972157579533268,
          0.6331014572732679,
          0.3492095746126609,
          0.8971102599525771,
          0.7798755458576239
         ],
         "yaxis": "y"
        }
       ],
       "layout": {
        "coloraxis": {
         "colorbar": {
          "title": {
           "text": "color"
          }
         },
         "colorscale": [
          [
           0,
           "#0d0887"
          ],
          [
           0.1111111111111111,
           "#46039f"
          ],
          [
           0.2222222222222222,
           "#7201a8"
          ],
          [
           0.3333333333333333,
           "#9c179e"
          ],
          [
           0.4444444444444444,
           "#bd3786"
          ],
          [
           0.5555555555555556,
           "#d8576b"
          ],
          [
           0.6666666666666666,
           "#ed7953"
          ],
          [
           0.7777777777777778,
           "#fb9f3a"
          ],
          [
           0.8888888888888888,
           "#fdca26"
          ],
          [
           1,
           "#f0f921"
          ]
         ]
        },
        "legend": {
         "itemsizing": "constant",
         "tracegroupgap": 0
        },
        "margin": {
         "t": 60
        },
        "template": {
         "data": {
          "bar": [
           {
            "error_x": {
             "color": "#2a3f5f"
            },
            "error_y": {
             "color": "#2a3f5f"
            },
            "marker": {
             "line": {
              "color": "#E5ECF6",
              "width": 0.5
             }
            },
            "type": "bar"
           }
          ],
          "barpolar": [
           {
            "marker": {
             "line": {
              "color": "#E5ECF6",
              "width": 0.5
             }
            },
            "type": "barpolar"
           }
          ],
          "carpet": [
           {
            "aaxis": {
             "endlinecolor": "#2a3f5f",
             "gridcolor": "white",
             "linecolor": "white",
             "minorgridcolor": "white",
             "startlinecolor": "#2a3f5f"
            },
            "baxis": {
             "endlinecolor": "#2a3f5f",
             "gridcolor": "white",
             "linecolor": "white",
             "minorgridcolor": "white",
             "startlinecolor": "#2a3f5f"
            },
            "type": "carpet"
           }
          ],
          "choropleth": [
           {
            "colorbar": {
             "outlinewidth": 0,
             "ticks": ""
            },
            "type": "choropleth"
           }
          ],
          "contour": [
           {
            "colorbar": {
             "outlinewidth": 0,
             "ticks": ""
            },
            "colorscale": [
             [
              0,
              "#0d0887"
             ],
             [
              0.1111111111111111,
              "#46039f"
             ],
             [
              0.2222222222222222,
              "#7201a8"
             ],
             [
              0.3333333333333333,
              "#9c179e"
             ],
             [
              0.4444444444444444,
              "#bd3786"
             ],
             [
              0.5555555555555556,
              "#d8576b"
             ],
             [
              0.6666666666666666,
              "#ed7953"
             ],
             [
              0.7777777777777778,
              "#fb9f3a"
             ],
             [
              0.8888888888888888,
              "#fdca26"
             ],
             [
              1,
              "#f0f921"
             ]
            ],
            "type": "contour"
           }
          ],
          "contourcarpet": [
           {
            "colorbar": {
             "outlinewidth": 0,
             "ticks": ""
            },
            "type": "contourcarpet"
           }
          ],
          "heatmap": [
           {
            "colorbar": {
             "outlinewidth": 0,
             "ticks": ""
            },
            "colorscale": [
             [
              0,
              "#0d0887"
             ],
             [
              0.1111111111111111,
              "#46039f"
             ],
             [
              0.2222222222222222,
              "#7201a8"
             ],
             [
              0.3333333333333333,
              "#9c179e"
             ],
             [
              0.4444444444444444,
              "#bd3786"
             ],
             [
              0.5555555555555556,
              "#d8576b"
             ],
             [
              0.6666666666666666,
              "#ed7953"
             ],
             [
              0.7777777777777778,
              "#fb9f3a"
             ],
             [
              0.8888888888888888,
              "#fdca26"
             ],
             [
              1,
              "#f0f921"
             ]
            ],
            "type": "heatmap"
           }
          ],
          "heatmapgl": [
           {
            "colorbar": {
             "outlinewidth": 0,
             "ticks": ""
            },
            "colorscale": [
             [
              0,
              "#0d0887"
             ],
             [
              0.1111111111111111,
              "#46039f"
             ],
             [
              0.2222222222222222,
              "#7201a8"
             ],
             [
              0.3333333333333333,
              "#9c179e"
             ],
             [
              0.4444444444444444,
              "#bd3786"
             ],
             [
              0.5555555555555556,
              "#d8576b"
             ],
             [
              0.6666666666666666,
              "#ed7953"
             ],
             [
              0.7777777777777778,
              "#fb9f3a"
             ],
             [
              0.8888888888888888,
              "#fdca26"
             ],
             [
              1,
              "#f0f921"
             ]
            ],
            "type": "heatmapgl"
           }
          ],
          "histogram": [
           {
            "marker": {
             "colorbar": {
              "outlinewidth": 0,
              "ticks": ""
             }
            },
            "type": "histogram"
           }
          ],
          "histogram2d": [
           {
            "colorbar": {
             "outlinewidth": 0,
             "ticks": ""
            },
            "colorscale": [
             [
              0,
              "#0d0887"
             ],
             [
              0.1111111111111111,
              "#46039f"
             ],
             [
              0.2222222222222222,
              "#7201a8"
             ],
             [
              0.3333333333333333,
              "#9c179e"
             ],
             [
              0.4444444444444444,
              "#bd3786"
             ],
             [
              0.5555555555555556,
              "#d8576b"
             ],
             [
              0.6666666666666666,
              "#ed7953"
             ],
             [
              0.7777777777777778,
              "#fb9f3a"
             ],
             [
              0.8888888888888888,
              "#fdca26"
             ],
             [
              1,
              "#f0f921"
             ]
            ],
            "type": "histogram2d"
           }
          ],
          "histogram2dcontour": [
           {
            "colorbar": {
             "outlinewidth": 0,
             "ticks": ""
            },
            "colorscale": [
             [
              0,
              "#0d0887"
             ],
             [
              0.1111111111111111,
              "#46039f"
             ],
             [
              0.2222222222222222,
              "#7201a8"
             ],
             [
              0.3333333333333333,
              "#9c179e"
             ],
             [
              0.4444444444444444,
              "#bd3786"
             ],
             [
              0.5555555555555556,
              "#d8576b"
             ],
             [
              0.6666666666666666,
              "#ed7953"
             ],
             [
              0.7777777777777778,
              "#fb9f3a"
             ],
             [
              0.8888888888888888,
              "#fdca26"
             ],
             [
              1,
              "#f0f921"
             ]
            ],
            "type": "histogram2dcontour"
           }
          ],
          "mesh3d": [
           {
            "colorbar": {
             "outlinewidth": 0,
             "ticks": ""
            },
            "type": "mesh3d"
           }
          ],
          "parcoords": [
           {
            "line": {
             "colorbar": {
              "outlinewidth": 0,
              "ticks": ""
             }
            },
            "type": "parcoords"
           }
          ],
          "pie": [
           {
            "automargin": true,
            "type": "pie"
           }
          ],
          "scatter": [
           {
            "marker": {
             "colorbar": {
              "outlinewidth": 0,
              "ticks": ""
             }
            },
            "type": "scatter"
           }
          ],
          "scatter3d": [
           {
            "line": {
             "colorbar": {
              "outlinewidth": 0,
              "ticks": ""
             }
            },
            "marker": {
             "colorbar": {
              "outlinewidth": 0,
              "ticks": ""
             }
            },
            "type": "scatter3d"
           }
          ],
          "scattercarpet": [
           {
            "marker": {
             "colorbar": {
              "outlinewidth": 0,
              "ticks": ""
             }
            },
            "type": "scattercarpet"
           }
          ],
          "scattergeo": [
           {
            "marker": {
             "colorbar": {
              "outlinewidth": 0,
              "ticks": ""
             }
            },
            "type": "scattergeo"
           }
          ],
          "scattergl": [
           {
            "marker": {
             "colorbar": {
              "outlinewidth": 0,
              "ticks": ""
             }
            },
            "type": "scattergl"
           }
          ],
          "scattermapbox": [
           {
            "marker": {
             "colorbar": {
              "outlinewidth": 0,
              "ticks": ""
             }
            },
            "type": "scattermapbox"
           }
          ],
          "scatterpolar": [
           {
            "marker": {
             "colorbar": {
              "outlinewidth": 0,
              "ticks": ""
             }
            },
            "type": "scatterpolar"
           }
          ],
          "scatterpolargl": [
           {
            "marker": {
             "colorbar": {
              "outlinewidth": 0,
              "ticks": ""
             }
            },
            "type": "scatterpolargl"
           }
          ],
          "scatterternary": [
           {
            "marker": {
             "colorbar": {
              "outlinewidth": 0,
              "ticks": ""
             }
            },
            "type": "scatterternary"
           }
          ],
          "surface": [
           {
            "colorbar": {
             "outlinewidth": 0,
             "ticks": ""
            },
            "colorscale": [
             [
              0,
              "#0d0887"
             ],
             [
              0.1111111111111111,
              "#46039f"
             ],
             [
              0.2222222222222222,
              "#7201a8"
             ],
             [
              0.3333333333333333,
              "#9c179e"
             ],
             [
              0.4444444444444444,
              "#bd3786"
             ],
             [
              0.5555555555555556,
              "#d8576b"
             ],
             [
              0.6666666666666666,
              "#ed7953"
             ],
             [
              0.7777777777777778,
              "#fb9f3a"
             ],
             [
              0.8888888888888888,
              "#fdca26"
             ],
             [
              1,
              "#f0f921"
             ]
            ],
            "type": "surface"
           }
          ],
          "table": [
           {
            "cells": {
             "fill": {
              "color": "#EBF0F8"
             },
             "line": {
              "color": "white"
             }
            },
            "header": {
             "fill": {
              "color": "#C8D4E3"
             },
             "line": {
              "color": "white"
             }
            },
            "type": "table"
           }
          ]
         },
         "layout": {
          "annotationdefaults": {
           "arrowcolor": "#2a3f5f",
           "arrowhead": 0,
           "arrowwidth": 1
          },
          "coloraxis": {
           "colorbar": {
            "outlinewidth": 0,
            "ticks": ""
           }
          },
          "colorscale": {
           "diverging": [
            [
             0,
             "#8e0152"
            ],
            [
             0.1,
             "#c51b7d"
            ],
            [
             0.2,
             "#de77ae"
            ],
            [
             0.3,
             "#f1b6da"
            ],
            [
             0.4,
             "#fde0ef"
            ],
            [
             0.5,
             "#f7f7f7"
            ],
            [
             0.6,
             "#e6f5d0"
            ],
            [
             0.7,
             "#b8e186"
            ],
            [
             0.8,
             "#7fbc41"
            ],
            [
             0.9,
             "#4d9221"
            ],
            [
             1,
             "#276419"
            ]
           ],
           "sequential": [
            [
             0,
             "#0d0887"
            ],
            [
             0.1111111111111111,
             "#46039f"
            ],
            [
             0.2222222222222222,
             "#7201a8"
            ],
            [
             0.3333333333333333,
             "#9c179e"
            ],
            [
             0.4444444444444444,
             "#bd3786"
            ],
            [
             0.5555555555555556,
             "#d8576b"
            ],
            [
             0.6666666666666666,
             "#ed7953"
            ],
            [
             0.7777777777777778,
             "#fb9f3a"
            ],
            [
             0.8888888888888888,
             "#fdca26"
            ],
            [
             1,
             "#f0f921"
            ]
           ],
           "sequentialminus": [
            [
             0,
             "#0d0887"
            ],
            [
             0.1111111111111111,
             "#46039f"
            ],
            [
             0.2222222222222222,
             "#7201a8"
            ],
            [
             0.3333333333333333,
             "#9c179e"
            ],
            [
             0.4444444444444444,
             "#bd3786"
            ],
            [
             0.5555555555555556,
             "#d8576b"
            ],
            [
             0.6666666666666666,
             "#ed7953"
            ],
            [
             0.7777777777777778,
             "#fb9f3a"
            ],
            [
             0.8888888888888888,
             "#fdca26"
            ],
            [
             1,
             "#f0f921"
            ]
           ]
          },
          "colorway": [
           "#636efa",
           "#EF553B",
           "#00cc96",
           "#ab63fa",
           "#FFA15A",
           "#19d3f3",
           "#FF6692",
           "#B6E880",
           "#FF97FF",
           "#FECB52"
          ],
          "font": {
           "color": "#2a3f5f"
          },
          "geo": {
           "bgcolor": "white",
           "lakecolor": "white",
           "landcolor": "#E5ECF6",
           "showlakes": true,
           "showland": true,
           "subunitcolor": "white"
          },
          "hoverlabel": {
           "align": "left"
          },
          "hovermode": "closest",
          "mapbox": {
           "style": "light"
          },
          "paper_bgcolor": "white",
          "plot_bgcolor": "#E5ECF6",
          "polar": {
           "angularaxis": {
            "gridcolor": "white",
            "linecolor": "white",
            "ticks": ""
           },
           "bgcolor": "#E5ECF6",
           "radialaxis": {
            "gridcolor": "white",
            "linecolor": "white",
            "ticks": ""
           }
          },
          "scene": {
           "xaxis": {
            "backgroundcolor": "#E5ECF6",
            "gridcolor": "white",
            "gridwidth": 2,
            "linecolor": "white",
            "showbackground": true,
            "ticks": "",
            "zerolinecolor": "white"
           },
           "yaxis": {
            "backgroundcolor": "#E5ECF6",
            "gridcolor": "white",
            "gridwidth": 2,
            "linecolor": "white",
            "showbackground": true,
            "ticks": "",
            "zerolinecolor": "white"
           },
           "zaxis": {
            "backgroundcolor": "#E5ECF6",
            "gridcolor": "white",
            "gridwidth": 2,
            "linecolor": "white",
            "showbackground": true,
            "ticks": "",
            "zerolinecolor": "white"
           }
          },
          "shapedefaults": {
           "line": {
            "color": "#2a3f5f"
           }
          },
          "ternary": {
           "aaxis": {
            "gridcolor": "white",
            "linecolor": "white",
            "ticks": ""
           },
           "baxis": {
            "gridcolor": "white",
            "linecolor": "white",
            "ticks": ""
           },
           "bgcolor": "#E5ECF6",
           "caxis": {
            "gridcolor": "white",
            "linecolor": "white",
            "ticks": ""
           }
          },
          "title": {
           "x": 0.05
          },
          "xaxis": {
           "automargin": true,
           "gridcolor": "white",
           "linecolor": "white",
           "ticks": "",
           "title": {
            "standoff": 15
           },
           "zerolinecolor": "white",
           "zerolinewidth": 2
          },
          "yaxis": {
           "automargin": true,
           "gridcolor": "white",
           "linecolor": "white",
           "ticks": "",
           "title": {
            "standoff": 15
           },
           "zerolinecolor": "white",
           "zerolinewidth": 2
          }
         }
        },
        "xaxis": {
         "anchor": "y",
         "domain": [
          0,
          1
         ],
         "title": {
          "text": "x"
         }
        },
        "yaxis": {
         "anchor": "x",
         "domain": [
          0,
          1
         ],
         "title": {
          "text": "y"
         }
        }
       }
      }
     },
     "metadata": {}
    }
   ],
   "source": [
    "fig = px.scatter(x=cluster_centers[:,0], y=cluster_centers[:,1], size=binom_sample, color=labels)\n",
    "fig.show()"
   ]
  },
  {
   "cell_type": "code",
   "execution_count": null,
   "metadata": {},
   "outputs": [],
   "source": []
  }
 ]
}